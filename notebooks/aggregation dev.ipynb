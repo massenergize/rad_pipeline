{
 "cells": [
  {
   "cell_type": "markdown",
   "id": "hybrid-freeware",
   "metadata": {},
   "source": [
    "# About this notebook\n",
    "\n",
    "This notebook was used to prototype logic for the data pipeline interactively.  It is preserved for reference, but should not be expected to run as written because the package implementation has evolved over the lifetime of the notebook.  For a tutorial on how to run the pipeline or use the package methods, see {TODO}.  For the data quality expectations development notebook, look at `expectations.ipynb`"
   ]
  },
  {
   "cell_type": "code",
   "execution_count": 55,
   "id": "fixed-oracle",
   "metadata": {},
   "outputs": [],
   "source": [
    "import os\n",
    "import re\n",
    "\n",
    "import great_expectations as ge\n",
    "import numpy as np\n",
    "import pandas as pd\n",
    "\n",
    "from typing import Tuple\n",
    "\n",
    "\n",
    "import rad_pipeline.rad_pipeline as rp\n",
    "import rad_pipeline.zipcodes as zc"
   ]
  },
  {
   "cell_type": "code",
   "execution_count": 2,
   "id": "cognitive-wrestling",
   "metadata": {},
   "outputs": [
    {
     "data": {
      "text/plain": [
       "<module 'rad_pipeline.zipcodes' from '/Users/alexhasha/repos/massenergize/rad_pipeline/rad_pipeline/zipcodes.py'>"
      ]
     },
     "execution_count": 2,
     "metadata": {},
     "output_type": "execute_result"
    }
   ],
   "source": [
    "import importlib\n",
    "importlib.reload(rp)\n",
    "importlib.reload(zc)"
   ]
  },
  {
   "cell_type": "markdown",
   "id": "public-blake",
   "metadata": {},
   "source": [
    "### Output data structure\n",
    "\n",
    "Because the datasets differ by fields provided, and so some will offer richer metrics than others, and \n",
    "because we may want to present data aggregated at multiple levels, I propose the following output data structure:\n",
    "\n",
    "- locale: str (e.g. \"02186\" or \"Milton\" or \"Norfolk County\")\n",
    "- zipcodes: List[str], list of zipcodes contained in the locale\n",
    "- technology: str (e.g. \"ASHP\" or \"Solar Panels\")\n",
    "- sector: str (e.g. \"Residential\", \"Commercial\", \"Municipal\", \"Industrial\", etc.)\n",
    "- metric_name: str, The name of the metric (e.g. \"Total Cost\" or \"Percent income support\")\n",
    "- value: decimal  (One could imagine wanting to compute metrics of non-numeric type, but we can deal with that separately)\n",
    "- value_unit: str (e.g., Dollars, kWh, Count, BTU/h, etc)\n",
    "- start_date: datetime, beginning of time period of aggregation\n",
    "- end_date: datetime, end of time period of aggregation\n",
    "- data_update_date: datetime, date of most recent update of data source\n",
    "- data_source_id: int (identifier of raw data source metric was calculated from)\n",
    "\n",
    "\n",
    "**Aggregate quantities of interest at the municipality level**\n",
    "\n",
    "* Quantity\n",
    "* Total Rebates\n",
    "* Average Rebate\n",
    "* Total Cost\n",
    "* Average Cost\n",
    "* Quantity Income-Eligible"
   ]
  },
  {
   "cell_type": "markdown",
   "id": "organizational-renewal",
   "metadata": {},
   "source": [
    "## Air-source Heat Pumps"
   ]
  },
  {
   "cell_type": "code",
   "execution_count": 34,
   "id": "modified-armor",
   "metadata": {},
   "outputs": [],
   "source": [
    "source = \"Air-source Heat Pumps\"\n",
    "ashp_cleaned = rp.clean_data_load(source)\n",
    "field_map = rp.FIELDS[source]"
   ]
  },
  {
   "cell_type": "code",
   "execution_count": null,
   "id": "exposed-potter",
   "metadata": {},
   "outputs": [],
   "source": [
    "def summarize_ashp(df_cleaned: pd.DataFrame, locale_field: str) -> pd.DataFrame:\n",
    "    \"\"\"\n",
    "    \n",
    "    Output: DataFrame\n",
    "    - locale: str (e.g. \"02186\" or \"Milton\" or \"Norfolk County\")\n",
    "    - zipcodes: List[str], list of zipcodes contained in the locale  <- This is a function of locale and should be in a separate table\n",
    "    - technology: str (=\"Air-source Heat Pumps\")\n",
    "    - sector: str (=\"Unknown\")\n",
    "    - metric_name: str, The name of the metric (e.g. \"Total Cost\" or \"Percent income support\")\n",
    "    - value: decimal  (One could imagine wanting to compute metrics of non-numeric type, but we can deal with that separately)\n",
    "    - value_unit: str (e.g., Dollars, kWh, Count, BTU/h, etc)\n",
    "    - start_date: datetime, beginning of time period of aggregation\n",
    "    - end_date: datetime, end of time period of aggregation\n",
    "    - data_update_date: datetime, date of most recent update of data source\n",
    "    - data_source_id: int (identifier of raw data source metric was calculated from)\n",
    "    \"\"\"\n",
    "    assert False\n",
    "\n",
    "df_cleaned = ashp_cleaned"
   ]
  },
  {
   "cell_type": "code",
   "execution_count": 5,
   "id": "large-population",
   "metadata": {},
   "outputs": [],
   "source": [
    "## Zip aggregation\n",
    "locale_field = \"zip_cleaned\""
   ]
  },
  {
   "cell_type": "code",
   "execution_count": 7,
   "id": "subject-sterling",
   "metadata": {},
   "outputs": [],
   "source": [
    "# Quantity\n",
    "quantity = ashp_cleaned.groupby(locale_field)['zip_cleaned'].count()\n",
    "#* Total Rebates\n",
    "total_rebates = ashp_cleaned.groupby(locale_field)[\"rebate\"].sum()\n",
    "#* Average Rebate\n",
    "average_rebate = ashp_cleaned.groupby(locale_field)['rebate'].mean()\n",
    "#* Total Cost\n",
    "total_cost = ashp_cleaned.groupby(locale_field)['cost'].sum()\n",
    "#* Average Cost\n",
    "average_cost = ashp_cleaned.groupby(locale_field)['cost'].mean()"
   ]
  },
  {
   "cell_type": "code",
   "execution_count": 29,
   "id": "cognitive-badge",
   "metadata": {},
   "outputs": [],
   "source": [
    "zipcodes = ashp_cleaned.\\\n",
    "            groupby(\"town\")['zip_cleaned'].\\\n",
    "            apply(lambda x: list(np.unique(x))).\\\n",
    "            rename_axis(\"locale\")"
   ]
  },
  {
   "cell_type": "code",
   "execution_count": 30,
   "id": "complex-trading",
   "metadata": {},
   "outputs": [
    {
     "data": {
      "text/plain": [
       "locale\n",
       "Abington                                                   [02351]\n",
       "Acton                                                      [01720]\n",
       "Acushnet                                                   [02743]\n",
       "Adams                                                      [01220]\n",
       "Agawam                                                     [01001]\n",
       "                                       ...                        \n",
       "Woods Hole                                                 [02543]\n",
       "Worcester        [01602, 01603, 01604, 01605, 01606, 01607, 016...\n",
       "Worthington                                                [01098]\n",
       "Wrentham                                                   [02093]\n",
       "Yarmouth Port                                              [02675]\n",
       "Name: zip_cleaned, Length: 425, dtype: object"
      ]
     },
     "execution_count": 30,
     "metadata": {},
     "output_type": "execute_result"
    }
   ],
   "source": [
    "zipcodes"
   ]
  },
  {
   "cell_type": "code",
   "execution_count": 32,
   "id": "turkish-mileage",
   "metadata": {},
   "outputs": [
    {
     "data": {
      "text/plain": [
       "Index(['zip_cleaned', 'zip4_cleaned', 'zip_valid',\n",
       "       'Date Rebate Payment Approved by MassCEC', 'Site City/Town',\n",
       "       'Site Zip Code', 'Installer Company Name',\n",
       "       'Heating Fuel Being Replaced', 'Cooling Type Being Replaced',\n",
       "       '# of Outdoor Units', '# of Indoor Units',\n",
       "       'Capacity of Heat Pumps at 5°F', 'Single- Head Heat Pump #1',\n",
       "       'Single- Head Heat Pump #2', 'Single- Head Heat Pump #3',\n",
       "       'Multi-Head Heat Pump #1', 'Multi-Head Heat Pump #2',\n",
       "       'Multi-Head Heat Pump #3', 'Total System Costs',\n",
       "       'Receiving an Income-Based Adder?', 'Rebate Amount ', 'town',\n",
       "       'zip_exists', 'town_valid', 'rebate', 'cost'],\n",
       "      dtype='object')"
      ]
     },
     "execution_count": 32,
     "metadata": {},
     "output_type": "execute_result"
    }
   ],
   "source": [
    "ashp_cleaned.columns"
   ]
  },
  {
   "cell_type": "code",
   "execution_count": 36,
   "id": "dying-cooperation",
   "metadata": {},
   "outputs": [
    {
     "data": {
      "text/plain": [
       "locale\n",
       "Abington        2016-03-16\n",
       "Acton           2015-05-06\n",
       "Acushnet        2016-01-13\n",
       "Adams           2018-10-11\n",
       "Agawam          2015-02-05\n",
       "                   ...    \n",
       "Woods Hole      2015-07-07\n",
       "Worcester       2015-08-19\n",
       "Worthington     2017-05-17\n",
       "Wrentham        2015-08-19\n",
       "Yarmouth Port   2015-01-08\n",
       "Name: start_date, Length: 425, dtype: datetime64[ns]"
      ]
     },
     "execution_count": 36,
     "metadata": {},
     "output_type": "execute_result"
    }
   ],
   "source": [
    "start_date = ashp_cleaned.\\\n",
    "                groupby(\"town\")[field_map['date']].\\\n",
    "                min().\\\n",
    "                rename_axis(\"locale\").rename(\"start_date\")\n",
    "start_date"
   ]
  },
  {
   "cell_type": "code",
   "execution_count": 37,
   "id": "offshore-component",
   "metadata": {},
   "outputs": [],
   "source": [
    "end_date = ashp_cleaned.\\\n",
    "            groupby(\"town\")[field_map['date']].\\\n",
    "            max().\\\n",
    "            rename_axis(\"locale\").rename(\"end_date\")"
   ]
  },
  {
   "cell_type": "code",
   "execution_count": 41,
   "id": "detailed-estimate",
   "metadata": {},
   "outputs": [
    {
     "data": {
      "text/plain": [
       "locale\n",
       "Abington          23\n",
       "Acton            130\n",
       "Acushnet          44\n",
       "Adams              1\n",
       "Agawam            44\n",
       "                ... \n",
       "Woods Hole        10\n",
       "Worcester        243\n",
       "Worthington        8\n",
       "Wrentham          43\n",
       "Yarmouth Port     45\n",
       "Name: value, Length: 425, dtype: int64"
      ]
     },
     "execution_count": 41,
     "metadata": {},
     "output_type": "execute_result"
    }
   ],
   "source": [
    "quantity = ashp_cleaned.groupby(\"town\")['zip_cleaned'].count().rename_axis(\"locale\").rename(\"value\")\n",
    "quantity"
   ]
  },
  {
   "cell_type": "code",
   "execution_count": 47,
   "id": "criminal-aerospace",
   "metadata": {},
   "outputs": [
    {
     "data": {
      "text/html": [
       "<div>\n",
       "<style scoped>\n",
       "    .dataframe tbody tr th:only-of-type {\n",
       "        vertical-align: middle;\n",
       "    }\n",
       "\n",
       "    .dataframe tbody tr th {\n",
       "        vertical-align: top;\n",
       "    }\n",
       "\n",
       "    .dataframe thead th {\n",
       "        text-align: right;\n",
       "    }\n",
       "</style>\n",
       "<table border=\"1\" class=\"dataframe\">\n",
       "  <thead>\n",
       "    <tr style=\"text-align: right;\">\n",
       "      <th></th>\n",
       "      <th>zipcodes</th>\n",
       "      <th>start_date</th>\n",
       "      <th>end_date</th>\n",
       "      <th>value</th>\n",
       "      <th>value_unit</th>\n",
       "      <th>technology</th>\n",
       "      <th>sector</th>\n",
       "      <th>metric_name</th>\n",
       "    </tr>\n",
       "    <tr>\n",
       "      <th>locale</th>\n",
       "      <th></th>\n",
       "      <th></th>\n",
       "      <th></th>\n",
       "      <th></th>\n",
       "      <th></th>\n",
       "      <th></th>\n",
       "      <th></th>\n",
       "      <th></th>\n",
       "    </tr>\n",
       "  </thead>\n",
       "  <tbody>\n",
       "    <tr>\n",
       "      <th>Abington</th>\n",
       "      <td>[02351]</td>\n",
       "      <td>2016-03-16</td>\n",
       "      <td>2019-04-10</td>\n",
       "      <td>23</td>\n",
       "      <td>count</td>\n",
       "      <td>Air-source Heat Pumps</td>\n",
       "      <td>unknown</td>\n",
       "      <td>Quantity</td>\n",
       "    </tr>\n",
       "    <tr>\n",
       "      <th>Acton</th>\n",
       "      <td>[01720]</td>\n",
       "      <td>2015-05-06</td>\n",
       "      <td>2019-05-08</td>\n",
       "      <td>130</td>\n",
       "      <td>count</td>\n",
       "      <td>Air-source Heat Pumps</td>\n",
       "      <td>unknown</td>\n",
       "      <td>Quantity</td>\n",
       "    </tr>\n",
       "    <tr>\n",
       "      <th>Acushnet</th>\n",
       "      <td>[02743]</td>\n",
       "      <td>2016-01-13</td>\n",
       "      <td>2019-06-26</td>\n",
       "      <td>44</td>\n",
       "      <td>count</td>\n",
       "      <td>Air-source Heat Pumps</td>\n",
       "      <td>unknown</td>\n",
       "      <td>Quantity</td>\n",
       "    </tr>\n",
       "    <tr>\n",
       "      <th>Adams</th>\n",
       "      <td>[01220]</td>\n",
       "      <td>2018-10-11</td>\n",
       "      <td>2018-10-11</td>\n",
       "      <td>1</td>\n",
       "      <td>count</td>\n",
       "      <td>Air-source Heat Pumps</td>\n",
       "      <td>unknown</td>\n",
       "      <td>Quantity</td>\n",
       "    </tr>\n",
       "    <tr>\n",
       "      <th>Agawam</th>\n",
       "      <td>[01001]</td>\n",
       "      <td>2015-02-05</td>\n",
       "      <td>2019-05-01</td>\n",
       "      <td>44</td>\n",
       "      <td>count</td>\n",
       "      <td>Air-source Heat Pumps</td>\n",
       "      <td>unknown</td>\n",
       "      <td>Quantity</td>\n",
       "    </tr>\n",
       "    <tr>\n",
       "      <th>...</th>\n",
       "      <td>...</td>\n",
       "      <td>...</td>\n",
       "      <td>...</td>\n",
       "      <td>...</td>\n",
       "      <td>...</td>\n",
       "      <td>...</td>\n",
       "      <td>...</td>\n",
       "      <td>...</td>\n",
       "    </tr>\n",
       "    <tr>\n",
       "      <th>Woods Hole</th>\n",
       "      <td>[02543]</td>\n",
       "      <td>2015-07-07</td>\n",
       "      <td>2019-05-29</td>\n",
       "      <td>10</td>\n",
       "      <td>count</td>\n",
       "      <td>Air-source Heat Pumps</td>\n",
       "      <td>unknown</td>\n",
       "      <td>Quantity</td>\n",
       "    </tr>\n",
       "    <tr>\n",
       "      <th>Worcester</th>\n",
       "      <td>[01602, 01603, 01604, 01605, 01606, 01607, 016...</td>\n",
       "      <td>2015-08-19</td>\n",
       "      <td>2019-05-29</td>\n",
       "      <td>243</td>\n",
       "      <td>count</td>\n",
       "      <td>Air-source Heat Pumps</td>\n",
       "      <td>unknown</td>\n",
       "      <td>Quantity</td>\n",
       "    </tr>\n",
       "    <tr>\n",
       "      <th>Worthington</th>\n",
       "      <td>[01098]</td>\n",
       "      <td>2017-05-17</td>\n",
       "      <td>2019-01-30</td>\n",
       "      <td>8</td>\n",
       "      <td>count</td>\n",
       "      <td>Air-source Heat Pumps</td>\n",
       "      <td>unknown</td>\n",
       "      <td>Quantity</td>\n",
       "    </tr>\n",
       "    <tr>\n",
       "      <th>Wrentham</th>\n",
       "      <td>[02093]</td>\n",
       "      <td>2015-08-19</td>\n",
       "      <td>2019-06-05</td>\n",
       "      <td>43</td>\n",
       "      <td>count</td>\n",
       "      <td>Air-source Heat Pumps</td>\n",
       "      <td>unknown</td>\n",
       "      <td>Quantity</td>\n",
       "    </tr>\n",
       "    <tr>\n",
       "      <th>Yarmouth Port</th>\n",
       "      <td>[02675]</td>\n",
       "      <td>2015-01-08</td>\n",
       "      <td>2019-04-24</td>\n",
       "      <td>45</td>\n",
       "      <td>count</td>\n",
       "      <td>Air-source Heat Pumps</td>\n",
       "      <td>unknown</td>\n",
       "      <td>Quantity</td>\n",
       "    </tr>\n",
       "  </tbody>\n",
       "</table>\n",
       "<p>425 rows × 8 columns</p>\n",
       "</div>"
      ],
      "text/plain": [
       "                                                        zipcodes start_date  \\\n",
       "locale                                                                        \n",
       "Abington                                                 [02351] 2016-03-16   \n",
       "Acton                                                    [01720] 2015-05-06   \n",
       "Acushnet                                                 [02743] 2016-01-13   \n",
       "Adams                                                    [01220] 2018-10-11   \n",
       "Agawam                                                   [01001] 2015-02-05   \n",
       "...                                                          ...        ...   \n",
       "Woods Hole                                               [02543] 2015-07-07   \n",
       "Worcester      [01602, 01603, 01604, 01605, 01606, 01607, 016... 2015-08-19   \n",
       "Worthington                                              [01098] 2017-05-17   \n",
       "Wrentham                                                 [02093] 2015-08-19   \n",
       "Yarmouth Port                                            [02675] 2015-01-08   \n",
       "\n",
       "                end_date  value value_unit             technology   sector  \\\n",
       "locale                                                                       \n",
       "Abington      2019-04-10     23      count  Air-source Heat Pumps  unknown   \n",
       "Acton         2019-05-08    130      count  Air-source Heat Pumps  unknown   \n",
       "Acushnet      2019-06-26     44      count  Air-source Heat Pumps  unknown   \n",
       "Adams         2018-10-11      1      count  Air-source Heat Pumps  unknown   \n",
       "Agawam        2019-05-01     44      count  Air-source Heat Pumps  unknown   \n",
       "...                  ...    ...        ...                    ...      ...   \n",
       "Woods Hole    2019-05-29     10      count  Air-source Heat Pumps  unknown   \n",
       "Worcester     2019-05-29    243      count  Air-source Heat Pumps  unknown   \n",
       "Worthington   2019-01-30      8      count  Air-source Heat Pumps  unknown   \n",
       "Wrentham      2019-06-05     43      count  Air-source Heat Pumps  unknown   \n",
       "Yarmouth Port 2019-04-24     45      count  Air-source Heat Pumps  unknown   \n",
       "\n",
       "              metric_name  \n",
       "locale                     \n",
       "Abington         Quantity  \n",
       "Acton            Quantity  \n",
       "Acushnet         Quantity  \n",
       "Adams            Quantity  \n",
       "Agawam           Quantity  \n",
       "...                   ...  \n",
       "Woods Hole       Quantity  \n",
       "Worcester        Quantity  \n",
       "Worthington      Quantity  \n",
       "Wrentham         Quantity  \n",
       "Yarmouth Port    Quantity  \n",
       "\n",
       "[425 rows x 8 columns]"
      ]
     },
     "execution_count": 47,
     "metadata": {},
     "output_type": "execute_result"
    }
   ],
   "source": [
    "result = pd.DataFrame(data={\n",
    "    \"zipcodes\": zipcodes, \n",
    "    \"start_date\": start_date, \n",
    "    \"end_date\": end_date, \n",
    "    \"value\": quantity}\n",
    ")\n",
    "result[\"value_unit\"] = \"count\"\n",
    "result[\"technology\"] = source\n",
    "result[\"sector\"] = \"Residential\"\n",
    "result[\"metric_name\"] = \"Quantity\"\n",
    "result"
   ]
  },
  {
   "cell_type": "code",
   "execution_count": 53,
   "id": "appreciated-dispute",
   "metadata": {},
   "outputs": [
    {
     "data": {
      "text/plain": [
       "zipcodes                     [02186]\n",
       "start_date       2015-03-12 00:00:00\n",
       "end_date         2019-05-15 00:00:00\n",
       "value                             85\n",
       "value_unit                     count\n",
       "technology     Air-source Heat Pumps\n",
       "sector                       unknown\n",
       "metric_name                 Quantity\n",
       "Name: Milton, dtype: object"
      ]
     },
     "execution_count": 53,
     "metadata": {},
     "output_type": "execute_result"
    }
   ],
   "source": [
    "result.loc[\"Milton\"]"
   ]
  },
  {
   "cell_type": "code",
   "execution_count": 57,
   "id": "fourth-irish",
   "metadata": {},
   "outputs": [],
   "source": [
    "groups = ashp_cleaned.groupby(\"town\")"
   ]
  },
  {
   "cell_type": "code",
   "execution_count": 58,
   "id": "quiet-ceramic",
   "metadata": {},
   "outputs": [
    {
     "data": {
      "text/plain": [
       "pandas.core.groupby.generic.DataFrameGroupBy"
      ]
     },
     "execution_count": 58,
     "metadata": {},
     "output_type": "execute_result"
    }
   ],
   "source": [
    "type(groups)"
   ]
  },
  {
   "cell_type": "code",
   "execution_count": 61,
   "id": "accepted-deployment",
   "metadata": {},
   "outputs": [
    {
     "data": {
      "text/plain": [
       "pandas.core.groupby.generic.DataFrameGroupBy"
      ]
     },
     "execution_count": 61,
     "metadata": {},
     "output_type": "execute_result"
    }
   ],
   "source": [
    "pd.core.groupby.generic.DataFrameGroupBy"
   ]
  },
  {
   "cell_type": "code",
   "execution_count": 54,
   "id": "varying-samoa",
   "metadata": {},
   "outputs": [
    {
     "data": {
      "text/plain": [
       "zipcodes                     [01778]\n",
       "start_date       2015-09-03 00:00:00\n",
       "end_date         2019-08-21 00:00:00\n",
       "value                             77\n",
       "value_unit                     count\n",
       "technology     Air-source Heat Pumps\n",
       "sector                       unknown\n",
       "metric_name                 Quantity\n",
       "Name: Wayland, dtype: object"
      ]
     },
     "execution_count": 54,
     "metadata": {},
     "output_type": "execute_result"
    }
   ],
   "source": [
    "result.loc[\"Wayland\"]\n"
   ]
  },
  {
   "cell_type": "code",
   "execution_count": 63,
   "id": "periodic-episode",
   "metadata": {},
   "outputs": [],
   "source": [
    "def locale_aggregation(df_cleaned: pd.DataFrame, locale_field: str, source: str) -> Tuple[pd.core.groupby.generic.DataFrameGroupBy, pd.DataFrame]:\n",
    "    field_map = rp.FIELDS[source]\n",
    "    groups = df_cleaned.groupby(locale_field)\n",
    "    zipcodes = groups['zip_cleaned'].\\\n",
    "                    apply(lambda x: list(np.unique(x))).\\\n",
    "                    rename_axis(\"locale\")\n",
    "    start_date = groups[field_map['date']].\\\n",
    "                min().\\\n",
    "                rename_axis(\"locale\").rename(\"start_date\")\n",
    "    end_date = groups[field_map['date']].\\\n",
    "                    max().\\\n",
    "                    rename_axis(\"locale\").rename(\"end_date\")\n",
    "    \n",
    "    result = pd.DataFrame(data = {\n",
    "        \"zipcodes\": zipcodes, \n",
    "        \"start_date\": start_date, \n",
    "        \"end_date\": end_date, \n",
    "    })\n",
    "    \n",
    "    return groups, result\n",
    "    \n",
    "    "
   ]
  },
  {
   "cell_type": "code",
   "execution_count": 74,
   "id": "special-viking",
   "metadata": {},
   "outputs": [],
   "source": [
    "groups, town_base = locale_aggregation(ashp_cleaned, \"town\", \"Air-source Heat Pumps\")"
   ]
  },
  {
   "cell_type": "code",
   "execution_count": 77,
   "id": "satisfied-walnut",
   "metadata": {},
   "outputs": [
    {
     "data": {
      "text/plain": [
       "town\n",
       "Abington          23\n",
       "Acton            130\n",
       "Acushnet          44\n",
       "Adams              1\n",
       "Agawam            44\n",
       "                ... \n",
       "Woods Hole        10\n",
       "Worcester        243\n",
       "Worthington        8\n",
       "Wrentham          43\n",
       "Yarmouth Port     45\n",
       "Name: rebate, Length: 425, dtype: int64"
      ]
     },
     "execution_count": 77,
     "metadata": {},
     "output_type": "execute_result"
    }
   ],
   "source": [
    "groups['rebate'].count()"
   ]
  },
  {
   "cell_type": "code",
   "execution_count": 79,
   "id": "wanted-finance",
   "metadata": {},
   "outputs": [],
   "source": [
    "metric_group = result.copy()\n",
    "metric_group[\"value_unit\"] = \"count\"\n",
    "metric_group[\"technology\"] = source\n",
    "metric_group[\"sector\"] = \"Residential\"\n",
    "metric_group[\"metric_name\"] = \"Quantity\"\n",
    "metric_group[\"value\"] = groups['rebate'].count()"
   ]
  },
  {
   "cell_type": "code",
   "execution_count": 80,
   "id": "covered-turkey",
   "metadata": {},
   "outputs": [
    {
     "data": {
      "text/plain": [
       "Index(['zipcodes', 'start_date', 'end_date'], dtype='object')"
      ]
     },
     "execution_count": 80,
     "metadata": {},
     "output_type": "execute_result"
    }
   ],
   "source": [
    "result.columns"
   ]
  },
  {
   "cell_type": "code",
   "execution_count": 81,
   "id": "streaming-cartridge",
   "metadata": {},
   "outputs": [
    {
     "data": {
      "text/plain": [
       "Index(['zipcodes', 'start_date', 'end_date', 'value_unit', 'technology',\n",
       "       'sector', 'metric_name', 'value'],\n",
       "      dtype='object')"
      ]
     },
     "execution_count": 81,
     "metadata": {},
     "output_type": "execute_result"
    }
   ],
   "source": [
    "metric_group.columns"
   ]
  },
  {
   "cell_type": "code",
   "execution_count": 69,
   "id": "abandoned-blink",
   "metadata": {},
   "outputs": [],
   "source": [
    "groups, zip_base = locale_aggregation(ashp_cleaned, \"zip_cleaned\", \"Air-source Heat Pumps\")"
   ]
  },
  {
   "cell_type": "code",
   "execution_count": 67,
   "id": "broke-balance",
   "metadata": {},
   "outputs": [
    {
     "data": {
      "text/html": [
       "<div>\n",
       "<style scoped>\n",
       "    .dataframe tbody tr th:only-of-type {\n",
       "        vertical-align: middle;\n",
       "    }\n",
       "\n",
       "    .dataframe tbody tr th {\n",
       "        vertical-align: top;\n",
       "    }\n",
       "\n",
       "    .dataframe thead th {\n",
       "        text-align: right;\n",
       "    }\n",
       "</style>\n",
       "<table border=\"1\" class=\"dataframe\">\n",
       "  <thead>\n",
       "    <tr style=\"text-align: right;\">\n",
       "      <th></th>\n",
       "      <th>zipcodes</th>\n",
       "      <th>start_date</th>\n",
       "      <th>end_date</th>\n",
       "    </tr>\n",
       "    <tr>\n",
       "      <th>locale</th>\n",
       "      <th></th>\n",
       "      <th></th>\n",
       "      <th></th>\n",
       "    </tr>\n",
       "  </thead>\n",
       "  <tbody>\n",
       "    <tr>\n",
       "      <th>01001</th>\n",
       "      <td>[01001]</td>\n",
       "      <td>2015-02-05</td>\n",
       "      <td>2019-05-01</td>\n",
       "    </tr>\n",
       "    <tr>\n",
       "      <th>01002</th>\n",
       "      <td>[01002]</td>\n",
       "      <td>2014-12-26</td>\n",
       "      <td>2019-06-19</td>\n",
       "    </tr>\n",
       "    <tr>\n",
       "      <th>01004</th>\n",
       "      <td>[01004]</td>\n",
       "      <td>2015-05-13</td>\n",
       "      <td>2019-05-29</td>\n",
       "    </tr>\n",
       "    <tr>\n",
       "      <th>01005</th>\n",
       "      <td>[01005]</td>\n",
       "      <td>2015-01-15</td>\n",
       "      <td>2019-05-15</td>\n",
       "    </tr>\n",
       "    <tr>\n",
       "      <th>01007</th>\n",
       "      <td>[01007]</td>\n",
       "      <td>2015-02-05</td>\n",
       "      <td>2019-08-14</td>\n",
       "    </tr>\n",
       "    <tr>\n",
       "      <th>...</th>\n",
       "      <td>...</td>\n",
       "      <td>...</td>\n",
       "      <td>...</td>\n",
       "    </tr>\n",
       "    <tr>\n",
       "      <th>02770</th>\n",
       "      <td>[02770]</td>\n",
       "      <td>2015-11-18</td>\n",
       "      <td>2019-05-29</td>\n",
       "    </tr>\n",
       "    <tr>\n",
       "      <th>02771</th>\n",
       "      <td>[02771]</td>\n",
       "      <td>2015-03-12</td>\n",
       "      <td>2019-04-24</td>\n",
       "    </tr>\n",
       "    <tr>\n",
       "      <th>02777</th>\n",
       "      <td>[02777]</td>\n",
       "      <td>2015-06-09</td>\n",
       "      <td>2019-05-29</td>\n",
       "    </tr>\n",
       "    <tr>\n",
       "      <th>02790</th>\n",
       "      <td>[02790]</td>\n",
       "      <td>2015-03-26</td>\n",
       "      <td>2019-06-26</td>\n",
       "    </tr>\n",
       "    <tr>\n",
       "      <th>02791</th>\n",
       "      <td>[02791]</td>\n",
       "      <td>2016-11-09</td>\n",
       "      <td>2016-11-09</td>\n",
       "    </tr>\n",
       "  </tbody>\n",
       "</table>\n",
       "<p>488 rows × 3 columns</p>\n",
       "</div>"
      ],
      "text/plain": [
       "       zipcodes start_date   end_date\n",
       "locale                               \n",
       "01001   [01001] 2015-02-05 2019-05-01\n",
       "01002   [01002] 2014-12-26 2019-06-19\n",
       "01004   [01004] 2015-05-13 2019-05-29\n",
       "01005   [01005] 2015-01-15 2019-05-15\n",
       "01007   [01007] 2015-02-05 2019-08-14\n",
       "...         ...        ...        ...\n",
       "02770   [02770] 2015-11-18 2019-05-29\n",
       "02771   [02771] 2015-03-12 2019-04-24\n",
       "02777   [02777] 2015-06-09 2019-05-29\n",
       "02790   [02790] 2015-03-26 2019-06-26\n",
       "02791   [02791] 2016-11-09 2016-11-09\n",
       "\n",
       "[488 rows x 3 columns]"
      ]
     },
     "execution_count": 67,
     "metadata": {},
     "output_type": "execute_result"
    }
   ],
   "source": [
    "result"
   ]
  },
  {
   "cell_type": "markdown",
   "id": "above-socket",
   "metadata": {},
   "source": [
    "## Ground-source Heat Pumps"
   ]
  },
  {
   "cell_type": "code",
   "execution_count": null,
   "id": "tracked-uruguay",
   "metadata": {},
   "outputs": [],
   "source": [
    "gshp_cleaned = rp.clean_data_load(\"Ground-source Heat Pumps\")"
   ]
  },
  {
   "cell_type": "code",
   "execution_count": null,
   "id": "verbal-macedonia",
   "metadata": {},
   "outputs": [],
   "source": [
    "result = ge.from_pandas(gshp_cleaned).validate(\"../data/expectations/gshp_clean_expectations.json\", )\n",
    "print(result)\n",
    "assert result.success"
   ]
  },
  {
   "cell_type": "code",
   "execution_count": null,
   "id": "diverse-microphone",
   "metadata": {},
   "outputs": [],
   "source": []
  },
  {
   "cell_type": "code",
   "execution_count": null,
   "id": "caring-maldives",
   "metadata": {},
   "outputs": [],
   "source": []
  },
  {
   "cell_type": "code",
   "execution_count": null,
   "id": "motivated-vaccine",
   "metadata": {},
   "outputs": [],
   "source": []
  },
  {
   "cell_type": "code",
   "execution_count": 85,
   "id": "prospective-locator",
   "metadata": {},
   "outputs": [
    {
     "name": "stdout",
     "output_type": "stream",
     "text": [
      "Loaded Air-source Heat Pumps\n",
      "Skipping Solar Panels\n",
      "Skipping Ground-source Heat Pumps\n",
      "Skipping EVs\n"
     ]
    }
   ],
   "source": [
    "for source in rp.CLEAN_DATA_FILES.keys():\n",
    "    try:\n",
    "        df_cleaned = rp.clean_data_load(source)\n",
    "        print(f\"Loaded {source}\")\n",
    "    except FileNotFoundError:\n",
    "        print(f\"Skipping {source}\")\n",
    "        continue\n",
    "    \n",
    "    for locale_field in [\"town\", \"zip_cleaned\"]:\n",
    "        \n",
    "        metric_groups = []\n",
    "        groups, locale_base = locale_aggregation(df_cleaned, locale_field, source)\n",
    "        \n",
    "        metric_group = result.copy()\n",
    "        metric_group[\"value_unit\"] = \"count\"\n",
    "        metric_group[\"technology\"] = source\n",
    "        metric_group[\"sector\"] = \"Residential\"\n",
    "        metric_group[\"metric_name\"] = \"Quantity\"\n",
    "        metric_group[\"value\"] = groups['rebate'].count()\n",
    "    "
   ]
  },
  {
   "cell_type": "code",
   "execution_count": null,
   "id": "eligible-benchmark",
   "metadata": {},
   "outputs": [],
   "source": []
  }
 ],
 "metadata": {
  "kernelspec": {
   "display_name": "Python 3",
   "language": "python",
   "name": "python3"
  },
  "language_info": {
   "codemirror_mode": {
    "name": "ipython",
    "version": 3
   },
   "file_extension": ".py",
   "mimetype": "text/x-python",
   "name": "python",
   "nbconvert_exporter": "python",
   "pygments_lexer": "ipython3",
   "version": "3.8.8"
  }
 },
 "nbformat": 4,
 "nbformat_minor": 5
}
