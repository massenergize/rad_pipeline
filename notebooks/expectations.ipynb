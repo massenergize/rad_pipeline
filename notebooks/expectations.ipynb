{
 "cells": [
  {
   "cell_type": "markdown",
   "id": "gentle-height",
   "metadata": {},
   "source": [
    "# Data Quality Expectations Development Notebook\n",
    "\n",
    "The purpose of this notebook is to interactively identify data quality expectations for the raw and cleaned data input files.\n",
    "\n",
    "Expectations that are true on the development dataset are written to an \"expectations file\" in JSON format, and the `great_expectations` package is used to validate that those expectations are met on future runs of the pipeline.  This helps avoid errors due to missing columns, inputs that don't meet your assumptions about data type (a common problem with pandas and python).  The goal is to get the pipeline to fail and tell you that something's wrong instead of running to completion and producing garbage output.\n",
    "\n",
    "Use this notebook to develop accurate expectations about the input data.  You can add and adjust expectations over time.  Leave notes about why certain expectations are appropriate or adequate.\n",
    "\n",
    "When you are done developing expectations, generate a final consistent expectations suite file by selecting \"Restart & Run All\" from the Kernal menu.  The notebook should run from beginning to end without errors.\n",
    "\n",
    "Please write the expectations one per cell, and structure the cell to throw an error if the expectation fails.    Usually, this is accomplished with a command like `assert result.success`; otherwise, a failed expectation will not generate an error by default and will not be added to the expectation suite.\n"
   ]
  },
  {
   "cell_type": "code",
   "execution_count": 1,
   "id": "tired-blast",
   "metadata": {},
   "outputs": [],
   "source": [
    "import datetime\n",
    "import os\n",
    "import re\n",
    "\n",
    "import great_expectations as ge\n",
    "import numpy as np\n",
    "import pandas as pd\n",
    "import rad_pipeline.rad_pipeline as rp\n",
    "import rad_pipeline.zipcodes as zc"
   ]
  },
  {
   "cell_type": "code",
   "execution_count": 2,
   "id": "beginning-danish",
   "metadata": {},
   "outputs": [
    {
     "data": {
      "text/plain": [
       "<module 'great_expectations' from '/Users/alexhasha/miniconda3/envs/rad_pipeline_env/lib/python3.8/site-packages/great_expectations/__init__.py'>"
      ]
     },
     "execution_count": 2,
     "metadata": {},
     "output_type": "execute_result"
    }
   ],
   "source": [
    "import importlib\n",
    "importlib.reload(rp)\n",
    "importlib.reload(zc)\n",
    "importlib.reload(ge)"
   ]
  },
  {
   "cell_type": "code",
   "execution_count": 3,
   "id": "turkish-texas",
   "metadata": {},
   "outputs": [],
   "source": [
    "EXPECTATIONS_DIR = \"../data/expectations\""
   ]
  },
  {
   "cell_type": "markdown",
   "id": "informed-vegetable",
   "metadata": {},
   "source": [
    "## ASHP"
   ]
  },
  {
   "cell_type": "markdown",
   "id": "eastern-roads",
   "metadata": {},
   "source": [
    "### Raw data expectations"
   ]
  },
  {
   "cell_type": "code",
   "execution_count": 4,
   "id": "seasonal-scientist",
   "metadata": {},
   "outputs": [],
   "source": [
    "ashp = ge.from_pandas(rp.load_ashp())"
   ]
  },
  {
   "cell_type": "code",
   "execution_count": 5,
   "id": "experienced-dispatch",
   "metadata": {},
   "outputs": [
    {
     "name": "stdout",
     "output_type": "stream",
     "text": [
      "{\n",
      "  \"success\": true,\n",
      "  \"result\": {\n",
      "    \"observed_value\": 19964\n",
      "  },\n",
      "  \"exception_info\": {\n",
      "    \"raised_exception\": false,\n",
      "    \"exception_traceback\": null,\n",
      "    \"exception_message\": null\n",
      "  },\n",
      "  \"meta\": {},\n",
      "  \"expectation_config\": {\n",
      "    \"meta\": {},\n",
      "    \"kwargs\": {\n",
      "      \"min_value\": 19964,\n",
      "      \"max_value\": 30000,\n",
      "      \"result_format\": \"BASIC\"\n",
      "    },\n",
      "    \"expectation_type\": \"expect_table_row_count_to_be_between\"\n",
      "  }\n",
      "}\n"
     ]
    }
   ],
   "source": [
    "#Expect row count to increase in subsequent files\n",
    "result = ashp.expect_table_row_count_to_be_between(19964, 30000)\n",
    "assert result.success\n",
    "print(result)"
   ]
  },
  {
   "cell_type": "code",
   "execution_count": 6,
   "id": "compressed-webcam",
   "metadata": {},
   "outputs": [
    {
     "name": "stdout",
     "output_type": "stream",
     "text": [
      "{\n",
      "  \"success\": true,\n",
      "  \"result\": {},\n",
      "  \"exception_info\": {\n",
      "    \"raised_exception\": false,\n",
      "    \"exception_traceback\": null,\n",
      "    \"exception_message\": null\n",
      "  },\n",
      "  \"meta\": {},\n",
      "  \"expectation_config\": {\n",
      "    \"meta\": {},\n",
      "    \"kwargs\": {\n",
      "      \"column\": \"Rebate Amount \",\n",
      "      \"result_format\": \"BASIC\"\n",
      "    },\n",
      "    \"expectation_type\": \"expect_column_to_exist\"\n",
      "  }\n",
      "}\n",
      "{\n",
      "  \"success\": true,\n",
      "  \"result\": {},\n",
      "  \"exception_info\": {\n",
      "    \"raised_exception\": false,\n",
      "    \"exception_traceback\": null,\n",
      "    \"exception_message\": null\n",
      "  },\n",
      "  \"meta\": {},\n",
      "  \"expectation_config\": {\n",
      "    \"meta\": {},\n",
      "    \"kwargs\": {\n",
      "      \"column\": \"Total System Costs\",\n",
      "      \"result_format\": \"BASIC\"\n",
      "    },\n",
      "    \"expectation_type\": \"expect_column_to_exist\"\n",
      "  }\n",
      "}\n",
      "{\n",
      "  \"success\": true,\n",
      "  \"result\": {},\n",
      "  \"exception_info\": {\n",
      "    \"raised_exception\": false,\n",
      "    \"exception_traceback\": null,\n",
      "    \"exception_message\": null\n",
      "  },\n",
      "  \"meta\": {},\n",
      "  \"expectation_config\": {\n",
      "    \"meta\": {},\n",
      "    \"kwargs\": {\n",
      "      \"column\": \"Site Zip Code\",\n",
      "      \"result_format\": \"BASIC\"\n",
      "    },\n",
      "    \"expectation_type\": \"expect_column_to_exist\"\n",
      "  }\n",
      "}\n",
      "{\n",
      "  \"success\": true,\n",
      "  \"result\": {},\n",
      "  \"exception_info\": {\n",
      "    \"raised_exception\": false,\n",
      "    \"exception_traceback\": null,\n",
      "    \"exception_message\": null\n",
      "  },\n",
      "  \"meta\": {},\n",
      "  \"expectation_config\": {\n",
      "    \"meta\": {},\n",
      "    \"kwargs\": {\n",
      "      \"column\": \"Site City/Town\",\n",
      "      \"result_format\": \"BASIC\"\n",
      "    },\n",
      "    \"expectation_type\": \"expect_column_to_exist\"\n",
      "  }\n",
      "}\n",
      "{\n",
      "  \"success\": true,\n",
      "  \"result\": {},\n",
      "  \"exception_info\": {\n",
      "    \"raised_exception\": false,\n",
      "    \"exception_traceback\": null,\n",
      "    \"exception_message\": null\n",
      "  },\n",
      "  \"meta\": {},\n",
      "  \"expectation_config\": {\n",
      "    \"meta\": {},\n",
      "    \"kwargs\": {\n",
      "      \"column\": \"Receiving an Income-Based Adder?\",\n",
      "      \"result_format\": \"BASIC\"\n",
      "    },\n",
      "    \"expectation_type\": \"expect_column_to_exist\"\n",
      "  }\n",
      "}\n",
      "{\n",
      "  \"success\": true,\n",
      "  \"result\": {},\n",
      "  \"exception_info\": {\n",
      "    \"raised_exception\": false,\n",
      "    \"exception_traceback\": null,\n",
      "    \"exception_message\": null\n",
      "  },\n",
      "  \"meta\": {},\n",
      "  \"expectation_config\": {\n",
      "    \"meta\": {},\n",
      "    \"kwargs\": {\n",
      "      \"column\": \"Date Rebate Payment Approved by MassCEC\",\n",
      "      \"result_format\": \"BASIC\"\n",
      "    },\n",
      "    \"expectation_type\": \"expect_column_to_exist\"\n",
      "  }\n",
      "}\n"
     ]
    }
   ],
   "source": [
    "field_map = rp.FIELDS['Air-source Heat Pumps']\n",
    "for key_col in field_map:\n",
    "    result = ashp.expect_column_to_exist(field_map[key_col])\n",
    "    assert result.success\n",
    "    print(result)"
   ]
  },
  {
   "cell_type": "code",
   "execution_count": 7,
   "id": "ideal-member",
   "metadata": {},
   "outputs": [],
   "source": [
    "# Expect zipcode to be mostly numbers and mostly populated"
   ]
  },
  {
   "cell_type": "code",
   "execution_count": 8,
   "id": "knowing-sauce",
   "metadata": {},
   "outputs": [
    {
     "name": "stdout",
     "output_type": "stream",
     "text": [
      "{\n",
      "  \"success\": true,\n",
      "  \"result\": {\n",
      "    \"element_count\": 19964,\n",
      "    \"unexpected_count\": 0,\n",
      "    \"unexpected_percent\": 0.0,\n",
      "    \"unexpected_percent_total\": 0.0,\n",
      "    \"partial_unexpected_list\": []\n",
      "  },\n",
      "  \"exception_info\": {\n",
      "    \"raised_exception\": false,\n",
      "    \"exception_traceback\": null,\n",
      "    \"exception_message\": null\n",
      "  },\n",
      "  \"meta\": {},\n",
      "  \"expectation_config\": {\n",
      "    \"meta\": {},\n",
      "    \"kwargs\": {\n",
      "      \"column\": \"Site Zip Code\",\n",
      "      \"result_format\": \"BASIC\"\n",
      "    },\n",
      "    \"expectation_type\": \"expect_column_values_to_not_be_null\"\n",
      "  }\n",
      "}\n"
     ]
    }
   ],
   "source": [
    "result = ashp.expect_column_values_to_not_be_null(field_map['zip'])\n",
    "assert result.success\n",
    "print(result)"
   ]
  },
  {
   "cell_type": "code",
   "execution_count": 9,
   "id": "dutch-walter",
   "metadata": {},
   "outputs": [
    {
     "name": "stdout",
     "output_type": "stream",
     "text": [
      "{\n",
      "  \"success\": true,\n",
      "  \"result\": {\n",
      "    \"element_count\": 19964,\n",
      "    \"missing_count\": 0,\n",
      "    \"missing_percent\": 0.0,\n",
      "    \"unexpected_count\": 0,\n",
      "    \"unexpected_percent\": 0.0,\n",
      "    \"unexpected_percent_total\": 0.0,\n",
      "    \"unexpected_percent_nonmissing\": 0.0,\n",
      "    \"partial_unexpected_list\": []\n",
      "  },\n",
      "  \"exception_info\": {\n",
      "    \"raised_exception\": false,\n",
      "    \"exception_traceback\": null,\n",
      "    \"exception_message\": null\n",
      "  },\n",
      "  \"meta\": {},\n",
      "  \"expectation_config\": {\n",
      "    \"meta\": {},\n",
      "    \"kwargs\": {\n",
      "      \"column\": \"Site Zip Code\",\n",
      "      \"type_list\": [\n",
      "        \"int\",\n",
      "        \"float\",\n",
      "        \"str\"\n",
      "      ],\n",
      "      \"result_format\": \"BASIC\"\n",
      "    },\n",
      "    \"expectation_type\": \"_expect_column_values_to_be_in_type_list__map\"\n",
      "  }\n",
      "}\n"
     ]
    }
   ],
   "source": [
    "result = ashp.expect_column_values_to_be_in_type_list(field_map['zip'], ['int', 'float', 'str'])\n",
    "assert result.success\n",
    "print(result)"
   ]
  },
  {
   "cell_type": "code",
   "execution_count": 10,
   "id": "chief-regular",
   "metadata": {},
   "outputs": [
    {
     "name": "stdout",
     "output_type": "stream",
     "text": [
      "{\n",
      "  \"success\": true,\n",
      "  \"result\": {\n",
      "    \"element_count\": 19964,\n",
      "    \"missing_count\": 0,\n",
      "    \"missing_percent\": 0.0,\n",
      "    \"unexpected_count\": 3,\n",
      "    \"unexpected_percent\": 0.015027048687637747,\n",
      "    \"unexpected_percent_total\": 0.015027048687637747,\n",
      "    \"unexpected_percent_nonmissing\": 0.015027048687637747,\n",
      "    \"partial_unexpected_list\": [\n",
      "      20,\n",
      "      \"019081047\",\n",
      "      \"0212y\"\n",
      "    ]\n",
      "  },\n",
      "  \"exception_info\": {\n",
      "    \"raised_exception\": false,\n",
      "    \"exception_traceback\": null,\n",
      "    \"exception_message\": null\n",
      "  },\n",
      "  \"meta\": {},\n",
      "  \"expectation_config\": {\n",
      "    \"meta\": {},\n",
      "    \"kwargs\": {\n",
      "      \"column\": \"Site Zip Code\",\n",
      "      \"regex\": \"^\\\\s*([0-9]{3,5})(?:[.]0)?(?:-([0-9]{4})|-)?\\\\s*$\",\n",
      "      \"mostly\": 0.98,\n",
      "      \"result_format\": \"BASIC\"\n",
      "    },\n",
      "    \"expectation_type\": \"expect_column_values_to_match_regex\"\n",
      "  }\n",
      "}\n"
     ]
    }
   ],
   "source": [
    "result = ashp.expect_column_values_to_match_regex(field_map['zip'], r\"^\\s*([0-9]{3,5})(?:[.]0)?(?:-([0-9]{4})|-)?\\s*$\", mostly=0.98)\n",
    "assert result.success\n",
    "print(result)"
   ]
  },
  {
   "cell_type": "code",
   "execution_count": 11,
   "id": "assumed-miniature",
   "metadata": {},
   "outputs": [],
   "source": [
    "# Expect rebate and cost to be mostly numbers"
   ]
  },
  {
   "cell_type": "code",
   "execution_count": 12,
   "id": "blind-reporter",
   "metadata": {},
   "outputs": [
    {
     "name": "stdout",
     "output_type": "stream",
     "text": [
      "{\n",
      "  \"success\": true,\n",
      "  \"result\": {\n",
      "    \"element_count\": 19964,\n",
      "    \"missing_count\": 0,\n",
      "    \"missing_percent\": 0.0,\n",
      "    \"unexpected_count\": 1,\n",
      "    \"unexpected_percent\": 0.005009016229212583,\n",
      "    \"unexpected_percent_total\": 0.005009016229212583,\n",
      "    \"unexpected_percent_nonmissing\": 0.005009016229212583,\n",
      "    \"partial_unexpected_list\": [\n",
      "      \"Not Applicable\"\n",
      "    ]\n",
      "  },\n",
      "  \"exception_info\": {\n",
      "    \"raised_exception\": false,\n",
      "    \"exception_traceback\": null,\n",
      "    \"exception_message\": null\n",
      "  },\n",
      "  \"meta\": {},\n",
      "  \"expectation_config\": {\n",
      "    \"meta\": {},\n",
      "    \"kwargs\": {\n",
      "      \"column\": \"Rebate Amount \",\n",
      "      \"type_list\": [\n",
      "        \"int\",\n",
      "        \"float\"\n",
      "      ],\n",
      "      \"mostly\": 0.99,\n",
      "      \"result_format\": \"BASIC\"\n",
      "    },\n",
      "    \"expectation_type\": \"_expect_column_values_to_be_in_type_list__map\"\n",
      "  }\n",
      "}\n"
     ]
    }
   ],
   "source": [
    "result = ashp.expect_column_values_to_be_in_type_list(field_map['rebate'], ['int', 'float'], mostly=0.99)\n",
    "assert result.success\n",
    "print(result)"
   ]
  },
  {
   "cell_type": "code",
   "execution_count": 13,
   "id": "mineral-settle",
   "metadata": {},
   "outputs": [
    {
     "name": "stdout",
     "output_type": "stream",
     "text": [
      "{\n",
      "  \"success\": true,\n",
      "  \"result\": {\n",
      "    \"element_count\": 19964,\n",
      "    \"missing_count\": 0,\n",
      "    \"missing_percent\": 0.0,\n",
      "    \"unexpected_count\": 19,\n",
      "    \"unexpected_percent\": 0.09517130835503908,\n",
      "    \"unexpected_percent_total\": 0.09517130835503908,\n",
      "    \"unexpected_percent_nonmissing\": 0.09517130835503908,\n",
      "    \"partial_unexpected_list\": [\n",
      "      \"1000-labor only\",\n",
      "      \"1200-labor only\",\n",
      "      \"31900-with boiler\",\n",
      "      \"925-labor only\",\n",
      "      \"18668.75-with 5C42 unit\",\n",
      "      \"1000-labor only\",\n",
      "      \"25490-with Bosch\",\n",
      "      \"57814.74-with Trane\",\n",
      "      \"22725-with Lennox equip\",\n",
      "      \"17800-with other ac system\",\n",
      "      \"903.01-labor only\",\n",
      "      \"425-labor only\",\n",
      "      \"12330-with Lennox thing\",\n",
      "      \"53000-with furnace \",\n",
      "      \"30500-with Luxiare equip\",\n",
      "      \"25091-with Carrier equip\",\n",
      "      \"41430-with additional multi head\",\n",
      "      \" $ 9000.00\",\n",
      "      \"$19.524.15\"\n",
      "    ]\n",
      "  },\n",
      "  \"exception_info\": {\n",
      "    \"raised_exception\": false,\n",
      "    \"exception_traceback\": null,\n",
      "    \"exception_message\": null\n",
      "  },\n",
      "  \"meta\": {},\n",
      "  \"expectation_config\": {\n",
      "    \"meta\": {},\n",
      "    \"kwargs\": {\n",
      "      \"column\": \"Total System Costs\",\n",
      "      \"type_list\": [\n",
      "        \"int\",\n",
      "        \"float\"\n",
      "      ],\n",
      "      \"mostly\": 0.99,\n",
      "      \"result_format\": \"BASIC\"\n",
      "    },\n",
      "    \"expectation_type\": \"_expect_column_values_to_be_in_type_list__map\"\n",
      "  }\n",
      "}\n"
     ]
    }
   ],
   "source": [
    "result = ashp.expect_column_values_to_be_in_type_list(field_map['cost'], ['int', 'float'], mostly=0.99)\n",
    "assert result.success\n",
    "print(result)"
   ]
  },
  {
   "cell_type": "code",
   "execution_count": 14,
   "id": "registered-master",
   "metadata": {},
   "outputs": [
    {
     "name": "stdout",
     "output_type": "stream",
     "text": [
      "{\n",
      "  \"success\": true,\n",
      "  \"result\": {\n",
      "    \"observed_value\": \"datetime64\"\n",
      "  },\n",
      "  \"exception_info\": {\n",
      "    \"raised_exception\": false,\n",
      "    \"exception_traceback\": null,\n",
      "    \"exception_message\": null\n",
      "  },\n",
      "  \"meta\": {},\n",
      "  \"expectation_config\": {\n",
      "    \"meta\": {},\n",
      "    \"kwargs\": {\n",
      "      \"column\": \"Date Rebate Payment Approved by MassCEC\",\n",
      "      \"type_\": \"datetime64\",\n",
      "      \"result_format\": \"BASIC\"\n",
      "    },\n",
      "    \"expectation_type\": \"_expect_column_values_to_be_of_type__aggregate\"\n",
      "  }\n",
      "}\n"
     ]
    }
   ],
   "source": [
    "result = ashp.expect_column_values_to_be_of_type(field_map[\"date\"], \"datetime64\")\n",
    "assert result.success\n",
    "print(result)"
   ]
  },
  {
   "cell_type": "code",
   "execution_count": 15,
   "id": "premium-respondent",
   "metadata": {},
   "outputs": [
    {
     "name": "stdout",
     "output_type": "stream",
     "text": [
      "{\n",
      "  \"success\": true,\n",
      "  \"result\": {\n",
      "    \"element_count\": 19964,\n",
      "    \"missing_count\": 0,\n",
      "    \"missing_percent\": 0.0,\n",
      "    \"unexpected_count\": 0,\n",
      "    \"unexpected_percent\": 0.0,\n",
      "    \"unexpected_percent_total\": 0.0,\n",
      "    \"unexpected_percent_nonmissing\": 0.0,\n",
      "    \"partial_unexpected_list\": []\n",
      "  },\n",
      "  \"exception_info\": {\n",
      "    \"raised_exception\": false,\n",
      "    \"exception_traceback\": null,\n",
      "    \"exception_message\": null\n",
      "  },\n",
      "  \"meta\": {},\n",
      "  \"expectation_config\": {\n",
      "    \"meta\": {},\n",
      "    \"kwargs\": {\n",
      "      \"column\": \"Date Rebate Payment Approved by MassCEC\",\n",
      "      \"min_value\": \"2014-12-26 00:00:00\",\n",
      "      \"max_value\": \"2021-03-22 09:38:50.882398\",\n",
      "      \"parse_strings_as_datetimes\": true,\n",
      "      \"result_format\": \"BASIC\"\n",
      "    },\n",
      "    \"expectation_type\": \"expect_column_values_to_be_between\"\n",
      "  }\n",
      "}\n"
     ]
    }
   ],
   "source": [
    "result = ashp.expect_column_values_to_be_between(field_map[\"date\"], \n",
    "                                                    ashp[field_map[\"date\"]].min(), \n",
    "                                                    pd.Timestamp.now(),\n",
    "                                                    parse_strings_as_datetimes=True)\n",
    "assert result.success\n",
    "print(result)"
   ]
  },
  {
   "cell_type": "code",
   "execution_count": 16,
   "id": "charged-welding",
   "metadata": {},
   "outputs": [],
   "source": [
    "ashp.save_expectation_suite(\"../data/expectations/ashp_raw_expectations.json\")"
   ]
  },
  {
   "cell_type": "code",
   "execution_count": 17,
   "id": "alike-balloon",
   "metadata": {},
   "outputs": [],
   "source": [
    "validation_results = ashp.validate(expectation_suite=\"../data/expectations/ashp_raw_expectations.json\", catch_exceptions=False)"
   ]
  },
  {
   "cell_type": "markdown",
   "id": "accompanied-peoples",
   "metadata": {},
   "source": [
    "### Clean data expectations"
   ]
  },
  {
   "cell_type": "code",
   "execution_count": 18,
   "id": "fatal-fever",
   "metadata": {},
   "outputs": [],
   "source": [
    "ashp_cleaned = ge.from_pandas(rp.clean_data_load(\"Air-source Heat Pumps\"))"
   ]
  },
  {
   "cell_type": "code",
   "execution_count": 19,
   "id": "allied-technician",
   "metadata": {},
   "outputs": [
    {
     "data": {
      "text/plain": [
       "0.9445001001803246"
      ]
     },
     "execution_count": 19,
     "metadata": {},
     "output_type": "execute_result"
    }
   ],
   "source": [
    "ashp_cleaned.shape[0] / ashp.shape[0]"
   ]
  },
  {
   "cell_type": "code",
   "execution_count": 20,
   "id": "tutorial-madison",
   "metadata": {},
   "outputs": [
    {
     "name": "stdout",
     "output_type": "stream",
     "text": [
      "{\n",
      "  \"success\": true,\n",
      "  \"result\": {\n",
      "    \"observed_value\": 18856\n",
      "  },\n",
      "  \"exception_info\": {\n",
      "    \"raised_exception\": false,\n",
      "    \"exception_traceback\": null,\n",
      "    \"exception_message\": null\n",
      "  },\n",
      "  \"meta\": {},\n",
      "  \"expectation_config\": {\n",
      "    \"meta\": {},\n",
      "    \"kwargs\": {\n",
      "      \"min_value\": 18566,\n",
      "      \"max_value\": 19964,\n",
      "      \"result_format\": \"BASIC\"\n",
      "    },\n",
      "    \"expectation_type\": \"expect_table_row_count_to_be_between\"\n",
      "  }\n",
      "}\n"
     ]
    }
   ],
   "source": [
    "# Check that we have dropped no more than 7% of data\n",
    "result = ashp_cleaned.expect_table_row_count_to_be_between(int(0.93*ashp.shape[0]), ashp.shape[0])  \n",
    "assert result.success\n",
    "print(result)"
   ]
  },
  {
   "cell_type": "code",
   "execution_count": 21,
   "id": "exceptional-cooper",
   "metadata": {},
   "outputs": [
    {
     "name": "stdout",
     "output_type": "stream",
     "text": [
      "{\n",
      "  \"success\": true,\n",
      "  \"result\": {},\n",
      "  \"exception_info\": {\n",
      "    \"raised_exception\": false,\n",
      "    \"exception_traceback\": null,\n",
      "    \"exception_message\": null\n",
      "  },\n",
      "  \"meta\": {},\n",
      "  \"expectation_config\": {\n",
      "    \"meta\": {},\n",
      "    \"kwargs\": {\n",
      "      \"column\": \"town_valid\",\n",
      "      \"result_format\": \"BASIC\"\n",
      "    },\n",
      "    \"expectation_type\": \"expect_column_to_exist\"\n",
      "  }\n",
      "}\n"
     ]
    }
   ],
   "source": [
    "result = ashp_cleaned.expect_column_to_exist(\"town_valid\")\n",
    "assert result.success\n",
    "print(result)"
   ]
  },
  {
   "cell_type": "code",
   "execution_count": 22,
   "id": "nominated-massachusetts",
   "metadata": {},
   "outputs": [
    {
     "name": "stdout",
     "output_type": "stream",
     "text": [
      "{\n",
      "  \"success\": true,\n",
      "  \"result\": {},\n",
      "  \"exception_info\": {\n",
      "    \"raised_exception\": false,\n",
      "    \"exception_traceback\": null,\n",
      "    \"exception_message\": null\n",
      "  },\n",
      "  \"meta\": {},\n",
      "  \"expectation_config\": {\n",
      "    \"meta\": {},\n",
      "    \"kwargs\": {\n",
      "      \"column\": \"rebate\",\n",
      "      \"result_format\": \"BASIC\"\n",
      "    },\n",
      "    \"expectation_type\": \"expect_column_to_exist\"\n",
      "  }\n",
      "}\n"
     ]
    }
   ],
   "source": [
    "result = ashp_cleaned.expect_column_to_exist(\"rebate\")\n",
    "assert result.success\n",
    "print(result)"
   ]
  },
  {
   "cell_type": "code",
   "execution_count": 23,
   "id": "addressed-fence",
   "metadata": {},
   "outputs": [
    {
     "name": "stdout",
     "output_type": "stream",
     "text": [
      "{\n",
      "  \"success\": true,\n",
      "  \"result\": {},\n",
      "  \"exception_info\": {\n",
      "    \"raised_exception\": false,\n",
      "    \"exception_traceback\": null,\n",
      "    \"exception_message\": null\n",
      "  },\n",
      "  \"meta\": {},\n",
      "  \"expectation_config\": {\n",
      "    \"meta\": {},\n",
      "    \"kwargs\": {\n",
      "      \"column\": \"cost\",\n",
      "      \"result_format\": \"BASIC\"\n",
      "    },\n",
      "    \"expectation_type\": \"expect_column_to_exist\"\n",
      "  }\n",
      "}\n"
     ]
    }
   ],
   "source": [
    "result = ashp_cleaned.expect_column_to_exist(\"cost\")\n",
    "assert result.success\n",
    "print(result)"
   ]
  },
  {
   "cell_type": "code",
   "execution_count": 24,
   "id": "smaller-piece",
   "metadata": {},
   "outputs": [
    {
     "name": "stdout",
     "output_type": "stream",
     "text": [
      "{\n",
      "  \"success\": true,\n",
      "  \"result\": {\n",
      "    \"element_count\": 18856,\n",
      "    \"missing_count\": 0,\n",
      "    \"missing_percent\": 0.0,\n",
      "    \"unexpected_count\": 0,\n",
      "    \"unexpected_percent\": 0.0,\n",
      "    \"unexpected_percent_total\": 0.0,\n",
      "    \"unexpected_percent_nonmissing\": 0.0,\n",
      "    \"partial_unexpected_list\": []\n",
      "  },\n",
      "  \"exception_info\": {\n",
      "    \"raised_exception\": false,\n",
      "    \"exception_traceback\": null,\n",
      "    \"exception_message\": null\n",
      "  },\n",
      "  \"meta\": {},\n",
      "  \"expectation_config\": {\n",
      "    \"meta\": {},\n",
      "    \"kwargs\": {\n",
      "      \"column\": \"town_valid\",\n",
      "      \"value_set\": [\n",
      "        true\n",
      "      ],\n",
      "      \"result_format\": \"BASIC\"\n",
      "    },\n",
      "    \"expectation_type\": \"expect_column_values_to_be_in_set\"\n",
      "  }\n",
      "}\n"
     ]
    }
   ],
   "source": [
    "result = ashp_cleaned.expect_column_values_to_be_in_set(\"town_valid\", [True])\n",
    "assert result.success\n",
    "print(result)"
   ]
  },
  {
   "cell_type": "code",
   "execution_count": 25,
   "id": "practical-identification",
   "metadata": {},
   "outputs": [
    {
     "name": "stdout",
     "output_type": "stream",
     "text": [
      "{\n",
      "  \"success\": true,\n",
      "  \"result\": {\n",
      "    \"observed_value\": \"float64\"\n",
      "  },\n",
      "  \"exception_info\": {\n",
      "    \"raised_exception\": false,\n",
      "    \"exception_traceback\": null,\n",
      "    \"exception_message\": null\n",
      "  },\n",
      "  \"meta\": {},\n",
      "  \"expectation_config\": {\n",
      "    \"meta\": {},\n",
      "    \"kwargs\": {\n",
      "      \"column\": \"cost\",\n",
      "      \"type_\": \"float\",\n",
      "      \"result_format\": \"BASIC\"\n",
      "    },\n",
      "    \"expectation_type\": \"_expect_column_values_to_be_of_type__aggregate\"\n",
      "  }\n",
      "}\n"
     ]
    }
   ],
   "source": [
    "result = ashp_cleaned.expect_column_values_to_be_of_type(\"cost\", \"float\")\n",
    "assert result.success\n",
    "print(result)"
   ]
  },
  {
   "cell_type": "code",
   "execution_count": 26,
   "id": "eleven-hartford",
   "metadata": {},
   "outputs": [
    {
     "name": "stdout",
     "output_type": "stream",
     "text": [
      "{\n",
      "  \"success\": true,\n",
      "  \"result\": {\n",
      "    \"observed_value\": \"float64\"\n",
      "  },\n",
      "  \"exception_info\": {\n",
      "    \"raised_exception\": false,\n",
      "    \"exception_traceback\": null,\n",
      "    \"exception_message\": null\n",
      "  },\n",
      "  \"meta\": {},\n",
      "  \"expectation_config\": {\n",
      "    \"meta\": {},\n",
      "    \"kwargs\": {\n",
      "      \"column\": \"rebate\",\n",
      "      \"type_\": \"float\",\n",
      "      \"result_format\": \"BASIC\"\n",
      "    },\n",
      "    \"expectation_type\": \"_expect_column_values_to_be_of_type__aggregate\"\n",
      "  }\n",
      "}\n"
     ]
    }
   ],
   "source": [
    "result = ashp_cleaned.expect_column_values_to_be_of_type(\"rebate\", \"float\")\n",
    "assert result.success\n",
    "print(result)"
   ]
  },
  {
   "cell_type": "code",
   "execution_count": 27,
   "id": "limiting-caribbean",
   "metadata": {},
   "outputs": [],
   "source": [
    "ashp_cleaned.save_expectation_suite(\"../data/expectations/ashp_clean_expectations.json\")\n"
   ]
  },
  {
   "cell_type": "markdown",
   "id": "passive-geography",
   "metadata": {},
   "source": [
    "## GSHP"
   ]
  },
  {
   "cell_type": "code",
   "execution_count": 28,
   "id": "exact-dominant",
   "metadata": {},
   "outputs": [],
   "source": [
    "gshp = ge.from_pandas(rp.load_gshp())"
   ]
  },
  {
   "cell_type": "code",
   "execution_count": 29,
   "id": "architectural-institute",
   "metadata": {},
   "outputs": [
    {
     "name": "stdout",
     "output_type": "stream",
     "text": [
      "{\n",
      "  \"success\": true,\n",
      "  \"result\": {\n",
      "    \"observed_value\": 538\n",
      "  },\n",
      "  \"exception_info\": {\n",
      "    \"raised_exception\": false,\n",
      "    \"exception_traceback\": null,\n",
      "    \"exception_message\": null\n",
      "  },\n",
      "  \"meta\": {},\n",
      "  \"expectation_config\": {\n",
      "    \"meta\": {},\n",
      "    \"kwargs\": {\n",
      "      \"min_value\": 538,\n",
      "      \"max_value\": 1000,\n",
      "      \"result_format\": \"BASIC\"\n",
      "    },\n",
      "    \"expectation_type\": \"expect_table_row_count_to_be_between\"\n",
      "  }\n",
      "}\n"
     ]
    }
   ],
   "source": [
    "#Expect row count to increase in subsequent files\n",
    "result = gshp.expect_table_row_count_to_be_between(538, 1000)\n",
    "assert result.success\n",
    "print(result)"
   ]
  },
  {
   "cell_type": "code",
   "execution_count": 30,
   "id": "brutal-opening",
   "metadata": {},
   "outputs": [
    {
     "name": "stdout",
     "output_type": "stream",
     "text": [
      "{\n",
      "  \"success\": true,\n",
      "  \"result\": {},\n",
      "  \"exception_info\": {\n",
      "    \"raised_exception\": false,\n",
      "    \"exception_traceback\": null,\n",
      "    \"exception_message\": null\n",
      "  },\n",
      "  \"meta\": {},\n",
      "  \"expectation_config\": {\n",
      "    \"meta\": {},\n",
      "    \"kwargs\": {\n",
      "      \"column\": \"Rebate Amount\",\n",
      "      \"result_format\": \"BASIC\"\n",
      "    },\n",
      "    \"expectation_type\": \"expect_column_to_exist\"\n",
      "  }\n",
      "}\n",
      "{\n",
      "  \"success\": true,\n",
      "  \"result\": {},\n",
      "  \"exception_info\": {\n",
      "    \"raised_exception\": false,\n",
      "    \"exception_traceback\": null,\n",
      "    \"exception_message\": null\n",
      "  },\n",
      "  \"meta\": {},\n",
      "  \"expectation_config\": {\n",
      "    \"meta\": {},\n",
      "    \"kwargs\": {\n",
      "      \"column\": \"Total System Cost\",\n",
      "      \"result_format\": \"BASIC\"\n",
      "    },\n",
      "    \"expectation_type\": \"expect_column_to_exist\"\n",
      "  }\n",
      "}\n",
      "{\n",
      "  \"success\": true,\n",
      "  \"result\": {},\n",
      "  \"exception_info\": {\n",
      "    \"raised_exception\": false,\n",
      "    \"exception_traceback\": null,\n",
      "    \"exception_message\": null\n",
      "  },\n",
      "  \"meta\": {},\n",
      "  \"expectation_config\": {\n",
      "    \"meta\": {},\n",
      "    \"kwargs\": {\n",
      "      \"column\": \"Site City/Town\",\n",
      "      \"result_format\": \"BASIC\"\n",
      "    },\n",
      "    \"expectation_type\": \"expect_column_to_exist\"\n",
      "  }\n",
      "}\n",
      "{\n",
      "  \"success\": true,\n",
      "  \"result\": {},\n",
      "  \"exception_info\": {\n",
      "    \"raised_exception\": false,\n",
      "    \"exception_traceback\": null,\n",
      "    \"exception_message\": null\n",
      "  },\n",
      "  \"meta\": {},\n",
      "  \"expectation_config\": {\n",
      "    \"meta\": {},\n",
      "    \"kwargs\": {\n",
      "      \"column\": \"Income-Based Rebate Received?\",\n",
      "      \"result_format\": \"BASIC\"\n",
      "    },\n",
      "    \"expectation_type\": \"expect_column_to_exist\"\n",
      "  }\n",
      "}\n",
      "{\n",
      "  \"success\": true,\n",
      "  \"result\": {},\n",
      "  \"exception_info\": {\n",
      "    \"raised_exception\": false,\n",
      "    \"exception_traceback\": null,\n",
      "    \"exception_message\": null\n",
      "  },\n",
      "  \"meta\": {},\n",
      "  \"expectation_config\": {\n",
      "    \"meta\": {},\n",
      "    \"kwargs\": {\n",
      "      \"column\": \"Rebate Approved by MassCEC\",\n",
      "      \"result_format\": \"BASIC\"\n",
      "    },\n",
      "    \"expectation_type\": \"expect_column_to_exist\"\n",
      "  }\n",
      "}\n"
     ]
    }
   ],
   "source": [
    "field_map = rp.FIELDS['Ground-source Heat Pumps']\n",
    "for key_col in field_map:\n",
    "    result = gshp.expect_column_to_exist(field_map[key_col])\n",
    "    assert result.success\n",
    "    print(result)"
   ]
  },
  {
   "cell_type": "code",
   "execution_count": 31,
   "id": "bearing-terrorist",
   "metadata": {},
   "outputs": [
    {
     "name": "stdout",
     "output_type": "stream",
     "text": [
      "{\n",
      "  \"success\": true,\n",
      "  \"result\": {\n",
      "    \"element_count\": 538,\n",
      "    \"missing_count\": 0,\n",
      "    \"missing_percent\": 0.0,\n",
      "    \"unexpected_count\": 2,\n",
      "    \"unexpected_percent\": 0.37174721189591076,\n",
      "    \"unexpected_percent_total\": 0.37174721189591076,\n",
      "    \"unexpected_percent_nonmissing\": 0.37174721189591076,\n",
      "    \"partial_unexpected_list\": [\n",
      "      \"$10000.00\",\n",
      "      \"$10000.00\"\n",
      "    ]\n",
      "  },\n",
      "  \"exception_info\": {\n",
      "    \"raised_exception\": false,\n",
      "    \"exception_traceback\": null,\n",
      "    \"exception_message\": null\n",
      "  },\n",
      "  \"meta\": {},\n",
      "  \"expectation_config\": {\n",
      "    \"meta\": {},\n",
      "    \"kwargs\": {\n",
      "      \"column\": \"Rebate Amount\",\n",
      "      \"type_list\": [\n",
      "        \"int\",\n",
      "        \"float\"\n",
      "      ],\n",
      "      \"mostly\": 0.99,\n",
      "      \"result_format\": \"BASIC\"\n",
      "    },\n",
      "    \"expectation_type\": \"_expect_column_values_to_be_in_type_list__map\"\n",
      "  }\n",
      "}\n"
     ]
    }
   ],
   "source": [
    "result = gshp.expect_column_values_to_be_in_type_list(field_map['rebate'], ['int', 'float'], mostly=0.99)\n",
    "assert result.success\n",
    "print(result)"
   ]
  },
  {
   "cell_type": "code",
   "execution_count": 32,
   "id": "another-egypt",
   "metadata": {},
   "outputs": [
    {
     "name": "stdout",
     "output_type": "stream",
     "text": [
      "{\n",
      "  \"success\": true,\n",
      "  \"result\": {\n",
      "    \"element_count\": 538,\n",
      "    \"missing_count\": 0,\n",
      "    \"missing_percent\": 0.0,\n",
      "    \"unexpected_count\": 3,\n",
      "    \"unexpected_percent\": 0.5576208178438662,\n",
      "    \"unexpected_percent_total\": 0.5576208178438662,\n",
      "    \"unexpected_percent_nonmissing\": 0.5576208178438662,\n",
      "    \"partial_unexpected_list\": [\n",
      "      \"$117910\",\n",
      "      \"$81355\",\n",
      "      \"$40445\"\n",
      "    ]\n",
      "  },\n",
      "  \"exception_info\": {\n",
      "    \"raised_exception\": false,\n",
      "    \"exception_traceback\": null,\n",
      "    \"exception_message\": null\n",
      "  },\n",
      "  \"meta\": {},\n",
      "  \"expectation_config\": {\n",
      "    \"meta\": {},\n",
      "    \"kwargs\": {\n",
      "      \"column\": \"Total System Cost\",\n",
      "      \"type_list\": [\n",
      "        \"int\",\n",
      "        \"float\"\n",
      "      ],\n",
      "      \"mostly\": 0.99,\n",
      "      \"result_format\": \"BASIC\"\n",
      "    },\n",
      "    \"expectation_type\": \"_expect_column_values_to_be_in_type_list__map\"\n",
      "  }\n",
      "}\n"
     ]
    }
   ],
   "source": [
    "result = gshp.expect_column_values_to_be_in_type_list(field_map['cost'], ['int', 'float'], mostly=0.99)\n",
    "assert result.success\n",
    "print(result)"
   ]
  },
  {
   "cell_type": "code",
   "execution_count": 33,
   "id": "arctic-courtesy",
   "metadata": {},
   "outputs": [
    {
     "data": {
      "text/plain": [
       "{\n",
       "  \"success\": true,\n",
       "  \"result\": {\n",
       "    \"element_count\": 538,\n",
       "    \"missing_count\": 0,\n",
       "    \"missing_percent\": 0.0,\n",
       "    \"unexpected_count\": 0,\n",
       "    \"unexpected_percent\": 0.0,\n",
       "    \"unexpected_percent_total\": 0.0,\n",
       "    \"unexpected_percent_nonmissing\": 0.0,\n",
       "    \"partial_unexpected_list\": []\n",
       "  },\n",
       "  \"exception_info\": {\n",
       "    \"raised_exception\": false,\n",
       "    \"exception_traceback\": null,\n",
       "    \"exception_message\": null\n",
       "  },\n",
       "  \"meta\": {}\n",
       "}"
      ]
     },
     "execution_count": 33,
     "metadata": {},
     "output_type": "execute_result"
    }
   ],
   "source": [
    "gshp.expect_column_values_to_be_between(field_map[\"date\"], \n",
    "                                        gshp[field_map[\"date\"]].min(), \n",
    "                                        pd.Timestamp.now(),\n",
    "                                        parse_strings_as_datetimes=True)"
   ]
  },
  {
   "cell_type": "code",
   "execution_count": 34,
   "id": "secret-religious",
   "metadata": {},
   "outputs": [],
   "source": [
    "gshp.save_expectation_suite(\"../data/expectations/gshp_raw_expectations.json\")"
   ]
  },
  {
   "cell_type": "markdown",
   "id": "bacterial-affair",
   "metadata": {},
   "source": [
    "### Clean data expectations"
   ]
  },
  {
   "cell_type": "code",
   "execution_count": 37,
   "id": "comparative-layout",
   "metadata": {},
   "outputs": [
    {
     "data": {
      "text/plain": [
       "0.9609665427509294"
      ]
     },
     "execution_count": 37,
     "metadata": {},
     "output_type": "execute_result"
    }
   ],
   "source": [
    "gshp_cleaned = ge.from_pandas(rp.clean_data_load(\"Ground-source Heat Pumps\"))\n",
    "\n",
    "gshp_cleaned.shape[0] / gshp.shape[0]"
   ]
  },
  {
   "cell_type": "code",
   "execution_count": 38,
   "id": "beneficial-worse",
   "metadata": {},
   "outputs": [
    {
     "name": "stdout",
     "output_type": "stream",
     "text": [
      "{\n",
      "  \"success\": true,\n",
      "  \"result\": {\n",
      "    \"observed_value\": 517\n",
      "  },\n",
      "  \"exception_info\": {\n",
      "    \"raised_exception\": false,\n",
      "    \"exception_traceback\": null,\n",
      "    \"exception_message\": null\n",
      "  },\n",
      "  \"meta\": {},\n",
      "  \"expectation_config\": {\n",
      "    \"meta\": {},\n",
      "    \"kwargs\": {\n",
      "      \"min_value\": 511,\n",
      "      \"max_value\": 538,\n",
      "      \"result_format\": \"BASIC\"\n",
      "    },\n",
      "    \"expectation_type\": \"expect_table_row_count_to_be_between\"\n",
      "  }\n",
      "}\n"
     ]
    }
   ],
   "source": [
    "# Check that we have dropped no more than 5% of data\n",
    "result = gshp_cleaned.expect_table_row_count_to_be_between(int(0.95*gshp.shape[0]), gshp.shape[0])  \n",
    "assert result.success\n",
    "print(result)"
   ]
  },
  {
   "cell_type": "code",
   "execution_count": 39,
   "id": "tested-radius",
   "metadata": {},
   "outputs": [
    {
     "name": "stdout",
     "output_type": "stream",
     "text": [
      "{\n",
      "  \"success\": true,\n",
      "  \"result\": {},\n",
      "  \"exception_info\": {\n",
      "    \"raised_exception\": false,\n",
      "    \"exception_traceback\": null,\n",
      "    \"exception_message\": null\n",
      "  },\n",
      "  \"meta\": {},\n",
      "  \"expectation_config\": {\n",
      "    \"meta\": {},\n",
      "    \"kwargs\": {\n",
      "      \"column\": \"town_valid\",\n",
      "      \"result_format\": \"BASIC\"\n",
      "    },\n",
      "    \"expectation_type\": \"expect_column_to_exist\"\n",
      "  }\n",
      "}\n"
     ]
    }
   ],
   "source": [
    "result = gshp_cleaned.expect_column_to_exist(\"town_valid\")\n",
    "print(result)\n",
    "assert result.success\n"
   ]
  },
  {
   "cell_type": "code",
   "execution_count": 40,
   "id": "forty-summary",
   "metadata": {},
   "outputs": [
    {
     "data": {
      "text/plain": [
       "Index(['Rebate Approved by MassCEC', 'Site City/Town', 'Installer Name',\n",
       "       'Driller Company', 'Primary Heating Fuel Prior to Installation',\n",
       "       'Secondary Heating Fuel', 'Building Size (Square Feet)',\n",
       "       'Previous Heat Distribution', 'Manual J Heat Load',\n",
       "       'Heat Pump Function', 'Pump type', 'Loop Config.',\n",
       "       'New Heating Distribution', 'Number of Bore Holes',\n",
       "       'Total Bore Hole Depth (ft)', 'Peak Flow Rate (gallons per minute)',\n",
       "       'HP Manufacturer', 'HP 1 Model', 'COP 1', 'EER 1',\n",
       "       'Heating Capacity 1 (BTU/hr)', 'HP 2 Model', 'COP 2', 'EER 2',\n",
       "       'Heating Capacity 2 (BTU/hr)', 'HP 3 Model', 'COP 3', 'EER 3',\n",
       "       'Heating Capacity 3 (BTU/hr)', 'Total Capacity (BTU/hr)',\n",
       "       'Eligible Capacity (BTU/hr) (maximum of 60,000 BTU/hr)',\n",
       "       'Backup Source', 'Heat Pump Costs (Equip + Install) ',\n",
       "       'Loop Cost (Equip + Install) ', 'Total System Cost', 'Rebate Amount',\n",
       "       'Income-Based Rebate Received?', 'town', 'zip_exists', 'zip_cleaned',\n",
       "       'zip4_cleaned', 'zip_valid', 'town_valid', 'rebate', 'cost'],\n",
       "      dtype='object')"
      ]
     },
     "execution_count": 40,
     "metadata": {},
     "output_type": "execute_result"
    }
   ],
   "source": [
    "gshp_cleaned.columns"
   ]
  },
  {
   "cell_type": "code",
   "execution_count": 41,
   "id": "severe-scanner",
   "metadata": {},
   "outputs": [
    {
     "name": "stdout",
     "output_type": "stream",
     "text": [
      "{\n",
      "  \"success\": true,\n",
      "  \"result\": {},\n",
      "  \"exception_info\": {\n",
      "    \"raised_exception\": false,\n",
      "    \"exception_traceback\": null,\n",
      "    \"exception_message\": null\n",
      "  },\n",
      "  \"meta\": {},\n",
      "  \"expectation_config\": {\n",
      "    \"meta\": {},\n",
      "    \"kwargs\": {\n",
      "      \"column\": \"rebate\",\n",
      "      \"result_format\": \"BASIC\"\n",
      "    },\n",
      "    \"expectation_type\": \"expect_column_to_exist\"\n",
      "  }\n",
      "}\n"
     ]
    }
   ],
   "source": [
    "result = gshp_cleaned.expect_column_to_exist(\"rebate\")\n",
    "print(result)\n",
    "assert result.success"
   ]
  },
  {
   "cell_type": "code",
   "execution_count": 42,
   "id": "surprising-bathroom",
   "metadata": {},
   "outputs": [
    {
     "name": "stdout",
     "output_type": "stream",
     "text": [
      "{\n",
      "  \"success\": true,\n",
      "  \"result\": {},\n",
      "  \"exception_info\": {\n",
      "    \"raised_exception\": false,\n",
      "    \"exception_traceback\": null,\n",
      "    \"exception_message\": null\n",
      "  },\n",
      "  \"meta\": {},\n",
      "  \"expectation_config\": {\n",
      "    \"meta\": {},\n",
      "    \"kwargs\": {\n",
      "      \"column\": \"cost\",\n",
      "      \"result_format\": \"BASIC\"\n",
      "    },\n",
      "    \"expectation_type\": \"expect_column_to_exist\"\n",
      "  }\n",
      "}\n"
     ]
    }
   ],
   "source": [
    "result = gshp_cleaned.expect_column_to_exist(\"cost\")\n",
    "print(result)\n",
    "assert result.success"
   ]
  },
  {
   "cell_type": "code",
   "execution_count": 43,
   "id": "julian-skirt",
   "metadata": {},
   "outputs": [
    {
     "name": "stdout",
     "output_type": "stream",
     "text": [
      "{\n",
      "  \"success\": true,\n",
      "  \"result\": {\n",
      "    \"element_count\": 517,\n",
      "    \"missing_count\": 0,\n",
      "    \"missing_percent\": 0.0,\n",
      "    \"unexpected_count\": 0,\n",
      "    \"unexpected_percent\": 0.0,\n",
      "    \"unexpected_percent_total\": 0.0,\n",
      "    \"unexpected_percent_nonmissing\": 0.0,\n",
      "    \"partial_unexpected_list\": []\n",
      "  },\n",
      "  \"exception_info\": {\n",
      "    \"raised_exception\": false,\n",
      "    \"exception_traceback\": null,\n",
      "    \"exception_message\": null\n",
      "  },\n",
      "  \"meta\": {},\n",
      "  \"expectation_config\": {\n",
      "    \"meta\": {},\n",
      "    \"kwargs\": {\n",
      "      \"column\": \"town_valid\",\n",
      "      \"value_set\": [\n",
      "        true\n",
      "      ],\n",
      "      \"result_format\": \"BASIC\"\n",
      "    },\n",
      "    \"expectation_type\": \"expect_column_values_to_be_in_set\"\n",
      "  }\n",
      "}\n"
     ]
    }
   ],
   "source": [
    "result = gshp_cleaned.expect_column_values_to_be_in_set(\"town_valid\", [True])\n",
    "print(result)\n",
    "assert result.success\n"
   ]
  },
  {
   "cell_type": "code",
   "execution_count": 44,
   "id": "healthy-kansas",
   "metadata": {},
   "outputs": [
    {
     "name": "stdout",
     "output_type": "stream",
     "text": [
      "{\n",
      "  \"success\": true,\n",
      "  \"result\": {\n",
      "    \"observed_value\": \"float64\"\n",
      "  },\n",
      "  \"exception_info\": {\n",
      "    \"raised_exception\": false,\n",
      "    \"exception_traceback\": null,\n",
      "    \"exception_message\": null\n",
      "  },\n",
      "  \"meta\": {},\n",
      "  \"expectation_config\": {\n",
      "    \"meta\": {},\n",
      "    \"kwargs\": {\n",
      "      \"column\": \"cost\",\n",
      "      \"type_\": \"float\",\n",
      "      \"result_format\": \"BASIC\"\n",
      "    },\n",
      "    \"expectation_type\": \"_expect_column_values_to_be_of_type__aggregate\"\n",
      "  }\n",
      "}\n"
     ]
    }
   ],
   "source": [
    "result = gshp_cleaned.expect_column_values_to_be_of_type(\"cost\", \"float\")\n",
    "print(result)\n",
    "assert result.success\n"
   ]
  },
  {
   "cell_type": "code",
   "execution_count": 45,
   "id": "literary-aberdeen",
   "metadata": {},
   "outputs": [
    {
     "name": "stdout",
     "output_type": "stream",
     "text": [
      "{\n",
      "  \"success\": true,\n",
      "  \"result\": {\n",
      "    \"observed_value\": \"float64\"\n",
      "  },\n",
      "  \"exception_info\": {\n",
      "    \"raised_exception\": false,\n",
      "    \"exception_traceback\": null,\n",
      "    \"exception_message\": null\n",
      "  },\n",
      "  \"meta\": {},\n",
      "  \"expectation_config\": {\n",
      "    \"meta\": {},\n",
      "    \"kwargs\": {\n",
      "      \"column\": \"rebate\",\n",
      "      \"type_\": \"float\",\n",
      "      \"result_format\": \"BASIC\"\n",
      "    },\n",
      "    \"expectation_type\": \"_expect_column_values_to_be_of_type__aggregate\"\n",
      "  }\n",
      "}\n"
     ]
    }
   ],
   "source": [
    "result = gshp_cleaned.expect_column_values_to_be_of_type(\"rebate\", \"float\")\n",
    "print(result)\n",
    "assert result.success\n"
   ]
  },
  {
   "cell_type": "code",
   "execution_count": 46,
   "id": "quarterly-plenty",
   "metadata": {},
   "outputs": [],
   "source": [
    "gshp_cleaned.save_expectation_suite(\"../data/expectations/gshp_clean_expectations.json\")"
   ]
  },
  {
   "cell_type": "markdown",
   "id": "careful-progress",
   "metadata": {},
   "source": [
    "## Solar"
   ]
  },
  {
   "cell_type": "markdown",
   "id": "dense-resistance",
   "metadata": {},
   "source": [
    "### Raw data expectations"
   ]
  },
  {
   "cell_type": "code",
   "execution_count": 47,
   "id": "requested-newton",
   "metadata": {},
   "outputs": [],
   "source": [
    "solar = ge.from_pandas(rp.load_solar())"
   ]
  },
  {
   "cell_type": "code",
   "execution_count": 48,
   "id": "ahead-asian",
   "metadata": {},
   "outputs": [
    {
     "name": "stdout",
     "output_type": "stream",
     "text": [
      "{\n",
      "  \"success\": true,\n",
      "  \"result\": {\n",
      "    \"observed_value\": 90141\n",
      "  },\n",
      "  \"exception_info\": {\n",
      "    \"raised_exception\": false,\n",
      "    \"exception_traceback\": null,\n",
      "    \"exception_message\": null\n",
      "  },\n",
      "  \"meta\": {},\n",
      "  \"expectation_config\": {\n",
      "    \"meta\": {},\n",
      "    \"kwargs\": {\n",
      "      \"min_value\": 90141,\n",
      "      \"max_value\": 200000,\n",
      "      \"result_format\": \"BASIC\"\n",
      "    },\n",
      "    \"expectation_type\": \"expect_table_row_count_to_be_between\"\n",
      "  }\n",
      "}\n"
     ]
    }
   ],
   "source": [
    "#Expect row count to increase in subsequent files\n",
    "result = solar.expect_table_row_count_to_be_between(90141, 200000)\n",
    "print(result)\n",
    "assert result.success"
   ]
  },
  {
   "cell_type": "code",
   "execution_count": 49,
   "id": "legislative-benefit",
   "metadata": {},
   "outputs": [
    {
     "name": "stdout",
     "output_type": "stream",
     "text": [
      "{\n",
      "  \"success\": true,\n",
      "  \"result\": {},\n",
      "  \"exception_info\": {\n",
      "    \"raised_exception\": false,\n",
      "    \"exception_traceback\": null,\n",
      "    \"exception_message\": null\n",
      "  },\n",
      "  \"meta\": {},\n",
      "  \"expectation_config\": {\n",
      "    \"meta\": {},\n",
      "    \"kwargs\": {\n",
      "      \"column\": \"Total Cost with Design Fees\",\n",
      "      \"result_format\": \"BASIC\"\n",
      "    },\n",
      "    \"expectation_type\": \"expect_column_to_exist\"\n",
      "  }\n",
      "}\n",
      "{\n",
      "  \"success\": true,\n",
      "  \"result\": {},\n",
      "  \"exception_info\": {\n",
      "    \"raised_exception\": false,\n",
      "    \"exception_traceback\": null,\n",
      "    \"exception_message\": null\n",
      "  },\n",
      "  \"meta\": {},\n",
      "  \"expectation_config\": {\n",
      "    \"meta\": {},\n",
      "    \"kwargs\": {\n",
      "      \"column\": \"Zip\",\n",
      "      \"result_format\": \"BASIC\"\n",
      "    },\n",
      "    \"expectation_type\": \"expect_column_to_exist\"\n",
      "  }\n",
      "}\n",
      "{\n",
      "  \"success\": true,\n",
      "  \"result\": {},\n",
      "  \"exception_info\": {\n",
      "    \"raised_exception\": false,\n",
      "    \"exception_traceback\": null,\n",
      "    \"exception_message\": null\n",
      "  },\n",
      "  \"meta\": {},\n",
      "  \"expectation_config\": {\n",
      "    \"meta\": {},\n",
      "    \"kwargs\": {\n",
      "      \"column\": \"Facility Type\",\n",
      "      \"result_format\": \"BASIC\"\n",
      "    },\n",
      "    \"expectation_type\": \"expect_column_to_exist\"\n",
      "  }\n",
      "}\n",
      "{\n",
      "  \"success\": true,\n",
      "  \"result\": {},\n",
      "  \"exception_info\": {\n",
      "    \"raised_exception\": false,\n",
      "    \"exception_traceback\": null,\n",
      "    \"exception_message\": null\n",
      "  },\n",
      "  \"meta\": {},\n",
      "  \"expectation_config\": {\n",
      "    \"meta\": {},\n",
      "    \"kwargs\": {\n",
      "      \"column\": \"City\",\n",
      "      \"result_format\": \"BASIC\"\n",
      "    },\n",
      "    \"expectation_type\": \"expect_column_to_exist\"\n",
      "  }\n",
      "}\n",
      "{\n",
      "  \"success\": true,\n",
      "  \"result\": {},\n",
      "  \"exception_info\": {\n",
      "    \"raised_exception\": false,\n",
      "    \"exception_traceback\": null,\n",
      "    \"exception_message\": null\n",
      "  },\n",
      "  \"meta\": {},\n",
      "  \"expectation_config\": {\n",
      "    \"meta\": {},\n",
      "    \"kwargs\": {\n",
      "      \"column\": \"Capacity \\n(DC, kW)\",\n",
      "      \"result_format\": \"BASIC\"\n",
      "    },\n",
      "    \"expectation_type\": \"expect_column_to_exist\"\n",
      "  }\n",
      "}\n",
      "{\n",
      "  \"success\": true,\n",
      "  \"result\": {},\n",
      "  \"exception_info\": {\n",
      "    \"raised_exception\": false,\n",
      "    \"exception_traceback\": null,\n",
      "    \"exception_message\": null\n",
      "  },\n",
      "  \"meta\": {},\n",
      "  \"expectation_config\": {\n",
      "    \"meta\": {},\n",
      "    \"kwargs\": {\n",
      "      \"column\": \"Date In Service\",\n",
      "      \"result_format\": \"BASIC\"\n",
      "    },\n",
      "    \"expectation_type\": \"expect_column_to_exist\"\n",
      "  }\n",
      "}\n"
     ]
    }
   ],
   "source": [
    "field_map = rp.FIELDS['Solar Panels']\n",
    "for key_col in field_map:\n",
    "    result = solar.expect_column_to_exist(field_map[key_col])\n",
    "    print(result)\n",
    "    assert result.success\n",
    " "
   ]
  },
  {
   "cell_type": "code",
   "execution_count": 50,
   "id": "formed-december",
   "metadata": {},
   "outputs": [
    {
     "name": "stdout",
     "output_type": "stream",
     "text": [
      "{\n",
      "  \"success\": true,\n",
      "  \"result\": {\n",
      "    \"element_count\": 90141,\n",
      "    \"unexpected_count\": 0,\n",
      "    \"unexpected_percent\": 0.0,\n",
      "    \"unexpected_percent_total\": 0.0,\n",
      "    \"partial_unexpected_list\": []\n",
      "  },\n",
      "  \"exception_info\": {\n",
      "    \"raised_exception\": false,\n",
      "    \"exception_traceback\": null,\n",
      "    \"exception_message\": null\n",
      "  },\n",
      "  \"meta\": {},\n",
      "  \"expectation_config\": {\n",
      "    \"meta\": {},\n",
      "    \"kwargs\": {\n",
      "      \"column\": \"Zip\",\n",
      "      \"result_format\": \"BASIC\"\n",
      "    },\n",
      "    \"expectation_type\": \"expect_column_values_to_not_be_null\"\n",
      "  }\n",
      "}\n"
     ]
    }
   ],
   "source": [
    "# Expect zipcode to be mostly numbers and mostly populated\n",
    "\n",
    "result = solar.expect_column_values_to_not_be_null(field_map['zip'])\n",
    "print(result)\n",
    "assert result.success"
   ]
  },
  {
   "cell_type": "code",
   "execution_count": 51,
   "id": "regional-bearing",
   "metadata": {},
   "outputs": [
    {
     "name": "stdout",
     "output_type": "stream",
     "text": [
      "{\n",
      "  \"success\": true,\n",
      "  \"result\": {\n",
      "    \"observed_value\": \"int64\"\n",
      "  },\n",
      "  \"exception_info\": {\n",
      "    \"raised_exception\": false,\n",
      "    \"exception_traceback\": null,\n",
      "    \"exception_message\": null\n",
      "  },\n",
      "  \"meta\": {},\n",
      "  \"expectation_config\": {\n",
      "    \"meta\": {},\n",
      "    \"kwargs\": {\n",
      "      \"column\": \"Zip\",\n",
      "      \"type_list\": [\n",
      "        \"int\",\n",
      "        \"float\",\n",
      "        \"str\"\n",
      "      ],\n",
      "      \"result_format\": \"BASIC\"\n",
      "    },\n",
      "    \"expectation_type\": \"_expect_column_values_to_be_in_type_list__aggregate\"\n",
      "  }\n",
      "}\n"
     ]
    }
   ],
   "source": [
    "result = solar.expect_column_values_to_be_in_type_list(field_map['zip'], ['int', 'float', 'str'])\n",
    "print(result)\n",
    "assert result.success"
   ]
  },
  {
   "cell_type": "code",
   "execution_count": 52,
   "id": "neutral-contemporary",
   "metadata": {},
   "outputs": [
    {
     "name": "stdout",
     "output_type": "stream",
     "text": [
      "{\n",
      "  \"success\": true,\n",
      "  \"result\": {\n",
      "    \"element_count\": 90141,\n",
      "    \"missing_count\": 0,\n",
      "    \"missing_percent\": 0.0,\n",
      "    \"unexpected_count\": 0,\n",
      "    \"unexpected_percent\": 0.0,\n",
      "    \"unexpected_percent_total\": 0.0,\n",
      "    \"unexpected_percent_nonmissing\": 0.0,\n",
      "    \"partial_unexpected_list\": []\n",
      "  },\n",
      "  \"exception_info\": {\n",
      "    \"raised_exception\": false,\n",
      "    \"exception_traceback\": null,\n",
      "    \"exception_message\": null\n",
      "  },\n",
      "  \"meta\": {},\n",
      "  \"expectation_config\": {\n",
      "    \"meta\": {},\n",
      "    \"kwargs\": {\n",
      "      \"column\": \"Zip\",\n",
      "      \"regex\": \"^\\\\s*([0-9]{3,5})(?:[.]0)?(?:-([0-9]{4})|-)?\\\\s*$\",\n",
      "      \"result_format\": \"BASIC\"\n",
      "    },\n",
      "    \"expectation_type\": \"expect_column_values_to_match_regex\"\n",
      "  }\n",
      "}\n"
     ]
    }
   ],
   "source": [
    "result = solar.expect_column_values_to_match_regex(field_map['zip'], r\"^\\s*([0-9]{3,5})(?:[.]0)?(?:-([0-9]{4})|-)?\\s*$\")\n",
    "print(result)\n",
    "assert result.success"
   ]
  },
  {
   "cell_type": "code",
   "execution_count": 53,
   "id": "collect-norway",
   "metadata": {},
   "outputs": [
    {
     "name": "stdout",
     "output_type": "stream",
     "text": [
      "{\n",
      "  \"success\": true,\n",
      "  \"result\": {\n",
      "    \"observed_value\": \"float64\"\n",
      "  },\n",
      "  \"exception_info\": {\n",
      "    \"raised_exception\": false,\n",
      "    \"exception_traceback\": null,\n",
      "    \"exception_message\": null\n",
      "  },\n",
      "  \"meta\": {},\n",
      "  \"expectation_config\": {\n",
      "    \"meta\": {},\n",
      "    \"kwargs\": {\n",
      "      \"column\": \"Capacity \\n(DC, kW)\",\n",
      "      \"type_list\": [\n",
      "        \"int\",\n",
      "        \"float\"\n",
      "      ],\n",
      "      \"result_format\": \"BASIC\"\n",
      "    },\n",
      "    \"expectation_type\": \"_expect_column_values_to_be_in_type_list__aggregate\"\n",
      "  }\n",
      "}\n"
     ]
    }
   ],
   "source": [
    "# Expect capacity and cost to be mostly numbers\n",
    "\n",
    "result = solar.expect_column_values_to_be_in_type_list(field_map['capacity'], ['int', 'float'])\n",
    "print(result)\n",
    "assert result.success"
   ]
  },
  {
   "cell_type": "code",
   "execution_count": 54,
   "id": "under-allen",
   "metadata": {},
   "outputs": [
    {
     "name": "stdout",
     "output_type": "stream",
     "text": [
      "{\n",
      "  \"success\": true,\n",
      "  \"result\": {\n",
      "    \"observed_value\": \"float64\"\n",
      "  },\n",
      "  \"exception_info\": {\n",
      "    \"raised_exception\": false,\n",
      "    \"exception_traceback\": null,\n",
      "    \"exception_message\": null\n",
      "  },\n",
      "  \"meta\": {},\n",
      "  \"expectation_config\": {\n",
      "    \"meta\": {},\n",
      "    \"kwargs\": {\n",
      "      \"column\": \"Total Cost with Design Fees\",\n",
      "      \"type_list\": [\n",
      "        \"int\",\n",
      "        \"float\"\n",
      "      ],\n",
      "      \"result_format\": \"BASIC\"\n",
      "    },\n",
      "    \"expectation_type\": \"_expect_column_values_to_be_in_type_list__aggregate\"\n",
      "  }\n",
      "}\n"
     ]
    }
   ],
   "source": [
    "result = solar.expect_column_values_to_be_in_type_list(field_map['cost'], ['int', 'float'])\n",
    "print(result)\n",
    "assert result.success"
   ]
  },
  {
   "cell_type": "code",
   "execution_count": 55,
   "id": "removable-monte",
   "metadata": {},
   "outputs": [
    {
     "name": "stdout",
     "output_type": "stream",
     "text": [
      "{\n",
      "  \"success\": true,\n",
      "  \"result\": {\n",
      "    \"observed_value\": \"datetime64\"\n",
      "  },\n",
      "  \"exception_info\": {\n",
      "    \"raised_exception\": false,\n",
      "    \"exception_traceback\": null,\n",
      "    \"exception_message\": null\n",
      "  },\n",
      "  \"meta\": {},\n",
      "  \"expectation_config\": {\n",
      "    \"meta\": {},\n",
      "    \"kwargs\": {\n",
      "      \"column\": \"Date In Service\",\n",
      "      \"type_\": \"datetime64\",\n",
      "      \"result_format\": \"BASIC\"\n",
      "    },\n",
      "    \"expectation_type\": \"_expect_column_values_to_be_of_type__aggregate\"\n",
      "  }\n",
      "}\n"
     ]
    }
   ],
   "source": [
    "result = solar.expect_column_values_to_be_of_type(field_map[\"date\"], \"datetime64\")\n",
    "print(result)\n",
    "assert result.success"
   ]
  },
  {
   "cell_type": "code",
   "execution_count": 56,
   "id": "dense-ancient",
   "metadata": {},
   "outputs": [
    {
     "data": {
      "text/plain": [
       "<AxesSubplot:>"
      ]
     },
     "execution_count": 56,
     "metadata": {},
     "output_type": "execute_result"
    },
    {
     "data": {
      "image/png": "[encoded data removed]",
      "text/plain": [
       "<Figure size 432x288 with 1 Axes>"
      ]
     },
     "metadata": {
      "needs_background": "light"
     },
     "output_type": "display_data"
    }
   ],
   "source": [
    "solar[field_map[\"date\"]].hist()"
   ]
  },
  {
   "cell_type": "code",
   "execution_count": 57,
   "id": "impressive-behalf",
   "metadata": {},
   "outputs": [
    {
     "name": "stdout",
     "output_type": "stream",
     "text": [
      "{\n",
      "  \"success\": true,\n",
      "  \"result\": {\n",
      "    \"element_count\": 90141,\n",
      "    \"missing_count\": 101,\n",
      "    \"missing_percent\": 0.11204668241976459,\n",
      "    \"unexpected_count\": 0,\n",
      "    \"unexpected_percent\": 0.0,\n",
      "    \"unexpected_percent_total\": 0.0,\n",
      "    \"unexpected_percent_nonmissing\": 0.0,\n",
      "    \"partial_unexpected_list\": []\n",
      "  },\n",
      "  \"exception_info\": {\n",
      "    \"raised_exception\": false,\n",
      "    \"exception_traceback\": null,\n",
      "    \"exception_message\": null\n",
      "  },\n",
      "  \"meta\": {},\n",
      "  \"expectation_config\": {\n",
      "    \"meta\": {},\n",
      "    \"kwargs\": {\n",
      "      \"column\": \"Date In Service\",\n",
      "      \"min_value\": \"2000-01-01 00:00:00\",\n",
      "      \"max_value\": \"2021-03-22 09:39:30.108299\",\n",
      "      \"parse_strings_as_datetimes\": true,\n",
      "      \"result_format\": \"BASIC\"\n",
      "    },\n",
      "    \"expectation_type\": \"expect_column_values_to_be_between\"\n",
      "  }\n",
      "}\n"
     ]
    }
   ],
   "source": [
    "result = solar.expect_column_values_to_be_between(field_map[\"date\"], \n",
    "                                                    solar[field_map[\"date\"]].min(), \n",
    "                                                    pd.Timestamp.now(),\n",
    "                                                    parse_strings_as_datetimes=True)\n",
    "print(result)\n",
    "assert result.success"
   ]
  },
  {
   "cell_type": "code",
   "execution_count": 58,
   "id": "short-arbitration",
   "metadata": {},
   "outputs": [],
   "source": [
    "solar.save_expectation_suite(\"../data/expectations/solar_raw_expectations.json\")"
   ]
  },
  {
   "cell_type": "code",
   "execution_count": 59,
   "id": "affecting-decade",
   "metadata": {},
   "outputs": [],
   "source": [
    "validation_results = solar.validate(expectation_suite=\"../data/expectations/solar_raw_expectations.json\", catch_exceptions=False)"
   ]
  },
  {
   "cell_type": "markdown",
   "id": "oriented-newman",
   "metadata": {},
   "source": [
    "### Clean data expectations"
   ]
  },
  {
   "cell_type": "code",
   "execution_count": 60,
   "id": "acoustic-lawrence",
   "metadata": {},
   "outputs": [],
   "source": [
    "solar_cleaned = ge.from_pandas(rp.clean_data_load(\"Solar Panels\"))"
   ]
  },
  {
   "cell_type": "code",
   "execution_count": 61,
   "id": "signal-raise",
   "metadata": {},
   "outputs": [
    {
     "data": {
      "text/plain": [
       "0.9246735669673067"
      ]
     },
     "execution_count": 61,
     "metadata": {},
     "output_type": "execute_result"
    }
   ],
   "source": [
    "solar_cleaned.shape[0] / solar.shape[0]"
   ]
  },
  {
   "cell_type": "code",
   "execution_count": 62,
   "id": "critical-focus",
   "metadata": {},
   "outputs": [
    {
     "name": "stdout",
     "output_type": "stream",
     "text": [
      "{\n",
      "  \"success\": true,\n",
      "  \"result\": {\n",
      "    \"observed_value\": 83351\n",
      "  },\n",
      "  \"exception_info\": {\n",
      "    \"raised_exception\": false,\n",
      "    \"exception_traceback\": null,\n",
      "    \"exception_message\": null\n",
      "  },\n",
      "  \"meta\": {},\n",
      "  \"expectation_config\": {\n",
      "    \"meta\": {},\n",
      "    \"kwargs\": {\n",
      "      \"min_value\": 82028,\n",
      "      \"max_value\": 90141,\n",
      "      \"result_format\": \"BASIC\"\n",
      "    },\n",
      "    \"expectation_type\": \"expect_table_row_count_to_be_between\"\n",
      "  }\n",
      "}\n"
     ]
    }
   ],
   "source": [
    "# Check that we have dropped no more than 7% of data\n",
    "result = solar_cleaned.expect_table_row_count_to_be_between(int(0.91*solar.shape[0]), solar.shape[0])  \n",
    "print(result)\n",
    "assert result.success"
   ]
  },
  {
   "cell_type": "code",
   "execution_count": 63,
   "id": "final-royalty",
   "metadata": {},
   "outputs": [
    {
     "name": "stdout",
     "output_type": "stream",
     "text": [
      "{\n",
      "  \"success\": true,\n",
      "  \"result\": {},\n",
      "  \"exception_info\": {\n",
      "    \"raised_exception\": false,\n",
      "    \"exception_traceback\": null,\n",
      "    \"exception_message\": null\n",
      "  },\n",
      "  \"meta\": {},\n",
      "  \"expectation_config\": {\n",
      "    \"meta\": {},\n",
      "    \"kwargs\": {\n",
      "      \"column\": \"town_valid\",\n",
      "      \"result_format\": \"BASIC\"\n",
      "    },\n",
      "    \"expectation_type\": \"expect_column_to_exist\"\n",
      "  }\n",
      "}\n"
     ]
    }
   ],
   "source": [
    "result = solar_cleaned.expect_column_to_exist(\"town_valid\")\n",
    "print(result)\n",
    "assert result.success"
   ]
  },
  {
   "cell_type": "code",
   "execution_count": 64,
   "id": "uniform-baghdad",
   "metadata": {},
   "outputs": [
    {
     "name": "stdout",
     "output_type": "stream",
     "text": [
      "{\n",
      "  \"success\": true,\n",
      "  \"result\": {},\n",
      "  \"exception_info\": {\n",
      "    \"raised_exception\": false,\n",
      "    \"exception_traceback\": null,\n",
      "    \"exception_message\": null\n",
      "  },\n",
      "  \"meta\": {},\n",
      "  \"expectation_config\": {\n",
      "    \"meta\": {},\n",
      "    \"kwargs\": {\n",
      "      \"column\": \"cost\",\n",
      "      \"result_format\": \"BASIC\"\n",
      "    },\n",
      "    \"expectation_type\": \"expect_column_to_exist\"\n",
      "  }\n",
      "}\n"
     ]
    }
   ],
   "source": [
    "result = solar_cleaned.expect_column_to_exist(\"cost\")\n",
    "print(result)\n",
    "assert result.success"
   ]
  },
  {
   "cell_type": "code",
   "execution_count": 65,
   "id": "dynamic-coach",
   "metadata": {},
   "outputs": [
    {
     "name": "stdout",
     "output_type": "stream",
     "text": [
      "{\n",
      "  \"success\": true,\n",
      "  \"result\": {},\n",
      "  \"exception_info\": {\n",
      "    \"raised_exception\": false,\n",
      "    \"exception_traceback\": null,\n",
      "    \"exception_message\": null\n",
      "  },\n",
      "  \"meta\": {},\n",
      "  \"expectation_config\": {\n",
      "    \"meta\": {},\n",
      "    \"kwargs\": {\n",
      "      \"column\": \"capacity\",\n",
      "      \"result_format\": \"BASIC\"\n",
      "    },\n",
      "    \"expectation_type\": \"expect_column_to_exist\"\n",
      "  }\n",
      "}\n"
     ]
    }
   ],
   "source": [
    "result = solar_cleaned.expect_column_to_exist(\"capacity\")\n",
    "print(result)\n",
    "assert result.success"
   ]
  },
  {
   "cell_type": "code",
   "execution_count": 66,
   "id": "injured-forward",
   "metadata": {},
   "outputs": [
    {
     "name": "stdout",
     "output_type": "stream",
     "text": [
      "{\n",
      "  \"success\": true,\n",
      "  \"result\": {\n",
      "    \"element_count\": 83351,\n",
      "    \"missing_count\": 0,\n",
      "    \"missing_percent\": 0.0,\n",
      "    \"unexpected_count\": 0,\n",
      "    \"unexpected_percent\": 0.0,\n",
      "    \"unexpected_percent_total\": 0.0,\n",
      "    \"unexpected_percent_nonmissing\": 0.0,\n",
      "    \"partial_unexpected_list\": []\n",
      "  },\n",
      "  \"exception_info\": {\n",
      "    \"raised_exception\": false,\n",
      "    \"exception_traceback\": null,\n",
      "    \"exception_message\": null\n",
      "  },\n",
      "  \"meta\": {},\n",
      "  \"expectation_config\": {\n",
      "    \"meta\": {},\n",
      "    \"kwargs\": {\n",
      "      \"column\": \"town_valid\",\n",
      "      \"value_set\": [\n",
      "        true\n",
      "      ],\n",
      "      \"result_format\": \"BASIC\"\n",
      "    },\n",
      "    \"expectation_type\": \"expect_column_values_to_be_in_set\"\n",
      "  }\n",
      "}\n"
     ]
    }
   ],
   "source": [
    "result = solar_cleaned.expect_column_values_to_be_in_set(\"town_valid\", [True])\n",
    "print(result)\n",
    "assert result.success\n"
   ]
  },
  {
   "cell_type": "code",
   "execution_count": 67,
   "id": "centered-blair",
   "metadata": {},
   "outputs": [
    {
     "name": "stdout",
     "output_type": "stream",
     "text": [
      "{\n",
      "  \"success\": true,\n",
      "  \"result\": {\n",
      "    \"observed_value\": \"float64\"\n",
      "  },\n",
      "  \"exception_info\": {\n",
      "    \"raised_exception\": false,\n",
      "    \"exception_traceback\": null,\n",
      "    \"exception_message\": null\n",
      "  },\n",
      "  \"meta\": {},\n",
      "  \"expectation_config\": {\n",
      "    \"meta\": {},\n",
      "    \"kwargs\": {\n",
      "      \"column\": \"cost\",\n",
      "      \"type_\": \"float\",\n",
      "      \"result_format\": \"BASIC\"\n",
      "    },\n",
      "    \"expectation_type\": \"_expect_column_values_to_be_of_type__aggregate\"\n",
      "  }\n",
      "}\n"
     ]
    }
   ],
   "source": [
    "result = solar_cleaned.expect_column_values_to_be_of_type(\"cost\", \"float\")\n",
    "print(result)\n",
    "assert result.success\n"
   ]
  },
  {
   "cell_type": "code",
   "execution_count": 68,
   "id": "touched-swedish",
   "metadata": {},
   "outputs": [
    {
     "name": "stdout",
     "output_type": "stream",
     "text": [
      "{\n",
      "  \"success\": true,\n",
      "  \"result\": {\n",
      "    \"observed_value\": \"float64\"\n",
      "  },\n",
      "  \"exception_info\": {\n",
      "    \"raised_exception\": false,\n",
      "    \"exception_traceback\": null,\n",
      "    \"exception_message\": null\n",
      "  },\n",
      "  \"meta\": {},\n",
      "  \"expectation_config\": {\n",
      "    \"meta\": {},\n",
      "    \"kwargs\": {\n",
      "      \"column\": \"capacity\",\n",
      "      \"type_\": \"float\",\n",
      "      \"result_format\": \"BASIC\"\n",
      "    },\n",
      "    \"expectation_type\": \"_expect_column_values_to_be_of_type__aggregate\"\n",
      "  }\n",
      "}\n"
     ]
    }
   ],
   "source": [
    "result = solar_cleaned.expect_column_values_to_be_of_type(\"capacity\", \"float\")\n",
    "print(result)\n",
    "assert result.success\n"
   ]
  },
  {
   "cell_type": "code",
   "execution_count": 69,
   "id": "pressing-travel",
   "metadata": {},
   "outputs": [],
   "source": [
    "solar_cleaned.save_expectation_suite(\"../data/expectations/solar_clean_expectations.json\")"
   ]
  },
  {
   "cell_type": "markdown",
   "id": "future-split",
   "metadata": {},
   "source": [
    "## Electric Vehicles (EVs)"
   ]
  },
  {
   "cell_type": "code",
   "execution_count": null,
   "id": "automatic-behalf",
   "metadata": {},
   "outputs": [],
   "source": []
  },
  {
   "cell_type": "code",
   "execution_count": null,
   "id": "adopted-bangladesh",
   "metadata": {},
   "outputs": [],
   "source": []
  },
  {
   "cell_type": "code",
   "execution_count": null,
   "id": "personalized-world",
   "metadata": {},
   "outputs": [],
   "source": []
  },
  {
   "cell_type": "code",
   "execution_count": null,
   "id": "regulated-douglas",
   "metadata": {},
   "outputs": [],
   "source": []
  }
 ],
 "metadata": {
  "kernelspec": {
   "display_name": "Python 3",
   "language": "python",
   "name": "python3"
  },
  "language_info": {
   "codemirror_mode": {
    "name": "ipython",
    "version": 3
   },
   "file_extension": ".py",
   "mimetype": "text/x-python",
   "name": "python",
   "nbconvert_exporter": "python",
   "pygments_lexer": "ipython3",
   "version": "3.8.8"
  }
 },
 "nbformat": 4,
 "nbformat_minor": 5
}
