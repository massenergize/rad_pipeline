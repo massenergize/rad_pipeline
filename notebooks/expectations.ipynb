{
 "cells": [
  {
   "cell_type": "markdown",
   "source": [
    "# Data Quality Expectations Development Notebook\n",
    "\n",
    "The purpose of this notebook is to interactively identify data quality expectations for the raw and cleaned data input files.\n",
    "\n",
    "Expectations that are true on the development dataset are written to an \"expectations file\" in JSON format, and the `great_expectations` package is used to validate that those expectations are met on future runs of the pipeline.  This helps avoid errors due to missing columns, inputs that don't meet your assumptions about data type (a common problem with pandas and python).  The goal is to get the pipeline to fail and tell you that something's wrong instead of running to completion and producing garbage output.\n",
    "\n",
    "Use this notebook to develop accurate expectations about the input data.  You can add and adjust expectations over time.  Leave notes about why certain expectations are appropriate or adequate.\n",
    "\n",
    "When you are done developing expectations, generate a final consistent expectations suite file by selecting \"Restart & Run All\" from the Kernal menu.  The notebook should run from beginning to end without errors.\n",
    "\n",
    "Please write the expectations one per cell, and structure the cell to throw an error if the expectation fails.    Usually, this is accomplished with a command like `assert result.success`; otherwise, a failed expectation will not generate an error by default and will not be added to the expectation suite.\n"
   ],
   "metadata": {}
  },
  {
   "cell_type": "code",
   "execution_count": 2,
   "source": [
    "import datetime\n",
    "import os\n",
    "import re\n",
    "\n",
    "import great_expectations as ge\n",
    "import numpy as np\n",
    "import pandas as pd\n",
    "import rad_pipeline.rad_pipeline as rp\n",
    "import rad_pipeline.zipcodes as zc\n",
    "import rad_pipeline.summarize as rs"
   ],
   "outputs": [],
   "metadata": {}
  },
  {
   "cell_type": "code",
   "execution_count": 3,
   "source": [
    "import importlib\n",
    "importlib.reload(rp)\n",
    "importlib.reload(zc)\n",
    "importlib.reload(ge)\n",
    "importlib.reload(rs)"
   ],
   "outputs": [
    {
     "output_type": "execute_result",
     "data": {
      "text/plain": [
       "<module 'rad_pipeline.summarize' from '/Users/alexhasha/repos/massenergize/rad_pipeline/rad_pipeline/summarize.py'>"
      ]
     },
     "metadata": {},
     "execution_count": 3
    }
   ],
   "metadata": {}
  },
  {
   "cell_type": "code",
   "execution_count": 4,
   "source": [
    "EXPECTATIONS_DIR = \"../data/expectations\""
   ],
   "outputs": [],
   "metadata": {}
  },
  {
   "cell_type": "markdown",
   "source": [
    "## ASHP"
   ],
   "metadata": {}
  },
  {
   "cell_type": "markdown",
   "source": [
    "### Raw data expectations"
   ],
   "metadata": {}
  },
  {
   "cell_type": "code",
   "execution_count": 4,
   "source": [
    "ashp = ge.from_pandas(rp.load_ashp())"
   ],
   "outputs": [],
   "metadata": {}
  },
  {
   "cell_type": "code",
   "execution_count": 5,
   "source": [
    "#Expect row count to increase in subsequent files\n",
    "result = ashp.expect_table_row_count_to_be_between(19964, 30000)\n",
    "assert result.success\n",
    "print(result)"
   ],
   "outputs": [
    {
     "output_type": "stream",
     "name": "stdout",
     "text": [
      "{\n",
      "  \"result\": {\n",
      "    \"observed_value\": 19964\n",
      "  },\n",
      "  \"exception_info\": {\n",
      "    \"raised_exception\": false,\n",
      "    \"exception_traceback\": null,\n",
      "    \"exception_message\": null\n",
      "  },\n",
      "  \"expectation_config\": {\n",
      "    \"meta\": {},\n",
      "    \"kwargs\": {\n",
      "      \"min_value\": 19964,\n",
      "      \"max_value\": 30000,\n",
      "      \"result_format\": \"BASIC\"\n",
      "    },\n",
      "    \"expectation_type\": \"expect_table_row_count_to_be_between\"\n",
      "  },\n",
      "  \"meta\": {},\n",
      "  \"success\": true\n",
      "}\n"
     ]
    }
   ],
   "metadata": {}
  },
  {
   "cell_type": "code",
   "execution_count": 6,
   "source": [
    "field_map = rp.FIELDS['Air-source Heat Pumps']\n",
    "for key_col in field_map:\n",
    "    result = ashp.expect_column_to_exist(field_map[key_col])\n",
    "    assert result.success\n",
    "    print(result)"
   ],
   "outputs": [
    {
     "output_type": "stream",
     "name": "stdout",
     "text": [
      "{\n",
      "  \"result\": {},\n",
      "  \"exception_info\": {\n",
      "    \"raised_exception\": false,\n",
      "    \"exception_traceback\": null,\n",
      "    \"exception_message\": null\n",
      "  },\n",
      "  \"expectation_config\": {\n",
      "    \"meta\": {},\n",
      "    \"kwargs\": {\n",
      "      \"column\": \"Rebate Amount \",\n",
      "      \"result_format\": \"BASIC\"\n",
      "    },\n",
      "    \"expectation_type\": \"expect_column_to_exist\"\n",
      "  },\n",
      "  \"meta\": {},\n",
      "  \"success\": true\n",
      "}\n",
      "{\n",
      "  \"result\": {},\n",
      "  \"exception_info\": {\n",
      "    \"raised_exception\": false,\n",
      "    \"exception_traceback\": null,\n",
      "    \"exception_message\": null\n",
      "  },\n",
      "  \"expectation_config\": {\n",
      "    \"meta\": {},\n",
      "    \"kwargs\": {\n",
      "      \"column\": \"Total System Costs\",\n",
      "      \"result_format\": \"BASIC\"\n",
      "    },\n",
      "    \"expectation_type\": \"expect_column_to_exist\"\n",
      "  },\n",
      "  \"meta\": {},\n",
      "  \"success\": true\n",
      "}\n",
      "{\n",
      "  \"result\": {},\n",
      "  \"exception_info\": {\n",
      "    \"raised_exception\": false,\n",
      "    \"exception_traceback\": null,\n",
      "    \"exception_message\": null\n",
      "  },\n",
      "  \"expectation_config\": {\n",
      "    \"meta\": {},\n",
      "    \"kwargs\": {\n",
      "      \"column\": \"Site Zip Code\",\n",
      "      \"result_format\": \"BASIC\"\n",
      "    },\n",
      "    \"expectation_type\": \"expect_column_to_exist\"\n",
      "  },\n",
      "  \"meta\": {},\n",
      "  \"success\": true\n",
      "}\n",
      "{\n",
      "  \"result\": {},\n",
      "  \"exception_info\": {\n",
      "    \"raised_exception\": false,\n",
      "    \"exception_traceback\": null,\n",
      "    \"exception_message\": null\n",
      "  },\n",
      "  \"expectation_config\": {\n",
      "    \"meta\": {},\n",
      "    \"kwargs\": {\n",
      "      \"column\": \"Site City/Town\",\n",
      "      \"result_format\": \"BASIC\"\n",
      "    },\n",
      "    \"expectation_type\": \"expect_column_to_exist\"\n",
      "  },\n",
      "  \"meta\": {},\n",
      "  \"success\": true\n",
      "}\n",
      "{\n",
      "  \"result\": {},\n",
      "  \"exception_info\": {\n",
      "    \"raised_exception\": false,\n",
      "    \"exception_traceback\": null,\n",
      "    \"exception_message\": null\n",
      "  },\n",
      "  \"expectation_config\": {\n",
      "    \"meta\": {},\n",
      "    \"kwargs\": {\n",
      "      \"column\": \"Receiving an Income-Based Adder?\",\n",
      "      \"result_format\": \"BASIC\"\n",
      "    },\n",
      "    \"expectation_type\": \"expect_column_to_exist\"\n",
      "  },\n",
      "  \"meta\": {},\n",
      "  \"success\": true\n",
      "}\n",
      "{\n",
      "  \"result\": {},\n",
      "  \"exception_info\": {\n",
      "    \"raised_exception\": false,\n",
      "    \"exception_traceback\": null,\n",
      "    \"exception_message\": null\n",
      "  },\n",
      "  \"expectation_config\": {\n",
      "    \"meta\": {},\n",
      "    \"kwargs\": {\n",
      "      \"column\": \"Date Rebate Payment Approved by MassCEC\",\n",
      "      \"result_format\": \"BASIC\"\n",
      "    },\n",
      "    \"expectation_type\": \"expect_column_to_exist\"\n",
      "  },\n",
      "  \"meta\": {},\n",
      "  \"success\": true\n",
      "}\n"
     ]
    }
   ],
   "metadata": {}
  },
  {
   "cell_type": "code",
   "execution_count": 7,
   "source": [
    "# Expect zipcode to be mostly numbers and mostly populated"
   ],
   "outputs": [],
   "metadata": {}
  },
  {
   "cell_type": "code",
   "execution_count": 8,
   "source": [
    "result = ashp.expect_column_values_to_not_be_null(field_map['zip'])\n",
    "assert result.success\n",
    "print(result)"
   ],
   "outputs": [
    {
     "output_type": "stream",
     "name": "stdout",
     "text": [
      "{\n",
      "  \"result\": {\n",
      "    \"element_count\": 19964,\n",
      "    \"unexpected_count\": 0,\n",
      "    \"unexpected_percent\": 0.0,\n",
      "    \"unexpected_percent_total\": 0.0,\n",
      "    \"partial_unexpected_list\": []\n",
      "  },\n",
      "  \"exception_info\": {\n",
      "    \"raised_exception\": false,\n",
      "    \"exception_traceback\": null,\n",
      "    \"exception_message\": null\n",
      "  },\n",
      "  \"expectation_config\": {\n",
      "    \"meta\": {},\n",
      "    \"kwargs\": {\n",
      "      \"column\": \"Site Zip Code\",\n",
      "      \"result_format\": \"BASIC\"\n",
      "    },\n",
      "    \"expectation_type\": \"expect_column_values_to_not_be_null\"\n",
      "  },\n",
      "  \"meta\": {},\n",
      "  \"success\": true\n",
      "}\n"
     ]
    }
   ],
   "metadata": {}
  },
  {
   "cell_type": "code",
   "execution_count": 9,
   "source": [
    "result = ashp.expect_column_values_to_be_in_type_list(field_map['zip'], ['int', 'float', 'str'])\n",
    "assert result.success\n",
    "print(result)"
   ],
   "outputs": [
    {
     "output_type": "stream",
     "name": "stdout",
     "text": [
      "{\n",
      "  \"result\": {\n",
      "    \"element_count\": 19964,\n",
      "    \"missing_count\": 0,\n",
      "    \"missing_percent\": 0.0,\n",
      "    \"unexpected_count\": 0,\n",
      "    \"unexpected_percent\": 0.0,\n",
      "    \"unexpected_percent_total\": 0.0,\n",
      "    \"unexpected_percent_nonmissing\": 0.0,\n",
      "    \"partial_unexpected_list\": []\n",
      "  },\n",
      "  \"exception_info\": {\n",
      "    \"raised_exception\": false,\n",
      "    \"exception_traceback\": null,\n",
      "    \"exception_message\": null\n",
      "  },\n",
      "  \"expectation_config\": {\n",
      "    \"meta\": {},\n",
      "    \"kwargs\": {\n",
      "      \"column\": \"Site Zip Code\",\n",
      "      \"type_list\": [\n",
      "        \"int\",\n",
      "        \"float\",\n",
      "        \"str\"\n",
      "      ],\n",
      "      \"result_format\": \"BASIC\"\n",
      "    },\n",
      "    \"expectation_type\": \"_expect_column_values_to_be_in_type_list__map\"\n",
      "  },\n",
      "  \"meta\": {},\n",
      "  \"success\": true\n",
      "}\n"
     ]
    }
   ],
   "metadata": {}
  },
  {
   "cell_type": "code",
   "execution_count": 10,
   "source": [
    "result = ashp.expect_column_values_to_match_regex(field_map['zip'], r\"^\\s*([0-9]{3,5})(?:[.]0)?(?:-([0-9]{4})|-)?\\s*$\", mostly=0.98)\n",
    "assert result.success\n",
    "print(result)"
   ],
   "outputs": [
    {
     "output_type": "stream",
     "name": "stdout",
     "text": [
      "{\n",
      "  \"result\": {\n",
      "    \"element_count\": 19964,\n",
      "    \"missing_count\": 0,\n",
      "    \"missing_percent\": 0.0,\n",
      "    \"unexpected_count\": 3,\n",
      "    \"unexpected_percent\": 0.015027048687637747,\n",
      "    \"unexpected_percent_total\": 0.015027048687637747,\n",
      "    \"unexpected_percent_nonmissing\": 0.015027048687637747,\n",
      "    \"partial_unexpected_list\": [\n",
      "      20,\n",
      "      \"019081047\",\n",
      "      \"0212y\"\n",
      "    ]\n",
      "  },\n",
      "  \"exception_info\": {\n",
      "    \"raised_exception\": false,\n",
      "    \"exception_traceback\": null,\n",
      "    \"exception_message\": null\n",
      "  },\n",
      "  \"expectation_config\": {\n",
      "    \"meta\": {},\n",
      "    \"kwargs\": {\n",
      "      \"column\": \"Site Zip Code\",\n",
      "      \"regex\": \"^\\\\s*([0-9]{3,5})(?:[.]0)?(?:-([0-9]{4})|-)?\\\\s*$\",\n",
      "      \"mostly\": 0.98,\n",
      "      \"result_format\": \"BASIC\"\n",
      "    },\n",
      "    \"expectation_type\": \"expect_column_values_to_match_regex\"\n",
      "  },\n",
      "  \"meta\": {},\n",
      "  \"success\": true\n",
      "}\n"
     ]
    }
   ],
   "metadata": {}
  },
  {
   "cell_type": "code",
   "execution_count": 11,
   "source": [
    "# Expect rebate and cost to be mostly numbers"
   ],
   "outputs": [],
   "metadata": {}
  },
  {
   "cell_type": "code",
   "execution_count": 12,
   "source": [
    "result = ashp.expect_column_values_to_be_in_type_list(field_map['rebate'], ['int', 'float'], mostly=0.99)\n",
    "assert result.success\n",
    "print(result)"
   ],
   "outputs": [
    {
     "output_type": "stream",
     "name": "stdout",
     "text": [
      "{\n",
      "  \"result\": {\n",
      "    \"element_count\": 19964,\n",
      "    \"missing_count\": 0,\n",
      "    \"missing_percent\": 0.0,\n",
      "    \"unexpected_count\": 1,\n",
      "    \"unexpected_percent\": 0.005009016229212583,\n",
      "    \"unexpected_percent_total\": 0.005009016229212583,\n",
      "    \"unexpected_percent_nonmissing\": 0.005009016229212583,\n",
      "    \"partial_unexpected_list\": [\n",
      "      \"Not Applicable\"\n",
      "    ]\n",
      "  },\n",
      "  \"exception_info\": {\n",
      "    \"raised_exception\": false,\n",
      "    \"exception_traceback\": null,\n",
      "    \"exception_message\": null\n",
      "  },\n",
      "  \"expectation_config\": {\n",
      "    \"meta\": {},\n",
      "    \"kwargs\": {\n",
      "      \"column\": \"Rebate Amount \",\n",
      "      \"type_list\": [\n",
      "        \"int\",\n",
      "        \"float\"\n",
      "      ],\n",
      "      \"mostly\": 0.99,\n",
      "      \"result_format\": \"BASIC\"\n",
      "    },\n",
      "    \"expectation_type\": \"_expect_column_values_to_be_in_type_list__map\"\n",
      "  },\n",
      "  \"meta\": {},\n",
      "  \"success\": true\n",
      "}\n"
     ]
    }
   ],
   "metadata": {}
  },
  {
   "cell_type": "code",
   "execution_count": 13,
   "source": [
    "result = ashp.expect_column_values_to_be_in_type_list(field_map['cost'], ['int', 'float'], mostly=0.99)\n",
    "assert result.success\n",
    "print(result)"
   ],
   "outputs": [
    {
     "output_type": "stream",
     "name": "stdout",
     "text": [
      "{\n",
      "  \"result\": {\n",
      "    \"element_count\": 19964,\n",
      "    \"missing_count\": 0,\n",
      "    \"missing_percent\": 0.0,\n",
      "    \"unexpected_count\": 19,\n",
      "    \"unexpected_percent\": 0.09517130835503908,\n",
      "    \"unexpected_percent_total\": 0.09517130835503908,\n",
      "    \"unexpected_percent_nonmissing\": 0.09517130835503908,\n",
      "    \"partial_unexpected_list\": [\n",
      "      \"1000-labor only\",\n",
      "      \"1200-labor only\",\n",
      "      \"31900-with boiler\",\n",
      "      \"925-labor only\",\n",
      "      \"18668.75-with 5C42 unit\",\n",
      "      \"1000-labor only\",\n",
      "      \"25490-with Bosch\",\n",
      "      \"57814.74-with Trane\",\n",
      "      \"22725-with Lennox equip\",\n",
      "      \"17800-with other ac system\",\n",
      "      \"903.01-labor only\",\n",
      "      \"425-labor only\",\n",
      "      \"12330-with Lennox thing\",\n",
      "      \"53000-with furnace \",\n",
      "      \"30500-with Luxiare equip\",\n",
      "      \"25091-with Carrier equip\",\n",
      "      \"41430-with additional multi head\",\n",
      "      \" $ 9000.00\",\n",
      "      \"$19.524.15\"\n",
      "    ]\n",
      "  },\n",
      "  \"exception_info\": {\n",
      "    \"raised_exception\": false,\n",
      "    \"exception_traceback\": null,\n",
      "    \"exception_message\": null\n",
      "  },\n",
      "  \"expectation_config\": {\n",
      "    \"meta\": {},\n",
      "    \"kwargs\": {\n",
      "      \"column\": \"Total System Costs\",\n",
      "      \"type_list\": [\n",
      "        \"int\",\n",
      "        \"float\"\n",
      "      ],\n",
      "      \"mostly\": 0.99,\n",
      "      \"result_format\": \"BASIC\"\n",
      "    },\n",
      "    \"expectation_type\": \"_expect_column_values_to_be_in_type_list__map\"\n",
      "  },\n",
      "  \"meta\": {},\n",
      "  \"success\": true\n",
      "}\n"
     ]
    }
   ],
   "metadata": {}
  },
  {
   "cell_type": "code",
   "execution_count": 14,
   "source": [
    "result = ashp.expect_column_values_to_be_of_type(field_map[\"date\"], \"datetime64\")\n",
    "assert result.success\n",
    "print(result)"
   ],
   "outputs": [
    {
     "output_type": "stream",
     "name": "stdout",
     "text": [
      "{\n",
      "  \"result\": {\n",
      "    \"observed_value\": \"datetime64\"\n",
      "  },\n",
      "  \"exception_info\": {\n",
      "    \"raised_exception\": false,\n",
      "    \"exception_traceback\": null,\n",
      "    \"exception_message\": null\n",
      "  },\n",
      "  \"expectation_config\": {\n",
      "    \"meta\": {},\n",
      "    \"kwargs\": {\n",
      "      \"column\": \"Date Rebate Payment Approved by MassCEC\",\n",
      "      \"type_\": \"datetime64\",\n",
      "      \"result_format\": \"BASIC\"\n",
      "    },\n",
      "    \"expectation_type\": \"_expect_column_values_to_be_of_type__aggregate\"\n",
      "  },\n",
      "  \"meta\": {},\n",
      "  \"success\": true\n",
      "}\n"
     ]
    }
   ],
   "metadata": {}
  },
  {
   "cell_type": "code",
   "execution_count": 15,
   "source": [
    "result = ashp.expect_column_values_to_be_between(field_map[\"date\"], \n",
    "                                                    ashp[field_map[\"date\"]].min(), \n",
    "                                                    pd.Timestamp.now(),\n",
    "                                                    parse_strings_as_datetimes=True)\n",
    "assert result.success\n",
    "print(result)"
   ],
   "outputs": [
    {
     "output_type": "stream",
     "name": "stdout",
     "text": [
      "{\n",
      "  \"result\": {\n",
      "    \"element_count\": 19964,\n",
      "    \"missing_count\": 0,\n",
      "    \"missing_percent\": 0.0,\n",
      "    \"unexpected_count\": 0,\n",
      "    \"unexpected_percent\": 0.0,\n",
      "    \"unexpected_percent_total\": 0.0,\n",
      "    \"unexpected_percent_nonmissing\": 0.0,\n",
      "    \"partial_unexpected_list\": []\n",
      "  },\n",
      "  \"exception_info\": {\n",
      "    \"raised_exception\": false,\n",
      "    \"exception_traceback\": null,\n",
      "    \"exception_message\": null\n",
      "  },\n",
      "  \"expectation_config\": {\n",
      "    \"meta\": {},\n",
      "    \"kwargs\": {\n",
      "      \"column\": \"Date Rebate Payment Approved by MassCEC\",\n",
      "      \"min_value\": \"2014-12-26 00:00:00\",\n",
      "      \"max_value\": \"2021-07-19 22:51:31.583968\",\n",
      "      \"parse_strings_as_datetimes\": true,\n",
      "      \"result_format\": \"BASIC\"\n",
      "    },\n",
      "    \"expectation_type\": \"expect_column_values_to_be_between\"\n",
      "  },\n",
      "  \"meta\": {},\n",
      "  \"success\": true\n",
      "}\n"
     ]
    }
   ],
   "metadata": {}
  },
  {
   "cell_type": "code",
   "execution_count": 16,
   "source": [
    "ashp.save_expectation_suite(\"../data/expectations/ashp_raw_expectations.json\")"
   ],
   "outputs": [],
   "metadata": {}
  },
  {
   "cell_type": "code",
   "execution_count": 17,
   "source": [
    "validation_results = ashp.validate(expectation_suite=\"../data/expectations/ashp_raw_expectations.json\", catch_exceptions=False)"
   ],
   "outputs": [],
   "metadata": {}
  },
  {
   "cell_type": "markdown",
   "source": [
    "### Clean data expectations"
   ],
   "metadata": {}
  },
  {
   "cell_type": "code",
   "execution_count": 18,
   "source": [
    "ashp_cleaned = ge.from_pandas(rp.clean_data_load(\"Air-source Heat Pumps\"))"
   ],
   "outputs": [],
   "metadata": {}
  },
  {
   "cell_type": "code",
   "execution_count": 19,
   "source": [
    "ashp_cleaned.shape[0] / ashp.shape[0]"
   ],
   "outputs": [
    {
     "output_type": "execute_result",
     "data": {
      "text/plain": [
       "0.9445001001803246"
      ]
     },
     "metadata": {},
     "execution_count": 19
    }
   ],
   "metadata": {}
  },
  {
   "cell_type": "code",
   "execution_count": 20,
   "source": [
    "# Check that we have dropped no more than 7% of data\n",
    "result = ashp_cleaned.expect_table_row_count_to_be_between(int(0.93*ashp.shape[0]), ashp.shape[0])  \n",
    "assert result.success\n",
    "print(result)"
   ],
   "outputs": [
    {
     "output_type": "stream",
     "name": "stdout",
     "text": [
      "{\n",
      "  \"result\": {\n",
      "    \"observed_value\": 18856\n",
      "  },\n",
      "  \"exception_info\": {\n",
      "    \"raised_exception\": false,\n",
      "    \"exception_traceback\": null,\n",
      "    \"exception_message\": null\n",
      "  },\n",
      "  \"expectation_config\": {\n",
      "    \"meta\": {},\n",
      "    \"kwargs\": {\n",
      "      \"min_value\": 18566,\n",
      "      \"max_value\": 19964,\n",
      "      \"result_format\": \"BASIC\"\n",
      "    },\n",
      "    \"expectation_type\": \"expect_table_row_count_to_be_between\"\n",
      "  },\n",
      "  \"meta\": {},\n",
      "  \"success\": true\n",
      "}\n"
     ]
    }
   ],
   "metadata": {}
  },
  {
   "cell_type": "code",
   "execution_count": 21,
   "source": [
    "result = ashp_cleaned.expect_column_to_exist(\"town_valid\")\n",
    "assert result.success\n",
    "print(result)"
   ],
   "outputs": [
    {
     "output_type": "stream",
     "name": "stdout",
     "text": [
      "{\n",
      "  \"result\": {},\n",
      "  \"exception_info\": {\n",
      "    \"raised_exception\": false,\n",
      "    \"exception_traceback\": null,\n",
      "    \"exception_message\": null\n",
      "  },\n",
      "  \"expectation_config\": {\n",
      "    \"meta\": {},\n",
      "    \"kwargs\": {\n",
      "      \"column\": \"town_valid\",\n",
      "      \"result_format\": \"BASIC\"\n",
      "    },\n",
      "    \"expectation_type\": \"expect_column_to_exist\"\n",
      "  },\n",
      "  \"meta\": {},\n",
      "  \"success\": true\n",
      "}\n"
     ]
    }
   ],
   "metadata": {}
  },
  {
   "cell_type": "code",
   "execution_count": 22,
   "source": [
    "result = ashp_cleaned.expect_column_to_exist(\"rebate\")\n",
    "assert result.success\n",
    "print(result)"
   ],
   "outputs": [
    {
     "output_type": "stream",
     "name": "stdout",
     "text": [
      "{\n",
      "  \"result\": {},\n",
      "  \"exception_info\": {\n",
      "    \"raised_exception\": false,\n",
      "    \"exception_traceback\": null,\n",
      "    \"exception_message\": null\n",
      "  },\n",
      "  \"expectation_config\": {\n",
      "    \"meta\": {},\n",
      "    \"kwargs\": {\n",
      "      \"column\": \"rebate\",\n",
      "      \"result_format\": \"BASIC\"\n",
      "    },\n",
      "    \"expectation_type\": \"expect_column_to_exist\"\n",
      "  },\n",
      "  \"meta\": {},\n",
      "  \"success\": true\n",
      "}\n"
     ]
    }
   ],
   "metadata": {}
  },
  {
   "cell_type": "code",
   "execution_count": 23,
   "source": [
    "result = ashp_cleaned.expect_column_to_exist(\"cost\")\n",
    "assert result.success\n",
    "print(result)"
   ],
   "outputs": [
    {
     "output_type": "stream",
     "name": "stdout",
     "text": [
      "{\n",
      "  \"result\": {},\n",
      "  \"exception_info\": {\n",
      "    \"raised_exception\": false,\n",
      "    \"exception_traceback\": null,\n",
      "    \"exception_message\": null\n",
      "  },\n",
      "  \"expectation_config\": {\n",
      "    \"meta\": {},\n",
      "    \"kwargs\": {\n",
      "      \"column\": \"cost\",\n",
      "      \"result_format\": \"BASIC\"\n",
      "    },\n",
      "    \"expectation_type\": \"expect_column_to_exist\"\n",
      "  },\n",
      "  \"meta\": {},\n",
      "  \"success\": true\n",
      "}\n"
     ]
    }
   ],
   "metadata": {}
  },
  {
   "cell_type": "code",
   "execution_count": 24,
   "source": [
    "result = ashp_cleaned.expect_column_values_to_be_in_set(\"town_valid\", [True])\n",
    "assert result.success\n",
    "print(result)"
   ],
   "outputs": [
    {
     "output_type": "stream",
     "name": "stdout",
     "text": [
      "{\n",
      "  \"result\": {\n",
      "    \"element_count\": 18856,\n",
      "    \"missing_count\": 0,\n",
      "    \"missing_percent\": 0.0,\n",
      "    \"unexpected_count\": 0,\n",
      "    \"unexpected_percent\": 0.0,\n",
      "    \"unexpected_percent_total\": 0.0,\n",
      "    \"unexpected_percent_nonmissing\": 0.0,\n",
      "    \"partial_unexpected_list\": []\n",
      "  },\n",
      "  \"exception_info\": {\n",
      "    \"raised_exception\": false,\n",
      "    \"exception_traceback\": null,\n",
      "    \"exception_message\": null\n",
      "  },\n",
      "  \"expectation_config\": {\n",
      "    \"meta\": {},\n",
      "    \"kwargs\": {\n",
      "      \"column\": \"town_valid\",\n",
      "      \"value_set\": [\n",
      "        true\n",
      "      ],\n",
      "      \"result_format\": \"BASIC\"\n",
      "    },\n",
      "    \"expectation_type\": \"expect_column_values_to_be_in_set\"\n",
      "  },\n",
      "  \"meta\": {},\n",
      "  \"success\": true\n",
      "}\n"
     ]
    }
   ],
   "metadata": {}
  },
  {
   "cell_type": "code",
   "execution_count": 25,
   "source": [
    "result = ashp_cleaned.expect_column_values_to_be_of_type(\"cost\", \"float\")\n",
    "assert result.success\n",
    "print(result)"
   ],
   "outputs": [
    {
     "output_type": "stream",
     "name": "stdout",
     "text": [
      "{\n",
      "  \"result\": {\n",
      "    \"observed_value\": \"float64\"\n",
      "  },\n",
      "  \"exception_info\": {\n",
      "    \"raised_exception\": false,\n",
      "    \"exception_traceback\": null,\n",
      "    \"exception_message\": null\n",
      "  },\n",
      "  \"expectation_config\": {\n",
      "    \"meta\": {},\n",
      "    \"kwargs\": {\n",
      "      \"column\": \"cost\",\n",
      "      \"type_\": \"float\",\n",
      "      \"result_format\": \"BASIC\"\n",
      "    },\n",
      "    \"expectation_type\": \"_expect_column_values_to_be_of_type__aggregate\"\n",
      "  },\n",
      "  \"meta\": {},\n",
      "  \"success\": true\n",
      "}\n"
     ]
    }
   ],
   "metadata": {}
  },
  {
   "cell_type": "code",
   "execution_count": 26,
   "source": [
    "result = ashp_cleaned.expect_column_values_to_be_of_type(\"rebate\", \"float\")\n",
    "assert result.success\n",
    "print(result)"
   ],
   "outputs": [
    {
     "output_type": "stream",
     "name": "stdout",
     "text": [
      "{\n",
      "  \"result\": {\n",
      "    \"observed_value\": \"float64\"\n",
      "  },\n",
      "  \"exception_info\": {\n",
      "    \"raised_exception\": false,\n",
      "    \"exception_traceback\": null,\n",
      "    \"exception_message\": null\n",
      "  },\n",
      "  \"expectation_config\": {\n",
      "    \"meta\": {},\n",
      "    \"kwargs\": {\n",
      "      \"column\": \"rebate\",\n",
      "      \"type_\": \"float\",\n",
      "      \"result_format\": \"BASIC\"\n",
      "    },\n",
      "    \"expectation_type\": \"_expect_column_values_to_be_of_type__aggregate\"\n",
      "  },\n",
      "  \"meta\": {},\n",
      "  \"success\": true\n",
      "}\n"
     ]
    }
   ],
   "metadata": {}
  },
  {
   "cell_type": "code",
   "execution_count": 27,
   "source": [
    "ashp_cleaned.save_expectation_suite(\"../data/expectations/ashp_clean_expectations.json\")\n"
   ],
   "outputs": [],
   "metadata": {}
  },
  {
   "cell_type": "markdown",
   "source": [
    "## GSHP"
   ],
   "metadata": {}
  },
  {
   "cell_type": "code",
   "execution_count": 28,
   "source": [
    "gshp = ge.from_pandas(rp.load_gshp())"
   ],
   "outputs": [],
   "metadata": {}
  },
  {
   "cell_type": "code",
   "execution_count": 29,
   "source": [
    "#Expect row count to increase in subsequent files\n",
    "result = gshp.expect_table_row_count_to_be_between(538, 1000)\n",
    "assert result.success\n",
    "print(result)"
   ],
   "outputs": [
    {
     "output_type": "stream",
     "name": "stdout",
     "text": [
      "{\n",
      "  \"result\": {\n",
      "    \"observed_value\": 538\n",
      "  },\n",
      "  \"exception_info\": {\n",
      "    \"raised_exception\": false,\n",
      "    \"exception_traceback\": null,\n",
      "    \"exception_message\": null\n",
      "  },\n",
      "  \"expectation_config\": {\n",
      "    \"meta\": {},\n",
      "    \"kwargs\": {\n",
      "      \"min_value\": 538,\n",
      "      \"max_value\": 1000,\n",
      "      \"result_format\": \"BASIC\"\n",
      "    },\n",
      "    \"expectation_type\": \"expect_table_row_count_to_be_between\"\n",
      "  },\n",
      "  \"meta\": {},\n",
      "  \"success\": true\n",
      "}\n"
     ]
    }
   ],
   "metadata": {}
  },
  {
   "cell_type": "code",
   "execution_count": 30,
   "source": [
    "field_map = rp.FIELDS['Ground-source Heat Pumps']\n",
    "for key_col in field_map:\n",
    "    result = gshp.expect_column_to_exist(field_map[key_col])\n",
    "    assert result.success\n",
    "    print(result)"
   ],
   "outputs": [
    {
     "output_type": "stream",
     "name": "stdout",
     "text": [
      "{\n",
      "  \"result\": {},\n",
      "  \"exception_info\": {\n",
      "    \"raised_exception\": false,\n",
      "    \"exception_traceback\": null,\n",
      "    \"exception_message\": null\n",
      "  },\n",
      "  \"expectation_config\": {\n",
      "    \"meta\": {},\n",
      "    \"kwargs\": {\n",
      "      \"column\": \"Rebate Amount\",\n",
      "      \"result_format\": \"BASIC\"\n",
      "    },\n",
      "    \"expectation_type\": \"expect_column_to_exist\"\n",
      "  },\n",
      "  \"meta\": {},\n",
      "  \"success\": true\n",
      "}\n",
      "{\n",
      "  \"result\": {},\n",
      "  \"exception_info\": {\n",
      "    \"raised_exception\": false,\n",
      "    \"exception_traceback\": null,\n",
      "    \"exception_message\": null\n",
      "  },\n",
      "  \"expectation_config\": {\n",
      "    \"meta\": {},\n",
      "    \"kwargs\": {\n",
      "      \"column\": \"Total System Cost\",\n",
      "      \"result_format\": \"BASIC\"\n",
      "    },\n",
      "    \"expectation_type\": \"expect_column_to_exist\"\n",
      "  },\n",
      "  \"meta\": {},\n",
      "  \"success\": true\n",
      "}\n",
      "{\n",
      "  \"result\": {},\n",
      "  \"exception_info\": {\n",
      "    \"raised_exception\": false,\n",
      "    \"exception_traceback\": null,\n",
      "    \"exception_message\": null\n",
      "  },\n",
      "  \"expectation_config\": {\n",
      "    \"meta\": {},\n",
      "    \"kwargs\": {\n",
      "      \"column\": \"Site City/Town\",\n",
      "      \"result_format\": \"BASIC\"\n",
      "    },\n",
      "    \"expectation_type\": \"expect_column_to_exist\"\n",
      "  },\n",
      "  \"meta\": {},\n",
      "  \"success\": true\n",
      "}\n",
      "{\n",
      "  \"result\": {},\n",
      "  \"exception_info\": {\n",
      "    \"raised_exception\": false,\n",
      "    \"exception_traceback\": null,\n",
      "    \"exception_message\": null\n",
      "  },\n",
      "  \"expectation_config\": {\n",
      "    \"meta\": {},\n",
      "    \"kwargs\": {\n",
      "      \"column\": \"Income-Based Rebate Received?\",\n",
      "      \"result_format\": \"BASIC\"\n",
      "    },\n",
      "    \"expectation_type\": \"expect_column_to_exist\"\n",
      "  },\n",
      "  \"meta\": {},\n",
      "  \"success\": true\n",
      "}\n",
      "{\n",
      "  \"result\": {},\n",
      "  \"exception_info\": {\n",
      "    \"raised_exception\": false,\n",
      "    \"exception_traceback\": null,\n",
      "    \"exception_message\": null\n",
      "  },\n",
      "  \"expectation_config\": {\n",
      "    \"meta\": {},\n",
      "    \"kwargs\": {\n",
      "      \"column\": \"Rebate Approved by MassCEC\",\n",
      "      \"result_format\": \"BASIC\"\n",
      "    },\n",
      "    \"expectation_type\": \"expect_column_to_exist\"\n",
      "  },\n",
      "  \"meta\": {},\n",
      "  \"success\": true\n",
      "}\n"
     ]
    }
   ],
   "metadata": {}
  },
  {
   "cell_type": "code",
   "execution_count": 31,
   "source": [
    "result = gshp.expect_column_values_to_be_in_type_list(field_map['rebate'], ['int', 'float'], mostly=0.99)\n",
    "assert result.success\n",
    "print(result)"
   ],
   "outputs": [
    {
     "output_type": "stream",
     "name": "stdout",
     "text": [
      "{\n",
      "  \"result\": {\n",
      "    \"element_count\": 538,\n",
      "    \"missing_count\": 0,\n",
      "    \"missing_percent\": 0.0,\n",
      "    \"unexpected_count\": 2,\n",
      "    \"unexpected_percent\": 0.37174721189591076,\n",
      "    \"unexpected_percent_total\": 0.37174721189591076,\n",
      "    \"unexpected_percent_nonmissing\": 0.37174721189591076,\n",
      "    \"partial_unexpected_list\": [\n",
      "      \"$10000.00\",\n",
      "      \"$10000.00\"\n",
      "    ]\n",
      "  },\n",
      "  \"exception_info\": {\n",
      "    \"raised_exception\": false,\n",
      "    \"exception_traceback\": null,\n",
      "    \"exception_message\": null\n",
      "  },\n",
      "  \"expectation_config\": {\n",
      "    \"meta\": {},\n",
      "    \"kwargs\": {\n",
      "      \"column\": \"Rebate Amount\",\n",
      "      \"type_list\": [\n",
      "        \"int\",\n",
      "        \"float\"\n",
      "      ],\n",
      "      \"mostly\": 0.99,\n",
      "      \"result_format\": \"BASIC\"\n",
      "    },\n",
      "    \"expectation_type\": \"_expect_column_values_to_be_in_type_list__map\"\n",
      "  },\n",
      "  \"meta\": {},\n",
      "  \"success\": true\n",
      "}\n"
     ]
    }
   ],
   "metadata": {}
  },
  {
   "cell_type": "code",
   "execution_count": 32,
   "source": [
    "result = gshp.expect_column_values_to_be_in_type_list(field_map['cost'], ['int', 'float'], mostly=0.99)\n",
    "assert result.success\n",
    "print(result)"
   ],
   "outputs": [
    {
     "output_type": "stream",
     "name": "stdout",
     "text": [
      "{\n",
      "  \"result\": {\n",
      "    \"element_count\": 538,\n",
      "    \"missing_count\": 0,\n",
      "    \"missing_percent\": 0.0,\n",
      "    \"unexpected_count\": 3,\n",
      "    \"unexpected_percent\": 0.5576208178438662,\n",
      "    \"unexpected_percent_total\": 0.5576208178438662,\n",
      "    \"unexpected_percent_nonmissing\": 0.5576208178438662,\n",
      "    \"partial_unexpected_list\": [\n",
      "      \"$117910\",\n",
      "      \"$81355\",\n",
      "      \"$40445\"\n",
      "    ]\n",
      "  },\n",
      "  \"exception_info\": {\n",
      "    \"raised_exception\": false,\n",
      "    \"exception_traceback\": null,\n",
      "    \"exception_message\": null\n",
      "  },\n",
      "  \"expectation_config\": {\n",
      "    \"meta\": {},\n",
      "    \"kwargs\": {\n",
      "      \"column\": \"Total System Cost\",\n",
      "      \"type_list\": [\n",
      "        \"int\",\n",
      "        \"float\"\n",
      "      ],\n",
      "      \"mostly\": 0.99,\n",
      "      \"result_format\": \"BASIC\"\n",
      "    },\n",
      "    \"expectation_type\": \"_expect_column_values_to_be_in_type_list__map\"\n",
      "  },\n",
      "  \"meta\": {},\n",
      "  \"success\": true\n",
      "}\n"
     ]
    }
   ],
   "metadata": {}
  },
  {
   "cell_type": "code",
   "execution_count": 33,
   "source": [
    "gshp.expect_column_values_to_be_between(field_map[\"date\"], \n",
    "                                        gshp[field_map[\"date\"]].min(), \n",
    "                                        pd.Timestamp.now(),\n",
    "                                        parse_strings_as_datetimes=True)"
   ],
   "outputs": [
    {
     "output_type": "execute_result",
     "data": {
      "text/plain": [
       "{\n",
       "  \"result\": {\n",
       "    \"element_count\": 538,\n",
       "    \"missing_count\": 0,\n",
       "    \"missing_percent\": 0.0,\n",
       "    \"unexpected_count\": 0,\n",
       "    \"unexpected_percent\": 0.0,\n",
       "    \"unexpected_percent_total\": 0.0,\n",
       "    \"unexpected_percent_nonmissing\": 0.0,\n",
       "    \"partial_unexpected_list\": []\n",
       "  },\n",
       "  \"exception_info\": {\n",
       "    \"raised_exception\": false,\n",
       "    \"exception_traceback\": null,\n",
       "    \"exception_message\": null\n",
       "  },\n",
       "  \"meta\": {},\n",
       "  \"success\": true\n",
       "}"
      ]
     },
     "metadata": {},
     "execution_count": 33
    }
   ],
   "metadata": {}
  },
  {
   "cell_type": "code",
   "execution_count": 34,
   "source": [
    "gshp.save_expectation_suite(\"../data/expectations/gshp_raw_expectations.json\")"
   ],
   "outputs": [],
   "metadata": {}
  },
  {
   "cell_type": "markdown",
   "source": [
    "### Clean data expectations"
   ],
   "metadata": {}
  },
  {
   "cell_type": "code",
   "execution_count": 35,
   "source": [
    "gshp_cleaned = ge.from_pandas(rp.clean_data_load(\"Ground-source Heat Pumps\"))\n",
    "\n",
    "gshp_cleaned.shape[0] / gshp.shape[0]"
   ],
   "outputs": [
    {
     "output_type": "execute_result",
     "data": {
      "text/plain": [
       "0.9609665427509294"
      ]
     },
     "metadata": {},
     "execution_count": 35
    }
   ],
   "metadata": {}
  },
  {
   "cell_type": "code",
   "execution_count": 36,
   "source": [
    "# Check that we have dropped no more than 5% of data\n",
    "result = gshp_cleaned.expect_table_row_count_to_be_between(int(0.95*gshp.shape[0]), gshp.shape[0])  \n",
    "assert result.success\n",
    "print(result)"
   ],
   "outputs": [
    {
     "output_type": "stream",
     "name": "stdout",
     "text": [
      "{\n",
      "  \"result\": {\n",
      "    \"observed_value\": 517\n",
      "  },\n",
      "  \"exception_info\": {\n",
      "    \"raised_exception\": false,\n",
      "    \"exception_traceback\": null,\n",
      "    \"exception_message\": null\n",
      "  },\n",
      "  \"expectation_config\": {\n",
      "    \"meta\": {},\n",
      "    \"kwargs\": {\n",
      "      \"min_value\": 511,\n",
      "      \"max_value\": 538,\n",
      "      \"result_format\": \"BASIC\"\n",
      "    },\n",
      "    \"expectation_type\": \"expect_table_row_count_to_be_between\"\n",
      "  },\n",
      "  \"meta\": {},\n",
      "  \"success\": true\n",
      "}\n"
     ]
    }
   ],
   "metadata": {}
  },
  {
   "cell_type": "code",
   "execution_count": 37,
   "source": [
    "result = gshp_cleaned.expect_column_to_exist(\"town_valid\")\n",
    "print(result)\n",
    "assert result.success\n"
   ],
   "outputs": [
    {
     "output_type": "stream",
     "name": "stdout",
     "text": [
      "{\n",
      "  \"result\": {},\n",
      "  \"exception_info\": {\n",
      "    \"raised_exception\": false,\n",
      "    \"exception_traceback\": null,\n",
      "    \"exception_message\": null\n",
      "  },\n",
      "  \"expectation_config\": {\n",
      "    \"meta\": {},\n",
      "    \"kwargs\": {\n",
      "      \"column\": \"town_valid\",\n",
      "      \"result_format\": \"BASIC\"\n",
      "    },\n",
      "    \"expectation_type\": \"expect_column_to_exist\"\n",
      "  },\n",
      "  \"meta\": {},\n",
      "  \"success\": true\n",
      "}\n"
     ]
    }
   ],
   "metadata": {}
  },
  {
   "cell_type": "code",
   "execution_count": 38,
   "source": [
    "gshp_cleaned.columns"
   ],
   "outputs": [
    {
     "output_type": "execute_result",
     "data": {
      "text/plain": [
       "Index(['Rebate Approved by MassCEC', 'Site City/Town', 'Installer Name',\n",
       "       'Driller Company', 'Primary Heating Fuel Prior to Installation',\n",
       "       'Secondary Heating Fuel', 'Building Size (Square Feet)',\n",
       "       'Previous Heat Distribution', 'Manual J Heat Load',\n",
       "       'Heat Pump Function', 'Pump type', 'Loop Config.',\n",
       "       'New Heating Distribution', 'Number of Bore Holes',\n",
       "       'Total Bore Hole Depth (ft)', 'Peak Flow Rate (gallons per minute)',\n",
       "       'HP Manufacturer', 'HP 1 Model', 'COP 1', 'EER 1',\n",
       "       'Heating Capacity 1 (BTU/hr)', 'HP 2 Model', 'COP 2', 'EER 2',\n",
       "       'Heating Capacity 2 (BTU/hr)', 'HP 3 Model', 'COP 3', 'EER 3',\n",
       "       'Heating Capacity 3 (BTU/hr)', 'Total Capacity (BTU/hr)',\n",
       "       'Eligible Capacity (BTU/hr) (maximum of 60,000 BTU/hr)',\n",
       "       'Backup Source', 'Heat Pump Costs (Equip + Install) ',\n",
       "       'Loop Cost (Equip + Install) ', 'Total System Cost', 'Rebate Amount',\n",
       "       'Income-Based Rebate Received?', 'town', 'zip_exists', 'zip_cleaned',\n",
       "       'zip4_cleaned', 'zip_valid', 'town_valid', 'rebate', 'cost'],\n",
       "      dtype='object')"
      ]
     },
     "metadata": {},
     "execution_count": 38
    }
   ],
   "metadata": {}
  },
  {
   "cell_type": "code",
   "execution_count": 39,
   "source": [
    "result = gshp_cleaned.expect_column_to_exist(\"rebate\")\n",
    "print(result)\n",
    "assert result.success"
   ],
   "outputs": [
    {
     "output_type": "stream",
     "name": "stdout",
     "text": [
      "{\n",
      "  \"result\": {},\n",
      "  \"exception_info\": {\n",
      "    \"raised_exception\": false,\n",
      "    \"exception_traceback\": null,\n",
      "    \"exception_message\": null\n",
      "  },\n",
      "  \"expectation_config\": {\n",
      "    \"meta\": {},\n",
      "    \"kwargs\": {\n",
      "      \"column\": \"rebate\",\n",
      "      \"result_format\": \"BASIC\"\n",
      "    },\n",
      "    \"expectation_type\": \"expect_column_to_exist\"\n",
      "  },\n",
      "  \"meta\": {},\n",
      "  \"success\": true\n",
      "}\n"
     ]
    }
   ],
   "metadata": {}
  },
  {
   "cell_type": "code",
   "execution_count": 40,
   "source": [
    "result = gshp_cleaned.expect_column_to_exist(\"cost\")\n",
    "print(result)\n",
    "assert result.success"
   ],
   "outputs": [
    {
     "output_type": "stream",
     "name": "stdout",
     "text": [
      "{\n",
      "  \"result\": {},\n",
      "  \"exception_info\": {\n",
      "    \"raised_exception\": false,\n",
      "    \"exception_traceback\": null,\n",
      "    \"exception_message\": null\n",
      "  },\n",
      "  \"expectation_config\": {\n",
      "    \"meta\": {},\n",
      "    \"kwargs\": {\n",
      "      \"column\": \"cost\",\n",
      "      \"result_format\": \"BASIC\"\n",
      "    },\n",
      "    \"expectation_type\": \"expect_column_to_exist\"\n",
      "  },\n",
      "  \"meta\": {},\n",
      "  \"success\": true\n",
      "}\n"
     ]
    }
   ],
   "metadata": {}
  },
  {
   "cell_type": "code",
   "execution_count": 41,
   "source": [
    "result = gshp_cleaned.expect_column_values_to_be_in_set(\"town_valid\", [True])\n",
    "print(result)\n",
    "assert result.success\n"
   ],
   "outputs": [
    {
     "output_type": "stream",
     "name": "stdout",
     "text": [
      "{\n",
      "  \"result\": {\n",
      "    \"element_count\": 517,\n",
      "    \"missing_count\": 0,\n",
      "    \"missing_percent\": 0.0,\n",
      "    \"unexpected_count\": 0,\n",
      "    \"unexpected_percent\": 0.0,\n",
      "    \"unexpected_percent_total\": 0.0,\n",
      "    \"unexpected_percent_nonmissing\": 0.0,\n",
      "    \"partial_unexpected_list\": []\n",
      "  },\n",
      "  \"exception_info\": {\n",
      "    \"raised_exception\": false,\n",
      "    \"exception_traceback\": null,\n",
      "    \"exception_message\": null\n",
      "  },\n",
      "  \"expectation_config\": {\n",
      "    \"meta\": {},\n",
      "    \"kwargs\": {\n",
      "      \"column\": \"town_valid\",\n",
      "      \"value_set\": [\n",
      "        true\n",
      "      ],\n",
      "      \"result_format\": \"BASIC\"\n",
      "    },\n",
      "    \"expectation_type\": \"expect_column_values_to_be_in_set\"\n",
      "  },\n",
      "  \"meta\": {},\n",
      "  \"success\": true\n",
      "}\n"
     ]
    }
   ],
   "metadata": {}
  },
  {
   "cell_type": "code",
   "execution_count": 42,
   "source": [
    "result = gshp_cleaned.expect_column_values_to_be_of_type(\"cost\", \"float\")\n",
    "print(result)\n",
    "assert result.success\n"
   ],
   "outputs": [
    {
     "output_type": "stream",
     "name": "stdout",
     "text": [
      "{\n",
      "  \"result\": {\n",
      "    \"observed_value\": \"float64\"\n",
      "  },\n",
      "  \"exception_info\": {\n",
      "    \"raised_exception\": false,\n",
      "    \"exception_traceback\": null,\n",
      "    \"exception_message\": null\n",
      "  },\n",
      "  \"expectation_config\": {\n",
      "    \"meta\": {},\n",
      "    \"kwargs\": {\n",
      "      \"column\": \"cost\",\n",
      "      \"type_\": \"float\",\n",
      "      \"result_format\": \"BASIC\"\n",
      "    },\n",
      "    \"expectation_type\": \"_expect_column_values_to_be_of_type__aggregate\"\n",
      "  },\n",
      "  \"meta\": {},\n",
      "  \"success\": true\n",
      "}\n"
     ]
    }
   ],
   "metadata": {}
  },
  {
   "cell_type": "code",
   "execution_count": 43,
   "source": [
    "result = gshp_cleaned.expect_column_values_to_be_of_type(\"rebate\", \"float\")\n",
    "print(result)\n",
    "assert result.success\n"
   ],
   "outputs": [
    {
     "output_type": "stream",
     "name": "stdout",
     "text": [
      "{\n",
      "  \"result\": {\n",
      "    \"observed_value\": \"float64\"\n",
      "  },\n",
      "  \"exception_info\": {\n",
      "    \"raised_exception\": false,\n",
      "    \"exception_traceback\": null,\n",
      "    \"exception_message\": null\n",
      "  },\n",
      "  \"expectation_config\": {\n",
      "    \"meta\": {},\n",
      "    \"kwargs\": {\n",
      "      \"column\": \"rebate\",\n",
      "      \"type_\": \"float\",\n",
      "      \"result_format\": \"BASIC\"\n",
      "    },\n",
      "    \"expectation_type\": \"_expect_column_values_to_be_of_type__aggregate\"\n",
      "  },\n",
      "  \"meta\": {},\n",
      "  \"success\": true\n",
      "}\n"
     ]
    }
   ],
   "metadata": {}
  },
  {
   "cell_type": "code",
   "execution_count": 44,
   "source": [
    "gshp_cleaned.save_expectation_suite(\"../data/expectations/gshp_clean_expectations.json\")"
   ],
   "outputs": [],
   "metadata": {}
  },
  {
   "cell_type": "markdown",
   "source": [
    "## Solar"
   ],
   "metadata": {}
  },
  {
   "cell_type": "markdown",
   "source": [
    "### Raw data expectations"
   ],
   "metadata": {}
  },
  {
   "cell_type": "code",
   "execution_count": 45,
   "source": [
    "solar = ge.from_pandas(rp.load_solar())"
   ],
   "outputs": [],
   "metadata": {}
  },
  {
   "cell_type": "code",
   "execution_count": 46,
   "source": [
    "#Expect row count to increase in subsequent files\n",
    "result = solar.expect_table_row_count_to_be_between(90141, 200000)\n",
    "print(result)\n",
    "assert result.success"
   ],
   "outputs": [
    {
     "output_type": "stream",
     "name": "stdout",
     "text": [
      "{\n",
      "  \"result\": {\n",
      "    \"observed_value\": 90141\n",
      "  },\n",
      "  \"exception_info\": {\n",
      "    \"raised_exception\": false,\n",
      "    \"exception_traceback\": null,\n",
      "    \"exception_message\": null\n",
      "  },\n",
      "  \"expectation_config\": {\n",
      "    \"meta\": {},\n",
      "    \"kwargs\": {\n",
      "      \"min_value\": 90141,\n",
      "      \"max_value\": 200000,\n",
      "      \"result_format\": \"BASIC\"\n",
      "    },\n",
      "    \"expectation_type\": \"expect_table_row_count_to_be_between\"\n",
      "  },\n",
      "  \"meta\": {},\n",
      "  \"success\": true\n",
      "}\n"
     ]
    }
   ],
   "metadata": {}
  },
  {
   "cell_type": "code",
   "execution_count": 47,
   "source": [
    "field_map = rp.FIELDS['Solar Panels']\n",
    "for key_col in field_map:\n",
    "    result = solar.expect_column_to_exist(field_map[key_col])\n",
    "    print(result)\n",
    "    assert result.success\n",
    " "
   ],
   "outputs": [
    {
     "output_type": "stream",
     "name": "stdout",
     "text": [
      "{\n",
      "  \"result\": {},\n",
      "  \"exception_info\": {\n",
      "    \"raised_exception\": false,\n",
      "    \"exception_traceback\": null,\n",
      "    \"exception_message\": null\n",
      "  },\n",
      "  \"expectation_config\": {\n",
      "    \"meta\": {},\n",
      "    \"kwargs\": {\n",
      "      \"column\": \"Total Cost with Design Fees\",\n",
      "      \"result_format\": \"BASIC\"\n",
      "    },\n",
      "    \"expectation_type\": \"expect_column_to_exist\"\n",
      "  },\n",
      "  \"meta\": {},\n",
      "  \"success\": true\n",
      "}\n",
      "{\n",
      "  \"result\": {},\n",
      "  \"exception_info\": {\n",
      "    \"raised_exception\": false,\n",
      "    \"exception_traceback\": null,\n",
      "    \"exception_message\": null\n",
      "  },\n",
      "  \"expectation_config\": {\n",
      "    \"meta\": {},\n",
      "    \"kwargs\": {\n",
      "      \"column\": \"Zip\",\n",
      "      \"result_format\": \"BASIC\"\n",
      "    },\n",
      "    \"expectation_type\": \"expect_column_to_exist\"\n",
      "  },\n",
      "  \"meta\": {},\n",
      "  \"success\": true\n",
      "}\n",
      "{\n",
      "  \"result\": {},\n",
      "  \"exception_info\": {\n",
      "    \"raised_exception\": false,\n",
      "    \"exception_traceback\": null,\n",
      "    \"exception_message\": null\n",
      "  },\n",
      "  \"expectation_config\": {\n",
      "    \"meta\": {},\n",
      "    \"kwargs\": {\n",
      "      \"column\": \"Facility Type\",\n",
      "      \"result_format\": \"BASIC\"\n",
      "    },\n",
      "    \"expectation_type\": \"expect_column_to_exist\"\n",
      "  },\n",
      "  \"meta\": {},\n",
      "  \"success\": true\n",
      "}\n",
      "{\n",
      "  \"result\": {},\n",
      "  \"exception_info\": {\n",
      "    \"raised_exception\": false,\n",
      "    \"exception_traceback\": null,\n",
      "    \"exception_message\": null\n",
      "  },\n",
      "  \"expectation_config\": {\n",
      "    \"meta\": {},\n",
      "    \"kwargs\": {\n",
      "      \"column\": \"City\",\n",
      "      \"result_format\": \"BASIC\"\n",
      "    },\n",
      "    \"expectation_type\": \"expect_column_to_exist\"\n",
      "  },\n",
      "  \"meta\": {},\n",
      "  \"success\": true\n",
      "}\n",
      "{\n",
      "  \"result\": {},\n",
      "  \"exception_info\": {\n",
      "    \"raised_exception\": false,\n",
      "    \"exception_traceback\": null,\n",
      "    \"exception_message\": null\n",
      "  },\n",
      "  \"expectation_config\": {\n",
      "    \"meta\": {},\n",
      "    \"kwargs\": {\n",
      "      \"column\": \"Capacity \\n(DC, kW)\",\n",
      "      \"result_format\": \"BASIC\"\n",
      "    },\n",
      "    \"expectation_type\": \"expect_column_to_exist\"\n",
      "  },\n",
      "  \"meta\": {},\n",
      "  \"success\": true\n",
      "}\n",
      "{\n",
      "  \"result\": {},\n",
      "  \"exception_info\": {\n",
      "    \"raised_exception\": false,\n",
      "    \"exception_traceback\": null,\n",
      "    \"exception_message\": null\n",
      "  },\n",
      "  \"expectation_config\": {\n",
      "    \"meta\": {},\n",
      "    \"kwargs\": {\n",
      "      \"column\": \"Date In Service\",\n",
      "      \"result_format\": \"BASIC\"\n",
      "    },\n",
      "    \"expectation_type\": \"expect_column_to_exist\"\n",
      "  },\n",
      "  \"meta\": {},\n",
      "  \"success\": true\n",
      "}\n"
     ]
    }
   ],
   "metadata": {}
  },
  {
   "cell_type": "code",
   "execution_count": 48,
   "source": [
    "# Expect zipcode to be mostly numbers and mostly populated\n",
    "\n",
    "result = solar.expect_column_values_to_not_be_null(field_map['zip'])\n",
    "print(result)\n",
    "assert result.success"
   ],
   "outputs": [
    {
     "output_type": "stream",
     "name": "stdout",
     "text": [
      "{\n",
      "  \"result\": {\n",
      "    \"element_count\": 90141,\n",
      "    \"unexpected_count\": 0,\n",
      "    \"unexpected_percent\": 0.0,\n",
      "    \"unexpected_percent_total\": 0.0,\n",
      "    \"partial_unexpected_list\": []\n",
      "  },\n",
      "  \"exception_info\": {\n",
      "    \"raised_exception\": false,\n",
      "    \"exception_traceback\": null,\n",
      "    \"exception_message\": null\n",
      "  },\n",
      "  \"expectation_config\": {\n",
      "    \"meta\": {},\n",
      "    \"kwargs\": {\n",
      "      \"column\": \"Zip\",\n",
      "      \"result_format\": \"BASIC\"\n",
      "    },\n",
      "    \"expectation_type\": \"expect_column_values_to_not_be_null\"\n",
      "  },\n",
      "  \"meta\": {},\n",
      "  \"success\": true\n",
      "}\n"
     ]
    }
   ],
   "metadata": {}
  },
  {
   "cell_type": "code",
   "execution_count": 49,
   "source": [
    "result = solar.expect_column_values_to_be_in_type_list(field_map['zip'], ['int', 'float', 'str'])\n",
    "print(result)\n",
    "assert result.success"
   ],
   "outputs": [
    {
     "output_type": "stream",
     "name": "stdout",
     "text": [
      "{\n",
      "  \"result\": {\n",
      "    \"observed_value\": \"int64\"\n",
      "  },\n",
      "  \"exception_info\": {\n",
      "    \"raised_exception\": false,\n",
      "    \"exception_traceback\": null,\n",
      "    \"exception_message\": null\n",
      "  },\n",
      "  \"expectation_config\": {\n",
      "    \"meta\": {},\n",
      "    \"kwargs\": {\n",
      "      \"column\": \"Zip\",\n",
      "      \"type_list\": [\n",
      "        \"int\",\n",
      "        \"float\",\n",
      "        \"str\"\n",
      "      ],\n",
      "      \"result_format\": \"BASIC\"\n",
      "    },\n",
      "    \"expectation_type\": \"_expect_column_values_to_be_in_type_list__aggregate\"\n",
      "  },\n",
      "  \"meta\": {},\n",
      "  \"success\": true\n",
      "}\n"
     ]
    }
   ],
   "metadata": {}
  },
  {
   "cell_type": "code",
   "execution_count": 50,
   "source": [
    "result = solar.expect_column_values_to_match_regex(field_map['zip'], r\"^\\s*([0-9]{3,5})(?:[.]0)?(?:-([0-9]{4})|-)?\\s*$\")\n",
    "print(result)\n",
    "assert result.success"
   ],
   "outputs": [
    {
     "output_type": "stream",
     "name": "stdout",
     "text": [
      "{\n",
      "  \"result\": {\n",
      "    \"element_count\": 90141,\n",
      "    \"missing_count\": 0,\n",
      "    \"missing_percent\": 0.0,\n",
      "    \"unexpected_count\": 0,\n",
      "    \"unexpected_percent\": 0.0,\n",
      "    \"unexpected_percent_total\": 0.0,\n",
      "    \"unexpected_percent_nonmissing\": 0.0,\n",
      "    \"partial_unexpected_list\": []\n",
      "  },\n",
      "  \"exception_info\": {\n",
      "    \"raised_exception\": false,\n",
      "    \"exception_traceback\": null,\n",
      "    \"exception_message\": null\n",
      "  },\n",
      "  \"expectation_config\": {\n",
      "    \"meta\": {},\n",
      "    \"kwargs\": {\n",
      "      \"column\": \"Zip\",\n",
      "      \"regex\": \"^\\\\s*([0-9]{3,5})(?:[.]0)?(?:-([0-9]{4})|-)?\\\\s*$\",\n",
      "      \"result_format\": \"BASIC\"\n",
      "    },\n",
      "    \"expectation_type\": \"expect_column_values_to_match_regex\"\n",
      "  },\n",
      "  \"meta\": {},\n",
      "  \"success\": true\n",
      "}\n"
     ]
    }
   ],
   "metadata": {}
  },
  {
   "cell_type": "code",
   "execution_count": 51,
   "source": [
    "# Expect capacity and cost to be mostly numbers\n",
    "\n",
    "result = solar.expect_column_values_to_be_in_type_list(field_map['capacity'], ['int', 'float'])\n",
    "print(result)\n",
    "assert result.success"
   ],
   "outputs": [
    {
     "output_type": "stream",
     "name": "stdout",
     "text": [
      "{\n",
      "  \"result\": {\n",
      "    \"observed_value\": \"float64\"\n",
      "  },\n",
      "  \"exception_info\": {\n",
      "    \"raised_exception\": false,\n",
      "    \"exception_traceback\": null,\n",
      "    \"exception_message\": null\n",
      "  },\n",
      "  \"expectation_config\": {\n",
      "    \"meta\": {},\n",
      "    \"kwargs\": {\n",
      "      \"column\": \"Capacity \\n(DC, kW)\",\n",
      "      \"type_list\": [\n",
      "        \"int\",\n",
      "        \"float\"\n",
      "      ],\n",
      "      \"result_format\": \"BASIC\"\n",
      "    },\n",
      "    \"expectation_type\": \"_expect_column_values_to_be_in_type_list__aggregate\"\n",
      "  },\n",
      "  \"meta\": {},\n",
      "  \"success\": true\n",
      "}\n"
     ]
    }
   ],
   "metadata": {}
  },
  {
   "cell_type": "code",
   "execution_count": 52,
   "source": [
    "result = solar.expect_column_values_to_be_in_type_list(field_map['cost'], ['int', 'float'])\n",
    "print(result)\n",
    "assert result.success"
   ],
   "outputs": [
    {
     "output_type": "stream",
     "name": "stdout",
     "text": [
      "{\n",
      "  \"result\": {\n",
      "    \"observed_value\": \"float64\"\n",
      "  },\n",
      "  \"exception_info\": {\n",
      "    \"raised_exception\": false,\n",
      "    \"exception_traceback\": null,\n",
      "    \"exception_message\": null\n",
      "  },\n",
      "  \"expectation_config\": {\n",
      "    \"meta\": {},\n",
      "    \"kwargs\": {\n",
      "      \"column\": \"Total Cost with Design Fees\",\n",
      "      \"type_list\": [\n",
      "        \"int\",\n",
      "        \"float\"\n",
      "      ],\n",
      "      \"result_format\": \"BASIC\"\n",
      "    },\n",
      "    \"expectation_type\": \"_expect_column_values_to_be_in_type_list__aggregate\"\n",
      "  },\n",
      "  \"meta\": {},\n",
      "  \"success\": true\n",
      "}\n"
     ]
    }
   ],
   "metadata": {}
  },
  {
   "cell_type": "code",
   "execution_count": 53,
   "source": [
    "result = solar.expect_column_values_to_be_of_type(field_map[\"date\"], \"datetime64\")\n",
    "print(result)\n",
    "assert result.success"
   ],
   "outputs": [
    {
     "output_type": "stream",
     "name": "stdout",
     "text": [
      "{\n",
      "  \"result\": {\n",
      "    \"observed_value\": \"datetime64\"\n",
      "  },\n",
      "  \"exception_info\": {\n",
      "    \"raised_exception\": false,\n",
      "    \"exception_traceback\": null,\n",
      "    \"exception_message\": null\n",
      "  },\n",
      "  \"expectation_config\": {\n",
      "    \"meta\": {},\n",
      "    \"kwargs\": {\n",
      "      \"column\": \"Date In Service\",\n",
      "      \"type_\": \"datetime64\",\n",
      "      \"result_format\": \"BASIC\"\n",
      "    },\n",
      "    \"expectation_type\": \"_expect_column_values_to_be_of_type__aggregate\"\n",
      "  },\n",
      "  \"meta\": {},\n",
      "  \"success\": true\n",
      "}\n"
     ]
    }
   ],
   "metadata": {}
  },
  {
   "cell_type": "code",
   "execution_count": 54,
   "source": [
    "solar[field_map[\"date\"]].hist()"
   ],
   "outputs": [
    {
     "output_type": "execute_result",
     "data": {
      "text/plain": [
       "<AxesSubplot:>"
      ]
     },
     "metadata": {},
     "execution_count": 54
    },
    {
     "output_type": "display_data",
     "data": {
      "text/plain": [
       "<Figure size 432x288 with 1 Axes>"
      ],
      "image/png": "[encoded data removed]",
      "image/svg+xml": "<?xml version=\"1.0\" encoding=\"utf-8\" standalone=\"no\"?>\n<!DOCTYPE svg PUBLIC \"-//W3C//DTD SVG 1.1//EN\"\n  \"http://www.w3.org/Graphics/SVG/1.1/DTD/svg11.dtd\">\n<!-- Created with matplotlib (https://matplotlib.org/) -->\n<svg height=\"248.518125pt\" version=\"1.1\" viewBox=\"0 0 391.726483 248.518125\" width=\"391.726483pt\" xmlns=\"http://www.w3.org/2000/svg\" xmlns:xlink=\"http://www.w3.org/1999/xlink\">\n <metadata>\n  <rdf:RDF xmlns:cc=\"http://creativecommons.org/ns#\" xmlns:dc=\"http://purl.org/dc/elements/1.1/\" xmlns:rdf=\"http://www.w3.org/1999/02/22-rdf-syntax-ns#\">\n   <cc:Work>\n    <dc:type rdf:resource=\"http://purl.org/dc/dcmitype/StillImage\"/>\n    <dc:date>2021-07-19T22:52:04.187103</dc:date>\n    <dc:format>image/svg+xml</dc:format>\n    <dc:creator>\n     <cc:Agent>\n      <dc:title>Matplotlib v3.3.4, https://matplotlib.org/</dc:title>\n     </cc:Agent>\n    </dc:creator>\n   </cc:Work>\n  </rdf:RDF>\n </metadata>\n <defs>\n  <style type=\"text/css\">*{stroke-linecap:butt;stroke-linejoin:round;}</style>\n </defs>\n <g id=\"figure_1\">\n  <g id=\"patch_1\">\n   <path d=\"M 0 248.518125 \nL 391.726483 248.518125 \nL 391.726483 0 \nL 0 0 \nz\n\" style=\"fill:none;\"/>\n  </g>\n  <g id=\"axes_1\">\n   <g id=\"patch_2\">\n    <path d=\"M 46.0125 224.64 \nL 380.8125 224.64 \nL 380.8125 7.2 \nL 46.0125 7.2 \nz\n\" style=\"fill:#ffffff;\"/>\n   </g>\n   <g id=\"patch_3\">\n    <path clip-path=\"url(#p20216fa0b0)\" d=\"M 61.230682 224.64 \nL 91.667045 224.64 \nL 91.667045 224.629576 \nL 61.230682 224.629576 \nz\n\" style=\"fill:#1f77b4;\"/>\n   </g>\n   <g id=\"patch_4\">\n    <path clip-path=\"url(#p20216fa0b0)\" d=\"M 91.667045 224.64 \nL 122.103409 224.64 \nL 122.103409 224.348132 \nL 91.667045 224.348132 \nz\n\" style=\"fill:#1f77b4;\"/>\n   </g>\n   <g id=\"patch_5\">\n    <path clip-path=\"url(#p20216fa0b0)\" d=\"M 122.103409 224.64 \nL 152.539773 224.64 \nL 152.539773 223.540282 \nL 122.103409 223.540282 \nz\n\" style=\"fill:#1f77b4;\"/>\n   </g>\n   <g id=\"patch_6\">\n    <path clip-path=\"url(#p20216fa0b0)\" d=\"M 152.539773 224.64 \nL 182.976136 224.64 \nL 182.976136 222.263359 \nL 152.539773 222.263359 \nz\n\" style=\"fill:#1f77b4;\"/>\n   </g>\n   <g id=\"patch_7\">\n    <path clip-path=\"url(#p20216fa0b0)\" d=\"M 182.976136 224.64 \nL 213.4125 224.64 \nL 213.4125 218.990265 \nL 182.976136 218.990265 \nz\n\" style=\"fill:#1f77b4;\"/>\n   </g>\n   <g id=\"patch_8\">\n    <path clip-path=\"url(#p20216fa0b0)\" d=\"M 213.4125 224.64 \nL 243.848864 224.64 \nL 243.848864 214.93017 \nL 213.4125 214.93017 \nz\n\" style=\"fill:#1f77b4;\"/>\n   </g>\n   <g id=\"patch_9\">\n    <path clip-path=\"url(#p20216fa0b0)\" d=\"M 243.848864 224.64 \nL 274.285227 224.64 \nL 274.285227 186.483442 \nL 243.848864 186.483442 \nz\n\" style=\"fill:#1f77b4;\"/>\n   </g>\n   <g id=\"patch_10\">\n    <path clip-path=\"url(#p20216fa0b0)\" d=\"M 274.285227 224.64 \nL 304.721591 224.64 \nL 304.721591 98.896916 \nL 274.285227 98.896916 \nz\n\" style=\"fill:#1f77b4;\"/>\n   </g>\n   <g id=\"patch_11\">\n    <path clip-path=\"url(#p20216fa0b0)\" d=\"M 304.721591 224.64 \nL 335.157955 224.64 \nL 335.157955 17.554286 \nL 304.721591 17.554286 \nz\n\" style=\"fill:#1f77b4;\"/>\n   </g>\n   <g id=\"patch_12\">\n    <path clip-path=\"url(#p20216fa0b0)\" d=\"M 335.157955 224.64 \nL 365.594318 224.64 \nL 365.594318 145.481169 \nL 335.157955 145.481169 \nz\n\" style=\"fill:#1f77b4;\"/>\n   </g>\n   <g id=\"matplotlib.axis_1\">\n    <g id=\"xtick_1\">\n     <g id=\"line2d_1\">\n      <path clip-path=\"url(#p20216fa0b0)\" d=\"M 61.230682 224.64 \nL 61.230682 7.2 \n\" style=\"fill:none;stroke:#b0b0b0;stroke-linecap:square;stroke-width:0.8;\"/>\n     </g>\n     <g id=\"line2d_2\">\n      <defs>\n       <path d=\"M 0 0 \nL 0 3.5 \n\" id=\"m7295a07ffc\" style=\"stroke:#000000;stroke-width:0.8;\"/>\n      </defs>\n      <g>\n       <use style=\"stroke:#000000;stroke-width:0.8;\" x=\"61.230682\" xlink:href=\"#m7295a07ffc\" y=\"224.64\"/>\n      </g>\n     </g>\n     <g id=\"text_1\">\n      <!-- 2000 -->\n      <g transform=\"translate(48.505682 239.238437)scale(0.1 -0.1)\">\n       <defs>\n        <path d=\"M 19.1875 8.296875 \nL 53.609375 8.296875 \nL 53.609375 0 \nL 7.328125 0 \nL 7.328125 8.296875 \nQ 12.9375 14.109375 22.625 23.890625 \nQ 32.328125 33.6875 34.8125 36.53125 \nQ 39.546875 41.84375 41.421875 45.53125 \nQ 43.3125 49.21875 43.3125 52.78125 \nQ 43.3125 58.59375 39.234375 62.25 \nQ 35.15625 65.921875 28.609375 65.921875 \nQ 23.96875 65.921875 18.8125 64.3125 \nQ 13.671875 62.703125 7.8125 59.421875 \nL 7.8125 69.390625 \nQ 13.765625 71.78125 18.9375 73 \nQ 24.125 74.21875 28.421875 74.21875 \nQ 39.75 74.21875 46.484375 68.546875 \nQ 53.21875 62.890625 53.21875 53.421875 \nQ 53.21875 48.921875 51.53125 44.890625 \nQ 49.859375 40.875 45.40625 35.40625 \nQ 44.1875 33.984375 37.640625 27.21875 \nQ 31.109375 20.453125 19.1875 8.296875 \nz\n\" id=\"DejaVuSans-50\"/>\n        <path d=\"M 31.78125 66.40625 \nQ 24.171875 66.40625 20.328125 58.90625 \nQ 16.5 51.421875 16.5 36.375 \nQ 16.5 21.390625 20.328125 13.890625 \nQ 24.171875 6.390625 31.78125 6.390625 \nQ 39.453125 6.390625 43.28125 13.890625 \nQ 47.125 21.390625 47.125 36.375 \nQ 47.125 51.421875 43.28125 58.90625 \nQ 39.453125 66.40625 31.78125 66.40625 \nz\nM 31.78125 74.21875 \nQ 44.046875 74.21875 50.515625 64.515625 \nQ 56.984375 54.828125 56.984375 36.375 \nQ 56.984375 17.96875 50.515625 8.265625 \nQ 44.046875 -1.421875 31.78125 -1.421875 \nQ 19.53125 -1.421875 13.0625 8.265625 \nQ 6.59375 17.96875 6.59375 36.375 \nQ 6.59375 54.828125 13.0625 64.515625 \nQ 19.53125 74.21875 31.78125 74.21875 \nz\n\" id=\"DejaVuSans-48\"/>\n       </defs>\n       <use xlink:href=\"#DejaVuSans-50\"/>\n       <use x=\"63.623047\" xlink:href=\"#DejaVuSans-48\"/>\n       <use x=\"127.246094\" xlink:href=\"#DejaVuSans-48\"/>\n       <use x=\"190.869141\" xlink:href=\"#DejaVuSans-48\"/>\n      </g>\n     </g>\n    </g>\n    <g id=\"xtick_2\">\n     <g id=\"line2d_3\">\n      <path clip-path=\"url(#p20216fa0b0)\" d=\"M 123.344842 224.64 \nL 123.344842 7.2 \n\" style=\"fill:none;stroke:#b0b0b0;stroke-linecap:square;stroke-width:0.8;\"/>\n     </g>\n     <g id=\"line2d_4\">\n      <g>\n       <use style=\"stroke:#000000;stroke-width:0.8;\" x=\"123.344842\" xlink:href=\"#m7295a07ffc\" y=\"224.64\"/>\n      </g>\n     </g>\n     <g id=\"text_2\">\n      <!-- 2004 -->\n      <g transform=\"translate(110.619842 239.238437)scale(0.1 -0.1)\">\n       <defs>\n        <path d=\"M 37.796875 64.3125 \nL 12.890625 25.390625 \nL 37.796875 25.390625 \nz\nM 35.203125 72.90625 \nL 47.609375 72.90625 \nL 47.609375 25.390625 \nL 58.015625 25.390625 \nL 58.015625 17.1875 \nL 47.609375 17.1875 \nL 47.609375 0 \nL 37.796875 0 \nL 37.796875 17.1875 \nL 4.890625 17.1875 \nL 4.890625 26.703125 \nz\n\" id=\"DejaVuSans-52\"/>\n       </defs>\n       <use xlink:href=\"#DejaVuSans-50\"/>\n       <use x=\"63.623047\" xlink:href=\"#DejaVuSans-48\"/>\n       <use x=\"127.246094\" xlink:href=\"#DejaVuSans-48\"/>\n       <use x=\"190.869141\" xlink:href=\"#DejaVuSans-52\"/>\n      </g>\n     </g>\n    </g>\n    <g id=\"xtick_3\">\n     <g id=\"line2d_5\">\n      <path clip-path=\"url(#p20216fa0b0)\" d=\"M 185.459002 224.64 \nL 185.459002 7.2 \n\" style=\"fill:none;stroke:#b0b0b0;stroke-linecap:square;stroke-width:0.8;\"/>\n     </g>\n     <g id=\"line2d_6\">\n      <g>\n       <use style=\"stroke:#000000;stroke-width:0.8;\" x=\"185.459002\" xlink:href=\"#m7295a07ffc\" y=\"224.64\"/>\n      </g>\n     </g>\n     <g id=\"text_3\">\n      <!-- 2008 -->\n      <g transform=\"translate(172.734002 239.238437)scale(0.1 -0.1)\">\n       <defs>\n        <path d=\"M 31.78125 34.625 \nQ 24.75 34.625 20.71875 30.859375 \nQ 16.703125 27.09375 16.703125 20.515625 \nQ 16.703125 13.921875 20.71875 10.15625 \nQ 24.75 6.390625 31.78125 6.390625 \nQ 38.8125 6.390625 42.859375 10.171875 \nQ 46.921875 13.96875 46.921875 20.515625 \nQ 46.921875 27.09375 42.890625 30.859375 \nQ 38.875 34.625 31.78125 34.625 \nz\nM 21.921875 38.8125 \nQ 15.578125 40.375 12.03125 44.71875 \nQ 8.5 49.078125 8.5 55.328125 \nQ 8.5 64.0625 14.71875 69.140625 \nQ 20.953125 74.21875 31.78125 74.21875 \nQ 42.671875 74.21875 48.875 69.140625 \nQ 55.078125 64.0625 55.078125 55.328125 \nQ 55.078125 49.078125 51.53125 44.71875 \nQ 48 40.375 41.703125 38.8125 \nQ 48.828125 37.15625 52.796875 32.3125 \nQ 56.78125 27.484375 56.78125 20.515625 \nQ 56.78125 9.90625 50.3125 4.234375 \nQ 43.84375 -1.421875 31.78125 -1.421875 \nQ 19.734375 -1.421875 13.25 4.234375 \nQ 6.78125 9.90625 6.78125 20.515625 \nQ 6.78125 27.484375 10.78125 32.3125 \nQ 14.796875 37.15625 21.921875 38.8125 \nz\nM 18.3125 54.390625 \nQ 18.3125 48.734375 21.84375 45.5625 \nQ 25.390625 42.390625 31.78125 42.390625 \nQ 38.140625 42.390625 41.71875 45.5625 \nQ 45.3125 48.734375 45.3125 54.390625 \nQ 45.3125 60.0625 41.71875 63.234375 \nQ 38.140625 66.40625 31.78125 66.40625 \nQ 25.390625 66.40625 21.84375 63.234375 \nQ 18.3125 60.0625 18.3125 54.390625 \nz\n\" id=\"DejaVuSans-56\"/>\n       </defs>\n       <use xlink:href=\"#DejaVuSans-50\"/>\n       <use x=\"63.623047\" xlink:href=\"#DejaVuSans-48\"/>\n       <use x=\"127.246094\" xlink:href=\"#DejaVuSans-48\"/>\n       <use x=\"190.869141\" xlink:href=\"#DejaVuSans-56\"/>\n      </g>\n     </g>\n    </g>\n    <g id=\"xtick_4\">\n     <g id=\"line2d_7\">\n      <path clip-path=\"url(#p20216fa0b0)\" d=\"M 247.573162 224.64 \nL 247.573162 7.2 \n\" style=\"fill:none;stroke:#b0b0b0;stroke-linecap:square;stroke-width:0.8;\"/>\n     </g>\n     <g id=\"line2d_8\">\n      <g>\n       <use style=\"stroke:#000000;stroke-width:0.8;\" x=\"247.573162\" xlink:href=\"#m7295a07ffc\" y=\"224.64\"/>\n      </g>\n     </g>\n     <g id=\"text_4\">\n      <!-- 2012 -->\n      <g transform=\"translate(234.848162 239.238437)scale(0.1 -0.1)\">\n       <defs>\n        <path d=\"M 12.40625 8.296875 \nL 28.515625 8.296875 \nL 28.515625 63.921875 \nL 10.984375 60.40625 \nL 10.984375 69.390625 \nL 28.421875 72.90625 \nL 38.28125 72.90625 \nL 38.28125 8.296875 \nL 54.390625 8.296875 \nL 54.390625 0 \nL 12.40625 0 \nz\n\" id=\"DejaVuSans-49\"/>\n       </defs>\n       <use xlink:href=\"#DejaVuSans-50\"/>\n       <use x=\"63.623047\" xlink:href=\"#DejaVuSans-48\"/>\n       <use x=\"127.246094\" xlink:href=\"#DejaVuSans-49\"/>\n       <use x=\"190.869141\" xlink:href=\"#DejaVuSans-50\"/>\n      </g>\n     </g>\n    </g>\n    <g id=\"xtick_5\">\n     <g id=\"line2d_9\">\n      <path clip-path=\"url(#p20216fa0b0)\" d=\"M 309.687323 224.64 \nL 309.687323 7.2 \n\" style=\"fill:none;stroke:#b0b0b0;stroke-linecap:square;stroke-width:0.8;\"/>\n     </g>\n     <g id=\"line2d_10\">\n      <g>\n       <use style=\"stroke:#000000;stroke-width:0.8;\" x=\"309.687323\" xlink:href=\"#m7295a07ffc\" y=\"224.64\"/>\n      </g>\n     </g>\n     <g id=\"text_5\">\n      <!-- 2016 -->\n      <g transform=\"translate(296.962323 239.238437)scale(0.1 -0.1)\">\n       <defs>\n        <path d=\"M 33.015625 40.375 \nQ 26.375 40.375 22.484375 35.828125 \nQ 18.609375 31.296875 18.609375 23.390625 \nQ 18.609375 15.53125 22.484375 10.953125 \nQ 26.375 6.390625 33.015625 6.390625 \nQ 39.65625 6.390625 43.53125 10.953125 \nQ 47.40625 15.53125 47.40625 23.390625 \nQ 47.40625 31.296875 43.53125 35.828125 \nQ 39.65625 40.375 33.015625 40.375 \nz\nM 52.59375 71.296875 \nL 52.59375 62.3125 \nQ 48.875 64.0625 45.09375 64.984375 \nQ 41.3125 65.921875 37.59375 65.921875 \nQ 27.828125 65.921875 22.671875 59.328125 \nQ 17.53125 52.734375 16.796875 39.40625 \nQ 19.671875 43.65625 24.015625 45.921875 \nQ 28.375 48.1875 33.59375 48.1875 \nQ 44.578125 48.1875 50.953125 41.515625 \nQ 57.328125 34.859375 57.328125 23.390625 \nQ 57.328125 12.15625 50.6875 5.359375 \nQ 44.046875 -1.421875 33.015625 -1.421875 \nQ 20.359375 -1.421875 13.671875 8.265625 \nQ 6.984375 17.96875 6.984375 36.375 \nQ 6.984375 53.65625 15.1875 63.9375 \nQ 23.390625 74.21875 37.203125 74.21875 \nQ 40.921875 74.21875 44.703125 73.484375 \nQ 48.484375 72.75 52.59375 71.296875 \nz\n\" id=\"DejaVuSans-54\"/>\n       </defs>\n       <use xlink:href=\"#DejaVuSans-50\"/>\n       <use x=\"63.623047\" xlink:href=\"#DejaVuSans-48\"/>\n       <use x=\"127.246094\" xlink:href=\"#DejaVuSans-49\"/>\n       <use x=\"190.869141\" xlink:href=\"#DejaVuSans-54\"/>\n      </g>\n     </g>\n    </g>\n    <g id=\"xtick_6\">\n     <g id=\"line2d_11\">\n      <path clip-path=\"url(#p20216fa0b0)\" d=\"M 371.801483 224.64 \nL 371.801483 7.2 \n\" style=\"fill:none;stroke:#b0b0b0;stroke-linecap:square;stroke-width:0.8;\"/>\n     </g>\n     <g id=\"line2d_12\">\n      <g>\n       <use style=\"stroke:#000000;stroke-width:0.8;\" x=\"371.801483\" xlink:href=\"#m7295a07ffc\" y=\"224.64\"/>\n      </g>\n     </g>\n     <g id=\"text_6\">\n      <!-- 2020 -->\n      <g transform=\"translate(359.076483 239.238437)scale(0.1 -0.1)\">\n       <use xlink:href=\"#DejaVuSans-50\"/>\n       <use x=\"63.623047\" xlink:href=\"#DejaVuSans-48\"/>\n       <use x=\"127.246094\" xlink:href=\"#DejaVuSans-50\"/>\n       <use x=\"190.869141\" xlink:href=\"#DejaVuSans-48\"/>\n      </g>\n     </g>\n    </g>\n   </g>\n   <g id=\"matplotlib.axis_2\">\n    <g id=\"ytick_1\">\n     <g id=\"line2d_13\">\n      <path clip-path=\"url(#p20216fa0b0)\" d=\"M 46.0125 224.64 \nL 380.8125 224.64 \n\" style=\"fill:none;stroke:#b0b0b0;stroke-linecap:square;stroke-width:0.8;\"/>\n     </g>\n     <g id=\"line2d_14\">\n      <defs>\n       <path d=\"M 0 0 \nL -3.5 0 \n\" id=\"mf18ada56b9\" style=\"stroke:#000000;stroke-width:0.8;\"/>\n      </defs>\n      <g>\n       <use style=\"stroke:#000000;stroke-width:0.8;\" x=\"46.0125\" xlink:href=\"#mf18ada56b9\" y=\"224.64\"/>\n      </g>\n     </g>\n     <g id=\"text_7\">\n      <!-- 0 -->\n      <g transform=\"translate(32.65 228.439219)scale(0.1 -0.1)\">\n       <use xlink:href=\"#DejaVuSans-48\"/>\n      </g>\n     </g>\n    </g>\n    <g id=\"ytick_2\">\n     <g id=\"line2d_15\">\n      <path clip-path=\"url(#p20216fa0b0)\" d=\"M 46.0125 198.580337 \nL 380.8125 198.580337 \n\" style=\"fill:none;stroke:#b0b0b0;stroke-linecap:square;stroke-width:0.8;\"/>\n     </g>\n     <g id=\"line2d_16\">\n      <g>\n       <use style=\"stroke:#000000;stroke-width:0.8;\" x=\"46.0125\" xlink:href=\"#mf18ada56b9\" y=\"198.580337\"/>\n      </g>\n     </g>\n     <g id=\"text_8\">\n      <!-- 5000 -->\n      <g transform=\"translate(13.5625 202.379556)scale(0.1 -0.1)\">\n       <defs>\n        <path d=\"M 10.796875 72.90625 \nL 49.515625 72.90625 \nL 49.515625 64.59375 \nL 19.828125 64.59375 \nL 19.828125 46.734375 \nQ 21.96875 47.46875 24.109375 47.828125 \nQ 26.265625 48.1875 28.421875 48.1875 \nQ 40.625 48.1875 47.75 41.5 \nQ 54.890625 34.8125 54.890625 23.390625 \nQ 54.890625 11.625 47.5625 5.09375 \nQ 40.234375 -1.421875 26.90625 -1.421875 \nQ 22.3125 -1.421875 17.546875 -0.640625 \nQ 12.796875 0.140625 7.71875 1.703125 \nL 7.71875 11.625 \nQ 12.109375 9.234375 16.796875 8.0625 \nQ 21.484375 6.890625 26.703125 6.890625 \nQ 35.15625 6.890625 40.078125 11.328125 \nQ 45.015625 15.765625 45.015625 23.390625 \nQ 45.015625 31 40.078125 35.4375 \nQ 35.15625 39.890625 26.703125 39.890625 \nQ 22.75 39.890625 18.8125 39.015625 \nQ 14.890625 38.140625 10.796875 36.28125 \nz\n\" id=\"DejaVuSans-53\"/>\n       </defs>\n       <use xlink:href=\"#DejaVuSans-53\"/>\n       <use x=\"63.623047\" xlink:href=\"#DejaVuSans-48\"/>\n       <use x=\"127.246094\" xlink:href=\"#DejaVuSans-48\"/>\n       <use x=\"190.869141\" xlink:href=\"#DejaVuSans-48\"/>\n      </g>\n     </g>\n    </g>\n    <g id=\"ytick_3\">\n     <g id=\"line2d_17\">\n      <path clip-path=\"url(#p20216fa0b0)\" d=\"M 46.0125 172.520675 \nL 380.8125 172.520675 \n\" style=\"fill:none;stroke:#b0b0b0;stroke-linecap:square;stroke-width:0.8;\"/>\n     </g>\n     <g id=\"line2d_18\">\n      <g>\n       <use style=\"stroke:#000000;stroke-width:0.8;\" x=\"46.0125\" xlink:href=\"#mf18ada56b9\" y=\"172.520675\"/>\n      </g>\n     </g>\n     <g id=\"text_9\">\n      <!-- 10000 -->\n      <g transform=\"translate(7.2 176.319894)scale(0.1 -0.1)\">\n       <use xlink:href=\"#DejaVuSans-49\"/>\n       <use x=\"63.623047\" xlink:href=\"#DejaVuSans-48\"/>\n       <use x=\"127.246094\" xlink:href=\"#DejaVuSans-48\"/>\n       <use x=\"190.869141\" xlink:href=\"#DejaVuSans-48\"/>\n       <use x=\"254.492188\" xlink:href=\"#DejaVuSans-48\"/>\n      </g>\n     </g>\n    </g>\n    <g id=\"ytick_4\">\n     <g id=\"line2d_19\">\n      <path clip-path=\"url(#p20216fa0b0)\" d=\"M 46.0125 146.461012 \nL 380.8125 146.461012 \n\" style=\"fill:none;stroke:#b0b0b0;stroke-linecap:square;stroke-width:0.8;\"/>\n     </g>\n     <g id=\"line2d_20\">\n      <g>\n       <use style=\"stroke:#000000;stroke-width:0.8;\" x=\"46.0125\" xlink:href=\"#mf18ada56b9\" y=\"146.461012\"/>\n      </g>\n     </g>\n     <g id=\"text_10\">\n      <!-- 15000 -->\n      <g transform=\"translate(7.2 150.260231)scale(0.1 -0.1)\">\n       <use xlink:href=\"#DejaVuSans-49\"/>\n       <use x=\"63.623047\" xlink:href=\"#DejaVuSans-53\"/>\n       <use x=\"127.246094\" xlink:href=\"#DejaVuSans-48\"/>\n       <use x=\"190.869141\" xlink:href=\"#DejaVuSans-48\"/>\n       <use x=\"254.492188\" xlink:href=\"#DejaVuSans-48\"/>\n      </g>\n     </g>\n    </g>\n    <g id=\"ytick_5\">\n     <g id=\"line2d_21\">\n      <path clip-path=\"url(#p20216fa0b0)\" d=\"M 46.0125 120.40135 \nL 380.8125 120.40135 \n\" style=\"fill:none;stroke:#b0b0b0;stroke-linecap:square;stroke-width:0.8;\"/>\n     </g>\n     <g id=\"line2d_22\">\n      <g>\n       <use style=\"stroke:#000000;stroke-width:0.8;\" x=\"46.0125\" xlink:href=\"#mf18ada56b9\" y=\"120.40135\"/>\n      </g>\n     </g>\n     <g id=\"text_11\">\n      <!-- 20000 -->\n      <g transform=\"translate(7.2 124.200569)scale(0.1 -0.1)\">\n       <use xlink:href=\"#DejaVuSans-50\"/>\n       <use x=\"63.623047\" xlink:href=\"#DejaVuSans-48\"/>\n       <use x=\"127.246094\" xlink:href=\"#DejaVuSans-48\"/>\n       <use x=\"190.869141\" xlink:href=\"#DejaVuSans-48\"/>\n       <use x=\"254.492188\" xlink:href=\"#DejaVuSans-48\"/>\n      </g>\n     </g>\n    </g>\n    <g id=\"ytick_6\">\n     <g id=\"line2d_23\">\n      <path clip-path=\"url(#p20216fa0b0)\" d=\"M 46.0125 94.341687 \nL 380.8125 94.341687 \n\" style=\"fill:none;stroke:#b0b0b0;stroke-linecap:square;stroke-width:0.8;\"/>\n     </g>\n     <g id=\"line2d_24\">\n      <g>\n       <use style=\"stroke:#000000;stroke-width:0.8;\" x=\"46.0125\" xlink:href=\"#mf18ada56b9\" y=\"94.341687\"/>\n      </g>\n     </g>\n     <g id=\"text_12\">\n      <!-- 25000 -->\n      <g transform=\"translate(7.2 98.140906)scale(0.1 -0.1)\">\n       <use xlink:href=\"#DejaVuSans-50\"/>\n       <use x=\"63.623047\" xlink:href=\"#DejaVuSans-53\"/>\n       <use x=\"127.246094\" xlink:href=\"#DejaVuSans-48\"/>\n       <use x=\"190.869141\" xlink:href=\"#DejaVuSans-48\"/>\n       <use x=\"254.492188\" xlink:href=\"#DejaVuSans-48\"/>\n      </g>\n     </g>\n    </g>\n    <g id=\"ytick_7\">\n     <g id=\"line2d_25\">\n      <path clip-path=\"url(#p20216fa0b0)\" d=\"M 46.0125 68.282025 \nL 380.8125 68.282025 \n\" style=\"fill:none;stroke:#b0b0b0;stroke-linecap:square;stroke-width:0.8;\"/>\n     </g>\n     <g id=\"line2d_26\">\n      <g>\n       <use style=\"stroke:#000000;stroke-width:0.8;\" x=\"46.0125\" xlink:href=\"#mf18ada56b9\" y=\"68.282025\"/>\n      </g>\n     </g>\n     <g id=\"text_13\">\n      <!-- 30000 -->\n      <g transform=\"translate(7.2 72.081244)scale(0.1 -0.1)\">\n       <defs>\n        <path d=\"M 40.578125 39.3125 \nQ 47.65625 37.796875 51.625 33 \nQ 55.609375 28.21875 55.609375 21.1875 \nQ 55.609375 10.40625 48.1875 4.484375 \nQ 40.765625 -1.421875 27.09375 -1.421875 \nQ 22.515625 -1.421875 17.65625 -0.515625 \nQ 12.796875 0.390625 7.625 2.203125 \nL 7.625 11.71875 \nQ 11.71875 9.328125 16.59375 8.109375 \nQ 21.484375 6.890625 26.8125 6.890625 \nQ 36.078125 6.890625 40.9375 10.546875 \nQ 45.796875 14.203125 45.796875 21.1875 \nQ 45.796875 27.640625 41.28125 31.265625 \nQ 36.765625 34.90625 28.71875 34.90625 \nL 20.21875 34.90625 \nL 20.21875 43.015625 \nL 29.109375 43.015625 \nQ 36.375 43.015625 40.234375 45.921875 \nQ 44.09375 48.828125 44.09375 54.296875 \nQ 44.09375 59.90625 40.109375 62.90625 \nQ 36.140625 65.921875 28.71875 65.921875 \nQ 24.65625 65.921875 20.015625 65.03125 \nQ 15.375 64.15625 9.8125 62.3125 \nL 9.8125 71.09375 \nQ 15.4375 72.65625 20.34375 73.4375 \nQ 25.25 74.21875 29.59375 74.21875 \nQ 40.828125 74.21875 47.359375 69.109375 \nQ 53.90625 64.015625 53.90625 55.328125 \nQ 53.90625 49.265625 50.4375 45.09375 \nQ 46.96875 40.921875 40.578125 39.3125 \nz\n\" id=\"DejaVuSans-51\"/>\n       </defs>\n       <use xlink:href=\"#DejaVuSans-51\"/>\n       <use x=\"63.623047\" xlink:href=\"#DejaVuSans-48\"/>\n       <use x=\"127.246094\" xlink:href=\"#DejaVuSans-48\"/>\n       <use x=\"190.869141\" xlink:href=\"#DejaVuSans-48\"/>\n       <use x=\"254.492188\" xlink:href=\"#DejaVuSans-48\"/>\n      </g>\n     </g>\n    </g>\n    <g id=\"ytick_8\">\n     <g id=\"line2d_27\">\n      <path clip-path=\"url(#p20216fa0b0)\" d=\"M 46.0125 42.222362 \nL 380.8125 42.222362 \n\" style=\"fill:none;stroke:#b0b0b0;stroke-linecap:square;stroke-width:0.8;\"/>\n     </g>\n     <g id=\"line2d_28\">\n      <g>\n       <use style=\"stroke:#000000;stroke-width:0.8;\" x=\"46.0125\" xlink:href=\"#mf18ada56b9\" y=\"42.222362\"/>\n      </g>\n     </g>\n     <g id=\"text_14\">\n      <!-- 35000 -->\n      <g transform=\"translate(7.2 46.021581)scale(0.1 -0.1)\">\n       <use xlink:href=\"#DejaVuSans-51\"/>\n       <use x=\"63.623047\" xlink:href=\"#DejaVuSans-53\"/>\n       <use x=\"127.246094\" xlink:href=\"#DejaVuSans-48\"/>\n       <use x=\"190.869141\" xlink:href=\"#DejaVuSans-48\"/>\n       <use x=\"254.492188\" xlink:href=\"#DejaVuSans-48\"/>\n      </g>\n     </g>\n    </g>\n    <g id=\"ytick_9\">\n     <g id=\"line2d_29\">\n      <path clip-path=\"url(#p20216fa0b0)\" d=\"M 46.0125 16.1627 \nL 380.8125 16.1627 \n\" style=\"fill:none;stroke:#b0b0b0;stroke-linecap:square;stroke-width:0.8;\"/>\n     </g>\n     <g id=\"line2d_30\">\n      <g>\n       <use style=\"stroke:#000000;stroke-width:0.8;\" x=\"46.0125\" xlink:href=\"#mf18ada56b9\" y=\"16.1627\"/>\n      </g>\n     </g>\n     <g id=\"text_15\">\n      <!-- 40000 -->\n      <g transform=\"translate(7.2 19.961918)scale(0.1 -0.1)\">\n       <use xlink:href=\"#DejaVuSans-52\"/>\n       <use x=\"63.623047\" xlink:href=\"#DejaVuSans-48\"/>\n       <use x=\"127.246094\" xlink:href=\"#DejaVuSans-48\"/>\n       <use x=\"190.869141\" xlink:href=\"#DejaVuSans-48\"/>\n       <use x=\"254.492188\" xlink:href=\"#DejaVuSans-48\"/>\n      </g>\n     </g>\n    </g>\n   </g>\n   <g id=\"patch_13\">\n    <path d=\"M 46.0125 224.64 \nL 46.0125 7.2 \n\" style=\"fill:none;stroke:#000000;stroke-linecap:square;stroke-linejoin:miter;stroke-width:0.8;\"/>\n   </g>\n   <g id=\"patch_14\">\n    <path d=\"M 380.8125 224.64 \nL 380.8125 7.2 \n\" style=\"fill:none;stroke:#000000;stroke-linecap:square;stroke-linejoin:miter;stroke-width:0.8;\"/>\n   </g>\n   <g id=\"patch_15\">\n    <path d=\"M 46.0125 224.64 \nL 380.8125 224.64 \n\" style=\"fill:none;stroke:#000000;stroke-linecap:square;stroke-linejoin:miter;stroke-width:0.8;\"/>\n   </g>\n   <g id=\"patch_16\">\n    <path d=\"M 46.0125 7.2 \nL 380.8125 7.2 \n\" style=\"fill:none;stroke:#000000;stroke-linecap:square;stroke-linejoin:miter;stroke-width:0.8;\"/>\n   </g>\n  </g>\n </g>\n <defs>\n  <clipPath id=\"p20216fa0b0\">\n   <rect height=\"217.44\" width=\"334.8\" x=\"46.0125\" y=\"7.2\"/>\n  </clipPath>\n </defs>\n</svg>\n"
     },
     "metadata": {
      "needs_background": "light"
     }
    }
   ],
   "metadata": {}
  },
  {
   "cell_type": "code",
   "execution_count": 55,
   "source": [
    "result = solar.expect_column_values_to_be_between(field_map[\"date\"], \n",
    "                                                    solar[field_map[\"date\"]].min(), \n",
    "                                                    pd.Timestamp.now(),\n",
    "                                                    parse_strings_as_datetimes=True)\n",
    "print(result)\n",
    "assert result.success"
   ],
   "outputs": [
    {
     "output_type": "stream",
     "name": "stdout",
     "text": [
      "{\n",
      "  \"result\": {\n",
      "    \"element_count\": 90141,\n",
      "    \"missing_count\": 101,\n",
      "    \"missing_percent\": 0.11204668241976459,\n",
      "    \"unexpected_count\": 0,\n",
      "    \"unexpected_percent\": 0.0,\n",
      "    \"unexpected_percent_total\": 0.0,\n",
      "    \"unexpected_percent_nonmissing\": 0.0,\n",
      "    \"partial_unexpected_list\": []\n",
      "  },\n",
      "  \"exception_info\": {\n",
      "    \"raised_exception\": false,\n",
      "    \"exception_traceback\": null,\n",
      "    \"exception_message\": null\n",
      "  },\n",
      "  \"expectation_config\": {\n",
      "    \"meta\": {},\n",
      "    \"kwargs\": {\n",
      "      \"column\": \"Date In Service\",\n",
      "      \"min_value\": \"2000-01-01 00:00:00\",\n",
      "      \"max_value\": \"2021-07-19 22:52:04.478823\",\n",
      "      \"parse_strings_as_datetimes\": true,\n",
      "      \"result_format\": \"BASIC\"\n",
      "    },\n",
      "    \"expectation_type\": \"expect_column_values_to_be_between\"\n",
      "  },\n",
      "  \"meta\": {},\n",
      "  \"success\": true\n",
      "}\n"
     ]
    }
   ],
   "metadata": {}
  },
  {
   "cell_type": "code",
   "execution_count": 56,
   "source": [
    "solar.save_expectation_suite(\"../data/expectations/solar_raw_expectations.json\")"
   ],
   "outputs": [],
   "metadata": {}
  },
  {
   "cell_type": "code",
   "execution_count": 57,
   "source": [
    "validation_results = solar.validate(expectation_suite=\"../data/expectations/solar_raw_expectations.json\", catch_exceptions=False)"
   ],
   "outputs": [],
   "metadata": {}
  },
  {
   "cell_type": "markdown",
   "source": [
    "### Clean data expectations"
   ],
   "metadata": {}
  },
  {
   "cell_type": "code",
   "execution_count": 58,
   "source": [
    "solar_cleaned = ge.from_pandas(rp.clean_data_load(\"Solar Panels\"))"
   ],
   "outputs": [],
   "metadata": {}
  },
  {
   "cell_type": "code",
   "execution_count": 59,
   "source": [
    "solar_cleaned.shape[0] / solar.shape[0]"
   ],
   "outputs": [
    {
     "output_type": "execute_result",
     "data": {
      "text/plain": [
       "0.9246735669673067"
      ]
     },
     "metadata": {},
     "execution_count": 59
    }
   ],
   "metadata": {}
  },
  {
   "cell_type": "code",
   "execution_count": 60,
   "source": [
    "# Check that we have dropped no more than 7% of data\n",
    "result = solar_cleaned.expect_table_row_count_to_be_between(int(0.91*solar.shape[0]), solar.shape[0])  \n",
    "print(result)\n",
    "assert result.success"
   ],
   "outputs": [
    {
     "output_type": "stream",
     "name": "stdout",
     "text": [
      "{\n",
      "  \"result\": {\n",
      "    \"observed_value\": 83351\n",
      "  },\n",
      "  \"exception_info\": {\n",
      "    \"raised_exception\": false,\n",
      "    \"exception_traceback\": null,\n",
      "    \"exception_message\": null\n",
      "  },\n",
      "  \"expectation_config\": {\n",
      "    \"meta\": {},\n",
      "    \"kwargs\": {\n",
      "      \"min_value\": 82028,\n",
      "      \"max_value\": 90141,\n",
      "      \"result_format\": \"BASIC\"\n",
      "    },\n",
      "    \"expectation_type\": \"expect_table_row_count_to_be_between\"\n",
      "  },\n",
      "  \"meta\": {},\n",
      "  \"success\": true\n",
      "}\n"
     ]
    }
   ],
   "metadata": {}
  },
  {
   "cell_type": "code",
   "execution_count": 61,
   "source": [
    "result = solar_cleaned.expect_column_to_exist(\"town_valid\")\n",
    "print(result)\n",
    "assert result.success"
   ],
   "outputs": [
    {
     "output_type": "stream",
     "name": "stdout",
     "text": [
      "{\n",
      "  \"result\": {},\n",
      "  \"exception_info\": {\n",
      "    \"raised_exception\": false,\n",
      "    \"exception_traceback\": null,\n",
      "    \"exception_message\": null\n",
      "  },\n",
      "  \"expectation_config\": {\n",
      "    \"meta\": {},\n",
      "    \"kwargs\": {\n",
      "      \"column\": \"town_valid\",\n",
      "      \"result_format\": \"BASIC\"\n",
      "    },\n",
      "    \"expectation_type\": \"expect_column_to_exist\"\n",
      "  },\n",
      "  \"meta\": {},\n",
      "  \"success\": true\n",
      "}\n"
     ]
    }
   ],
   "metadata": {}
  },
  {
   "cell_type": "code",
   "execution_count": 62,
   "source": [
    "result = solar_cleaned.expect_column_to_exist(\"cost\")\n",
    "print(result)\n",
    "assert result.success"
   ],
   "outputs": [
    {
     "output_type": "stream",
     "name": "stdout",
     "text": [
      "{\n",
      "  \"result\": {},\n",
      "  \"exception_info\": {\n",
      "    \"raised_exception\": false,\n",
      "    \"exception_traceback\": null,\n",
      "    \"exception_message\": null\n",
      "  },\n",
      "  \"expectation_config\": {\n",
      "    \"meta\": {},\n",
      "    \"kwargs\": {\n",
      "      \"column\": \"cost\",\n",
      "      \"result_format\": \"BASIC\"\n",
      "    },\n",
      "    \"expectation_type\": \"expect_column_to_exist\"\n",
      "  },\n",
      "  \"meta\": {},\n",
      "  \"success\": true\n",
      "}\n"
     ]
    }
   ],
   "metadata": {}
  },
  {
   "cell_type": "code",
   "execution_count": 63,
   "source": [
    "result = solar_cleaned.expect_column_to_exist(\"capacity\")\n",
    "print(result)\n",
    "assert result.success"
   ],
   "outputs": [
    {
     "output_type": "stream",
     "name": "stdout",
     "text": [
      "{\n",
      "  \"result\": {},\n",
      "  \"exception_info\": {\n",
      "    \"raised_exception\": false,\n",
      "    \"exception_traceback\": null,\n",
      "    \"exception_message\": null\n",
      "  },\n",
      "  \"expectation_config\": {\n",
      "    \"meta\": {},\n",
      "    \"kwargs\": {\n",
      "      \"column\": \"capacity\",\n",
      "      \"result_format\": \"BASIC\"\n",
      "    },\n",
      "    \"expectation_type\": \"expect_column_to_exist\"\n",
      "  },\n",
      "  \"meta\": {},\n",
      "  \"success\": true\n",
      "}\n"
     ]
    }
   ],
   "metadata": {}
  },
  {
   "cell_type": "code",
   "execution_count": 64,
   "source": [
    "result = solar_cleaned.expect_column_values_to_be_in_set(\"town_valid\", [True])\n",
    "print(result)\n",
    "assert result.success\n"
   ],
   "outputs": [
    {
     "output_type": "stream",
     "name": "stdout",
     "text": [
      "{\n",
      "  \"result\": {\n",
      "    \"element_count\": 83351,\n",
      "    \"missing_count\": 0,\n",
      "    \"missing_percent\": 0.0,\n",
      "    \"unexpected_count\": 0,\n",
      "    \"unexpected_percent\": 0.0,\n",
      "    \"unexpected_percent_total\": 0.0,\n",
      "    \"unexpected_percent_nonmissing\": 0.0,\n",
      "    \"partial_unexpected_list\": []\n",
      "  },\n",
      "  \"exception_info\": {\n",
      "    \"raised_exception\": false,\n",
      "    \"exception_traceback\": null,\n",
      "    \"exception_message\": null\n",
      "  },\n",
      "  \"expectation_config\": {\n",
      "    \"meta\": {},\n",
      "    \"kwargs\": {\n",
      "      \"column\": \"town_valid\",\n",
      "      \"value_set\": [\n",
      "        true\n",
      "      ],\n",
      "      \"result_format\": \"BASIC\"\n",
      "    },\n",
      "    \"expectation_type\": \"expect_column_values_to_be_in_set\"\n",
      "  },\n",
      "  \"meta\": {},\n",
      "  \"success\": true\n",
      "}\n"
     ]
    }
   ],
   "metadata": {}
  },
  {
   "cell_type": "code",
   "execution_count": 65,
   "source": [
    "result = solar_cleaned.expect_column_values_to_be_of_type(\"cost\", \"float\")\n",
    "print(result)\n",
    "assert result.success\n"
   ],
   "outputs": [
    {
     "output_type": "stream",
     "name": "stdout",
     "text": [
      "{\n",
      "  \"result\": {\n",
      "    \"observed_value\": \"float64\"\n",
      "  },\n",
      "  \"exception_info\": {\n",
      "    \"raised_exception\": false,\n",
      "    \"exception_traceback\": null,\n",
      "    \"exception_message\": null\n",
      "  },\n",
      "  \"expectation_config\": {\n",
      "    \"meta\": {},\n",
      "    \"kwargs\": {\n",
      "      \"column\": \"cost\",\n",
      "      \"type_\": \"float\",\n",
      "      \"result_format\": \"BASIC\"\n",
      "    },\n",
      "    \"expectation_type\": \"_expect_column_values_to_be_of_type__aggregate\"\n",
      "  },\n",
      "  \"meta\": {},\n",
      "  \"success\": true\n",
      "}\n"
     ]
    }
   ],
   "metadata": {}
  },
  {
   "cell_type": "code",
   "execution_count": 66,
   "source": [
    "result = solar_cleaned.expect_column_values_to_be_of_type(\"capacity\", \"float\")\n",
    "print(result)\n",
    "assert result.success\n"
   ],
   "outputs": [
    {
     "output_type": "stream",
     "name": "stdout",
     "text": [
      "{\n",
      "  \"result\": {\n",
      "    \"observed_value\": \"float64\"\n",
      "  },\n",
      "  \"exception_info\": {\n",
      "    \"raised_exception\": false,\n",
      "    \"exception_traceback\": null,\n",
      "    \"exception_message\": null\n",
      "  },\n",
      "  \"expectation_config\": {\n",
      "    \"meta\": {},\n",
      "    \"kwargs\": {\n",
      "      \"column\": \"capacity\",\n",
      "      \"type_\": \"float\",\n",
      "      \"result_format\": \"BASIC\"\n",
      "    },\n",
      "    \"expectation_type\": \"_expect_column_values_to_be_of_type__aggregate\"\n",
      "  },\n",
      "  \"meta\": {},\n",
      "  \"success\": true\n",
      "}\n"
     ]
    }
   ],
   "metadata": {}
  },
  {
   "cell_type": "code",
   "execution_count": 67,
   "source": [
    "solar_cleaned.save_expectation_suite(\"../data/expectations/solar_clean_expectations.json\")"
   ],
   "outputs": [],
   "metadata": {}
  },
  {
   "cell_type": "markdown",
   "source": [
    "## Electric Vehicles (EVs)"
   ],
   "metadata": {}
  },
  {
   "cell_type": "markdown",
   "source": [
    "### Raw data expectations"
   ],
   "metadata": {}
  },
  {
   "cell_type": "code",
   "execution_count": 68,
   "source": [
    "evs = ge.from_pandas(rp.load_evs())"
   ],
   "outputs": [],
   "metadata": {}
  },
  {
   "cell_type": "code",
   "execution_count": 69,
   "source": [
    "#Expect row count to increase in subsequent files\n",
    "result = evs.expect_table_row_count_to_be_between(18632, 30000)\n",
    "print(result)\n",
    "assert result.success"
   ],
   "outputs": [
    {
     "output_type": "stream",
     "name": "stdout",
     "text": [
      "{\n",
      "  \"result\": {\n",
      "    \"observed_value\": 18632\n",
      "  },\n",
      "  \"exception_info\": {\n",
      "    \"raised_exception\": false,\n",
      "    \"exception_traceback\": null,\n",
      "    \"exception_message\": null\n",
      "  },\n",
      "  \"expectation_config\": {\n",
      "    \"meta\": {},\n",
      "    \"kwargs\": {\n",
      "      \"min_value\": 18632,\n",
      "      \"max_value\": 30000,\n",
      "      \"result_format\": \"BASIC\"\n",
      "    },\n",
      "    \"expectation_type\": \"expect_table_row_count_to_be_between\"\n",
      "  },\n",
      "  \"meta\": {},\n",
      "  \"success\": true\n",
      "}\n"
     ]
    }
   ],
   "metadata": {}
  },
  {
   "cell_type": "code",
   "execution_count": 70,
   "source": [
    "field_map = rp.FIELDS['EVs']\n",
    "for key_col in field_map:\n",
    "    result = evs.expect_column_to_exist(field_map[key_col])\n",
    "    print(result)\n",
    "    assert result.success"
   ],
   "outputs": [
    {
     "output_type": "stream",
     "name": "stdout",
     "text": [
      "{\n",
      "  \"result\": {},\n",
      "  \"exception_info\": {\n",
      "    \"raised_exception\": false,\n",
      "    \"exception_traceback\": null,\n",
      "    \"exception_message\": null\n",
      "  },\n",
      "  \"expectation_config\": {\n",
      "    \"meta\": {},\n",
      "    \"kwargs\": {\n",
      "      \"column\": \"Total Amount\",\n",
      "      \"result_format\": \"BASIC\"\n",
      "    },\n",
      "    \"expectation_type\": \"expect_column_to_exist\"\n",
      "  },\n",
      "  \"meta\": {},\n",
      "  \"success\": true\n",
      "}\n",
      "{\n",
      "  \"result\": {},\n",
      "  \"exception_info\": {\n",
      "    \"raised_exception\": false,\n",
      "    \"exception_traceback\": null,\n",
      "    \"exception_message\": null\n",
      "  },\n",
      "  \"expectation_config\": {\n",
      "    \"meta\": {},\n",
      "    \"kwargs\": {\n",
      "      \"column\": \"Zip Code\",\n",
      "      \"result_format\": \"BASIC\"\n",
      "    },\n",
      "    \"expectation_type\": \"expect_column_to_exist\"\n",
      "  },\n",
      "  \"meta\": {},\n",
      "  \"success\": true\n",
      "}\n",
      "{\n",
      "  \"result\": {},\n",
      "  \"exception_info\": {\n",
      "    \"raised_exception\": false,\n",
      "    \"exception_traceback\": null,\n",
      "    \"exception_message\": null\n",
      "  },\n",
      "  \"expectation_config\": {\n",
      "    \"meta\": {},\n",
      "    \"kwargs\": {\n",
      "      \"column\": \"County\",\n",
      "      \"result_format\": \"BASIC\"\n",
      "    },\n",
      "    \"expectation_type\": \"expect_column_to_exist\"\n",
      "  },\n",
      "  \"meta\": {},\n",
      "  \"success\": true\n",
      "}\n",
      "{\n",
      "  \"result\": {},\n",
      "  \"exception_info\": {\n",
      "    \"raised_exception\": false,\n",
      "    \"exception_traceback\": null,\n",
      "    \"exception_message\": null\n",
      "  },\n",
      "  \"expectation_config\": {\n",
      "    \"meta\": {},\n",
      "    \"kwargs\": {\n",
      "      \"column\": \"Date of Purchase\",\n",
      "      \"result_format\": \"BASIC\"\n",
      "    },\n",
      "    \"expectation_type\": \"expect_column_to_exist\"\n",
      "  },\n",
      "  \"meta\": {},\n",
      "  \"success\": true\n",
      "}\n"
     ]
    }
   ],
   "metadata": {}
  },
  {
   "cell_type": "code",
   "execution_count": 71,
   "source": [
    "# Expect zipcode to be mostly numbers and mostly populated\n",
    "result = evs.expect_column_values_to_not_be_null(field_map['zip'])\n",
    "print(result)\n",
    "assert result.success"
   ],
   "outputs": [
    {
     "output_type": "stream",
     "name": "stdout",
     "text": [
      "{\n",
      "  \"result\": {\n",
      "    \"element_count\": 18632,\n",
      "    \"unexpected_count\": 0,\n",
      "    \"unexpected_percent\": 0.0,\n",
      "    \"unexpected_percent_total\": 0.0,\n",
      "    \"partial_unexpected_list\": []\n",
      "  },\n",
      "  \"exception_info\": {\n",
      "    \"raised_exception\": false,\n",
      "    \"exception_traceback\": null,\n",
      "    \"exception_message\": null\n",
      "  },\n",
      "  \"expectation_config\": {\n",
      "    \"meta\": {},\n",
      "    \"kwargs\": {\n",
      "      \"column\": \"Zip Code\",\n",
      "      \"result_format\": \"BASIC\"\n",
      "    },\n",
      "    \"expectation_type\": \"expect_column_values_to_not_be_null\"\n",
      "  },\n",
      "  \"meta\": {},\n",
      "  \"success\": true\n",
      "}\n"
     ]
    }
   ],
   "metadata": {}
  },
  {
   "cell_type": "code",
   "execution_count": 72,
   "source": [
    "result = evs.expect_column_values_to_be_in_type_list(field_map['zip'], ['int', 'float', 'str'])\n",
    "print(result)\n",
    "assert result.success"
   ],
   "outputs": [
    {
     "output_type": "stream",
     "name": "stdout",
     "text": [
      "{\n",
      "  \"result\": {\n",
      "    \"observed_value\": \"int64\"\n",
      "  },\n",
      "  \"exception_info\": {\n",
      "    \"raised_exception\": false,\n",
      "    \"exception_traceback\": null,\n",
      "    \"exception_message\": null\n",
      "  },\n",
      "  \"expectation_config\": {\n",
      "    \"meta\": {},\n",
      "    \"kwargs\": {\n",
      "      \"column\": \"Zip Code\",\n",
      "      \"type_list\": [\n",
      "        \"int\",\n",
      "        \"float\",\n",
      "        \"str\"\n",
      "      ],\n",
      "      \"result_format\": \"BASIC\"\n",
      "    },\n",
      "    \"expectation_type\": \"_expect_column_values_to_be_in_type_list__aggregate\"\n",
      "  },\n",
      "  \"meta\": {},\n",
      "  \"success\": true\n",
      "}\n"
     ]
    }
   ],
   "metadata": {}
  },
  {
   "cell_type": "code",
   "execution_count": 73,
   "source": [
    "result = evs.expect_column_values_to_match_regex(field_map['zip'], r\"^\\s*([0-9]{3,5})(?:[.]0)?(?:-([0-9]{4})|-)?\\s*$\")\n",
    "print(result)\n",
    "assert result.success"
   ],
   "outputs": [
    {
     "output_type": "stream",
     "name": "stdout",
     "text": [
      "{\n",
      "  \"result\": {\n",
      "    \"element_count\": 18632,\n",
      "    \"missing_count\": 0,\n",
      "    \"missing_percent\": 0.0,\n",
      "    \"unexpected_count\": 0,\n",
      "    \"unexpected_percent\": 0.0,\n",
      "    \"unexpected_percent_total\": 0.0,\n",
      "    \"unexpected_percent_nonmissing\": 0.0,\n",
      "    \"partial_unexpected_list\": []\n",
      "  },\n",
      "  \"exception_info\": {\n",
      "    \"raised_exception\": false,\n",
      "    \"exception_traceback\": null,\n",
      "    \"exception_message\": null\n",
      "  },\n",
      "  \"expectation_config\": {\n",
      "    \"meta\": {},\n",
      "    \"kwargs\": {\n",
      "      \"column\": \"Zip Code\",\n",
      "      \"regex\": \"^\\\\s*([0-9]{3,5})(?:[.]0)?(?:-([0-9]{4})|-)?\\\\s*$\",\n",
      "      \"result_format\": \"BASIC\"\n",
      "    },\n",
      "    \"expectation_type\": \"expect_column_values_to_match_regex\"\n",
      "  },\n",
      "  \"meta\": {},\n",
      "  \"success\": true\n",
      "}\n"
     ]
    }
   ],
   "metadata": {}
  },
  {
   "cell_type": "code",
   "execution_count": 74,
   "source": [
    "# Expect rebate to be mostly numbers\n",
    "result = evs.expect_column_values_to_be_in_type_list(field_map['rebate'], ['int', 'float'])\n",
    "print(result)\n",
    "assert result.success"
   ],
   "outputs": [
    {
     "output_type": "stream",
     "name": "stdout",
     "text": [
      "{\n",
      "  \"result\": {\n",
      "    \"observed_value\": \"int64\"\n",
      "  },\n",
      "  \"exception_info\": {\n",
      "    \"raised_exception\": false,\n",
      "    \"exception_traceback\": null,\n",
      "    \"exception_message\": null\n",
      "  },\n",
      "  \"expectation_config\": {\n",
      "    \"meta\": {},\n",
      "    \"kwargs\": {\n",
      "      \"column\": \"Total Amount\",\n",
      "      \"type_list\": [\n",
      "        \"int\",\n",
      "        \"float\"\n",
      "      ],\n",
      "      \"result_format\": \"BASIC\"\n",
      "    },\n",
      "    \"expectation_type\": \"_expect_column_values_to_be_in_type_list__aggregate\"\n",
      "  },\n",
      "  \"meta\": {},\n",
      "  \"success\": true\n",
      "}\n"
     ]
    }
   ],
   "metadata": {}
  },
  {
   "cell_type": "code",
   "execution_count": 75,
   "source": [
    "result = evs.expect_column_values_to_be_of_type(field_map[\"date\"], \"datetime64\")\n",
    "print(result)\n",
    "assert result.success"
   ],
   "outputs": [
    {
     "output_type": "stream",
     "name": "stdout",
     "text": [
      "{\n",
      "  \"result\": {\n",
      "    \"observed_value\": \"datetime64\"\n",
      "  },\n",
      "  \"exception_info\": {\n",
      "    \"raised_exception\": false,\n",
      "    \"exception_traceback\": null,\n",
      "    \"exception_message\": null\n",
      "  },\n",
      "  \"expectation_config\": {\n",
      "    \"meta\": {},\n",
      "    \"kwargs\": {\n",
      "      \"column\": \"Date of Purchase\",\n",
      "      \"type_\": \"datetime64\",\n",
      "      \"result_format\": \"BASIC\"\n",
      "    },\n",
      "    \"expectation_type\": \"_expect_column_values_to_be_of_type__aggregate\"\n",
      "  },\n",
      "  \"meta\": {},\n",
      "  \"success\": true\n",
      "}\n"
     ]
    }
   ],
   "metadata": {}
  },
  {
   "cell_type": "code",
   "execution_count": 76,
   "source": [
    "evs[field_map[\"date\"]].hist()\n",
    "\n",
    "result = evs.expect_column_values_to_be_between(field_map[\"date\"], \n",
    "                                                    evs[field_map[\"date\"]].min(), \n",
    "                                                    pd.Timestamp.now(),\n",
    "                                                    parse_strings_as_datetimes=True)\n",
    "print(result)\n",
    "assert result.success"
   ],
   "outputs": [
    {
     "output_type": "stream",
     "name": "stdout",
     "text": [
      "{\n",
      "  \"result\": {\n",
      "    \"element_count\": 18632,\n",
      "    \"missing_count\": 0,\n",
      "    \"missing_percent\": 0.0,\n",
      "    \"unexpected_count\": 0,\n",
      "    \"unexpected_percent\": 0.0,\n",
      "    \"unexpected_percent_total\": 0.0,\n",
      "    \"unexpected_percent_nonmissing\": 0.0,\n",
      "    \"partial_unexpected_list\": []\n",
      "  },\n",
      "  \"exception_info\": {\n",
      "    \"raised_exception\": false,\n",
      "    \"exception_traceback\": null,\n",
      "    \"exception_message\": null\n",
      "  },\n",
      "  \"expectation_config\": {\n",
      "    \"meta\": {},\n",
      "    \"kwargs\": {\n",
      "      \"column\": \"Date of Purchase\",\n",
      "      \"min_value\": \"2014-06-18 00:00:00\",\n",
      "      \"max_value\": \"2021-07-19 22:52:13.429729\",\n",
      "      \"parse_strings_as_datetimes\": true,\n",
      "      \"result_format\": \"BASIC\"\n",
      "    },\n",
      "    \"expectation_type\": \"expect_column_values_to_be_between\"\n",
      "  },\n",
      "  \"meta\": {},\n",
      "  \"success\": true\n",
      "}\n"
     ]
    },
    {
     "output_type": "display_data",
     "data": {
      "text/plain": [
       "<Figure size 432x288 with 1 Axes>"
      ],
      "image/png": "[encoded data removed]",
      "image/svg+xml": "<?xml version=\"1.0\" encoding=\"utf-8\" standalone=\"no\"?>\n<!DOCTYPE svg PUBLIC \"-//W3C//DTD SVG 1.1//EN\"\n  \"http://www.w3.org/Graphics/SVG/1.1/DTD/svg11.dtd\">\n<!-- Created with matplotlib (https://matplotlib.org/) -->\n<svg height=\"248.518125pt\" version=\"1.1\" viewBox=\"0 0 381.65 248.518125\" width=\"381.65pt\" xmlns=\"http://www.w3.org/2000/svg\" xmlns:xlink=\"http://www.w3.org/1999/xlink\">\n <metadata>\n  <rdf:RDF xmlns:cc=\"http://creativecommons.org/ns#\" xmlns:dc=\"http://purl.org/dc/elements/1.1/\" xmlns:rdf=\"http://www.w3.org/1999/02/22-rdf-syntax-ns#\">\n   <cc:Work>\n    <dc:type rdf:resource=\"http://purl.org/dc/dcmitype/StillImage\"/>\n    <dc:date>2021-07-19T22:52:13.785477</dc:date>\n    <dc:format>image/svg+xml</dc:format>\n    <dc:creator>\n     <cc:Agent>\n      <dc:title>Matplotlib v3.3.4, https://matplotlib.org/</dc:title>\n     </cc:Agent>\n    </dc:creator>\n   </cc:Work>\n  </rdf:RDF>\n </metadata>\n <defs>\n  <style type=\"text/css\">*{stroke-linecap:butt;stroke-linejoin:round;}</style>\n </defs>\n <g id=\"figure_1\">\n  <g id=\"patch_1\">\n   <path d=\"M -0 248.518125 \nL 381.65 248.518125 \nL 381.65 0 \nL -0 0 \nz\n\" style=\"fill:none;\"/>\n  </g>\n  <g id=\"axes_1\">\n   <g id=\"patch_2\">\n    <path d=\"M 39.65 224.64 \nL 374.45 224.64 \nL 374.45 7.2 \nL 39.65 7.2 \nz\n\" style=\"fill:#ffffff;\"/>\n   </g>\n   <g id=\"patch_3\">\n    <path clip-path=\"url(#pa6ea8c9c54)\" d=\"M 54.868182 224.64 \nL 85.304545 224.64 \nL 85.304545 197.975117 \nL 54.868182 197.975117 \nz\n\" style=\"fill:#1f77b4;\"/>\n   </g>\n   <g id=\"patch_4\">\n    <path clip-path=\"url(#pa6ea8c9c54)\" d=\"M 85.304545 224.64 \nL 115.740909 224.64 \nL 115.740909 198.629234 \nL 85.304545 198.629234 \nz\n\" style=\"fill:#1f77b4;\"/>\n   </g>\n   <g id=\"patch_5\">\n    <path clip-path=\"url(#pa6ea8c9c54)\" d=\"M 115.740909 224.64 \nL 146.177273 224.64 \nL 146.177273 191.203083 \nL 115.740909 191.203083 \nz\n\" style=\"fill:#1f77b4;\"/>\n   </g>\n   <g id=\"patch_6\">\n    <path clip-path=\"url(#pa6ea8c9c54)\" d=\"M 146.177273 224.64 \nL 176.613636 224.64 \nL 176.613636 169.886568 \nL 146.177273 169.886568 \nz\n\" style=\"fill:#1f77b4;\"/>\n   </g>\n   <g id=\"patch_7\">\n    <path clip-path=\"url(#pa6ea8c9c54)\" d=\"M 176.613636 224.64 \nL 207.05 224.64 \nL 207.05 142.298226 \nL 176.613636 142.298226 \nz\n\" style=\"fill:#1f77b4;\"/>\n   </g>\n   <g id=\"patch_8\">\n    <path clip-path=\"url(#pa6ea8c9c54)\" d=\"M 207.05 224.64 \nL 237.486364 224.64 \nL 237.486364 121.020188 \nL 207.05 121.020188 \nz\n\" style=\"fill:#1f77b4;\"/>\n   </g>\n   <g id=\"patch_9\">\n    <path clip-path=\"url(#pa6ea8c9c54)\" d=\"M 237.486364 224.64 \nL 267.922727 224.64 \nL 267.922727 17.554286 \nL 237.486364 17.554286 \nz\n\" style=\"fill:#1f77b4;\"/>\n   </g>\n   <g id=\"patch_10\">\n    <path clip-path=\"url(#pa6ea8c9c54)\" d=\"M 267.922727 224.64 \nL 298.359091 224.64 \nL 298.359091 164.153426 \nL 267.922727 164.153426 \nz\n\" style=\"fill:#1f77b4;\"/>\n   </g>\n   <g id=\"patch_11\">\n    <path clip-path=\"url(#pa6ea8c9c54)\" d=\"M 298.359091 224.64 \nL 328.795455 224.64 \nL 328.795455 182.468699 \nL 298.359091 182.468699 \nz\n\" style=\"fill:#1f77b4;\"/>\n   </g>\n   <g id=\"patch_12\">\n    <path clip-path=\"url(#pa6ea8c9c54)\" d=\"M 328.795455 224.64 \nL 359.231818 224.64 \nL 359.231818 144.299054 \nL 328.795455 144.299054 \nz\n\" style=\"fill:#1f77b4;\"/>\n   </g>\n   <g id=\"matplotlib.axis_1\">\n    <g id=\"xtick_1\">\n     <g id=\"line2d_1\">\n      <path clip-path=\"url(#pa6ea8c9c54)\" d=\"M 79.512504 224.64 \nL 79.512504 7.2 \n\" style=\"fill:none;stroke:#b0b0b0;stroke-linecap:square;stroke-width:0.8;\"/>\n     </g>\n     <g id=\"line2d_2\">\n      <defs>\n       <path d=\"M 0 0 \nL 0 3.5 \n\" id=\"m646a084034\" style=\"stroke:#000000;stroke-width:0.8;\"/>\n      </defs>\n      <g>\n       <use style=\"stroke:#000000;stroke-width:0.8;\" x=\"79.512504\" xlink:href=\"#m646a084034\" y=\"224.64\"/>\n      </g>\n     </g>\n     <g id=\"text_1\">\n      <!-- 2015 -->\n      <g transform=\"translate(66.787504 239.238437)scale(0.1 -0.1)\">\n       <defs>\n        <path d=\"M 19.1875 8.296875 \nL 53.609375 8.296875 \nL 53.609375 0 \nL 7.328125 0 \nL 7.328125 8.296875 \nQ 12.9375 14.109375 22.625 23.890625 \nQ 32.328125 33.6875 34.8125 36.53125 \nQ 39.546875 41.84375 41.421875 45.53125 \nQ 43.3125 49.21875 43.3125 52.78125 \nQ 43.3125 58.59375 39.234375 62.25 \nQ 35.15625 65.921875 28.609375 65.921875 \nQ 23.96875 65.921875 18.8125 64.3125 \nQ 13.671875 62.703125 7.8125 59.421875 \nL 7.8125 69.390625 \nQ 13.765625 71.78125 18.9375 73 \nQ 24.125 74.21875 28.421875 74.21875 \nQ 39.75 74.21875 46.484375 68.546875 \nQ 53.21875 62.890625 53.21875 53.421875 \nQ 53.21875 48.921875 51.53125 44.890625 \nQ 49.859375 40.875 45.40625 35.40625 \nQ 44.1875 33.984375 37.640625 27.21875 \nQ 31.109375 20.453125 19.1875 8.296875 \nz\n\" id=\"DejaVuSans-50\"/>\n        <path d=\"M 31.78125 66.40625 \nQ 24.171875 66.40625 20.328125 58.90625 \nQ 16.5 51.421875 16.5 36.375 \nQ 16.5 21.390625 20.328125 13.890625 \nQ 24.171875 6.390625 31.78125 6.390625 \nQ 39.453125 6.390625 43.28125 13.890625 \nQ 47.125 21.390625 47.125 36.375 \nQ 47.125 51.421875 43.28125 58.90625 \nQ 39.453125 66.40625 31.78125 66.40625 \nz\nM 31.78125 74.21875 \nQ 44.046875 74.21875 50.515625 64.515625 \nQ 56.984375 54.828125 56.984375 36.375 \nQ 56.984375 17.96875 50.515625 8.265625 \nQ 44.046875 -1.421875 31.78125 -1.421875 \nQ 19.53125 -1.421875 13.0625 8.265625 \nQ 6.59375 17.96875 6.59375 36.375 \nQ 6.59375 54.828125 13.0625 64.515625 \nQ 19.53125 74.21875 31.78125 74.21875 \nz\n\" id=\"DejaVuSans-48\"/>\n        <path d=\"M 12.40625 8.296875 \nL 28.515625 8.296875 \nL 28.515625 63.921875 \nL 10.984375 60.40625 \nL 10.984375 69.390625 \nL 28.421875 72.90625 \nL 38.28125 72.90625 \nL 38.28125 8.296875 \nL 54.390625 8.296875 \nL 54.390625 0 \nL 12.40625 0 \nz\n\" id=\"DejaVuSans-49\"/>\n        <path d=\"M 10.796875 72.90625 \nL 49.515625 72.90625 \nL 49.515625 64.59375 \nL 19.828125 64.59375 \nL 19.828125 46.734375 \nQ 21.96875 47.46875 24.109375 47.828125 \nQ 26.265625 48.1875 28.421875 48.1875 \nQ 40.625 48.1875 47.75 41.5 \nQ 54.890625 34.8125 54.890625 23.390625 \nQ 54.890625 11.625 47.5625 5.09375 \nQ 40.234375 -1.421875 26.90625 -1.421875 \nQ 22.3125 -1.421875 17.546875 -0.640625 \nQ 12.796875 0.140625 7.71875 1.703125 \nL 7.71875 11.625 \nQ 12.109375 9.234375 16.796875 8.0625 \nQ 21.484375 6.890625 26.703125 6.890625 \nQ 35.15625 6.890625 40.078125 11.328125 \nQ 45.015625 15.765625 45.015625 23.390625 \nQ 45.015625 31 40.078125 35.4375 \nQ 35.15625 39.890625 26.703125 39.890625 \nQ 22.75 39.890625 18.8125 39.015625 \nQ 14.890625 38.140625 10.796875 36.28125 \nz\n\" id=\"DejaVuSans-53\"/>\n       </defs>\n       <use xlink:href=\"#DejaVuSans-50\"/>\n       <use x=\"63.623047\" xlink:href=\"#DejaVuSans-48\"/>\n       <use x=\"127.246094\" xlink:href=\"#DejaVuSans-49\"/>\n       <use x=\"190.869141\" xlink:href=\"#DejaVuSans-53\"/>\n      </g>\n     </g>\n    </g>\n    <g id=\"xtick_2\">\n     <g id=\"line2d_3\">\n      <path clip-path=\"url(#pa6ea8c9c54)\" d=\"M 125.173305 224.64 \nL 125.173305 7.2 \n\" style=\"fill:none;stroke:#b0b0b0;stroke-linecap:square;stroke-width:0.8;\"/>\n     </g>\n     <g id=\"line2d_4\">\n      <g>\n       <use style=\"stroke:#000000;stroke-width:0.8;\" x=\"125.173305\" xlink:href=\"#m646a084034\" y=\"224.64\"/>\n      </g>\n     </g>\n     <g id=\"text_2\">\n      <!-- 2016 -->\n      <g transform=\"translate(112.448305 239.238437)scale(0.1 -0.1)\">\n       <defs>\n        <path d=\"M 33.015625 40.375 \nQ 26.375 40.375 22.484375 35.828125 \nQ 18.609375 31.296875 18.609375 23.390625 \nQ 18.609375 15.53125 22.484375 10.953125 \nQ 26.375 6.390625 33.015625 6.390625 \nQ 39.65625 6.390625 43.53125 10.953125 \nQ 47.40625 15.53125 47.40625 23.390625 \nQ 47.40625 31.296875 43.53125 35.828125 \nQ 39.65625 40.375 33.015625 40.375 \nz\nM 52.59375 71.296875 \nL 52.59375 62.3125 \nQ 48.875 64.0625 45.09375 64.984375 \nQ 41.3125 65.921875 37.59375 65.921875 \nQ 27.828125 65.921875 22.671875 59.328125 \nQ 17.53125 52.734375 16.796875 39.40625 \nQ 19.671875 43.65625 24.015625 45.921875 \nQ 28.375 48.1875 33.59375 48.1875 \nQ 44.578125 48.1875 50.953125 41.515625 \nQ 57.328125 34.859375 57.328125 23.390625 \nQ 57.328125 12.15625 50.6875 5.359375 \nQ 44.046875 -1.421875 33.015625 -1.421875 \nQ 20.359375 -1.421875 13.671875 8.265625 \nQ 6.984375 17.96875 6.984375 36.375 \nQ 6.984375 53.65625 15.1875 63.9375 \nQ 23.390625 74.21875 37.203125 74.21875 \nQ 40.921875 74.21875 44.703125 73.484375 \nQ 48.484375 72.75 52.59375 71.296875 \nz\n\" id=\"DejaVuSans-54\"/>\n       </defs>\n       <use xlink:href=\"#DejaVuSans-50\"/>\n       <use x=\"63.623047\" xlink:href=\"#DejaVuSans-48\"/>\n       <use x=\"127.246094\" xlink:href=\"#DejaVuSans-49\"/>\n       <use x=\"190.869141\" xlink:href=\"#DejaVuSans-54\"/>\n      </g>\n     </g>\n    </g>\n    <g id=\"xtick_3\">\n     <g id=\"line2d_5\">\n      <path clip-path=\"url(#pa6ea8c9c54)\" d=\"M 170.959203 224.64 \nL 170.959203 7.2 \n\" style=\"fill:none;stroke:#b0b0b0;stroke-linecap:square;stroke-width:0.8;\"/>\n     </g>\n     <g id=\"line2d_6\">\n      <g>\n       <use style=\"stroke:#000000;stroke-width:0.8;\" x=\"170.959203\" xlink:href=\"#m646a084034\" y=\"224.64\"/>\n      </g>\n     </g>\n     <g id=\"text_3\">\n      <!-- 2017 -->\n      <g transform=\"translate(158.234203 239.238437)scale(0.1 -0.1)\">\n       <defs>\n        <path d=\"M 8.203125 72.90625 \nL 55.078125 72.90625 \nL 55.078125 68.703125 \nL 28.609375 0 \nL 18.3125 0 \nL 43.21875 64.59375 \nL 8.203125 64.59375 \nz\n\" id=\"DejaVuSans-55\"/>\n       </defs>\n       <use xlink:href=\"#DejaVuSans-50\"/>\n       <use x=\"63.623047\" xlink:href=\"#DejaVuSans-48\"/>\n       <use x=\"127.246094\" xlink:href=\"#DejaVuSans-49\"/>\n       <use x=\"190.869141\" xlink:href=\"#DejaVuSans-55\"/>\n      </g>\n     </g>\n    </g>\n    <g id=\"xtick_4\">\n     <g id=\"line2d_7\">\n      <path clip-path=\"url(#pa6ea8c9c54)\" d=\"M 216.620003 224.64 \nL 216.620003 7.2 \n\" style=\"fill:none;stroke:#b0b0b0;stroke-linecap:square;stroke-width:0.8;\"/>\n     </g>\n     <g id=\"line2d_8\">\n      <g>\n       <use style=\"stroke:#000000;stroke-width:0.8;\" x=\"216.620003\" xlink:href=\"#m646a084034\" y=\"224.64\"/>\n      </g>\n     </g>\n     <g id=\"text_4\">\n      <!-- 2018 -->\n      <g transform=\"translate(203.895003 239.238437)scale(0.1 -0.1)\">\n       <defs>\n        <path d=\"M 31.78125 34.625 \nQ 24.75 34.625 20.71875 30.859375 \nQ 16.703125 27.09375 16.703125 20.515625 \nQ 16.703125 13.921875 20.71875 10.15625 \nQ 24.75 6.390625 31.78125 6.390625 \nQ 38.8125 6.390625 42.859375 10.171875 \nQ 46.921875 13.96875 46.921875 20.515625 \nQ 46.921875 27.09375 42.890625 30.859375 \nQ 38.875 34.625 31.78125 34.625 \nz\nM 21.921875 38.8125 \nQ 15.578125 40.375 12.03125 44.71875 \nQ 8.5 49.078125 8.5 55.328125 \nQ 8.5 64.0625 14.71875 69.140625 \nQ 20.953125 74.21875 31.78125 74.21875 \nQ 42.671875 74.21875 48.875 69.140625 \nQ 55.078125 64.0625 55.078125 55.328125 \nQ 55.078125 49.078125 51.53125 44.71875 \nQ 48 40.375 41.703125 38.8125 \nQ 48.828125 37.15625 52.796875 32.3125 \nQ 56.78125 27.484375 56.78125 20.515625 \nQ 56.78125 9.90625 50.3125 4.234375 \nQ 43.84375 -1.421875 31.78125 -1.421875 \nQ 19.734375 -1.421875 13.25 4.234375 \nQ 6.78125 9.90625 6.78125 20.515625 \nQ 6.78125 27.484375 10.78125 32.3125 \nQ 14.796875 37.15625 21.921875 38.8125 \nz\nM 18.3125 54.390625 \nQ 18.3125 48.734375 21.84375 45.5625 \nQ 25.390625 42.390625 31.78125 42.390625 \nQ 38.140625 42.390625 41.71875 45.5625 \nQ 45.3125 48.734375 45.3125 54.390625 \nQ 45.3125 60.0625 41.71875 63.234375 \nQ 38.140625 66.40625 31.78125 66.40625 \nQ 25.390625 66.40625 21.84375 63.234375 \nQ 18.3125 60.0625 18.3125 54.390625 \nz\n\" id=\"DejaVuSans-56\"/>\n       </defs>\n       <use xlink:href=\"#DejaVuSans-50\"/>\n       <use x=\"63.623047\" xlink:href=\"#DejaVuSans-48\"/>\n       <use x=\"127.246094\" xlink:href=\"#DejaVuSans-49\"/>\n       <use x=\"190.869141\" xlink:href=\"#DejaVuSans-56\"/>\n      </g>\n     </g>\n    </g>\n    <g id=\"xtick_5\">\n     <g id=\"line2d_9\">\n      <path clip-path=\"url(#pa6ea8c9c54)\" d=\"M 262.280804 224.64 \nL 262.280804 7.2 \n\" style=\"fill:none;stroke:#b0b0b0;stroke-linecap:square;stroke-width:0.8;\"/>\n     </g>\n     <g id=\"line2d_10\">\n      <g>\n       <use style=\"stroke:#000000;stroke-width:0.8;\" x=\"262.280804\" xlink:href=\"#m646a084034\" y=\"224.64\"/>\n      </g>\n     </g>\n     <g id=\"text_5\">\n      <!-- 2019 -->\n      <g transform=\"translate(249.555804 239.238437)scale(0.1 -0.1)\">\n       <defs>\n        <path d=\"M 10.984375 1.515625 \nL 10.984375 10.5 \nQ 14.703125 8.734375 18.5 7.8125 \nQ 22.3125 6.890625 25.984375 6.890625 \nQ 35.75 6.890625 40.890625 13.453125 \nQ 46.046875 20.015625 46.78125 33.40625 \nQ 43.953125 29.203125 39.59375 26.953125 \nQ 35.25 24.703125 29.984375 24.703125 \nQ 19.046875 24.703125 12.671875 31.3125 \nQ 6.296875 37.9375 6.296875 49.421875 \nQ 6.296875 60.640625 12.9375 67.421875 \nQ 19.578125 74.21875 30.609375 74.21875 \nQ 43.265625 74.21875 49.921875 64.515625 \nQ 56.59375 54.828125 56.59375 36.375 \nQ 56.59375 19.140625 48.40625 8.859375 \nQ 40.234375 -1.421875 26.421875 -1.421875 \nQ 22.703125 -1.421875 18.890625 -0.6875 \nQ 15.09375 0.046875 10.984375 1.515625 \nz\nM 30.609375 32.421875 \nQ 37.25 32.421875 41.125 36.953125 \nQ 45.015625 41.5 45.015625 49.421875 \nQ 45.015625 57.28125 41.125 61.84375 \nQ 37.25 66.40625 30.609375 66.40625 \nQ 23.96875 66.40625 20.09375 61.84375 \nQ 16.21875 57.28125 16.21875 49.421875 \nQ 16.21875 41.5 20.09375 36.953125 \nQ 23.96875 32.421875 30.609375 32.421875 \nz\n\" id=\"DejaVuSans-57\"/>\n       </defs>\n       <use xlink:href=\"#DejaVuSans-50\"/>\n       <use x=\"63.623047\" xlink:href=\"#DejaVuSans-48\"/>\n       <use x=\"127.246094\" xlink:href=\"#DejaVuSans-49\"/>\n       <use x=\"190.869141\" xlink:href=\"#DejaVuSans-57\"/>\n      </g>\n     </g>\n    </g>\n    <g id=\"xtick_6\">\n     <g id=\"line2d_11\">\n      <path clip-path=\"url(#pa6ea8c9c54)\" d=\"M 307.941604 224.64 \nL 307.941604 7.2 \n\" style=\"fill:none;stroke:#b0b0b0;stroke-linecap:square;stroke-width:0.8;\"/>\n     </g>\n     <g id=\"line2d_12\">\n      <g>\n       <use style=\"stroke:#000000;stroke-width:0.8;\" x=\"307.941604\" xlink:href=\"#m646a084034\" y=\"224.64\"/>\n      </g>\n     </g>\n     <g id=\"text_6\">\n      <!-- 2020 -->\n      <g transform=\"translate(295.216604 239.238437)scale(0.1 -0.1)\">\n       <use xlink:href=\"#DejaVuSans-50\"/>\n       <use x=\"63.623047\" xlink:href=\"#DejaVuSans-48\"/>\n       <use x=\"127.246094\" xlink:href=\"#DejaVuSans-50\"/>\n       <use x=\"190.869141\" xlink:href=\"#DejaVuSans-48\"/>\n      </g>\n     </g>\n    </g>\n    <g id=\"xtick_7\">\n     <g id=\"line2d_13\">\n      <path clip-path=\"url(#pa6ea8c9c54)\" d=\"M 353.727503 224.64 \nL 353.727503 7.2 \n\" style=\"fill:none;stroke:#b0b0b0;stroke-linecap:square;stroke-width:0.8;\"/>\n     </g>\n     <g id=\"line2d_14\">\n      <g>\n       <use style=\"stroke:#000000;stroke-width:0.8;\" x=\"353.727503\" xlink:href=\"#m646a084034\" y=\"224.64\"/>\n      </g>\n     </g>\n     <g id=\"text_7\">\n      <!-- 2021 -->\n      <g transform=\"translate(341.002503 239.238437)scale(0.1 -0.1)\">\n       <use xlink:href=\"#DejaVuSans-50\"/>\n       <use x=\"63.623047\" xlink:href=\"#DejaVuSans-48\"/>\n       <use x=\"127.246094\" xlink:href=\"#DejaVuSans-50\"/>\n       <use x=\"190.869141\" xlink:href=\"#DejaVuSans-49\"/>\n      </g>\n     </g>\n    </g>\n   </g>\n   <g id=\"matplotlib.axis_2\">\n    <g id=\"ytick_1\">\n     <g id=\"line2d_15\">\n      <path clip-path=\"url(#pa6ea8c9c54)\" d=\"M 39.65 224.64 \nL 374.45 224.64 \n\" style=\"fill:none;stroke:#b0b0b0;stroke-linecap:square;stroke-width:0.8;\"/>\n     </g>\n     <g id=\"line2d_16\">\n      <defs>\n       <path d=\"M 0 0 \nL -3.5 0 \n\" id=\"mf81bf96ad3\" style=\"stroke:#000000;stroke-width:0.8;\"/>\n      </defs>\n      <g>\n       <use style=\"stroke:#000000;stroke-width:0.8;\" x=\"39.65\" xlink:href=\"#mf81bf96ad3\" y=\"224.64\"/>\n      </g>\n     </g>\n     <g id=\"text_8\">\n      <!-- 0 -->\n      <g transform=\"translate(26.2875 228.439219)scale(0.1 -0.1)\">\n       <use xlink:href=\"#DejaVuSans-48\"/>\n      </g>\n     </g>\n    </g>\n    <g id=\"ytick_2\">\n     <g id=\"line2d_17\">\n      <path clip-path=\"url(#pa6ea8c9c54)\" d=\"M 39.65 186.162535 \nL 374.45 186.162535 \n\" style=\"fill:none;stroke:#b0b0b0;stroke-linecap:square;stroke-width:0.8;\"/>\n     </g>\n     <g id=\"line2d_18\">\n      <g>\n       <use style=\"stroke:#000000;stroke-width:0.8;\" x=\"39.65\" xlink:href=\"#mf81bf96ad3\" y=\"186.162535\"/>\n      </g>\n     </g>\n     <g id=\"text_9\">\n      <!-- 1000 -->\n      <g transform=\"translate(7.2 189.961754)scale(0.1 -0.1)\">\n       <use xlink:href=\"#DejaVuSans-49\"/>\n       <use x=\"63.623047\" xlink:href=\"#DejaVuSans-48\"/>\n       <use x=\"127.246094\" xlink:href=\"#DejaVuSans-48\"/>\n       <use x=\"190.869141\" xlink:href=\"#DejaVuSans-48\"/>\n      </g>\n     </g>\n    </g>\n    <g id=\"ytick_3\">\n     <g id=\"line2d_19\">\n      <path clip-path=\"url(#pa6ea8c9c54)\" d=\"M 39.65 147.685071 \nL 374.45 147.685071 \n\" style=\"fill:none;stroke:#b0b0b0;stroke-linecap:square;stroke-width:0.8;\"/>\n     </g>\n     <g id=\"line2d_20\">\n      <g>\n       <use style=\"stroke:#000000;stroke-width:0.8;\" x=\"39.65\" xlink:href=\"#mf81bf96ad3\" y=\"147.685071\"/>\n      </g>\n     </g>\n     <g id=\"text_10\">\n      <!-- 2000 -->\n      <g transform=\"translate(7.2 151.48429)scale(0.1 -0.1)\">\n       <use xlink:href=\"#DejaVuSans-50\"/>\n       <use x=\"63.623047\" xlink:href=\"#DejaVuSans-48\"/>\n       <use x=\"127.246094\" xlink:href=\"#DejaVuSans-48\"/>\n       <use x=\"190.869141\" xlink:href=\"#DejaVuSans-48\"/>\n      </g>\n     </g>\n    </g>\n    <g id=\"ytick_4\">\n     <g id=\"line2d_21\">\n      <path clip-path=\"url(#pa6ea8c9c54)\" d=\"M 39.65 109.207606 \nL 374.45 109.207606 \n\" style=\"fill:none;stroke:#b0b0b0;stroke-linecap:square;stroke-width:0.8;\"/>\n     </g>\n     <g id=\"line2d_22\">\n      <g>\n       <use style=\"stroke:#000000;stroke-width:0.8;\" x=\"39.65\" xlink:href=\"#mf81bf96ad3\" y=\"109.207606\"/>\n      </g>\n     </g>\n     <g id=\"text_11\">\n      <!-- 3000 -->\n      <g transform=\"translate(7.2 113.006825)scale(0.1 -0.1)\">\n       <defs>\n        <path d=\"M 40.578125 39.3125 \nQ 47.65625 37.796875 51.625 33 \nQ 55.609375 28.21875 55.609375 21.1875 \nQ 55.609375 10.40625 48.1875 4.484375 \nQ 40.765625 -1.421875 27.09375 -1.421875 \nQ 22.515625 -1.421875 17.65625 -0.515625 \nQ 12.796875 0.390625 7.625 2.203125 \nL 7.625 11.71875 \nQ 11.71875 9.328125 16.59375 8.109375 \nQ 21.484375 6.890625 26.8125 6.890625 \nQ 36.078125 6.890625 40.9375 10.546875 \nQ 45.796875 14.203125 45.796875 21.1875 \nQ 45.796875 27.640625 41.28125 31.265625 \nQ 36.765625 34.90625 28.71875 34.90625 \nL 20.21875 34.90625 \nL 20.21875 43.015625 \nL 29.109375 43.015625 \nQ 36.375 43.015625 40.234375 45.921875 \nQ 44.09375 48.828125 44.09375 54.296875 \nQ 44.09375 59.90625 40.109375 62.90625 \nQ 36.140625 65.921875 28.71875 65.921875 \nQ 24.65625 65.921875 20.015625 65.03125 \nQ 15.375 64.15625 9.8125 62.3125 \nL 9.8125 71.09375 \nQ 15.4375 72.65625 20.34375 73.4375 \nQ 25.25 74.21875 29.59375 74.21875 \nQ 40.828125 74.21875 47.359375 69.109375 \nQ 53.90625 64.015625 53.90625 55.328125 \nQ 53.90625 49.265625 50.4375 45.09375 \nQ 46.96875 40.921875 40.578125 39.3125 \nz\n\" id=\"DejaVuSans-51\"/>\n       </defs>\n       <use xlink:href=\"#DejaVuSans-51\"/>\n       <use x=\"63.623047\" xlink:href=\"#DejaVuSans-48\"/>\n       <use x=\"127.246094\" xlink:href=\"#DejaVuSans-48\"/>\n       <use x=\"190.869141\" xlink:href=\"#DejaVuSans-48\"/>\n      </g>\n     </g>\n    </g>\n    <g id=\"ytick_5\">\n     <g id=\"line2d_23\">\n      <path clip-path=\"url(#pa6ea8c9c54)\" d=\"M 39.65 70.730142 \nL 374.45 70.730142 \n\" style=\"fill:none;stroke:#b0b0b0;stroke-linecap:square;stroke-width:0.8;\"/>\n     </g>\n     <g id=\"line2d_24\">\n      <g>\n       <use style=\"stroke:#000000;stroke-width:0.8;\" x=\"39.65\" xlink:href=\"#mf81bf96ad3\" y=\"70.730142\"/>\n      </g>\n     </g>\n     <g id=\"text_12\">\n      <!-- 4000 -->\n      <g transform=\"translate(7.2 74.52936)scale(0.1 -0.1)\">\n       <defs>\n        <path d=\"M 37.796875 64.3125 \nL 12.890625 25.390625 \nL 37.796875 25.390625 \nz\nM 35.203125 72.90625 \nL 47.609375 72.90625 \nL 47.609375 25.390625 \nL 58.015625 25.390625 \nL 58.015625 17.1875 \nL 47.609375 17.1875 \nL 47.609375 0 \nL 37.796875 0 \nL 37.796875 17.1875 \nL 4.890625 17.1875 \nL 4.890625 26.703125 \nz\n\" id=\"DejaVuSans-52\"/>\n       </defs>\n       <use xlink:href=\"#DejaVuSans-52\"/>\n       <use x=\"63.623047\" xlink:href=\"#DejaVuSans-48\"/>\n       <use x=\"127.246094\" xlink:href=\"#DejaVuSans-48\"/>\n       <use x=\"190.869141\" xlink:href=\"#DejaVuSans-48\"/>\n      </g>\n     </g>\n    </g>\n    <g id=\"ytick_6\">\n     <g id=\"line2d_25\">\n      <path clip-path=\"url(#pa6ea8c9c54)\" d=\"M 39.65 32.252677 \nL 374.45 32.252677 \n\" style=\"fill:none;stroke:#b0b0b0;stroke-linecap:square;stroke-width:0.8;\"/>\n     </g>\n     <g id=\"line2d_26\">\n      <g>\n       <use style=\"stroke:#000000;stroke-width:0.8;\" x=\"39.65\" xlink:href=\"#mf81bf96ad3\" y=\"32.252677\"/>\n      </g>\n     </g>\n     <g id=\"text_13\">\n      <!-- 5000 -->\n      <g transform=\"translate(7.2 36.051896)scale(0.1 -0.1)\">\n       <use xlink:href=\"#DejaVuSans-53\"/>\n       <use x=\"63.623047\" xlink:href=\"#DejaVuSans-48\"/>\n       <use x=\"127.246094\" xlink:href=\"#DejaVuSans-48\"/>\n       <use x=\"190.869141\" xlink:href=\"#DejaVuSans-48\"/>\n      </g>\n     </g>\n    </g>\n   </g>\n   <g id=\"patch_13\">\n    <path d=\"M 39.65 224.64 \nL 39.65 7.2 \n\" style=\"fill:none;stroke:#000000;stroke-linecap:square;stroke-linejoin:miter;stroke-width:0.8;\"/>\n   </g>\n   <g id=\"patch_14\">\n    <path d=\"M 374.45 224.64 \nL 374.45 7.2 \n\" style=\"fill:none;stroke:#000000;stroke-linecap:square;stroke-linejoin:miter;stroke-width:0.8;\"/>\n   </g>\n   <g id=\"patch_15\">\n    <path d=\"M 39.65 224.64 \nL 374.45 224.64 \n\" style=\"fill:none;stroke:#000000;stroke-linecap:square;stroke-linejoin:miter;stroke-width:0.8;\"/>\n   </g>\n   <g id=\"patch_16\">\n    <path d=\"M 39.65 7.2 \nL 374.45 7.2 \n\" style=\"fill:none;stroke:#000000;stroke-linecap:square;stroke-linejoin:miter;stroke-width:0.8;\"/>\n   </g>\n  </g>\n </g>\n <defs>\n  <clipPath id=\"pa6ea8c9c54\">\n   <rect height=\"217.44\" width=\"334.8\" x=\"39.65\" y=\"7.2\"/>\n  </clipPath>\n </defs>\n</svg>\n"
     },
     "metadata": {
      "needs_background": "light"
     }
    }
   ],
   "metadata": {}
  },
  {
   "cell_type": "code",
   "execution_count": 77,
   "source": [
    "evs.save_expectation_suite(\"../data/expectations/evs_raw_expectations.json\")"
   ],
   "outputs": [],
   "metadata": {}
  },
  {
   "cell_type": "code",
   "execution_count": 78,
   "source": [
    "validation_results = evs.validate(expectation_suite=\"../data/expectations/evs_raw_expectations.json\", catch_exceptions=False)"
   ],
   "outputs": [],
   "metadata": {}
  },
  {
   "cell_type": "markdown",
   "source": [
    "### Clean data expectations"
   ],
   "metadata": {}
  },
  {
   "cell_type": "code",
   "execution_count": 79,
   "source": [
    "evs_cleaned = ge.from_pandas(rp.clean_data_load(\"EVs\"))"
   ],
   "outputs": [],
   "metadata": {}
  },
  {
   "cell_type": "code",
   "execution_count": 80,
   "source": [
    "evs_cleaned.shape[0] / evs.shape[0]"
   ],
   "outputs": [
    {
     "output_type": "execute_result",
     "data": {
      "text/plain": [
       "1.0"
      ]
     },
     "metadata": {},
     "execution_count": 80
    }
   ],
   "metadata": {}
  },
  {
   "cell_type": "code",
   "execution_count": 81,
   "source": [
    "# Check that we have dropped no more than 1% of data\n",
    "result = evs_cleaned.expect_table_row_count_to_be_between(int(0.99*evs.shape[0]), evs.shape[0])  \n",
    "print(result)\n",
    "assert result.success"
   ],
   "outputs": [
    {
     "output_type": "stream",
     "name": "stdout",
     "text": [
      "{\n",
      "  \"result\": {\n",
      "    \"observed_value\": 18632\n",
      "  },\n",
      "  \"exception_info\": {\n",
      "    \"raised_exception\": false,\n",
      "    \"exception_traceback\": null,\n",
      "    \"exception_message\": null\n",
      "  },\n",
      "  \"expectation_config\": {\n",
      "    \"meta\": {},\n",
      "    \"kwargs\": {\n",
      "      \"min_value\": 18445,\n",
      "      \"max_value\": 18632,\n",
      "      \"result_format\": \"BASIC\"\n",
      "    },\n",
      "    \"expectation_type\": \"expect_table_row_count_to_be_between\"\n",
      "  },\n",
      "  \"meta\": {},\n",
      "  \"success\": true\n",
      "}\n"
     ]
    }
   ],
   "metadata": {}
  },
  {
   "cell_type": "code",
   "execution_count": 82,
   "source": [
    "result = evs_cleaned.expect_column_to_exist(\"town_valid\")\n",
    "print(result)\n",
    "assert result.success"
   ],
   "outputs": [
    {
     "output_type": "stream",
     "name": "stdout",
     "text": [
      "{\n",
      "  \"result\": {},\n",
      "  \"exception_info\": {\n",
      "    \"raised_exception\": false,\n",
      "    \"exception_traceback\": null,\n",
      "    \"exception_message\": null\n",
      "  },\n",
      "  \"expectation_config\": {\n",
      "    \"meta\": {},\n",
      "    \"kwargs\": {\n",
      "      \"column\": \"town_valid\",\n",
      "      \"result_format\": \"BASIC\"\n",
      "    },\n",
      "    \"expectation_type\": \"expect_column_to_exist\"\n",
      "  },\n",
      "  \"meta\": {},\n",
      "  \"success\": true\n",
      "}\n"
     ]
    }
   ],
   "metadata": {}
  },
  {
   "cell_type": "code",
   "execution_count": 83,
   "source": [
    "result = evs_cleaned.expect_column_to_exist(\"zip_cleaned\")\n",
    "print(result)\n",
    "assert result.success"
   ],
   "outputs": [
    {
     "output_type": "stream",
     "name": "stdout",
     "text": [
      "{\n",
      "  \"result\": {},\n",
      "  \"exception_info\": {\n",
      "    \"raised_exception\": false,\n",
      "    \"exception_traceback\": null,\n",
      "    \"exception_message\": null\n",
      "  },\n",
      "  \"expectation_config\": {\n",
      "    \"meta\": {},\n",
      "    \"kwargs\": {\n",
      "      \"column\": \"zip_cleaned\",\n",
      "      \"result_format\": \"BASIC\"\n",
      "    },\n",
      "    \"expectation_type\": \"expect_column_to_exist\"\n",
      "  },\n",
      "  \"meta\": {},\n",
      "  \"success\": true\n",
      "}\n"
     ]
    }
   ],
   "metadata": {}
  },
  {
   "cell_type": "code",
   "execution_count": 84,
   "source": [
    "result = evs_cleaned.expect_column_to_exist(\"rebate\")\n",
    "print(result)\n",
    "assert result.success"
   ],
   "outputs": [
    {
     "output_type": "stream",
     "name": "stdout",
     "text": [
      "{\n",
      "  \"result\": {},\n",
      "  \"exception_info\": {\n",
      "    \"raised_exception\": false,\n",
      "    \"exception_traceback\": null,\n",
      "    \"exception_message\": null\n",
      "  },\n",
      "  \"expectation_config\": {\n",
      "    \"meta\": {},\n",
      "    \"kwargs\": {\n",
      "      \"column\": \"rebate\",\n",
      "      \"result_format\": \"BASIC\"\n",
      "    },\n",
      "    \"expectation_type\": \"expect_column_to_exist\"\n",
      "  },\n",
      "  \"meta\": {},\n",
      "  \"success\": true\n",
      "}\n"
     ]
    }
   ],
   "metadata": {}
  },
  {
   "cell_type": "code",
   "execution_count": 85,
   "source": [
    "result = evs_cleaned.expect_column_values_to_be_in_set(\"town_valid\", [True])\n",
    "print(result)\n",
    "assert result.success"
   ],
   "outputs": [
    {
     "output_type": "stream",
     "name": "stdout",
     "text": [
      "{\n",
      "  \"result\": {\n",
      "    \"element_count\": 18632,\n",
      "    \"missing_count\": 0,\n",
      "    \"missing_percent\": 0.0,\n",
      "    \"unexpected_count\": 0,\n",
      "    \"unexpected_percent\": 0.0,\n",
      "    \"unexpected_percent_total\": 0.0,\n",
      "    \"unexpected_percent_nonmissing\": 0.0,\n",
      "    \"partial_unexpected_list\": []\n",
      "  },\n",
      "  \"exception_info\": {\n",
      "    \"raised_exception\": false,\n",
      "    \"exception_traceback\": null,\n",
      "    \"exception_message\": null\n",
      "  },\n",
      "  \"expectation_config\": {\n",
      "    \"meta\": {},\n",
      "    \"kwargs\": {\n",
      "      \"column\": \"town_valid\",\n",
      "      \"value_set\": [\n",
      "        true\n",
      "      ],\n",
      "      \"result_format\": \"BASIC\"\n",
      "    },\n",
      "    \"expectation_type\": \"expect_column_values_to_be_in_set\"\n",
      "  },\n",
      "  \"meta\": {},\n",
      "  \"success\": true\n",
      "}\n"
     ]
    }
   ],
   "metadata": {}
  },
  {
   "cell_type": "code",
   "execution_count": 86,
   "source": [
    "result = evs_cleaned.expect_column_values_to_be_in_set(\"zip_valid\", [True])\n",
    "print(result)\n",
    "assert result.success"
   ],
   "outputs": [
    {
     "output_type": "stream",
     "name": "stdout",
     "text": [
      "{\n",
      "  \"result\": {\n",
      "    \"element_count\": 18632,\n",
      "    \"missing_count\": 0,\n",
      "    \"missing_percent\": 0.0,\n",
      "    \"unexpected_count\": 0,\n",
      "    \"unexpected_percent\": 0.0,\n",
      "    \"unexpected_percent_total\": 0.0,\n",
      "    \"unexpected_percent_nonmissing\": 0.0,\n",
      "    \"partial_unexpected_list\": []\n",
      "  },\n",
      "  \"exception_info\": {\n",
      "    \"raised_exception\": false,\n",
      "    \"exception_traceback\": null,\n",
      "    \"exception_message\": null\n",
      "  },\n",
      "  \"expectation_config\": {\n",
      "    \"meta\": {},\n",
      "    \"kwargs\": {\n",
      "      \"column\": \"zip_valid\",\n",
      "      \"value_set\": [\n",
      "        true\n",
      "      ],\n",
      "      \"result_format\": \"BASIC\"\n",
      "    },\n",
      "    \"expectation_type\": \"expect_column_values_to_be_in_set\"\n",
      "  },\n",
      "  \"meta\": {},\n",
      "  \"success\": true\n",
      "}\n"
     ]
    }
   ],
   "metadata": {}
  },
  {
   "cell_type": "code",
   "execution_count": 87,
   "source": [
    "result = evs_cleaned.expect_column_values_to_be_of_type(\"rebate\", \"int64\")\n",
    "print(result)\n",
    "assert result.success"
   ],
   "outputs": [
    {
     "output_type": "stream",
     "name": "stdout",
     "text": [
      "{\n",
      "  \"result\": {\n",
      "    \"observed_value\": \"int64\"\n",
      "  },\n",
      "  \"exception_info\": {\n",
      "    \"raised_exception\": false,\n",
      "    \"exception_traceback\": null,\n",
      "    \"exception_message\": null\n",
      "  },\n",
      "  \"expectation_config\": {\n",
      "    \"meta\": {},\n",
      "    \"kwargs\": {\n",
      "      \"column\": \"rebate\",\n",
      "      \"type_\": \"int64\",\n",
      "      \"result_format\": \"BASIC\"\n",
      "    },\n",
      "    \"expectation_type\": \"_expect_column_values_to_be_of_type__aggregate\"\n",
      "  },\n",
      "  \"meta\": {},\n",
      "  \"success\": true\n",
      "}\n"
     ]
    }
   ],
   "metadata": {}
  },
  {
   "cell_type": "code",
   "execution_count": 88,
   "source": [
    "evs_cleaned.save_expectation_suite(\"../data/expectations/evs_clean_expectations.json\")"
   ],
   "outputs": [],
   "metadata": {}
  },
  {
   "cell_type": "markdown",
   "source": [
    "# Zipcode data quality checks\n",
    "\n",
    "1. Town names from the `zipcodes` package correspond to the \"city\" field of the 351 muni mapping file.  \n",
    "2. All zipcodes in zipcode community map file correspond to at least one municipality\n",
    "3. (Not true) ~~All 351 municipalities correspond to at least one zipcode in the map~~ Some small municipalities share a zipcode with other munipalities\n",
    "4. "
   ],
   "metadata": {}
  },
  {
   "cell_type": "code",
   "execution_count": 89,
   "source": [
    "zipcode_mapping = pd.read_excel(rp.RAW_DATA_FILES[\"zip_code_community\"], sheet_name=\"Villages to Muni with Zip\")"
   ],
   "outputs": [],
   "metadata": {}
  },
  {
   "cell_type": "code",
   "execution_count": 90,
   "source": [
    "VALID_MUNIS = pd.read_excel(rp.RAW_DATA_FILES[\"zip_code_community\"], sheet_name=\"351 Mass Munis\")"
   ],
   "outputs": [],
   "metadata": {}
  },
  {
   "cell_type": "code",
   "execution_count": 91,
   "source": [
    "zipcode_mapping.head()"
   ],
   "outputs": [
    {
     "output_type": "execute_result",
     "data": {
      "text/plain": [
       "   Zip Code     City Municipality     County Unnamed: 4 Unnamed: 5\n",
       "0      1001   Agawam       Agawam    Hampden        NaN        NaN\n",
       "1      1002  Amherst      Amherst  Hampshire        NaN        NaN\n",
       "2      1003  Amherst      Amherst  Hampshire        NaN        NaN\n",
       "3      1004  Amherst      Amherst  Hampshire        NaN        NaN\n",
       "4      1005    Barre        Barre  Worcester        NaN        NaN"
      ],
      "text/html": [
       "<div>\n",
       "<style scoped>\n",
       "    .dataframe tbody tr th:only-of-type {\n",
       "        vertical-align: middle;\n",
       "    }\n",
       "\n",
       "    .dataframe tbody tr th {\n",
       "        vertical-align: top;\n",
       "    }\n",
       "\n",
       "    .dataframe thead th {\n",
       "        text-align: right;\n",
       "    }\n",
       "</style>\n",
       "<table border=\"1\" class=\"dataframe\">\n",
       "  <thead>\n",
       "    <tr style=\"text-align: right;\">\n",
       "      <th></th>\n",
       "      <th>Zip Code</th>\n",
       "      <th>City</th>\n",
       "      <th>Municipality</th>\n",
       "      <th>County</th>\n",
       "      <th>Unnamed: 4</th>\n",
       "      <th>Unnamed: 5</th>\n",
       "    </tr>\n",
       "  </thead>\n",
       "  <tbody>\n",
       "    <tr>\n",
       "      <th>0</th>\n",
       "      <td>1001</td>\n",
       "      <td>Agawam</td>\n",
       "      <td>Agawam</td>\n",
       "      <td>Hampden</td>\n",
       "      <td>NaN</td>\n",
       "      <td>NaN</td>\n",
       "    </tr>\n",
       "    <tr>\n",
       "      <th>1</th>\n",
       "      <td>1002</td>\n",
       "      <td>Amherst</td>\n",
       "      <td>Amherst</td>\n",
       "      <td>Hampshire</td>\n",
       "      <td>NaN</td>\n",
       "      <td>NaN</td>\n",
       "    </tr>\n",
       "    <tr>\n",
       "      <th>2</th>\n",
       "      <td>1003</td>\n",
       "      <td>Amherst</td>\n",
       "      <td>Amherst</td>\n",
       "      <td>Hampshire</td>\n",
       "      <td>NaN</td>\n",
       "      <td>NaN</td>\n",
       "    </tr>\n",
       "    <tr>\n",
       "      <th>3</th>\n",
       "      <td>1004</td>\n",
       "      <td>Amherst</td>\n",
       "      <td>Amherst</td>\n",
       "      <td>Hampshire</td>\n",
       "      <td>NaN</td>\n",
       "      <td>NaN</td>\n",
       "    </tr>\n",
       "    <tr>\n",
       "      <th>4</th>\n",
       "      <td>1005</td>\n",
       "      <td>Barre</td>\n",
       "      <td>Barre</td>\n",
       "      <td>Worcester</td>\n",
       "      <td>NaN</td>\n",
       "      <td>NaN</td>\n",
       "    </tr>\n",
       "  </tbody>\n",
       "</table>\n",
       "</div>"
      ]
     },
     "metadata": {},
     "execution_count": 91
    }
   ],
   "metadata": {}
  },
  {
   "cell_type": "code",
   "execution_count": 92,
   "source": [
    "VALID_MUNIS.head()"
   ],
   "outputs": [
    {
     "output_type": "execute_result",
     "data": {
      "text/plain": [
       "  Municipality\n",
       "0     Abington\n",
       "1        Acton\n",
       "2     Acushnet\n",
       "3        Adams\n",
       "4       Agawam"
      ],
      "text/html": [
       "<div>\n",
       "<style scoped>\n",
       "    .dataframe tbody tr th:only-of-type {\n",
       "        vertical-align: middle;\n",
       "    }\n",
       "\n",
       "    .dataframe tbody tr th {\n",
       "        vertical-align: top;\n",
       "    }\n",
       "\n",
       "    .dataframe thead th {\n",
       "        text-align: right;\n",
       "    }\n",
       "</style>\n",
       "<table border=\"1\" class=\"dataframe\">\n",
       "  <thead>\n",
       "    <tr style=\"text-align: right;\">\n",
       "      <th></th>\n",
       "      <th>Municipality</th>\n",
       "    </tr>\n",
       "  </thead>\n",
       "  <tbody>\n",
       "    <tr>\n",
       "      <th>0</th>\n",
       "      <td>Abington</td>\n",
       "    </tr>\n",
       "    <tr>\n",
       "      <th>1</th>\n",
       "      <td>Acton</td>\n",
       "    </tr>\n",
       "    <tr>\n",
       "      <th>2</th>\n",
       "      <td>Acushnet</td>\n",
       "    </tr>\n",
       "    <tr>\n",
       "      <th>3</th>\n",
       "      <td>Adams</td>\n",
       "    </tr>\n",
       "    <tr>\n",
       "      <th>4</th>\n",
       "      <td>Agawam</td>\n",
       "    </tr>\n",
       "  </tbody>\n",
       "</table>\n",
       "</div>"
      ]
     },
     "metadata": {},
     "execution_count": 92
    }
   ],
   "metadata": {}
  },
  {
   "cell_type": "code",
   "execution_count": 93,
   "source": [
    "# Standardize zips into properly formatted strings\n",
    "clean_zips = zc.clean(zipcode_mapping[\"Zip Code\"])"
   ],
   "outputs": [],
   "metadata": {}
  },
  {
   "cell_type": "code",
   "execution_count": 94,
   "source": [
    "zipcode_mapping[\"zip_cleaned\"] = clean_zips.zip_cleaned"
   ],
   "outputs": [],
   "metadata": {}
  },
  {
   "cell_type": "code",
   "execution_count": 95,
   "source": [
    "zc.validate_zip_town(zipcode_mapping, \"City\", \"zip_cleaned\")"
   ],
   "outputs": [
    {
     "output_type": "execute_result",
     "data": {
      "text/plain": [
       "     Zip Code         City Municipality     County Unnamed: 4 Unnamed: 5  \\\n",
       "0        1001       Agawam       Agawam    Hampden        NaN        NaN   \n",
       "1        1002      Amherst      Amherst  Hampshire        NaN        NaN   \n",
       "2        1003      Amherst      Amherst  Hampshire        NaN        NaN   \n",
       "3        1004      Amherst      Amherst  Hampshire        NaN        NaN   \n",
       "4        1005        Barre        Barre  Worcester        NaN        NaN   \n",
       "..        ...          ...          ...        ...        ...        ...   \n",
       "711      1237  New Ashford  New Ashford  Berkshire        NaN        NaN   \n",
       "712      1002       Pelham       Pelham  Hampshire        NaN        NaN   \n",
       "713      1331  Phillipston  Phillipston  Worcester        NaN        NaN   \n",
       "714      1223   Washington   Washington  Berkshire        NaN        NaN   \n",
       "715      1027  Westhampton  Westhampton  Hampshire        NaN        NaN   \n",
       "\n",
       "    zip_cleaned municipality         town  zip_exists  town_valid  \n",
       "0         01001       Agawam       Agawam        True        True  \n",
       "1         01002      Amherst      Amherst        True        True  \n",
       "2         01003      Amherst      Amherst        True        True  \n",
       "3         01004      Amherst      Amherst        True        True  \n",
       "4         01005        Barre        Barre        True        True  \n",
       "..          ...          ...          ...         ...         ...  \n",
       "711       01237  New Ashford    Lanesboro        True        True  \n",
       "712       01002       Pelham      Amherst        True        True  \n",
       "713       01331  Phillipston        Athol        True        True  \n",
       "714       01223   Washington       Becket        True        True  \n",
       "715       01027  Westhampton  Easthampton        True        True  \n",
       "\n",
       "[716 rows x 11 columns]"
      ],
      "text/html": [
       "<div>\n",
       "<style scoped>\n",
       "    .dataframe tbody tr th:only-of-type {\n",
       "        vertical-align: middle;\n",
       "    }\n",
       "\n",
       "    .dataframe tbody tr th {\n",
       "        vertical-align: top;\n",
       "    }\n",
       "\n",
       "    .dataframe thead th {\n",
       "        text-align: right;\n",
       "    }\n",
       "</style>\n",
       "<table border=\"1\" class=\"dataframe\">\n",
       "  <thead>\n",
       "    <tr style=\"text-align: right;\">\n",
       "      <th></th>\n",
       "      <th>Zip Code</th>\n",
       "      <th>City</th>\n",
       "      <th>Municipality</th>\n",
       "      <th>County</th>\n",
       "      <th>Unnamed: 4</th>\n",
       "      <th>Unnamed: 5</th>\n",
       "      <th>zip_cleaned</th>\n",
       "      <th>municipality</th>\n",
       "      <th>town</th>\n",
       "      <th>zip_exists</th>\n",
       "      <th>town_valid</th>\n",
       "    </tr>\n",
       "  </thead>\n",
       "  <tbody>\n",
       "    <tr>\n",
       "      <th>0</th>\n",
       "      <td>1001</td>\n",
       "      <td>Agawam</td>\n",
       "      <td>Agawam</td>\n",
       "      <td>Hampden</td>\n",
       "      <td>NaN</td>\n",
       "      <td>NaN</td>\n",
       "      <td>01001</td>\n",
       "      <td>Agawam</td>\n",
       "      <td>Agawam</td>\n",
       "      <td>True</td>\n",
       "      <td>True</td>\n",
       "    </tr>\n",
       "    <tr>\n",
       "      <th>1</th>\n",
       "      <td>1002</td>\n",
       "      <td>Amherst</td>\n",
       "      <td>Amherst</td>\n",
       "      <td>Hampshire</td>\n",
       "      <td>NaN</td>\n",
       "      <td>NaN</td>\n",
       "      <td>01002</td>\n",
       "      <td>Amherst</td>\n",
       "      <td>Amherst</td>\n",
       "      <td>True</td>\n",
       "      <td>True</td>\n",
       "    </tr>\n",
       "    <tr>\n",
       "      <th>2</th>\n",
       "      <td>1003</td>\n",
       "      <td>Amherst</td>\n",
       "      <td>Amherst</td>\n",
       "      <td>Hampshire</td>\n",
       "      <td>NaN</td>\n",
       "      <td>NaN</td>\n",
       "      <td>01003</td>\n",
       "      <td>Amherst</td>\n",
       "      <td>Amherst</td>\n",
       "      <td>True</td>\n",
       "      <td>True</td>\n",
       "    </tr>\n",
       "    <tr>\n",
       "      <th>3</th>\n",
       "      <td>1004</td>\n",
       "      <td>Amherst</td>\n",
       "      <td>Amherst</td>\n",
       "      <td>Hampshire</td>\n",
       "      <td>NaN</td>\n",
       "      <td>NaN</td>\n",
       "      <td>01004</td>\n",
       "      <td>Amherst</td>\n",
       "      <td>Amherst</td>\n",
       "      <td>True</td>\n",
       "      <td>True</td>\n",
       "    </tr>\n",
       "    <tr>\n",
       "      <th>4</th>\n",
       "      <td>1005</td>\n",
       "      <td>Barre</td>\n",
       "      <td>Barre</td>\n",
       "      <td>Worcester</td>\n",
       "      <td>NaN</td>\n",
       "      <td>NaN</td>\n",
       "      <td>01005</td>\n",
       "      <td>Barre</td>\n",
       "      <td>Barre</td>\n",
       "      <td>True</td>\n",
       "      <td>True</td>\n",
       "    </tr>\n",
       "    <tr>\n",
       "      <th>...</th>\n",
       "      <td>...</td>\n",
       "      <td>...</td>\n",
       "      <td>...</td>\n",
       "      <td>...</td>\n",
       "      <td>...</td>\n",
       "      <td>...</td>\n",
       "      <td>...</td>\n",
       "      <td>...</td>\n",
       "      <td>...</td>\n",
       "      <td>...</td>\n",
       "      <td>...</td>\n",
       "    </tr>\n",
       "    <tr>\n",
       "      <th>711</th>\n",
       "      <td>1237</td>\n",
       "      <td>New Ashford</td>\n",
       "      <td>New Ashford</td>\n",
       "      <td>Berkshire</td>\n",
       "      <td>NaN</td>\n",
       "      <td>NaN</td>\n",
       "      <td>01237</td>\n",
       "      <td>New Ashford</td>\n",
       "      <td>Lanesboro</td>\n",
       "      <td>True</td>\n",
       "      <td>True</td>\n",
       "    </tr>\n",
       "    <tr>\n",
       "      <th>712</th>\n",
       "      <td>1002</td>\n",
       "      <td>Pelham</td>\n",
       "      <td>Pelham</td>\n",
       "      <td>Hampshire</td>\n",
       "      <td>NaN</td>\n",
       "      <td>NaN</td>\n",
       "      <td>01002</td>\n",
       "      <td>Pelham</td>\n",
       "      <td>Amherst</td>\n",
       "      <td>True</td>\n",
       "      <td>True</td>\n",
       "    </tr>\n",
       "    <tr>\n",
       "      <th>713</th>\n",
       "      <td>1331</td>\n",
       "      <td>Phillipston</td>\n",
       "      <td>Phillipston</td>\n",
       "      <td>Worcester</td>\n",
       "      <td>NaN</td>\n",
       "      <td>NaN</td>\n",
       "      <td>01331</td>\n",
       "      <td>Phillipston</td>\n",
       "      <td>Athol</td>\n",
       "      <td>True</td>\n",
       "      <td>True</td>\n",
       "    </tr>\n",
       "    <tr>\n",
       "      <th>714</th>\n",
       "      <td>1223</td>\n",
       "      <td>Washington</td>\n",
       "      <td>Washington</td>\n",
       "      <td>Berkshire</td>\n",
       "      <td>NaN</td>\n",
       "      <td>NaN</td>\n",
       "      <td>01223</td>\n",
       "      <td>Washington</td>\n",
       "      <td>Becket</td>\n",
       "      <td>True</td>\n",
       "      <td>True</td>\n",
       "    </tr>\n",
       "    <tr>\n",
       "      <th>715</th>\n",
       "      <td>1027</td>\n",
       "      <td>Westhampton</td>\n",
       "      <td>Westhampton</td>\n",
       "      <td>Hampshire</td>\n",
       "      <td>NaN</td>\n",
       "      <td>NaN</td>\n",
       "      <td>01027</td>\n",
       "      <td>Westhampton</td>\n",
       "      <td>Easthampton</td>\n",
       "      <td>True</td>\n",
       "      <td>True</td>\n",
       "    </tr>\n",
       "  </tbody>\n",
       "</table>\n",
       "<p>716 rows × 11 columns</p>\n",
       "</div>"
      ]
     },
     "metadata": {},
     "execution_count": 95
    }
   ],
   "metadata": {}
  },
  {
   "cell_type": "code",
   "execution_count": 96,
   "source": [
    "import zipcodes\n",
    "#zipcodes.filter_by(state=\"MA\", city=list(zipcode_mapping[pd.isna(zipcode_mapping.zip_cleaned)][\"Municipality\"]))\n",
    "munis_missing_zips = zipcode_mapping[pd.isna(zipcode_mapping.zip_cleaned)][\"Municipality\"]"
   ],
   "outputs": [],
   "metadata": {}
  },
  {
   "cell_type": "code",
   "execution_count": 97,
   "source": [
    "for muni in munis_missing_zips:\n",
    "    print(muni)"
   ],
   "outputs": [],
   "metadata": {}
  },
  {
   "cell_type": "code",
   "execution_count": 98,
   "source": [
    "ma_zipcodes = zipcode_mapping[~pd.isna(zipcode_mapping.zip_cleaned)][\"zip_cleaned\"]"
   ],
   "outputs": [],
   "metadata": {}
  },
  {
   "cell_type": "code",
   "execution_count": 99,
   "source": [
    "import itertools\n",
    "muni_zip_map = {}\n",
    "for zip in ma_zipcodes:\n",
    "    zip_hits = zipcodes.matching(zip)\n",
    "    alternative_towns = [(zip, ac, entry['county']) for entry in zip_hits for ac in entry['acceptable_cities']]\n",
    "    if len(alternative_towns) > 0:\n",
    "        print(alternative_towns)\n",
    "       "
   ],
   "outputs": [
    {
     "output_type": "stream",
     "name": "stdout",
     "text": [
      "[('01002', 'Cushman', 'Hampshire County'), ('01002', 'Pelham', 'Hampshire County')]\n",
      "[('01013', 'Willimansett', 'Hampden County')]\n",
      "[('01022', 'Westover Afb', 'Hampden County')]\n",
      "[('01027', 'E Hampton', 'Hampshire County'), ('01027', 'Mount Tom', 'Hampshire County'), ('01027', 'Westhampton', 'Hampshire County')]\n",
      "[('01028', 'E Longmeadow', 'Hampden County')]\n",
      "[('01034', 'Tolland', 'Hampden County')]\n",
      "[('01039', 'West Whately', 'Hampshire County')]\n",
      "[('01050', 'Montgomery', 'Hampshire County')]\n",
      "[('01059', 'Amherst', 'Hampshire County')]\n",
      "[('01062', 'Bay State Village', 'Hampshire County'), ('01062', 'Bay State Vlg', 'Hampshire County'), ('01062', 'Northampton', 'Hampshire County')]\n",
      "[('01066', 'N Hatfield', 'Hampshire County')]\n",
      "[('01082', 'Hardwick', 'Hampshire County')]\n",
      "[('01084', 'W Chesterfld', 'Hampshire County')]\n",
      "[('01085', 'Montgomery', 'Hampden County')]\n",
      "[('01088', 'W Hatfield', 'Hampshire County')]\n",
      "[('01089', 'W Springfield', 'Hampden County')]\n",
      "[('01090', 'W Springfield', 'Hampden County')]\n",
      "[('01106', 'Spfld', 'Hampden County'), ('01106', 'Springfield', 'Hampden County')]\n",
      "[('01116', 'E Longmeadow', 'Hampden County'), ('01116', 'East Longmeadow', 'Hampden County')]\n",
      "[('01151', 'Indian Orch', 'Hampden County'), ('01151', 'Springfield', 'Hampden County')]\n",
      "[('01195', 'Springfield Bmc', 'Hampden County')]\n",
      "[('01223', 'Washington', 'Berkshire County')]\n",
      "[('01224', 'Lanesboro', 'Berkshire County')]\n",
      "[('01230', 'Egremont', 'Berkshire County'), ('01230', 'Gt Barrington', 'Berkshire County'), ('01230', 'N Egremont', 'Berkshire County'), ('01230', 'New Marlboro', 'Berkshire County'), ('01230', 'New Marlborou', 'Berkshire County'), ('01230', 'New Marlborough', 'Berkshire County'), ('01230', 'North Egremont', 'Berkshire County'), ('01230', 'Simons Rock', 'Berkshire County')]\n",
      "[('01235', 'Peru', 'Berkshire County')]\n",
      "[('01237', 'Hancock', 'Berkshire County'), ('01237', 'New Ashford', 'Berkshire County')]\n",
      "[('01245', 'West Otis', 'Berkshire County')]\n",
      "[('01247', 'Clarksburg', 'Berkshire County'), ('01247', 'Florida', 'Berkshire County')]\n",
      "[('01252', 'N Egremont', 'Berkshire County')]\n",
      "[('01258', 'Mount Washington', 'Berkshire County'), ('01258', 'Mt Washington', 'Berkshire County'), ('01258', 'S Egremont', 'Berkshire County')]\n",
      "[('01264', 'Lee', 'Berkshire County')]\n",
      "[('01266', 'Alford', 'Berkshire County'), ('01266', 'W Stockbridge', 'Berkshire County')]\n",
      "[('01301', 'Leyden', 'Franklin County')]\n",
      "[('01331', 'Phillipston', 'Worcester County')]\n",
      "[('01337', 'Leyden', 'Franklin County')]\n",
      "[('01339', 'Hawley', 'Franklin County')]\n",
      "[('01340', 'Shattuckville', 'Franklin County')]\n",
      "[('01346', 'Charlemont', 'Franklin County')]\n",
      "[('01350', 'Monroe', 'Franklin County')]\n",
      "[('01354', 'Mount Hermon', 'Franklin County'), ('01354', 'Mt Hermon', 'Franklin County'), ('01354', 'Northfield Mount Hermon', 'Franklin County'), ('01354', 'Northfield Mt Hermon', 'Franklin County')]\n",
      "[('01364', 'Warwick', 'Franklin County')]\n",
      "[('01368', 'S Royalston', 'Worcester County')]\n",
      "[('01370', 'Shelburne Fls', 'Franklin County')]\n",
      "[('01373', 'S Deerfield', 'Franklin County')]\n",
      "[('01378', 'Orange', 'Franklin County')]\n",
      "[('01434', 'Ayer', 'Worcester County')]\n",
      "[('01438', 'E Templeton', 'Worcester County')]\n",
      "[('01464', 'Shirley Center', 'Middlesex County'), ('01464', 'Shirley Ctr', 'Middlesex County')]\n",
      "[('01474', 'Townsend', 'Middlesex County'), ('01474', 'W Townsend', 'Middlesex County')]\n",
      "[('01477', 'Winchdon Spgs', 'Worcester County')]\n",
      "[('01509', 'Charlton Dept', 'Worcester County'), ('01509', 'Charlton Dpt', 'Worcester County')]\n",
      "[('01515', 'E Brookfield', 'Worcester County')]\n",
      "[('01516', 'East Douglas', 'Worcester County')]\n",
      "[('01517', 'E Princeton', 'Worcester County')]\n",
      "[('01518', 'Sturbridge', 'Worcester County')]\n",
      "[('01521', 'Fiskdale', 'Hampden County')]\n",
      "[('01535', 'N Brookfield', 'Worcester County')]\n",
      "[('01538', 'N Uxbridge', 'Worcester County')]\n",
      "[('01561', 'S Lancaster', 'Worcester County')]\n",
      "[('01570', 'Dudley Hill', 'Worcester County')]\n",
      "[('01585', 'W Brookfield', 'Worcester County')]\n",
      "[('01586', 'Millbury', 'Worcester County')]\n",
      "[('01588', 'Linwood', 'Worcester County')]\n",
      "[('01590', 'Wilkinsonvile', 'Worcester County'), ('01590', 'Wilkinsonville', 'Worcester County')]\n",
      "[('01612', 'Worcester', 'Worcester County')]\n",
      "[('01718', 'Acton', 'Middlesex County'), ('01718', 'Vlg Nagog Wds', 'Middlesex County')]\n",
      "[('01719', 'Acton', 'Middlesex County'), ('01719', 'Boxboro', 'Middlesex County')]\n",
      "[('01731', 'Bedford', 'Middlesex County')]\n",
      "[('01745', 'Southborough', 'Worcester County')]\n",
      "[('01806', 'At&t', 'Middlesex County')]\n",
      "[('01824', 'Kates Corner', 'Middlesex County'), ('01824', 'S Chelmsford', 'Middlesex County')]\n",
      "[('01833', 'Haverhill', 'Essex County')]\n",
      "[('01835', 'Bradford', 'Essex County'), ('01835', 'Ward Hill', 'Essex County')]\n",
      "[('01862', 'N Billerica', 'Middlesex County')]\n",
      "[('01863', 'N Chelmsford', 'Middlesex County')]\n",
      "[('01904', 'East Lynn', 'Essex County')]\n",
      "[('01905', 'West Lynn', 'Essex County')]\n",
      "[('01922', 'Newbury', 'Essex County')]\n",
      "[('01944', 'Manchester By The Sea', 'Essex County')]\n",
      "[('01951', 'Newburyport', 'Essex County')]\n",
      "[('01952', 'Salisbury Bch', 'Essex County'), ('01952', 'Salisbury Beach', 'Essex County')]\n",
      "[('01965', 'Prides Crssng', 'Essex County')]\n",
      "[('01982', 'S Hamilton', 'Essex County')]\n",
      "[('02018', 'Hingham', 'Plymouth County')]\n",
      "[('02031', 'Mansfield', 'Bristol County'), ('02031', 'E Mansfield', 'Bristol County')]\n",
      "[('02035', 'Foxborough', 'Norfolk County')]\n",
      "[('02040', 'Scituate', 'Plymouth County')]\n",
      "[('02051', 'Marshfld Hls', 'Plymouth County')]\n",
      "[('02055', 'Scituate', 'Plymouth County')]\n",
      "[('02059', 'N Marshfield', 'Plymouth County')]\n",
      "[('02060', 'N Scituate', 'Plymouth County'), ('02060', 'Scituate', 'Plymouth County')]\n",
      "[('02065', 'Marshfield', 'Plymouth County')]\n",
      "[('02118', 'Roxbury', 'Suffolk County')]\n",
      "[('02119', 'Boston', 'Suffolk County')]\n",
      "[('02120', 'Boston', 'Suffolk County'), ('02120', 'Mission Hill', 'Suffolk County'), ('02120', 'Roxbury', 'Suffolk County'), ('02120', 'Roxbury Xing', 'Suffolk County')]\n",
      "[('02121', 'Boston', 'Suffolk County'), ('02121', 'Grove Hall', 'Suffolk County')]\n",
      "[('02122', 'Boston', 'Suffolk County')]\n",
      "[('02124', 'Boston', 'Suffolk County'), ('02124', 'Dorchester', 'Suffolk County'), ('02124', 'Dorchestr Ctr', 'Suffolk County')]\n",
      "[('02125', 'Boston', 'Suffolk County'), ('02125', 'Uphams Corner', 'Suffolk County')]\n",
      "[('02126', 'Boston', 'Suffolk County')]\n",
      "[('02127', 'South Boston', 'Suffolk County')]\n",
      "[('02128', 'East Boston', 'Suffolk County')]\n",
      "[('02129', 'Boston', 'Suffolk County')]\n",
      "[('02130', 'Boston', 'Suffolk County')]\n",
      "[('02131', 'Boston', 'Suffolk County')]\n",
      "[('02132', 'Boston', 'Suffolk County')]\n",
      "[('02134', 'Boston', 'Suffolk County')]\n",
      "[('02135', 'Boston', 'Suffolk County')]\n",
      "[('02136', 'Boston', 'Suffolk County'), ('02136', 'Readville', 'Suffolk County')]\n",
      "[('02137', 'Boston', 'Suffolk County'), ('02137', 'Hyde Park', 'Suffolk County')]\n",
      "[('02140', 'N Cambridge', 'Middlesex County'), ('02140', 'North Cambridge', 'Middlesex County')]\n",
      "[('02141', 'E Cambridge', 'Middlesex County'), ('02141', 'East Cambridge', 'Middlesex County')]\n",
      "[('02144', 'W Somerville', 'Middlesex County'), ('02144', 'West Somerville', 'Middlesex County')]\n",
      "[('02145', 'Winter Hill', 'Middlesex County')]\n",
      "[('02153', 'Tufts Univ', 'Middlesex County'), ('02153', 'Tufts University', 'Middlesex County')]\n",
      "[('02163', 'Cambridge', 'Suffolk County')]\n",
      "[('02170', 'Wollaston', 'Norfolk County')]\n",
      "[('02171', 'North Quincy', 'Norfolk County'), ('02171', 'Squantum', 'Norfolk County')]\n",
      "[('02187', 'Milton Vlg', 'Norfolk County')]\n",
      "[('02189', 'Weymouth', 'Norfolk County')]\n",
      "[('02190', 'S Weymouth', 'Norfolk County'), ('02190', 'Weymouth', 'Norfolk County')]\n",
      "[('02191', 'N Weymouth', 'Norfolk County'), ('02191', 'Weymouth', 'Norfolk County')]\n",
      "[('02228', 'Boston', 'Suffolk County')]\n",
      "[('02238', 'Harvard Sq', 'Middlesex County'), ('02238', 'Harvard Square', 'Middlesex County')]\n",
      "[('02239', 'Com/energy Services', 'Middlesex County')]\n",
      "[('02333', 'E Bridgewater', 'Plymouth County'), ('02333', 'E Bridgewtr', 'Plymouth County')]\n",
      "[('02344', 'Middleborough', 'Plymouth County')]\n",
      "[('02348', 'Middleboro', 'Plymouth County'), ('02348', 'Middleborough', 'Plymouth County')]\n",
      "[('02349', 'Middleborough', 'Plymouth County')]\n",
      "[('02357', 'Stonehill Col', 'Bristol County'), ('02357', 'Stonehill College', 'Bristol County')]\n",
      "[('02358', 'N Pembroke', 'Plymouth County')]\n",
      "[('02379', 'W Bridgewater', 'Plymouth County')]\n",
      "[('02381', 'Wht Horse Bch', 'Plymouth County')]\n",
      "[('02447', 'Brookline Vlg', 'Norfolk County')]\n",
      "[('02451', 'North Waltham', 'Middlesex County')]\n",
      "[('02452', 'North Waltham', 'Middlesex County')]\n",
      "[('02453', 'South Waltham', 'Middlesex County')]\n",
      "[('02458', 'Newtonville', 'Middlesex County')]\n",
      "[('02459', 'Newton', 'Middlesex County'), ('02459', 'Newton Centre', 'Middlesex County')]\n",
      "[('02460', 'Newton', 'Middlesex County')]\n",
      "[('02461', 'Newton', 'Middlesex County'), ('02461', 'Newton Hlds', 'Middlesex County')]\n",
      "[('02462', 'Newton', 'Middlesex County'), ('02462', 'Newton L F', 'Middlesex County'), ('02462', 'Newtonville', 'Middlesex County')]\n",
      "[('02464', 'Newton', 'Middlesex County'), ('02464', 'Newton U F', 'Middlesex County')]\n",
      "[('02465', 'Newton', 'Middlesex County')]\n",
      "[('02467', 'Boston Clg', 'Norfolk County'), ('02467', 'Boston College', 'Norfolk County')]\n",
      "[('02472', 'E Watertown', 'Middlesex County'), ('02472', 'East Watertown', 'Middlesex County')]\n",
      "[('02474', 'E Arlington', 'Middlesex County'), ('02474', 'East Arlington', 'Middlesex County')]\n",
      "[('02475', 'Arlington Hts', 'Middlesex County')]\n",
      "[('02481', 'Wellesley', 'Norfolk County'), ('02481', 'Wellesley Hls', 'Norfolk County')]\n",
      "[('02494', 'Needham', 'Norfolk County'), ('02494', 'Needham Hgts', 'Norfolk County')]\n",
      "[('02495', 'Newton', 'Middlesex County')]\n",
      "[('02532', 'Bourne', 'Barnstable County')]\n",
      "[('02535', 'Aquinnah', 'Dukes County'), ('02535', 'Gay Head', 'Dukes County')]\n",
      "[('02536', 'E Falmouth', 'Barnstable County'), ('02536', 'Ea Falmouth', 'Barnstable County'), ('02536', 'Hatchville', 'Barnstable County'), ('02536', 'Teaticket', 'Barnstable County'), ('02536', 'Waquoit', 'Barnstable County')]\n",
      "[('02537', 'E Sandwich', 'Barnstable County')]\n",
      "[('02538', 'E Wareham', 'Plymouth County')]\n",
      "[('02542', 'Otis Angb', 'Barnstable County')]\n",
      "[('02543', 'Falmouth', 'Barnstable County')]\n",
      "[('02553', 'Monument Bch', 'Barnstable County')]\n",
      "[('02556', 'N Falmouth', 'Barnstable County')]\n",
      "[('02562', 'Sagamore Bch', 'Barnstable County')]\n",
      "[('02564', 'Nantucket', 'Nantucket County')]\n",
      "[('02565', 'N Falmouth', 'Barnstable County'), ('02565', 'North Falmouth', 'Barnstable County')]\n",
      "[('02568', 'Vineyard Hvn', 'Dukes County')]\n",
      "[('02573', 'Vineyard Haven', 'Dukes County'), ('02573', 'Vineyard Hvn', 'Dukes County')]\n",
      "[('02574', 'W Falmouth', 'Barnstable County')]\n",
      "[('02639', 'Dennisport', 'Barnstable County')]\n",
      "[('02645', 'E Harwich', 'Barnstable County'), ('02645', 'East Harwich', 'Barnstable County')]\n",
      "[('02648', 'Marstons Mls', 'Barnstable County')]\n",
      "[('02663', 'S Wellfleet', 'Barnstable County')]\n",
      "[('02664', 'Bass River', 'Barnstable County'), ('02664', 'S Yarmouth', 'Barnstable County')]\n",
      "[('02668', 'W Barnstble', 'Barnstable County')]\n",
      "[('02672', 'W Hyannisprt', 'Barnstable County')]\n",
      "[('02673', 'W Yarmouth', 'Barnstable County')]\n",
      "[('02703', 'S Attleboro', 'Bristol County'), ('02703', 'South Attleboro', 'Bristol County')]\n",
      "[('02743', 'New Bedford', 'Bristol County')]\n",
      "[('02745', 'Acushnet', 'Bristol County')]\n",
      "[('02747', 'Dartmouth', 'Bristol County'), ('02747', 'N Dartmouth', 'Bristol County')]\n",
      "[('02748', 'Dartmouth', 'Bristol County'), ('02748', 'Nonquitt', 'Bristol County'), ('02748', 'S Dartmouth', 'Bristol County')]\n",
      "[('02760', 'N Attleboro', 'Bristol County')]\n",
      "[('02761', 'N Attleboro', 'Bristol County')]\n",
      "[('02763', 'Attleboro Fls', 'Bristol County'), ('02763', 'N Attleboro', 'Bristol County'), ('02763', 'North Attleboro', 'Bristol County')]\n",
      "[('02764', 'N Dighton', 'Bristol County')]\n",
      "[('02768', 'Raynham Ctr', 'Bristol County')]\n",
      "[('02791', 'Westport Pt', 'Bristol County')]\n",
      "[('02535', 'Aquinnah', 'Dukes County'), ('02535', 'Gay Head', 'Dukes County')]\n",
      "[('01247', 'Clarksburg', 'Berkshire County'), ('01247', 'Florida', 'Berkshire County')]\n",
      "[('01237', 'Hancock', 'Berkshire County'), ('01237', 'New Ashford', 'Berkshire County')]\n",
      "[('01339', 'Hawley', 'Franklin County')]\n",
      "[('01337', 'Leyden', 'Franklin County')]\n",
      "[('01085', 'Montgomery', 'Hampden County')]\n",
      "[('01258', 'Mount Washington', 'Berkshire County'), ('01258', 'Mt Washington', 'Berkshire County'), ('01258', 'S Egremont', 'Berkshire County')]\n",
      "[('01237', 'Hancock', 'Berkshire County'), ('01237', 'New Ashford', 'Berkshire County')]\n",
      "[('01002', 'Cushman', 'Hampshire County'), ('01002', 'Pelham', 'Hampshire County')]\n",
      "[('01331', 'Phillipston', 'Worcester County')]\n",
      "[('01223', 'Washington', 'Berkshire County')]\n",
      "[('01027', 'E Hampton', 'Hampshire County'), ('01027', 'Mount Tom', 'Hampshire County'), ('01027', 'Westhampton', 'Hampshire County')]\n"
     ]
    }
   ],
   "metadata": {
    "tags": []
   }
  },
  {
   "cell_type": "code",
   "execution_count": 100,
   "source": [
    "zm_df = ge.from_pandas(zipcode_mapping)"
   ],
   "outputs": [],
   "metadata": {}
  },
  {
   "cell_type": "code",
   "execution_count": 101,
   "source": [
    "zm_df.expect_column_distinct_values_to_equal_set(\"Municipality\", list(VALID_MUNIS[\"Municipality\"]))"
   ],
   "outputs": [
    {
     "output_type": "execute_result",
     "data": {
      "text/plain": [
       "{\n",
       "  \"result\": {\n",
       "    \"observed_value\": [\n",
       "      \"Abington\",\n",
       "      \"Acton\",\n",
       "      \"Acushnet\",\n",
       "      \"Adams\",\n",
       "      \"Agawam\",\n",
       "      \"Alford\",\n",
       "      \"Amesbury\",\n",
       "      \"Amherst\",\n",
       "      \"Andover\",\n",
       "      \"Aquinnah\",\n",
       "      \"Arlington\",\n",
       "      \"Ashburnham\",\n",
       "      \"Ashby\",\n",
       "      \"Ashfield\",\n",
       "      \"Ashland\",\n",
       "      \"Athol\",\n",
       "      \"Attleboro\",\n",
       "      \"Auburn\",\n",
       "      \"Avon\",\n",
       "      \"Ayer\",\n",
       "      \"Barnstable\",\n",
       "      \"Barre\",\n",
       "      \"Becket\",\n",
       "      \"Bedford\",\n",
       "      \"Belchertown\",\n",
       "      \"Bellingham\",\n",
       "      \"Belmont\",\n",
       "      \"Berkley\",\n",
       "      \"Berlin\",\n",
       "      \"Bernardston\",\n",
       "      \"Beverly\",\n",
       "      \"Billerica\",\n",
       "      \"Blackstone\",\n",
       "      \"Blandford\",\n",
       "      \"Bolton\",\n",
       "      \"Boston\",\n",
       "      \"Bourne\",\n",
       "      \"Boxborough\",\n",
       "      \"Boxford\",\n",
       "      \"Boylston\",\n",
       "      \"Braintree\",\n",
       "      \"Brewster\",\n",
       "      \"Bridgewater\",\n",
       "      \"Brimfield\",\n",
       "      \"Brockton\",\n",
       "      \"Brookfield\",\n",
       "      \"Brookline\",\n",
       "      \"Buckland\",\n",
       "      \"Burlington\",\n",
       "      \"Cambridge\",\n",
       "      \"Canton\",\n",
       "      \"Carlisle\",\n",
       "      \"Carver\",\n",
       "      \"Charlemont\",\n",
       "      \"Charlton\",\n",
       "      \"Chatham\",\n",
       "      \"Chelmsford\",\n",
       "      \"Chelsea\",\n",
       "      \"Cheshire\",\n",
       "      \"Chester\",\n",
       "      \"Chesterfield\",\n",
       "      \"Chicopee\",\n",
       "      \"Chilmark\",\n",
       "      \"Clarksburg\",\n",
       "      \"Clinton\",\n",
       "      \"Cohasset\",\n",
       "      \"Colrain\",\n",
       "      \"Concord\",\n",
       "      \"Conway\",\n",
       "      \"Cummington\",\n",
       "      \"Dalton\",\n",
       "      \"Danvers\",\n",
       "      \"Dartmouth\",\n",
       "      \"Dedham\",\n",
       "      \"Deerfield\",\n",
       "      \"Dennis\",\n",
       "      \"Dighton\",\n",
       "      \"Douglas\",\n",
       "      \"Dover\",\n",
       "      \"Dracut\",\n",
       "      \"Dudley\",\n",
       "      \"Dunstable\",\n",
       "      \"Duxbury\",\n",
       "      \"East Bridgewater\",\n",
       "      \"East Brookfield\",\n",
       "      \"East Longmeadow\",\n",
       "      \"Eastham\",\n",
       "      \"Easthampton\",\n",
       "      \"Easton\",\n",
       "      \"Edgartown\",\n",
       "      \"Egremont\",\n",
       "      \"Erving\",\n",
       "      \"Essex\",\n",
       "      \"Everett\",\n",
       "      \"Fairhaven\",\n",
       "      \"Fall River\",\n",
       "      \"Falmouth\",\n",
       "      \"Fitchburg\",\n",
       "      \"Florida\",\n",
       "      \"Foxborough\",\n",
       "      \"Framingham\",\n",
       "      \"Franklin\",\n",
       "      \"Freetown\",\n",
       "      \"Gardner\",\n",
       "      \"Georgetown\",\n",
       "      \"Gill\",\n",
       "      \"Gloucester\",\n",
       "      \"Goshen\",\n",
       "      \"Gosnold\",\n",
       "      \"Grafton\",\n",
       "      \"Granby\",\n",
       "      \"Granville\",\n",
       "      \"Great Barrington\",\n",
       "      \"Greenfield\",\n",
       "      \"Groton\",\n",
       "      \"Groveland\",\n",
       "      \"Hadley\",\n",
       "      \"Halifax\",\n",
       "      \"Hamilton\",\n",
       "      \"Hampden\",\n",
       "      \"Hancock\",\n",
       "      \"Hanover\",\n",
       "      \"Hanson\",\n",
       "      \"Hardwick\",\n",
       "      \"Harvard\",\n",
       "      \"Harwich\",\n",
       "      \"Hatfield\",\n",
       "      \"Hathorne\",\n",
       "      \"Haverhill\",\n",
       "      \"Hawley\",\n",
       "      \"Heath\",\n",
       "      \"Hingham\",\n",
       "      \"Hinsdale\",\n",
       "      \"Holbrook\",\n",
       "      \"Holden\",\n",
       "      \"Holland\",\n",
       "      \"Holliston\",\n",
       "      \"Holyoke\",\n",
       "      \"Hopedale\",\n",
       "      \"Hopkinton\",\n",
       "      \"Hubbardston\",\n",
       "      \"Hudson\",\n",
       "      \"Hull\",\n",
       "      \"Huntington\",\n",
       "      \"Ipswich\",\n",
       "      \"Kingston\",\n",
       "      \"Lakeville\",\n",
       "      \"Lancaster\",\n",
       "      \"Lanesborough\",\n",
       "      \"Lawrence\",\n",
       "      \"Lee\",\n",
       "      \"Leicester\",\n",
       "      \"Lenox\",\n",
       "      \"Leominster\",\n",
       "      \"Leverett\",\n",
       "      \"Lexington\",\n",
       "      \"Leyden\",\n",
       "      \"Lincoln\",\n",
       "      \"Littleton\",\n",
       "      \"Longmeadow\",\n",
       "      \"Lowell\",\n",
       "      \"Ludlow\",\n",
       "      \"Lunenburg\",\n",
       "      \"Lynn\",\n",
       "      \"Lynnfield\",\n",
       "      \"Malden\",\n",
       "      \"Manchester-by-the-Sea\",\n",
       "      \"Mansfield\",\n",
       "      \"Marblehead\",\n",
       "      \"Marion\",\n",
       "      \"Marlborough\",\n",
       "      \"Marshfield\",\n",
       "      \"Mashpee\",\n",
       "      \"Mattapoisett\",\n",
       "      \"Maynard\",\n",
       "      \"Medfield\",\n",
       "      \"Medford\",\n",
       "      \"Medway\",\n",
       "      \"Melrose\",\n",
       "      \"Mendon\",\n",
       "      \"Merrimac\",\n",
       "      \"Methuen\",\n",
       "      \"Middleborough\",\n",
       "      \"Middlefield\",\n",
       "      \"Middleton\",\n",
       "      \"Milford\",\n",
       "      \"Millbury\",\n",
       "      \"Millis\",\n",
       "      \"Millville\",\n",
       "      \"Milton\",\n",
       "      \"Monroe\",\n",
       "      \"Monson\",\n",
       "      \"Montague\",\n",
       "      \"Monterey\",\n",
       "      \"Montgomery\",\n",
       "      \"Mount Washington\",\n",
       "      \"Nahant\",\n",
       "      \"Nantucket\",\n",
       "      \"Natick\",\n",
       "      \"Needham\",\n",
       "      \"New Ashford\",\n",
       "      \"New Bedford\",\n",
       "      \"New Braintree\",\n",
       "      \"New Marlborough\",\n",
       "      \"New Salem\",\n",
       "      \"Newbury\",\n",
       "      \"Newburyport\",\n",
       "      \"Newton\",\n",
       "      \"Norfolk\",\n",
       "      \"North Adams\",\n",
       "      \"North Andover\",\n",
       "      \"North Attleboro\",\n",
       "      \"North Brookfield\",\n",
       "      \"North Reading\",\n",
       "      \"Northampton\",\n",
       "      \"Northborough\",\n",
       "      \"Northbridge\",\n",
       "      \"Northfield\",\n",
       "      \"Norton\",\n",
       "      \"Norwell\",\n",
       "      \"Norwood\",\n",
       "      \"Oak Bluffs\",\n",
       "      \"Oakham\",\n",
       "      \"Orange\",\n",
       "      \"Orleans\",\n",
       "      \"Otis\",\n",
       "      \"Oxford\",\n",
       "      \"Palmer\",\n",
       "      \"Paxton\",\n",
       "      \"Peabody\",\n",
       "      \"Pelham\",\n",
       "      \"Pembroke\",\n",
       "      \"Pepperell\",\n",
       "      \"Petersham\",\n",
       "      \"Phillipston\",\n",
       "      \"Pittsfield\",\n",
       "      \"Plainfield\",\n",
       "      \"Plainville\",\n",
       "      \"Plymouth\",\n",
       "      \"Plympton\",\n",
       "      \"Princeton\",\n",
       "      \"Provincetown\",\n",
       "      \"Quincy\",\n",
       "      \"Randolph\",\n",
       "      \"Raynham\",\n",
       "      \"Reading\",\n",
       "      \"Rehoboth\",\n",
       "      \"Revere\",\n",
       "      \"Richmond\",\n",
       "      \"Rochester\",\n",
       "      \"Rockland\",\n",
       "      \"Rockport\",\n",
       "      \"Rowe\",\n",
       "      \"Rowley\",\n",
       "      \"Royalston\",\n",
       "      \"Russell\",\n",
       "      \"Rutland\",\n",
       "      \"Salem\",\n",
       "      \"Salisbury\",\n",
       "      \"Sandisfield\",\n",
       "      \"Sandwich\",\n",
       "      \"Saugus\",\n",
       "      \"Savoy\",\n",
       "      \"Scituate\",\n",
       "      \"Seekonk\",\n",
       "      \"Sharon\",\n",
       "      \"Sheffield\",\n",
       "      \"Shelburne\",\n",
       "      \"Sherborn\",\n",
       "      \"Shirley\",\n",
       "      \"Shrewsbury\",\n",
       "      \"Shutesbury\",\n",
       "      \"Somerset\",\n",
       "      \"Somerville\",\n",
       "      \"South Hadley\",\n",
       "      \"Southampton\",\n",
       "      \"Southborough\",\n",
       "      \"Southbridge\",\n",
       "      \"Southwick\",\n",
       "      \"Spencer\",\n",
       "      \"Springfield\",\n",
       "      \"Sterling\",\n",
       "      \"Stockbridge\",\n",
       "      \"Stoneham\",\n",
       "      \"Stoughton\",\n",
       "      \"Stow\",\n",
       "      \"Sturbridge\",\n",
       "      \"Sudbury\",\n",
       "      \"Sunderland\",\n",
       "      \"Sutton\",\n",
       "      \"Swampscott\",\n",
       "      \"Swansea\",\n",
       "      \"Taunton\",\n",
       "      \"Templeton\",\n",
       "      \"Tewksbury\",\n",
       "      \"Tisbury\",\n",
       "      \"Topsfield\",\n",
       "      \"Townsend\",\n",
       "      \"Truro\",\n",
       "      \"Tyngsborough\",\n",
       "      \"Tyringham\",\n",
       "      \"Upton\",\n",
       "      \"Uxbridge\",\n",
       "      \"Wakefield\",\n",
       "      \"Wales\",\n",
       "      \"Walpole\",\n",
       "      \"Waltham\",\n",
       "      \"Ware\",\n",
       "      \"Wareham\",\n",
       "      \"Warren\",\n",
       "      \"Warwick\",\n",
       "      \"Washington\",\n",
       "      \"Watertown\",\n",
       "      \"Wayland\",\n",
       "      \"Webster\",\n",
       "      \"Wellesley\",\n",
       "      \"Wellfleet\",\n",
       "      \"Wendell\",\n",
       "      \"Wenham\",\n",
       "      \"West Boylston\",\n",
       "      \"West Bridgewater\",\n",
       "      \"West Brookfield\",\n",
       "      \"West Newbury\",\n",
       "      \"West Springfield\",\n",
       "      \"West Stockbridge\",\n",
       "      \"West Tisbury\",\n",
       "      \"Westborough\",\n",
       "      \"Westfield\",\n",
       "      \"Westford\",\n",
       "      \"Westhampton\",\n",
       "      \"Westminster\",\n",
       "      \"Weston\",\n",
       "      \"Westport\",\n",
       "      \"Westwood\",\n",
       "      \"Weymouth\",\n",
       "      \"Whately\",\n",
       "      \"Whitman\",\n",
       "      \"Wilbraham\",\n",
       "      \"Williamsburg\",\n",
       "      \"Williamstown\",\n",
       "      \"Wilmington\",\n",
       "      \"Winchendon\",\n",
       "      \"Winchester\",\n",
       "      \"Windsor\",\n",
       "      \"Winthrop\",\n",
       "      \"Woburn\",\n",
       "      \"Worcester\",\n",
       "      \"Worthington\",\n",
       "      \"Wrentham\",\n",
       "      \"Yarmouth\"\n",
       "    ],\n",
       "    \"element_count\": 716,\n",
       "    \"missing_count\": null,\n",
       "    \"missing_percent\": null\n",
       "  },\n",
       "  \"exception_info\": {\n",
       "    \"raised_exception\": false,\n",
       "    \"exception_traceback\": null,\n",
       "    \"exception_message\": null\n",
       "  },\n",
       "  \"meta\": {},\n",
       "  \"success\": true\n",
       "}"
      ]
     },
     "metadata": {},
     "execution_count": 101
    }
   ],
   "metadata": {}
  },
  {
   "cell_type": "code",
   "execution_count": null,
   "source": [],
   "outputs": [],
   "metadata": {}
  },
  {
   "cell_type": "markdown",
   "source": [
    "# Output Data Quality Checks"
   ],
   "metadata": {}
  },
  {
   "cell_type": "code",
   "execution_count": 5,
   "source": [
    "summarized = ge.from_pandas(rs.load_summarized_metrics())"
   ],
   "outputs": [],
   "metadata": {}
  },
  {
   "cell_type": "code",
   "execution_count": 6,
   "source": [
    "summarized.shape"
   ],
   "outputs": [
    {
     "output_type": "execute_result",
     "data": {
      "text/plain": [
       "(29539, 8)"
      ]
     },
     "metadata": {},
     "execution_count": 6
    }
   ],
   "metadata": {}
  },
  {
   "cell_type": "code",
   "execution_count": 7,
   "source": [
    "result = summarized.expect_table_row_count_to_be_between(24000, 40000)  \n",
    "print(result)\n",
    "assert result.success"
   ],
   "outputs": [
    {
     "output_type": "stream",
     "name": "stdout",
     "text": [
      "{\n",
      "  \"success\": true,\n",
      "  \"expectation_config\": {\n",
      "    \"expectation_type\": \"expect_table_row_count_to_be_between\",\n",
      "    \"kwargs\": {\n",
      "      \"min_value\": 24000,\n",
      "      \"max_value\": 40000,\n",
      "      \"result_format\": \"BASIC\"\n",
      "    },\n",
      "    \"meta\": {}\n",
      "  },\n",
      "  \"exception_info\": {\n",
      "    \"raised_exception\": false,\n",
      "    \"exception_traceback\": null,\n",
      "    \"exception_message\": null\n",
      "  },\n",
      "  \"result\": {\n",
      "    \"observed_value\": 29539\n",
      "  },\n",
      "  \"meta\": {}\n",
      "}\n"
     ]
    }
   ],
   "metadata": {}
  },
  {
   "cell_type": "code",
   "execution_count": 8,
   "source": [
    "summarized.head()"
   ],
   "outputs": [
    {
     "output_type": "execute_result",
     "data": {
      "text/plain": [
       "                zipcodes start_date   end_date             technology  \\\n",
       "locale                                                                  \n",
       "Abington         [02351] 2016-03-16 2019-04-10  Air-source Heat Pumps   \n",
       "Acton     [01718, 01720] 2015-05-06 2019-05-08  Air-source Heat Pumps   \n",
       "Acushnet         [02743] 2016-01-13 2019-06-26  Air-source Heat Pumps   \n",
       "Adams            [01220] 2018-10-11 2018-10-11  Air-source Heat Pumps   \n",
       "Agawam    [01001, 01030] 2015-01-15 2019-05-08  Air-source Heat Pumps   \n",
       "\n",
       "               sector value_unit        metric_name  value  \n",
       "locale                                                      \n",
       "Abington  Residential      count  Number of Rebates   23.0  \n",
       "Acton     Residential      count  Number of Rebates  131.0  \n",
       "Acushnet  Residential      count  Number of Rebates   44.0  \n",
       "Adams     Residential      count  Number of Rebates    1.0  \n",
       "Agawam    Residential      count  Number of Rebates   93.0  "
      ],
      "text/html": [
       "<div>\n",
       "<style scoped>\n",
       "    .dataframe tbody tr th:only-of-type {\n",
       "        vertical-align: middle;\n",
       "    }\n",
       "\n",
       "    .dataframe tbody tr th {\n",
       "        vertical-align: top;\n",
       "    }\n",
       "\n",
       "    .dataframe thead th {\n",
       "        text-align: right;\n",
       "    }\n",
       "</style>\n",
       "<table border=\"1\" class=\"dataframe\">\n",
       "  <thead>\n",
       "    <tr style=\"text-align: right;\">\n",
       "      <th></th>\n",
       "      <th>zipcodes</th>\n",
       "      <th>start_date</th>\n",
       "      <th>end_date</th>\n",
       "      <th>technology</th>\n",
       "      <th>sector</th>\n",
       "      <th>value_unit</th>\n",
       "      <th>metric_name</th>\n",
       "      <th>value</th>\n",
       "    </tr>\n",
       "    <tr>\n",
       "      <th>locale</th>\n",
       "      <th></th>\n",
       "      <th></th>\n",
       "      <th></th>\n",
       "      <th></th>\n",
       "      <th></th>\n",
       "      <th></th>\n",
       "      <th></th>\n",
       "      <th></th>\n",
       "    </tr>\n",
       "  </thead>\n",
       "  <tbody>\n",
       "    <tr>\n",
       "      <th>Abington</th>\n",
       "      <td>[02351]</td>\n",
       "      <td>2016-03-16</td>\n",
       "      <td>2019-04-10</td>\n",
       "      <td>Air-source Heat Pumps</td>\n",
       "      <td>Residential</td>\n",
       "      <td>count</td>\n",
       "      <td>Number of Rebates</td>\n",
       "      <td>23.0</td>\n",
       "    </tr>\n",
       "    <tr>\n",
       "      <th>Acton</th>\n",
       "      <td>[01718, 01720]</td>\n",
       "      <td>2015-05-06</td>\n",
       "      <td>2019-05-08</td>\n",
       "      <td>Air-source Heat Pumps</td>\n",
       "      <td>Residential</td>\n",
       "      <td>count</td>\n",
       "      <td>Number of Rebates</td>\n",
       "      <td>131.0</td>\n",
       "    </tr>\n",
       "    <tr>\n",
       "      <th>Acushnet</th>\n",
       "      <td>[02743]</td>\n",
       "      <td>2016-01-13</td>\n",
       "      <td>2019-06-26</td>\n",
       "      <td>Air-source Heat Pumps</td>\n",
       "      <td>Residential</td>\n",
       "      <td>count</td>\n",
       "      <td>Number of Rebates</td>\n",
       "      <td>44.0</td>\n",
       "    </tr>\n",
       "    <tr>\n",
       "      <th>Adams</th>\n",
       "      <td>[01220]</td>\n",
       "      <td>2018-10-11</td>\n",
       "      <td>2018-10-11</td>\n",
       "      <td>Air-source Heat Pumps</td>\n",
       "      <td>Residential</td>\n",
       "      <td>count</td>\n",
       "      <td>Number of Rebates</td>\n",
       "      <td>1.0</td>\n",
       "    </tr>\n",
       "    <tr>\n",
       "      <th>Agawam</th>\n",
       "      <td>[01001, 01030]</td>\n",
       "      <td>2015-01-15</td>\n",
       "      <td>2019-05-08</td>\n",
       "      <td>Air-source Heat Pumps</td>\n",
       "      <td>Residential</td>\n",
       "      <td>count</td>\n",
       "      <td>Number of Rebates</td>\n",
       "      <td>93.0</td>\n",
       "    </tr>\n",
       "  </tbody>\n",
       "</table>\n",
       "</div>"
      ]
     },
     "metadata": {},
     "execution_count": 8
    }
   ],
   "metadata": {}
  },
  {
   "cell_type": "code",
   "execution_count": 9,
   "source": [
    "for column in [\"zipcodes\", \"start_date\", \"end_date\", \"technology\", \"sector\", \"value_unit\", \"metric_name\", \"value\"]:\n",
    "    \n",
    "    result = summarized.expect_column_to_exist(column)\n",
    "    print(result)\n",
    "    assert result.success"
   ],
   "outputs": [
    {
     "output_type": "stream",
     "name": "stdout",
     "text": [
      "{\n",
      "  \"success\": true,\n",
      "  \"expectation_config\": {\n",
      "    \"expectation_type\": \"expect_column_to_exist\",\n",
      "    \"kwargs\": {\n",
      "      \"column\": \"zipcodes\",\n",
      "      \"result_format\": \"BASIC\"\n",
      "    },\n",
      "    \"meta\": {}\n",
      "  },\n",
      "  \"exception_info\": {\n",
      "    \"raised_exception\": false,\n",
      "    \"exception_traceback\": null,\n",
      "    \"exception_message\": null\n",
      "  },\n",
      "  \"result\": {},\n",
      "  \"meta\": {}\n",
      "}\n",
      "{\n",
      "  \"success\": true,\n",
      "  \"expectation_config\": {\n",
      "    \"expectation_type\": \"expect_column_to_exist\",\n",
      "    \"kwargs\": {\n",
      "      \"column\": \"start_date\",\n",
      "      \"result_format\": \"BASIC\"\n",
      "    },\n",
      "    \"meta\": {}\n",
      "  },\n",
      "  \"exception_info\": {\n",
      "    \"raised_exception\": false,\n",
      "    \"exception_traceback\": null,\n",
      "    \"exception_message\": null\n",
      "  },\n",
      "  \"result\": {},\n",
      "  \"meta\": {}\n",
      "}\n",
      "{\n",
      "  \"success\": true,\n",
      "  \"expectation_config\": {\n",
      "    \"expectation_type\": \"expect_column_to_exist\",\n",
      "    \"kwargs\": {\n",
      "      \"column\": \"end_date\",\n",
      "      \"result_format\": \"BASIC\"\n",
      "    },\n",
      "    \"meta\": {}\n",
      "  },\n",
      "  \"exception_info\": {\n",
      "    \"raised_exception\": false,\n",
      "    \"exception_traceback\": null,\n",
      "    \"exception_message\": null\n",
      "  },\n",
      "  \"result\": {},\n",
      "  \"meta\": {}\n",
      "}\n",
      "{\n",
      "  \"success\": true,\n",
      "  \"expectation_config\": {\n",
      "    \"expectation_type\": \"expect_column_to_exist\",\n",
      "    \"kwargs\": {\n",
      "      \"column\": \"technology\",\n",
      "      \"result_format\": \"BASIC\"\n",
      "    },\n",
      "    \"meta\": {}\n",
      "  },\n",
      "  \"exception_info\": {\n",
      "    \"raised_exception\": false,\n",
      "    \"exception_traceback\": null,\n",
      "    \"exception_message\": null\n",
      "  },\n",
      "  \"result\": {},\n",
      "  \"meta\": {}\n",
      "}\n",
      "{\n",
      "  \"success\": true,\n",
      "  \"expectation_config\": {\n",
      "    \"expectation_type\": \"expect_column_to_exist\",\n",
      "    \"kwargs\": {\n",
      "      \"column\": \"sector\",\n",
      "      \"result_format\": \"BASIC\"\n",
      "    },\n",
      "    \"meta\": {}\n",
      "  },\n",
      "  \"exception_info\": {\n",
      "    \"raised_exception\": false,\n",
      "    \"exception_traceback\": null,\n",
      "    \"exception_message\": null\n",
      "  },\n",
      "  \"result\": {},\n",
      "  \"meta\": {}\n",
      "}\n",
      "{\n",
      "  \"success\": true,\n",
      "  \"expectation_config\": {\n",
      "    \"expectation_type\": \"expect_column_to_exist\",\n",
      "    \"kwargs\": {\n",
      "      \"column\": \"value_unit\",\n",
      "      \"result_format\": \"BASIC\"\n",
      "    },\n",
      "    \"meta\": {}\n",
      "  },\n",
      "  \"exception_info\": {\n",
      "    \"raised_exception\": false,\n",
      "    \"exception_traceback\": null,\n",
      "    \"exception_message\": null\n",
      "  },\n",
      "  \"result\": {},\n",
      "  \"meta\": {}\n",
      "}\n",
      "{\n",
      "  \"success\": true,\n",
      "  \"expectation_config\": {\n",
      "    \"expectation_type\": \"expect_column_to_exist\",\n",
      "    \"kwargs\": {\n",
      "      \"column\": \"metric_name\",\n",
      "      \"result_format\": \"BASIC\"\n",
      "    },\n",
      "    \"meta\": {}\n",
      "  },\n",
      "  \"exception_info\": {\n",
      "    \"raised_exception\": false,\n",
      "    \"exception_traceback\": null,\n",
      "    \"exception_message\": null\n",
      "  },\n",
      "  \"result\": {},\n",
      "  \"meta\": {}\n",
      "}\n",
      "{\n",
      "  \"success\": true,\n",
      "  \"expectation_config\": {\n",
      "    \"expectation_type\": \"expect_column_to_exist\",\n",
      "    \"kwargs\": {\n",
      "      \"column\": \"value\",\n",
      "      \"result_format\": \"BASIC\"\n",
      "    },\n",
      "    \"meta\": {}\n",
      "  },\n",
      "  \"exception_info\": {\n",
      "    \"raised_exception\": false,\n",
      "    \"exception_traceback\": null,\n",
      "    \"exception_message\": null\n",
      "  },\n",
      "  \"result\": {},\n",
      "  \"meta\": {}\n",
      "}\n"
     ]
    }
   ],
   "metadata": {}
  },
  {
   "cell_type": "code",
   "execution_count": 10,
   "source": [
    "result = summarized.expect_column_distinct_values_to_equal_set(\"technology\", \n",
    "                                                      [\n",
    "                                                          \"Air-source Heat Pumps\",\n",
    "                                                          \"Ground-source Heat Pumps\",\n",
    "                                                          \"Solar Panels\",\n",
    "                                                          \"EVs\"\n",
    "                                                      ])\n",
    "print(result)\n",
    "assert result.success"
   ],
   "outputs": [
    {
     "output_type": "stream",
     "name": "stdout",
     "text": [
      "{\n",
      "  \"success\": true,\n",
      "  \"expectation_config\": {\n",
      "    \"expectation_type\": \"expect_column_distinct_values_to_equal_set\",\n",
      "    \"kwargs\": {\n",
      "      \"column\": \"technology\",\n",
      "      \"value_set\": [\n",
      "        \"Air-source Heat Pumps\",\n",
      "        \"Ground-source Heat Pumps\",\n",
      "        \"Solar Panels\",\n",
      "        \"EVs\"\n",
      "      ],\n",
      "      \"result_format\": \"BASIC\"\n",
      "    },\n",
      "    \"meta\": {}\n",
      "  },\n",
      "  \"exception_info\": {\n",
      "    \"raised_exception\": false,\n",
      "    \"exception_traceback\": null,\n",
      "    \"exception_message\": null\n",
      "  },\n",
      "  \"result\": {\n",
      "    \"observed_value\": [\n",
      "      \"Air-source Heat Pumps\",\n",
      "      \"EVs\",\n",
      "      \"Ground-source Heat Pumps\",\n",
      "      \"Solar Panels\"\n",
      "    ],\n",
      "    \"element_count\": 29539,\n",
      "    \"missing_count\": null,\n",
      "    \"missing_percent\": null\n",
      "  },\n",
      "  \"meta\": {}\n",
      "}\n"
     ]
    }
   ],
   "metadata": {}
  },
  {
   "cell_type": "code",
   "execution_count": 11,
   "source": [
    "result = summarized.expect_column_distinct_values_to_contain_set(\"metric_name\",\n",
    "                                                       [\n",
    "                                                        'Number of Rebates', \n",
    "                                                        'Total Rebate Value', \n",
    "                                                        'Average Rebate Value',\n",
    "                                                        'Total Cost',\n",
    "                                                        'Average Cost',\n",
    "                                                        'Number of generation facilities',\n",
    "                                                        'Total Generation Capacity',\n",
    "                                                        'Average Generation Capacity'\n",
    "                                                       ])\n",
    "print(result)\n",
    "assert result.success"
   ],
   "outputs": [
    {
     "output_type": "stream",
     "name": "stdout",
     "text": [
      "{\n",
      "  \"success\": true,\n",
      "  \"expectation_config\": {\n",
      "    \"expectation_type\": \"expect_column_distinct_values_to_contain_set\",\n",
      "    \"kwargs\": {\n",
      "      \"column\": \"metric_name\",\n",
      "      \"value_set\": [\n",
      "        \"Number of Rebates\",\n",
      "        \"Total Rebate Value\",\n",
      "        \"Average Rebate Value\",\n",
      "        \"Total Cost\",\n",
      "        \"Average Cost\",\n",
      "        \"Number of generation facilities\",\n",
      "        \"Total Generation Capacity\",\n",
      "        \"Average Generation Capacity\"\n",
      "      ],\n",
      "      \"result_format\": \"BASIC\"\n",
      "    },\n",
      "    \"meta\": {}\n",
      "  },\n",
      "  \"exception_info\": {\n",
      "    \"raised_exception\": false,\n",
      "    \"exception_traceback\": null,\n",
      "    \"exception_message\": null\n",
      "  },\n",
      "  \"result\": {\n",
      "    \"observed_value\": [\n",
      "      \"Average Cost\",\n",
      "      \"Average Generation Capacity\",\n",
      "      \"Average Rebate Value\",\n",
      "      \"Number of Rebates\",\n",
      "      \"Number of generation facilities\",\n",
      "      \"Total Cost\",\n",
      "      \"Total Generation Capacity\",\n",
      "      \"Total Rebate Value\"\n",
      "    ],\n",
      "    \"element_count\": 29539,\n",
      "    \"missing_count\": null,\n",
      "    \"missing_percent\": null\n",
      "  },\n",
      "  \"meta\": {}\n",
      "}\n"
     ]
    }
   ],
   "metadata": {}
  },
  {
   "cell_type": "code",
   "execution_count": 12,
   "source": [
    "result = summarized.expect_column_distinct_values_to_contain_set(\"sector\",\n",
    "                                                       ['Residential', \n",
    "                                                        'Residential and Small Scale', \n",
    "                                                        'Consumer', \n",
    "                                                        'All',\n",
    "                                                        'Commercial / Office', 'Industrial',\n",
    "                                                        'Multi-family residential (4 or more dwelling units per building)',\n",
    "                                                        'Municipal - K-12 School', 'Other',\n",
    "                                                        'Residential (3 or fewer dwelling units per building)', 'Retail',\n",
    "                                                        'Agricultural', 'Municipal / Government / Public',\n",
    "                                                        'Restaurant / Food Service', 'School (K-12)', 'State',\n",
    "                                                        'Community Solar', 'College / University', 'Religious',\n",
    "                                                        'Mixed use (commercial & residential)',\n",
    "                                                        'State - College/University', 'Hospital / Health Care', 'Federal'\n",
    "                                                       ])\n",
    "print(result)\n",
    "assert result.success"
   ],
   "outputs": [
    {
     "output_type": "stream",
     "name": "stdout",
     "text": [
      "{\n",
      "  \"success\": true,\n",
      "  \"expectation_config\": {\n",
      "    \"expectation_type\": \"expect_column_distinct_values_to_contain_set\",\n",
      "    \"kwargs\": {\n",
      "      \"column\": \"sector\",\n",
      "      \"value_set\": [\n",
      "        \"Residential\",\n",
      "        \"Residential and Small Scale\",\n",
      "        \"Consumer\",\n",
      "        \"All\",\n",
      "        \"Commercial / Office\",\n",
      "        \"Industrial\",\n",
      "        \"Multi-family residential (4 or more dwelling units per building)\",\n",
      "        \"Municipal - K-12 School\",\n",
      "        \"Other\",\n",
      "        \"Residential (3 or fewer dwelling units per building)\",\n",
      "        \"Retail\",\n",
      "        \"Agricultural\",\n",
      "        \"Municipal / Government / Public\",\n",
      "        \"Restaurant / Food Service\",\n",
      "        \"School (K-12)\",\n",
      "        \"State\",\n",
      "        \"Community Solar\",\n",
      "        \"College / University\",\n",
      "        \"Religious\",\n",
      "        \"Mixed use (commercial & residential)\",\n",
      "        \"State - College/University\",\n",
      "        \"Hospital / Health Care\",\n",
      "        \"Federal\"\n",
      "      ],\n",
      "      \"result_format\": \"BASIC\"\n",
      "    },\n",
      "    \"meta\": {}\n",
      "  },\n",
      "  \"exception_info\": {\n",
      "    \"raised_exception\": false,\n",
      "    \"exception_traceback\": null,\n",
      "    \"exception_message\": null\n",
      "  },\n",
      "  \"result\": {\n",
      "    \"observed_value\": [\n",
      "      \"Agricultural\",\n",
      "      \"All\",\n",
      "      \"College / University\",\n",
      "      \"Commercial / Office\",\n",
      "      \"Community Solar\",\n",
      "      \"Consumer\",\n",
      "      \"Federal\",\n",
      "      \"Hospital / Health Care\",\n",
      "      \"Industrial\",\n",
      "      \"Mixed use (commercial & residential)\",\n",
      "      \"Multi-family residential (4 or more dwelling units per building)\",\n",
      "      \"Municipal - K-12 School\",\n",
      "      \"Municipal / Government / Public\",\n",
      "      \"Other\",\n",
      "      \"Religious\",\n",
      "      \"Residential\",\n",
      "      \"Residential (3 or fewer dwelling units per building)\",\n",
      "      \"Residential and Small Scale\",\n",
      "      \"Restaurant / Food Service\",\n",
      "      \"Retail\",\n",
      "      \"School (K-12)\",\n",
      "      \"State\",\n",
      "      \"State - College/University\"\n",
      "    ],\n",
      "    \"element_count\": 29539,\n",
      "    \"missing_count\": null,\n",
      "    \"missing_percent\": null\n",
      "  },\n",
      "  \"meta\": {}\n",
      "}\n"
     ]
    }
   ],
   "metadata": {}
  },
  {
   "cell_type": "code",
   "execution_count": 13,
   "source": [
    "result = summarized.expect_column_values_to_be_of_type(\"value\", \"float64\")\n",
    "print(result)\n",
    "assert result.success"
   ],
   "outputs": [
    {
     "output_type": "stream",
     "name": "stdout",
     "text": [
      "{\n",
      "  \"success\": true,\n",
      "  \"expectation_config\": {\n",
      "    \"expectation_type\": \"_expect_column_values_to_be_of_type__aggregate\",\n",
      "    \"kwargs\": {\n",
      "      \"column\": \"value\",\n",
      "      \"type_\": \"float64\",\n",
      "      \"result_format\": \"BASIC\"\n",
      "    },\n",
      "    \"meta\": {}\n",
      "  },\n",
      "  \"exception_info\": {\n",
      "    \"raised_exception\": false,\n",
      "    \"exception_traceback\": null,\n",
      "    \"exception_message\": null\n",
      "  },\n",
      "  \"result\": {\n",
      "    \"observed_value\": \"float64\"\n",
      "  },\n",
      "  \"meta\": {}\n",
      "}\n"
     ]
    }
   ],
   "metadata": {}
  },
  {
   "cell_type": "code",
   "execution_count": null,
   "source": [
    "summarized.expect_"
   ],
   "outputs": [],
   "metadata": {}
  },
  {
   "cell_type": "code",
   "execution_count": 22,
   "source": [
    "len(summarized.index)"
   ],
   "outputs": [
    {
     "output_type": "execute_result",
     "data": {
      "text/plain": [
       "29539"
      ]
     },
     "metadata": {},
     "execution_count": 22
    }
   ],
   "metadata": {}
  },
  {
   "cell_type": "code",
   "execution_count": 31,
   "source": [
    "munis = [muni for muni in summarized.index.unique() if not muni.isdigit()]"
   ],
   "outputs": [],
   "metadata": {}
  },
  {
   "cell_type": "code",
   "execution_count": 24,
   "source": [
    "set(summarized.index.unique())"
   ],
   "outputs": [
    {
     "output_type": "execute_result",
     "data": {
      "text/plain": [
       "Index(['Abington', 'Acton', 'Acushnet', 'Adams', 'Agawam', 'Amesbury',\n",
       "       'Amherst', 'Andover', 'Aquinnah', 'Arlington',\n",
       "       ...\n",
       "       '02269', '02303', '02325', '02334', '02361', '02454', '02541', '02714',\n",
       "       '02722', '02783'],\n",
       "      dtype='object', name='locale', length=1076)"
      ]
     },
     "metadata": {},
     "execution_count": 24
    }
   ],
   "metadata": {}
  },
  {
   "cell_type": "code",
   "execution_count": 25,
   "source": [
    "VALID_MUNIS = pd.read_excel(rp.RAW_DATA_FILES[\"zip_code_community\"], sheet_name=\"351 Mass Munis\")"
   ],
   "outputs": [],
   "metadata": {}
  },
  {
   "cell_type": "code",
   "execution_count": 27,
   "source": [
    "VALID_MUNIS['Municipality']"
   ],
   "outputs": [
    {
     "output_type": "execute_result",
     "data": {
      "text/plain": [
       "0         Abington\n",
       "1            Acton\n",
       "2         Acushnet\n",
       "3            Adams\n",
       "4           Agawam\n",
       "          ...     \n",
       "345         Woburn\n",
       "346      Worcester\n",
       "347    Worthington\n",
       "348       Wrentham\n",
       "349       Yarmouth\n",
       "Name: Municipality, Length: 350, dtype: object"
      ]
     },
     "metadata": {},
     "execution_count": 27
    }
   ],
   "metadata": {}
  },
  {
   "cell_type": "code",
   "execution_count": 35,
   "source": [
    "set(munis).difference(VALID_MUNIS['Municipality'])"
   ],
   "outputs": [
    {
     "output_type": "execute_result",
     "data": {
      "text/plain": [
       "{'',\n",
       " 'Allston',\n",
       " 'Ashley Falls',\n",
       " 'Assonet',\n",
       " 'Attleboro Falls',\n",
       " 'Auburndale',\n",
       " 'Baldwinville',\n",
       " 'Bondsville',\n",
       " 'Brighton',\n",
       " 'Buzzards Bay',\n",
       " 'Byfield',\n",
       " 'Cataumet',\n",
       " 'Centerville',\n",
       " 'Charlestown',\n",
       " 'Charlton City',\n",
       " 'Charlton Depot',\n",
       " 'Cherry Valley',\n",
       " 'Chestnut Hill',\n",
       " 'Cotuit',\n",
       " 'Cummaquid',\n",
       " 'Dennis Port',\n",
       " 'Devens',\n",
       " 'Dorchester',\n",
       " 'Dorchester Center',\n",
       " 'East Dennis',\n",
       " 'East Falmouth',\n",
       " 'East Freetown',\n",
       " 'East Orleans',\n",
       " 'East Otis',\n",
       " 'East Sandwich',\n",
       " 'East Taunton',\n",
       " 'East Templeton',\n",
       " 'East Walpole',\n",
       " 'East Wareham',\n",
       " 'East Weymouth',\n",
       " 'Fayville',\n",
       " 'Feeding Hills',\n",
       " 'Fiskdale',\n",
       " 'Florence',\n",
       " 'Forestdale',\n",
       " 'Foxboro',\n",
       " 'Gilbertville',\n",
       " 'Glendale',\n",
       " 'Greenbush',\n",
       " 'Hanscom Afb',\n",
       " 'Harwich Port',\n",
       " 'Haydenville',\n",
       " 'Housatonic',\n",
       " 'Humarock',\n",
       " 'Hyannis',\n",
       " 'Hyannis Port',\n",
       " 'Hyde Park',\n",
       " 'INVALID',\n",
       " 'Indian Orchard',\n",
       " 'Jamaica Plain',\n",
       " 'Jefferson',\n",
       " 'Lake Pleasant',\n",
       " 'Lanesboro',\n",
       " 'Leeds',\n",
       " 'Linwood',\n",
       " 'Manchaug',\n",
       " 'Manchester',\n",
       " 'Manomet',\n",
       " 'Marshfield Hills',\n",
       " 'Marstons Mills',\n",
       " 'Mattapan',\n",
       " 'Middleboro',\n",
       " 'Mill River',\n",
       " 'Millers Falls',\n",
       " 'Monroe Bridge',\n",
       " 'Monument Beach',\n",
       " 'Needham Heights',\n",
       " 'Newton Center',\n",
       " 'Newton Highlands',\n",
       " 'Newton Lower Falls',\n",
       " 'Newton Upper Falls',\n",
       " 'Newtonville',\n",
       " 'North Amherst',\n",
       " 'North Billerica',\n",
       " 'North Chatham',\n",
       " 'North Chelmsford',\n",
       " 'North Dartmouth',\n",
       " 'North Dighton',\n",
       " 'North Eastham',\n",
       " 'North Easton',\n",
       " 'North Egremont',\n",
       " 'North Falmouth',\n",
       " 'North Grafton',\n",
       " 'North Hatfield',\n",
       " 'North Oxford',\n",
       " 'North Truro',\n",
       " 'North Weymouth',\n",
       " 'Ocean Bluff',\n",
       " 'Onset',\n",
       " 'Osterville',\n",
       " 'Pocasset',\n",
       " 'Prides Crossing',\n",
       " 'Rochdale',\n",
       " 'Roslindale',\n",
       " 'Roxbury',\n",
       " 'Roxbury Crossing',\n",
       " 'Sagamore',\n",
       " 'Sagamore Beach',\n",
       " 'Shelburne Falls',\n",
       " 'Siasconset',\n",
       " 'Silver Beach',\n",
       " 'South Barre',\n",
       " 'South Carver',\n",
       " 'South Chatham',\n",
       " 'South Dartmouth',\n",
       " 'South Deerfield',\n",
       " 'South Dennis',\n",
       " 'South Easton',\n",
       " 'South Egremont',\n",
       " 'South Grafton',\n",
       " 'South Hamilton',\n",
       " 'South Harwich',\n",
       " 'South Orleans',\n",
       " 'South Walpole',\n",
       " 'South Wellfleet',\n",
       " 'South Weymouth',\n",
       " 'South Yarmouth',\n",
       " 'Southfield',\n",
       " 'Still River',\n",
       " 'Thorndike',\n",
       " 'Three Rivers',\n",
       " 'Turners Falls',\n",
       " 'Tyngsboro',\n",
       " 'Village Of Nagog Woods',\n",
       " 'Vineyard Haven',\n",
       " 'Waban',\n",
       " 'Wellesley Hills',\n",
       " 'Wendell Depot',\n",
       " 'West Barnstable',\n",
       " 'West Boxford',\n",
       " 'West Chatham',\n",
       " 'West Chesterfield',\n",
       " 'West Dennis',\n",
       " 'West Falmouth',\n",
       " 'West Groton',\n",
       " 'West Harwich',\n",
       " 'West Hatfield',\n",
       " 'West Hyannisport',\n",
       " 'West Newton',\n",
       " 'West Roxbury',\n",
       " 'West Townsend',\n",
       " 'West Wareham',\n",
       " 'West Warren',\n",
       " 'West Yarmouth',\n",
       " 'Westport Point',\n",
       " 'Wheelwright',\n",
       " 'White Horse Beach',\n",
       " 'Whitinsville',\n",
       " 'Woods Hole',\n",
       " 'Yarmouth Port'}"
      ]
     },
     "metadata": {},
     "execution_count": 35
    }
   ],
   "metadata": {}
  },
  {
   "cell_type": "code",
   "execution_count": 111,
   "source": [
    "summarized.save_expectation_suite(\"../data/expectations/summarized_expectations.json\")"
   ],
   "outputs": [],
   "metadata": {}
  }
 ],
 "metadata": {
  "kernelspec": {
   "name": "python3",
   "display_name": "Python 3.8.8 64-bit ('rad_pipeline_env': conda)"
  },
  "language_info": {
   "codemirror_mode": {
    "name": "ipython",
    "version": 3
   },
   "file_extension": ".py",
   "mimetype": "text/x-python",
   "name": "python",
   "nbconvert_exporter": "python",
   "pygments_lexer": "ipython3",
   "version": "3.8.8"
  },
  "interpreter": {
   "hash": "4e38ab13d710a4fe5b4b3e5b0b025d6bd4821adcac674dd1ffe1360b728ed5e0"
  }
 },
 "nbformat": 4,
 "nbformat_minor": 5
}