{
 "cells": [
  {
   "cell_type": "code",
   "execution_count": 1,
   "id": "ongoing-communication",
   "metadata": {},
   "outputs": [],
   "source": [
    "import os\n",
    "import re\n",
    "\n",
    "import great_expectations as ge\n",
    "import numpy as np\n",
    "import pandas as pd\n",
    "import rad_pipeline.rad_pipeline as rp\n",
    "import rad_pipeline.zipcodes as zc"
   ]
  },
  {
   "cell_type": "markdown",
   "id": "destroyed-consistency",
   "metadata": {},
   "source": [
    "## ASHP"
   ]
  },
  {
   "cell_type": "code",
   "execution_count": 2,
   "id": "american-mounting",
   "metadata": {},
   "outputs": [],
   "source": [
    "ashp = ge.from_pandas(rp.load_ashp())"
   ]
  },
  {
   "cell_type": "code",
   "execution_count": 3,
   "id": "native-indonesia",
   "metadata": {},
   "outputs": [],
   "source": [
    "field_map = rp.FIELDS['Air-source Heat Pumps']\n",
    "for key_col in field_map:\n",
    "    result = ashp.expect_column_to_exist(field_map[key_col])\n",
    "    if not result[\"success\"]:\n",
    "        print(\"Failure!\")\n",
    "        print(result)"
   ]
  },
  {
   "cell_type": "code",
   "execution_count": 4,
   "id": "stable-reform",
   "metadata": {},
   "outputs": [],
   "source": [
    "# Expect zipcode to be mostly numbers and mostly populated"
   ]
  },
  {
   "cell_type": "code",
   "execution_count": 5,
   "id": "unique-asian",
   "metadata": {},
   "outputs": [
    {
     "data": {
      "text/plain": [
       "{\n",
       "  \"meta\": {},\n",
       "  \"result\": {\n",
       "    \"element_count\": 19964,\n",
       "    \"unexpected_count\": 0,\n",
       "    \"unexpected_percent\": 0.0,\n",
       "    \"unexpected_percent_total\": 0.0,\n",
       "    \"partial_unexpected_list\": []\n",
       "  },\n",
       "  \"success\": true,\n",
       "  \"exception_info\": {\n",
       "    \"raised_exception\": false,\n",
       "    \"exception_traceback\": null,\n",
       "    \"exception_message\": null\n",
       "  }\n",
       "}"
      ]
     },
     "execution_count": 5,
     "metadata": {},
     "output_type": "execute_result"
    }
   ],
   "source": [
    "ashp.expect_column_values_to_not_be_null(field_map['zip'])"
   ]
  },
  {
   "cell_type": "code",
   "execution_count": 6,
   "id": "under-search",
   "metadata": {},
   "outputs": [
    {
     "data": {
      "text/plain": [
       "{\n",
       "  \"meta\": {},\n",
       "  \"result\": {\n",
       "    \"element_count\": 19964,\n",
       "    \"missing_count\": 0,\n",
       "    \"missing_percent\": 0.0,\n",
       "    \"unexpected_count\": 0,\n",
       "    \"unexpected_percent\": 0.0,\n",
       "    \"unexpected_percent_total\": 0.0,\n",
       "    \"unexpected_percent_nonmissing\": 0.0,\n",
       "    \"partial_unexpected_list\": []\n",
       "  },\n",
       "  \"success\": true,\n",
       "  \"exception_info\": {\n",
       "    \"raised_exception\": false,\n",
       "    \"exception_traceback\": null,\n",
       "    \"exception_message\": null\n",
       "  }\n",
       "}"
      ]
     },
     "execution_count": 6,
     "metadata": {},
     "output_type": "execute_result"
    }
   ],
   "source": [
    "ashp.expect_column_values_to_be_in_type_list(field_map['zip'], ['int', 'float', 'str'])"
   ]
  },
  {
   "cell_type": "code",
   "execution_count": 7,
   "id": "federal-madison",
   "metadata": {},
   "outputs": [
    {
     "data": {
      "text/plain": [
       "{\n",
       "  \"meta\": {},\n",
       "  \"result\": {\n",
       "    \"element_count\": 19964,\n",
       "    \"missing_count\": 0,\n",
       "    \"missing_percent\": 0.0,\n",
       "    \"unexpected_count\": 3,\n",
       "    \"unexpected_percent\": 0.015027048687637747,\n",
       "    \"unexpected_percent_total\": 0.015027048687637747,\n",
       "    \"unexpected_percent_nonmissing\": 0.015027048687637747,\n",
       "    \"partial_unexpected_list\": [\n",
       "      20,\n",
       "      \"019081047\",\n",
       "      \"0212y\"\n",
       "    ]\n",
       "  },\n",
       "  \"success\": true,\n",
       "  \"exception_info\": {\n",
       "    \"raised_exception\": false,\n",
       "    \"exception_traceback\": null,\n",
       "    \"exception_message\": null\n",
       "  }\n",
       "}"
      ]
     },
     "execution_count": 7,
     "metadata": {},
     "output_type": "execute_result"
    }
   ],
   "source": [
    "ashp.expect_column_values_to_match_regex(field_map['zip'], r\"^\\s*([0-9]{3,5})(?:[.]0)?(?:-([0-9]{4})|-)?\\s*$\", mostly=0.98)"
   ]
  },
  {
   "cell_type": "code",
   "execution_count": 8,
   "id": "suited-phoenix",
   "metadata": {},
   "outputs": [],
   "source": [
    "# Expect rebate and cost to be mostly numbers"
   ]
  },
  {
   "cell_type": "code",
   "execution_count": 9,
   "id": "considerable-execution",
   "metadata": {},
   "outputs": [
    {
     "data": {
      "text/plain": [
       "{\n",
       "  \"meta\": {},\n",
       "  \"result\": {\n",
       "    \"element_count\": 19964,\n",
       "    \"missing_count\": 0,\n",
       "    \"missing_percent\": 0.0,\n",
       "    \"unexpected_count\": 1,\n",
       "    \"unexpected_percent\": 0.005009016229212583,\n",
       "    \"unexpected_percent_total\": 0.005009016229212583,\n",
       "    \"unexpected_percent_nonmissing\": 0.005009016229212583,\n",
       "    \"partial_unexpected_list\": [\n",
       "      \"Not Applicable\"\n",
       "    ]\n",
       "  },\n",
       "  \"success\": true,\n",
       "  \"exception_info\": {\n",
       "    \"raised_exception\": false,\n",
       "    \"exception_traceback\": null,\n",
       "    \"exception_message\": null\n",
       "  }\n",
       "}"
      ]
     },
     "execution_count": 9,
     "metadata": {},
     "output_type": "execute_result"
    }
   ],
   "source": [
    "ashp.expect_column_values_to_be_in_type_list(field_map['rebate'], ['int', 'float'], mostly=0.99)"
   ]
  },
  {
   "cell_type": "code",
   "execution_count": 10,
   "id": "educational-alabama",
   "metadata": {},
   "outputs": [
    {
     "data": {
      "text/plain": [
       "{\n",
       "  \"meta\": {},\n",
       "  \"result\": {\n",
       "    \"element_count\": 19964,\n",
       "    \"missing_count\": 0,\n",
       "    \"missing_percent\": 0.0,\n",
       "    \"unexpected_count\": 19,\n",
       "    \"unexpected_percent\": 0.09517130835503908,\n",
       "    \"unexpected_percent_total\": 0.09517130835503908,\n",
       "    \"unexpected_percent_nonmissing\": 0.09517130835503908,\n",
       "    \"partial_unexpected_list\": [\n",
       "      \"1000-labor only\",\n",
       "      \"1200-labor only\",\n",
       "      \"31900-with boiler\",\n",
       "      \"925-labor only\",\n",
       "      \"18668.75-with 5C42 unit\",\n",
       "      \"1000-labor only\",\n",
       "      \"25490-with Bosch\",\n",
       "      \"57814.74-with Trane\",\n",
       "      \"22725-with Lennox equip\",\n",
       "      \"17800-with other ac system\",\n",
       "      \"903.01-labor only\",\n",
       "      \"425-labor only\",\n",
       "      \"12330-with Lennox thing\",\n",
       "      \"53000-with furnace \",\n",
       "      \"30500-with Luxiare equip\",\n",
       "      \"25091-with Carrier equip\",\n",
       "      \"41430-with additional multi head\",\n",
       "      \" $ 9000.00\",\n",
       "      \"$19.524.15\"\n",
       "    ]\n",
       "  },\n",
       "  \"success\": true,\n",
       "  \"exception_info\": {\n",
       "    \"raised_exception\": false,\n",
       "    \"exception_traceback\": null,\n",
       "    \"exception_message\": null\n",
       "  }\n",
       "}"
      ]
     },
     "execution_count": 10,
     "metadata": {},
     "output_type": "execute_result"
    }
   ],
   "source": [
    "ashp.expect_column_values_to_be_in_type_list(field_map['cost'], ['int', 'float'], mostly=0.99)"
   ]
  },
  {
   "cell_type": "code",
   "execution_count": 11,
   "id": "knowing-military",
   "metadata": {},
   "outputs": [],
   "source": [
    "ashp.save_expectation_suite(\"../data/expectations/ashp_raw_expectations.json\")"
   ]
  },
  {
   "cell_type": "markdown",
   "id": "technical-smart",
   "metadata": {},
   "source": [
    "## GSHP"
   ]
  },
  {
   "cell_type": "code",
   "execution_count": null,
   "id": "settled-member",
   "metadata": {},
   "outputs": [],
   "source": []
  },
  {
   "cell_type": "code",
   "execution_count": null,
   "id": "attached-table",
   "metadata": {},
   "outputs": [],
   "source": []
  },
  {
   "cell_type": "code",
   "execution_count": null,
   "id": "interpreted-roulette",
   "metadata": {},
   "outputs": [],
   "source": []
  },
  {
   "cell_type": "code",
   "execution_count": null,
   "id": "sapphire-scope",
   "metadata": {},
   "outputs": [],
   "source": []
  },
  {
   "cell_type": "code",
   "execution_count": null,
   "id": "palestinian-diesel",
   "metadata": {},
   "outputs": [],
   "source": []
  },
  {
   "cell_type": "markdown",
   "id": "better-conducting",
   "metadata": {},
   "source": [
    "## Solar"
   ]
  },
  {
   "cell_type": "code",
   "execution_count": null,
   "id": "funky-gossip",
   "metadata": {},
   "outputs": [],
   "source": []
  },
  {
   "cell_type": "code",
   "execution_count": null,
   "id": "ceramic-columbus",
   "metadata": {},
   "outputs": [],
   "source": []
  },
  {
   "cell_type": "code",
   "execution_count": null,
   "id": "white-liability",
   "metadata": {},
   "outputs": [],
   "source": []
  },
  {
   "cell_type": "code",
   "execution_count": null,
   "id": "worldwide-shower",
   "metadata": {},
   "outputs": [],
   "source": []
  },
  {
   "cell_type": "markdown",
   "id": "egyptian-license",
   "metadata": {},
   "source": [
    "## Electric Vehicles (EVs)"
   ]
  },
  {
   "cell_type": "code",
   "execution_count": null,
   "id": "superior-resource",
   "metadata": {},
   "outputs": [],
   "source": []
  },
  {
   "cell_type": "code",
   "execution_count": null,
   "id": "sought-curtis",
   "metadata": {},
   "outputs": [],
   "source": []
  },
  {
   "cell_type": "code",
   "execution_count": null,
   "id": "destroyed-joining",
   "metadata": {},
   "outputs": [],
   "source": []
  },
  {
   "cell_type": "code",
   "execution_count": null,
   "id": "industrial-saudi",
   "metadata": {},
   "outputs": [],
   "source": []
  }
 ],
 "metadata": {
  "kernelspec": {
   "display_name": "Python 3",
   "language": "python",
   "name": "python3"
  },
  "language_info": {
   "codemirror_mode": {
    "name": "ipython",
    "version": 3
   },
   "file_extension": ".py",
   "mimetype": "text/x-python",
   "name": "python",
   "nbconvert_exporter": "python",
   "pygments_lexer": "ipython3",
   "version": "3.8.8"
  }
 },
 "nbformat": 4,
 "nbformat_minor": 5
}
