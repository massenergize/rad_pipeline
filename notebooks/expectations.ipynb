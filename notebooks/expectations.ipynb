{
 "cells": [
  {
   "cell_type": "code",
   "execution_count": 1,
   "id": "tired-blast",
   "metadata": {},
   "outputs": [],
   "source": [
    "import datetime\n",
    "import os\n",
    "import re\n",
    "\n",
    "import great_expectations as ge\n",
    "import numpy as np\n",
    "import pandas as pd\n",
    "import rad_pipeline.rad_pipeline as rp\n",
    "import rad_pipeline.zipcodes as zc"
   ]
  },
  {
   "cell_type": "code",
   "execution_count": 2,
   "id": "beginning-danish",
   "metadata": {},
   "outputs": [
    {
     "data": {
      "text/plain": [
       "<module 'great_expectations' from '/Users/alexhasha/miniconda3/envs/rad_pipeline_env/lib/python3.8/site-packages/great_expectations/__init__.py'>"
      ]
     },
     "execution_count": 2,
     "metadata": {},
     "output_type": "execute_result"
    }
   ],
   "source": [
    "import importlib\n",
    "importlib.reload(rp)\n",
    "importlib.reload(zc)\n",
    "importlib.reload(ge)"
   ]
  },
  {
   "cell_type": "code",
   "execution_count": 3,
   "id": "growing-syndicate",
   "metadata": {},
   "outputs": [
    {
     "data": {
      "text/plain": [
       "'/Users/alexhasha/miniconda3/envs/rad_pipeline_env/lib/python3.8/site-packages/great_expectations/__init__.py'"
      ]
     },
     "execution_count": 3,
     "metadata": {},
     "output_type": "execute_result"
    }
   ],
   "source": [
    "ge.__file__"
   ]
  },
  {
   "cell_type": "code",
   "execution_count": 4,
   "id": "turkish-texas",
   "metadata": {},
   "outputs": [],
   "source": [
    "EXPECTATIONS_DIR = \"../data/expectations\""
   ]
  },
  {
   "cell_type": "code",
   "execution_count": 5,
   "id": "sorted-payday",
   "metadata": {},
   "outputs": [],
   "source": [
    "from great_expectations.data_context.data_context import ExpectationSuite\n",
    "import os\n",
    "import datetime\n",
    "from tempfile import TemporaryDirectory\n",
    "import great_expectations as ge\n",
    "from great_expectations.dataset import PandasDataset\n",
    "\n",
    "evaluation_params = {\"now\": datetime.datetime.now(), \"now_minus_48h\": datetime.datetime.now() - datetime.timedelta(days=2)}\n",
    "test_data = {\"data_refresh\": [datetime.datetime.now(), datetime.datetime.now() - datetime.timedelta(days=1)]}\n",
    "test_df = pd.DataFrame(test_data)\n",
    "dataset_name = \"test_pandas_source\"\n",
    "\n",
    "with TemporaryDirectory() as tempdir:\n",
    "    ge_path = os.path.join(tempdir, \"great_expectations\")\n",
    "    ge.DataContext.create(tempdir, usage_statistics_enabled=False)\n",
    "    context = ge.DataContext(ge_path)\n",
    "\n",
    "    context.add_datasource(dataset_name, class_name=\"PandasDatasource\")\n",
    "\n",
    "    batch_kwargs = {\"dataset\": test_df, \"datasource\": dataset_name, \"PandasInMemoryDF\": True, \"ge_batch_id\": \"test_id\",}\n",
    "\n",
    "    empty_suite = context.create_expectation_suite(\"test_suite\")\n",
    "\n",
    "    batch = context.get_batch(batch_kwargs=batch_kwargs, expectation_suite_name=empty_suite)\n",
    "    for param in evaluation_params:\n",
    "        batch.set_evaluation_parameter(param, evaluation_params[param])\n",
    "\n",
    "    # Add expectation that will succeed using the datetime in a $PARAMETER\n",
    "    batch.expect_column_max_to_be_between(column=\"data_refresh\", min_value={\"$PARAMETER\": \"now_minus_48h\"})\n",
    "    result = batch.validate()\n",
    "    assert result.success\n",
    "    batch.save_expectation_suite()\n",
    "    assert isinstance(batch, PandasDataset)\n",
    "\n",
    "    # Check that we can load the saved expectation suite\n",
    "    reloaded_expectation_suite = context.get_expectation_suite(\"test_suite\")\n",
    "    assert isinstance(reloaded_expectation_suite, ExpectationSuite)\n",
    "\n",
    "#     # Check that we can build Data Docs\n",
    "#     index_page_locator_infos = context.build_data_docs()\n",
    "#     assert index_page_locator_infos[\"local_site\"] == f\"file://{ge_path}/uncommitted/data_docs/local_site/index.html\"\n",
    "\n",
    "#     # Check that we can reload the expectation suite and validate\n",
    "#     reloaded_batch = context.get_batch(batch_kwargs=batch_kwargs, expectation_suite_name=reloaded_expectation_suite)\n",
    "\n",
    "#     run_id = {\n",
    "#         \"run_name\": f\"reloaded_{dataset_name}_{datetime.datetime.now()}\",\n",
    "#         \"run_time\": datetime.datetime.now(),\n",
    "#     }\n",
    "#     reloaded_results = context.run_validation_operator(\n",
    "#         \"action_list_operator\", assets_to_validate=[reloaded_batch], run_id=run_id,\n",
    "#     )\n",
    "\n",
    "#     assert reloaded_results.success"
   ]
  },
  {
   "cell_type": "markdown",
   "id": "informed-vegetable",
   "metadata": {},
   "source": [
    "## ASHP"
   ]
  },
  {
   "cell_type": "markdown",
   "id": "eastern-roads",
   "metadata": {},
   "source": [
    "### Raw data expectations"
   ]
  },
  {
   "cell_type": "code",
   "execution_count": 6,
   "id": "seasonal-scientist",
   "metadata": {},
   "outputs": [],
   "source": [
    "ashp = ge.from_pandas(rp.load_ashp())"
   ]
  },
  {
   "cell_type": "code",
   "execution_count": 7,
   "id": "experienced-dispatch",
   "metadata": {},
   "outputs": [
    {
     "name": "stdout",
     "output_type": "stream",
     "text": [
      "{\n",
      "  \"success\": true,\n",
      "  \"meta\": {},\n",
      "  \"expectation_config\": {\n",
      "    \"kwargs\": {\n",
      "      \"min_value\": 19964,\n",
      "      \"max_value\": 30000,\n",
      "      \"result_format\": \"BASIC\"\n",
      "    },\n",
      "    \"meta\": {},\n",
      "    \"expectation_type\": \"expect_table_row_count_to_be_between\"\n",
      "  },\n",
      "  \"exception_info\": {\n",
      "    \"raised_exception\": false,\n",
      "    \"exception_traceback\": null,\n",
      "    \"exception_message\": null\n",
      "  },\n",
      "  \"result\": {\n",
      "    \"observed_value\": 19964\n",
      "  }\n",
      "}\n"
     ]
    }
   ],
   "source": [
    "#Expect row count to increase in subsequent files\n",
    "result = ashp.expect_table_row_count_to_be_between(19964, 30000)\n",
    "assert result.success\n",
    "print(result)"
   ]
  },
  {
   "cell_type": "code",
   "execution_count": 8,
   "id": "compressed-webcam",
   "metadata": {},
   "outputs": [
    {
     "name": "stdout",
     "output_type": "stream",
     "text": [
      "{\n",
      "  \"success\": true,\n",
      "  \"meta\": {},\n",
      "  \"expectation_config\": {\n",
      "    \"kwargs\": {\n",
      "      \"column\": \"Rebate Amount \",\n",
      "      \"result_format\": \"BASIC\"\n",
      "    },\n",
      "    \"meta\": {},\n",
      "    \"expectation_type\": \"expect_column_to_exist\"\n",
      "  },\n",
      "  \"exception_info\": {\n",
      "    \"raised_exception\": false,\n",
      "    \"exception_traceback\": null,\n",
      "    \"exception_message\": null\n",
      "  },\n",
      "  \"result\": {}\n",
      "}\n",
      "{\n",
      "  \"success\": true,\n",
      "  \"meta\": {},\n",
      "  \"expectation_config\": {\n",
      "    \"kwargs\": {\n",
      "      \"column\": \"Total System Costs\",\n",
      "      \"result_format\": \"BASIC\"\n",
      "    },\n",
      "    \"meta\": {},\n",
      "    \"expectation_type\": \"expect_column_to_exist\"\n",
      "  },\n",
      "  \"exception_info\": {\n",
      "    \"raised_exception\": false,\n",
      "    \"exception_traceback\": null,\n",
      "    \"exception_message\": null\n",
      "  },\n",
      "  \"result\": {}\n",
      "}\n",
      "{\n",
      "  \"success\": true,\n",
      "  \"meta\": {},\n",
      "  \"expectation_config\": {\n",
      "    \"kwargs\": {\n",
      "      \"column\": \"Site Zip Code\",\n",
      "      \"result_format\": \"BASIC\"\n",
      "    },\n",
      "    \"meta\": {},\n",
      "    \"expectation_type\": \"expect_column_to_exist\"\n",
      "  },\n",
      "  \"exception_info\": {\n",
      "    \"raised_exception\": false,\n",
      "    \"exception_traceback\": null,\n",
      "    \"exception_message\": null\n",
      "  },\n",
      "  \"result\": {}\n",
      "}\n",
      "{\n",
      "  \"success\": true,\n",
      "  \"meta\": {},\n",
      "  \"expectation_config\": {\n",
      "    \"kwargs\": {\n",
      "      \"column\": \"Site City/Town\",\n",
      "      \"result_format\": \"BASIC\"\n",
      "    },\n",
      "    \"meta\": {},\n",
      "    \"expectation_type\": \"expect_column_to_exist\"\n",
      "  },\n",
      "  \"exception_info\": {\n",
      "    \"raised_exception\": false,\n",
      "    \"exception_traceback\": null,\n",
      "    \"exception_message\": null\n",
      "  },\n",
      "  \"result\": {}\n",
      "}\n",
      "{\n",
      "  \"success\": true,\n",
      "  \"meta\": {},\n",
      "  \"expectation_config\": {\n",
      "    \"kwargs\": {\n",
      "      \"column\": \"Receiving an Income-Based Adder?\",\n",
      "      \"result_format\": \"BASIC\"\n",
      "    },\n",
      "    \"meta\": {},\n",
      "    \"expectation_type\": \"expect_column_to_exist\"\n",
      "  },\n",
      "  \"exception_info\": {\n",
      "    \"raised_exception\": false,\n",
      "    \"exception_traceback\": null,\n",
      "    \"exception_message\": null\n",
      "  },\n",
      "  \"result\": {}\n",
      "}\n",
      "{\n",
      "  \"success\": true,\n",
      "  \"meta\": {},\n",
      "  \"expectation_config\": {\n",
      "    \"kwargs\": {\n",
      "      \"column\": \"Date Rebate Payment Approved by MassCEC\",\n",
      "      \"result_format\": \"BASIC\"\n",
      "    },\n",
      "    \"meta\": {},\n",
      "    \"expectation_type\": \"expect_column_to_exist\"\n",
      "  },\n",
      "  \"exception_info\": {\n",
      "    \"raised_exception\": false,\n",
      "    \"exception_traceback\": null,\n",
      "    \"exception_message\": null\n",
      "  },\n",
      "  \"result\": {}\n",
      "}\n"
     ]
    }
   ],
   "source": [
    "field_map = rp.FIELDS['Air-source Heat Pumps']\n",
    "for key_col in field_map:\n",
    "    result = ashp.expect_column_to_exist(field_map[key_col])\n",
    "    assert result.success\n",
    "    print(result)"
   ]
  },
  {
   "cell_type": "code",
   "execution_count": 9,
   "id": "ideal-member",
   "metadata": {},
   "outputs": [],
   "source": [
    "# Expect zipcode to be mostly numbers and mostly populated"
   ]
  },
  {
   "cell_type": "code",
   "execution_count": 10,
   "id": "knowing-sauce",
   "metadata": {},
   "outputs": [
    {
     "name": "stdout",
     "output_type": "stream",
     "text": [
      "{\n",
      "  \"success\": true,\n",
      "  \"meta\": {},\n",
      "  \"expectation_config\": {\n",
      "    \"kwargs\": {\n",
      "      \"column\": \"Site Zip Code\",\n",
      "      \"result_format\": \"BASIC\"\n",
      "    },\n",
      "    \"meta\": {},\n",
      "    \"expectation_type\": \"expect_column_values_to_not_be_null\"\n",
      "  },\n",
      "  \"exception_info\": {\n",
      "    \"raised_exception\": false,\n",
      "    \"exception_traceback\": null,\n",
      "    \"exception_message\": null\n",
      "  },\n",
      "  \"result\": {\n",
      "    \"element_count\": 19964,\n",
      "    \"unexpected_count\": 0,\n",
      "    \"unexpected_percent\": 0.0,\n",
      "    \"unexpected_percent_total\": 0.0,\n",
      "    \"partial_unexpected_list\": []\n",
      "  }\n",
      "}\n"
     ]
    }
   ],
   "source": [
    "result = ashp.expect_column_values_to_not_be_null(field_map['zip'])\n",
    "assert result.success\n",
    "print(result)"
   ]
  },
  {
   "cell_type": "code",
   "execution_count": 11,
   "id": "dutch-walter",
   "metadata": {},
   "outputs": [
    {
     "name": "stdout",
     "output_type": "stream",
     "text": [
      "{\n",
      "  \"success\": true,\n",
      "  \"meta\": {},\n",
      "  \"expectation_config\": {\n",
      "    \"kwargs\": {\n",
      "      \"column\": \"Site Zip Code\",\n",
      "      \"type_list\": [\n",
      "        \"int\",\n",
      "        \"float\",\n",
      "        \"str\"\n",
      "      ],\n",
      "      \"result_format\": \"BASIC\"\n",
      "    },\n",
      "    \"meta\": {},\n",
      "    \"expectation_type\": \"_expect_column_values_to_be_in_type_list__map\"\n",
      "  },\n",
      "  \"exception_info\": {\n",
      "    \"raised_exception\": false,\n",
      "    \"exception_traceback\": null,\n",
      "    \"exception_message\": null\n",
      "  },\n",
      "  \"result\": {\n",
      "    \"element_count\": 19964,\n",
      "    \"missing_count\": 0,\n",
      "    \"missing_percent\": 0.0,\n",
      "    \"unexpected_count\": 0,\n",
      "    \"unexpected_percent\": 0.0,\n",
      "    \"unexpected_percent_total\": 0.0,\n",
      "    \"unexpected_percent_nonmissing\": 0.0,\n",
      "    \"partial_unexpected_list\": []\n",
      "  }\n",
      "}\n"
     ]
    }
   ],
   "source": [
    "result = ashp.expect_column_values_to_be_in_type_list(field_map['zip'], ['int', 'float', 'str'])\n",
    "assert result.success\n",
    "print(result)"
   ]
  },
  {
   "cell_type": "code",
   "execution_count": 12,
   "id": "chief-regular",
   "metadata": {},
   "outputs": [
    {
     "name": "stdout",
     "output_type": "stream",
     "text": [
      "{\n",
      "  \"success\": true,\n",
      "  \"meta\": {},\n",
      "  \"expectation_config\": {\n",
      "    \"kwargs\": {\n",
      "      \"column\": \"Site Zip Code\",\n",
      "      \"regex\": \"^\\\\s*([0-9]{3,5})(?:[.]0)?(?:-([0-9]{4})|-)?\\\\s*$\",\n",
      "      \"mostly\": 0.98,\n",
      "      \"result_format\": \"BASIC\"\n",
      "    },\n",
      "    \"meta\": {},\n",
      "    \"expectation_type\": \"expect_column_values_to_match_regex\"\n",
      "  },\n",
      "  \"exception_info\": {\n",
      "    \"raised_exception\": false,\n",
      "    \"exception_traceback\": null,\n",
      "    \"exception_message\": null\n",
      "  },\n",
      "  \"result\": {\n",
      "    \"element_count\": 19964,\n",
      "    \"missing_count\": 0,\n",
      "    \"missing_percent\": 0.0,\n",
      "    \"unexpected_count\": 3,\n",
      "    \"unexpected_percent\": 0.015027048687637747,\n",
      "    \"unexpected_percent_total\": 0.015027048687637747,\n",
      "    \"unexpected_percent_nonmissing\": 0.015027048687637747,\n",
      "    \"partial_unexpected_list\": [\n",
      "      20,\n",
      "      \"019081047\",\n",
      "      \"0212y\"\n",
      "    ]\n",
      "  }\n",
      "}\n"
     ]
    }
   ],
   "source": [
    "result = ashp.expect_column_values_to_match_regex(field_map['zip'], r\"^\\s*([0-9]{3,5})(?:[.]0)?(?:-([0-9]{4})|-)?\\s*$\", mostly=0.98)\n",
    "assert result.success\n",
    "print(result)"
   ]
  },
  {
   "cell_type": "code",
   "execution_count": 13,
   "id": "assumed-miniature",
   "metadata": {},
   "outputs": [],
   "source": [
    "# Expect rebate and cost to be mostly numbers"
   ]
  },
  {
   "cell_type": "code",
   "execution_count": 14,
   "id": "blind-reporter",
   "metadata": {},
   "outputs": [
    {
     "name": "stdout",
     "output_type": "stream",
     "text": [
      "{\n",
      "  \"success\": true,\n",
      "  \"meta\": {},\n",
      "  \"expectation_config\": {\n",
      "    \"kwargs\": {\n",
      "      \"column\": \"Rebate Amount \",\n",
      "      \"type_list\": [\n",
      "        \"int\",\n",
      "        \"float\"\n",
      "      ],\n",
      "      \"mostly\": 0.99,\n",
      "      \"result_format\": \"BASIC\"\n",
      "    },\n",
      "    \"meta\": {},\n",
      "    \"expectation_type\": \"_expect_column_values_to_be_in_type_list__map\"\n",
      "  },\n",
      "  \"exception_info\": {\n",
      "    \"raised_exception\": false,\n",
      "    \"exception_traceback\": null,\n",
      "    \"exception_message\": null\n",
      "  },\n",
      "  \"result\": {\n",
      "    \"element_count\": 19964,\n",
      "    \"missing_count\": 0,\n",
      "    \"missing_percent\": 0.0,\n",
      "    \"unexpected_count\": 1,\n",
      "    \"unexpected_percent\": 0.005009016229212583,\n",
      "    \"unexpected_percent_total\": 0.005009016229212583,\n",
      "    \"unexpected_percent_nonmissing\": 0.005009016229212583,\n",
      "    \"partial_unexpected_list\": [\n",
      "      \"Not Applicable\"\n",
      "    ]\n",
      "  }\n",
      "}\n"
     ]
    }
   ],
   "source": [
    "result = ashp.expect_column_values_to_be_in_type_list(field_map['rebate'], ['int', 'float'], mostly=0.99)\n",
    "assert result.success\n",
    "print(result)"
   ]
  },
  {
   "cell_type": "code",
   "execution_count": 15,
   "id": "mineral-settle",
   "metadata": {},
   "outputs": [
    {
     "name": "stdout",
     "output_type": "stream",
     "text": [
      "{\n",
      "  \"success\": true,\n",
      "  \"meta\": {},\n",
      "  \"expectation_config\": {\n",
      "    \"kwargs\": {\n",
      "      \"column\": \"Total System Costs\",\n",
      "      \"type_list\": [\n",
      "        \"int\",\n",
      "        \"float\"\n",
      "      ],\n",
      "      \"mostly\": 0.99,\n",
      "      \"result_format\": \"BASIC\"\n",
      "    },\n",
      "    \"meta\": {},\n",
      "    \"expectation_type\": \"_expect_column_values_to_be_in_type_list__map\"\n",
      "  },\n",
      "  \"exception_info\": {\n",
      "    \"raised_exception\": false,\n",
      "    \"exception_traceback\": null,\n",
      "    \"exception_message\": null\n",
      "  },\n",
      "  \"result\": {\n",
      "    \"element_count\": 19964,\n",
      "    \"missing_count\": 0,\n",
      "    \"missing_percent\": 0.0,\n",
      "    \"unexpected_count\": 19,\n",
      "    \"unexpected_percent\": 0.09517130835503908,\n",
      "    \"unexpected_percent_total\": 0.09517130835503908,\n",
      "    \"unexpected_percent_nonmissing\": 0.09517130835503908,\n",
      "    \"partial_unexpected_list\": [\n",
      "      \"1000-labor only\",\n",
      "      \"1200-labor only\",\n",
      "      \"31900-with boiler\",\n",
      "      \"925-labor only\",\n",
      "      \"18668.75-with 5C42 unit\",\n",
      "      \"1000-labor only\",\n",
      "      \"25490-with Bosch\",\n",
      "      \"57814.74-with Trane\",\n",
      "      \"22725-with Lennox equip\",\n",
      "      \"17800-with other ac system\",\n",
      "      \"903.01-labor only\",\n",
      "      \"425-labor only\",\n",
      "      \"12330-with Lennox thing\",\n",
      "      \"53000-with furnace \",\n",
      "      \"30500-with Luxiare equip\",\n",
      "      \"25091-with Carrier equip\",\n",
      "      \"41430-with additional multi head\",\n",
      "      \" $ 9000.00\",\n",
      "      \"$19.524.15\"\n",
      "    ]\n",
      "  }\n",
      "}\n"
     ]
    }
   ],
   "source": [
    "result = ashp.expect_column_values_to_be_in_type_list(field_map['cost'], ['int', 'float'], mostly=0.99)\n",
    "assert result.success\n",
    "print(result)"
   ]
  },
  {
   "cell_type": "code",
   "execution_count": 16,
   "id": "registered-master",
   "metadata": {},
   "outputs": [
    {
     "name": "stdout",
     "output_type": "stream",
     "text": [
      "{\n",
      "  \"success\": true,\n",
      "  \"meta\": {},\n",
      "  \"expectation_config\": {\n",
      "    \"kwargs\": {\n",
      "      \"column\": \"Date Rebate Payment Approved by MassCEC\",\n",
      "      \"type_\": \"datetime64\",\n",
      "      \"result_format\": \"BASIC\"\n",
      "    },\n",
      "    \"meta\": {},\n",
      "    \"expectation_type\": \"_expect_column_values_to_be_of_type__aggregate\"\n",
      "  },\n",
      "  \"exception_info\": {\n",
      "    \"raised_exception\": false,\n",
      "    \"exception_traceback\": null,\n",
      "    \"exception_message\": null\n",
      "  },\n",
      "  \"result\": {\n",
      "    \"observed_value\": \"datetime64\"\n",
      "  }\n",
      "}\n"
     ]
    }
   ],
   "source": [
    "result = ashp.expect_column_values_to_be_of_type(field_map[\"date\"], \"datetime64\")\n",
    "assert result.success\n",
    "print(result)"
   ]
  },
  {
   "cell_type": "code",
   "execution_count": 17,
   "id": "grave-screening",
   "metadata": {},
   "outputs": [
    {
     "data": {
      "text/plain": [
       "{\n",
       "  \"success\": true,\n",
       "  \"meta\": {},\n",
       "  \"exception_info\": {\n",
       "    \"raised_exception\": false,\n",
       "    \"exception_traceback\": null,\n",
       "    \"exception_message\": null\n",
       "  },\n",
       "  \"result\": {\n",
       "    \"element_count\": 19964,\n",
       "    \"missing_count\": 0,\n",
       "    \"missing_percent\": 0.0,\n",
       "    \"unexpected_count\": 0,\n",
       "    \"unexpected_percent\": 0.0,\n",
       "    \"unexpected_percent_total\": 0.0,\n",
       "    \"unexpected_percent_nonmissing\": 0.0,\n",
       "    \"partial_unexpected_list\": []\n",
       "  }\n",
       "}"
      ]
     },
     "execution_count": 17,
     "metadata": {},
     "output_type": "execute_result"
    }
   ],
   "source": [
    "result = ashp.expect_column_values_to_be_between(field_map[\"date\"], \n",
    "                                                    ashp[field_map[\"date\"]].min(), \n",
    "                                                    pd.Timestamp.now(),\n",
    "                                                    parse_strings_as_datetimes=True)\n",
    "assert result.success\n",
    "print(result)"
   ]
  },
  {
   "cell_type": "code",
   "execution_count": 18,
   "id": "dutch-scout",
   "metadata": {},
   "outputs": [],
   "source": [
    "## TODO: Figure out how to validate date ranges\n",
    "\n",
    "# ashp.set_evaluation_parameter(\"start\", ashp[field_map[\"date\"]].min().to_pydatetime())\n",
    "# ashp.set_evaluation_parameter(\"end\", datetime.datetime.now())\n",
    "# result = ashp.expect_column_values_to_be_between(field_map[\"date\"], \n",
    "#                                         min_value={\"$PARAMETER\": \"start\"},\n",
    "#               \n",
    "# max_value={\"$PARAMETER\": \"end\"}\n",
    "#                                        )\n",
    "# assert result.success\n",
    "# print(result)"
   ]
  },
  {
   "cell_type": "code",
   "execution_count": 19,
   "id": "charged-welding",
   "metadata": {},
   "outputs": [],
   "source": [
    "ashp.save_expectation_suite(\"../data/expectations/ashp_raw_expectations.json\")"
   ]
  },
  {
   "cell_type": "code",
   "execution_count": 20,
   "id": "alike-balloon",
   "metadata": {},
   "outputs": [],
   "source": [
    "validation_results = ashp.validate(expectation_suite=\"../data/expectations/ashp_raw_expectations.json\", catch_exceptions=False)"
   ]
  },
  {
   "cell_type": "markdown",
   "id": "accompanied-peoples",
   "metadata": {},
   "source": [
    "### Clean data expectations"
   ]
  },
  {
   "cell_type": "code",
   "execution_count": 21,
   "id": "fatal-fever",
   "metadata": {},
   "outputs": [],
   "source": [
    "ashp_cleaned = ge.from_pandas(rp.clean_data_load(\"Air-source Heat Pumps\"))"
   ]
  },
  {
   "cell_type": "code",
   "execution_count": 22,
   "id": "allied-technician",
   "metadata": {},
   "outputs": [
    {
     "data": {
      "text/plain": [
       "0.9445001001803246"
      ]
     },
     "execution_count": 22,
     "metadata": {},
     "output_type": "execute_result"
    }
   ],
   "source": [
    "ashp_cleaned.shape[0] / ashp.shape[0]"
   ]
  },
  {
   "cell_type": "code",
   "execution_count": 23,
   "id": "tutorial-madison",
   "metadata": {},
   "outputs": [
    {
     "name": "stdout",
     "output_type": "stream",
     "text": [
      "{\n",
      "  \"success\": true,\n",
      "  \"meta\": {},\n",
      "  \"expectation_config\": {\n",
      "    \"kwargs\": {\n",
      "      \"min_value\": 18566,\n",
      "      \"max_value\": 19964,\n",
      "      \"result_format\": \"BASIC\"\n",
      "    },\n",
      "    \"meta\": {},\n",
      "    \"expectation_type\": \"expect_table_row_count_to_be_between\"\n",
      "  },\n",
      "  \"exception_info\": {\n",
      "    \"raised_exception\": false,\n",
      "    \"exception_traceback\": null,\n",
      "    \"exception_message\": null\n",
      "  },\n",
      "  \"result\": {\n",
      "    \"observed_value\": 18856\n",
      "  }\n",
      "}\n"
     ]
    }
   ],
   "source": [
    "# Check that we have dropped no more than 7% of data\n",
    "result = ashp_cleaned.expect_table_row_count_to_be_between(int(0.93*ashp.shape[0]), ashp.shape[0])  \n",
    "assert result.success\n",
    "print(result)"
   ]
  },
  {
   "cell_type": "code",
   "execution_count": 24,
   "id": "exceptional-cooper",
   "metadata": {},
   "outputs": [
    {
     "name": "stdout",
     "output_type": "stream",
     "text": [
      "{\n",
      "  \"success\": true,\n",
      "  \"meta\": {},\n",
      "  \"expectation_config\": {\n",
      "    \"kwargs\": {\n",
      "      \"column\": \"town_valid\",\n",
      "      \"result_format\": \"BASIC\"\n",
      "    },\n",
      "    \"meta\": {},\n",
      "    \"expectation_type\": \"expect_column_to_exist\"\n",
      "  },\n",
      "  \"exception_info\": {\n",
      "    \"raised_exception\": false,\n",
      "    \"exception_traceback\": null,\n",
      "    \"exception_message\": null\n",
      "  },\n",
      "  \"result\": {}\n",
      "}\n"
     ]
    }
   ],
   "source": [
    "result = ashp_cleaned.expect_column_to_exist(\"town_valid\")\n",
    "assert result.success\n",
    "print(result)"
   ]
  },
  {
   "cell_type": "code",
   "execution_count": 25,
   "id": "nominated-massachusetts",
   "metadata": {},
   "outputs": [
    {
     "name": "stdout",
     "output_type": "stream",
     "text": [
      "{\n",
      "  \"success\": true,\n",
      "  \"meta\": {},\n",
      "  \"expectation_config\": {\n",
      "    \"kwargs\": {\n",
      "      \"column\": \"rebate\",\n",
      "      \"result_format\": \"BASIC\"\n",
      "    },\n",
      "    \"meta\": {},\n",
      "    \"expectation_type\": \"expect_column_to_exist\"\n",
      "  },\n",
      "  \"exception_info\": {\n",
      "    \"raised_exception\": false,\n",
      "    \"exception_traceback\": null,\n",
      "    \"exception_message\": null\n",
      "  },\n",
      "  \"result\": {}\n",
      "}\n"
     ]
    }
   ],
   "source": [
    "result = ashp_cleaned.expect_column_to_exist(\"rebate\")\n",
    "assert result.success\n",
    "print(result)"
   ]
  },
  {
   "cell_type": "code",
   "execution_count": 26,
   "id": "addressed-fence",
   "metadata": {},
   "outputs": [
    {
     "name": "stdout",
     "output_type": "stream",
     "text": [
      "{\n",
      "  \"success\": true,\n",
      "  \"meta\": {},\n",
      "  \"expectation_config\": {\n",
      "    \"kwargs\": {\n",
      "      \"column\": \"cost\",\n",
      "      \"result_format\": \"BASIC\"\n",
      "    },\n",
      "    \"meta\": {},\n",
      "    \"expectation_type\": \"expect_column_to_exist\"\n",
      "  },\n",
      "  \"exception_info\": {\n",
      "    \"raised_exception\": false,\n",
      "    \"exception_traceback\": null,\n",
      "    \"exception_message\": null\n",
      "  },\n",
      "  \"result\": {}\n",
      "}\n"
     ]
    }
   ],
   "source": [
    "result = ashp_cleaned.expect_column_to_exist(\"cost\")\n",
    "assert result.success\n",
    "print(result)"
   ]
  },
  {
   "cell_type": "code",
   "execution_count": 27,
   "id": "smaller-piece",
   "metadata": {},
   "outputs": [
    {
     "name": "stdout",
     "output_type": "stream",
     "text": [
      "{\n",
      "  \"success\": true,\n",
      "  \"meta\": {},\n",
      "  \"expectation_config\": {\n",
      "    \"kwargs\": {\n",
      "      \"column\": \"town_valid\",\n",
      "      \"value_set\": [\n",
      "        true\n",
      "      ],\n",
      "      \"result_format\": \"BASIC\"\n",
      "    },\n",
      "    \"meta\": {},\n",
      "    \"expectation_type\": \"expect_column_values_to_be_in_set\"\n",
      "  },\n",
      "  \"exception_info\": {\n",
      "    \"raised_exception\": false,\n",
      "    \"exception_traceback\": null,\n",
      "    \"exception_message\": null\n",
      "  },\n",
      "  \"result\": {\n",
      "    \"element_count\": 18856,\n",
      "    \"missing_count\": 0,\n",
      "    \"missing_percent\": 0.0,\n",
      "    \"unexpected_count\": 0,\n",
      "    \"unexpected_percent\": 0.0,\n",
      "    \"unexpected_percent_total\": 0.0,\n",
      "    \"unexpected_percent_nonmissing\": 0.0,\n",
      "    \"partial_unexpected_list\": []\n",
      "  }\n",
      "}\n"
     ]
    }
   ],
   "source": [
    "result = ashp_cleaned.expect_column_values_to_be_in_set(\"town_valid\", [True])\n",
    "assert result.success\n",
    "print(result)"
   ]
  },
  {
   "cell_type": "code",
   "execution_count": 28,
   "id": "practical-identification",
   "metadata": {},
   "outputs": [
    {
     "name": "stdout",
     "output_type": "stream",
     "text": [
      "{\n",
      "  \"success\": true,\n",
      "  \"meta\": {},\n",
      "  \"expectation_config\": {\n",
      "    \"kwargs\": {\n",
      "      \"column\": \"cost\",\n",
      "      \"type_\": \"float\",\n",
      "      \"result_format\": \"BASIC\"\n",
      "    },\n",
      "    \"meta\": {},\n",
      "    \"expectation_type\": \"_expect_column_values_to_be_of_type__aggregate\"\n",
      "  },\n",
      "  \"exception_info\": {\n",
      "    \"raised_exception\": false,\n",
      "    \"exception_traceback\": null,\n",
      "    \"exception_message\": null\n",
      "  },\n",
      "  \"result\": {\n",
      "    \"observed_value\": \"float64\"\n",
      "  }\n",
      "}\n"
     ]
    }
   ],
   "source": [
    "result = ashp_cleaned.expect_column_values_to_be_of_type(\"cost\", \"float\")\n",
    "assert result.success\n",
    "print(result)"
   ]
  },
  {
   "cell_type": "code",
   "execution_count": 29,
   "id": "eleven-hartford",
   "metadata": {},
   "outputs": [
    {
     "name": "stdout",
     "output_type": "stream",
     "text": [
      "{\n",
      "  \"success\": true,\n",
      "  \"meta\": {},\n",
      "  \"expectation_config\": {\n",
      "    \"kwargs\": {\n",
      "      \"column\": \"rebate\",\n",
      "      \"type_\": \"float\",\n",
      "      \"result_format\": \"BASIC\"\n",
      "    },\n",
      "    \"meta\": {},\n",
      "    \"expectation_type\": \"_expect_column_values_to_be_of_type__aggregate\"\n",
      "  },\n",
      "  \"exception_info\": {\n",
      "    \"raised_exception\": false,\n",
      "    \"exception_traceback\": null,\n",
      "    \"exception_message\": null\n",
      "  },\n",
      "  \"result\": {\n",
      "    \"observed_value\": \"float64\"\n",
      "  }\n",
      "}\n"
     ]
    }
   ],
   "source": [
    "result = ashp_cleaned.expect_column_values_to_be_of_type(\"rebate\", \"float\")\n",
    "assert result.success\n",
    "print(result)"
   ]
  },
  {
   "cell_type": "code",
   "execution_count": 30,
   "id": "limiting-caribbean",
   "metadata": {},
   "outputs": [],
   "source": [
    "ashp_cleaned.save_expectation_suite(\"../data/expectations/ashp_clean_expectations.json\")\n"
   ]
  },
  {
   "cell_type": "markdown",
   "id": "passive-geography",
   "metadata": {},
   "source": [
    "## GSHP"
   ]
  },
  {
   "cell_type": "code",
   "execution_count": 31,
   "id": "exact-dominant",
   "metadata": {},
   "outputs": [],
   "source": [
    "gshp = ge.from_pandas(rp.load_gshp())"
   ]
  },
  {
   "cell_type": "code",
   "execution_count": 32,
   "id": "architectural-institute",
   "metadata": {},
   "outputs": [
    {
     "name": "stdout",
     "output_type": "stream",
     "text": [
      "{\n",
      "  \"success\": true,\n",
      "  \"meta\": {},\n",
      "  \"expectation_config\": {\n",
      "    \"kwargs\": {\n",
      "      \"min_value\": 538,\n",
      "      \"max_value\": 1000,\n",
      "      \"result_format\": \"BASIC\"\n",
      "    },\n",
      "    \"meta\": {},\n",
      "    \"expectation_type\": \"expect_table_row_count_to_be_between\"\n",
      "  },\n",
      "  \"exception_info\": {\n",
      "    \"raised_exception\": false,\n",
      "    \"exception_traceback\": null,\n",
      "    \"exception_message\": null\n",
      "  },\n",
      "  \"result\": {\n",
      "    \"observed_value\": 538\n",
      "  }\n",
      "}\n"
     ]
    }
   ],
   "source": [
    "#Expect row count to increase in subsequent files\n",
    "result = gshp.expect_table_row_count_to_be_between(538, 1000)\n",
    "assert result.success\n",
    "print(result)"
   ]
  },
  {
   "cell_type": "code",
   "execution_count": 33,
   "id": "brutal-opening",
   "metadata": {},
   "outputs": [
    {
     "name": "stdout",
     "output_type": "stream",
     "text": [
      "{\n",
      "  \"success\": true,\n",
      "  \"meta\": {},\n",
      "  \"expectation_config\": {\n",
      "    \"kwargs\": {\n",
      "      \"column\": \"Rebate Amount\",\n",
      "      \"result_format\": \"BASIC\"\n",
      "    },\n",
      "    \"meta\": {},\n",
      "    \"expectation_type\": \"expect_column_to_exist\"\n",
      "  },\n",
      "  \"exception_info\": {\n",
      "    \"raised_exception\": false,\n",
      "    \"exception_traceback\": null,\n",
      "    \"exception_message\": null\n",
      "  },\n",
      "  \"result\": {}\n",
      "}\n",
      "{\n",
      "  \"success\": true,\n",
      "  \"meta\": {},\n",
      "  \"expectation_config\": {\n",
      "    \"kwargs\": {\n",
      "      \"column\": \"Total System Cost\",\n",
      "      \"result_format\": \"BASIC\"\n",
      "    },\n",
      "    \"meta\": {},\n",
      "    \"expectation_type\": \"expect_column_to_exist\"\n",
      "  },\n",
      "  \"exception_info\": {\n",
      "    \"raised_exception\": false,\n",
      "    \"exception_traceback\": null,\n",
      "    \"exception_message\": null\n",
      "  },\n",
      "  \"result\": {}\n",
      "}\n",
      "{\n",
      "  \"success\": true,\n",
      "  \"meta\": {},\n",
      "  \"expectation_config\": {\n",
      "    \"kwargs\": {\n",
      "      \"column\": \"Site City/Town\",\n",
      "      \"result_format\": \"BASIC\"\n",
      "    },\n",
      "    \"meta\": {},\n",
      "    \"expectation_type\": \"expect_column_to_exist\"\n",
      "  },\n",
      "  \"exception_info\": {\n",
      "    \"raised_exception\": false,\n",
      "    \"exception_traceback\": null,\n",
      "    \"exception_message\": null\n",
      "  },\n",
      "  \"result\": {}\n",
      "}\n",
      "{\n",
      "  \"success\": true,\n",
      "  \"meta\": {},\n",
      "  \"expectation_config\": {\n",
      "    \"kwargs\": {\n",
      "      \"column\": \"Income-Based Rebate Received?\",\n",
      "      \"result_format\": \"BASIC\"\n",
      "    },\n",
      "    \"meta\": {},\n",
      "    \"expectation_type\": \"expect_column_to_exist\"\n",
      "  },\n",
      "  \"exception_info\": {\n",
      "    \"raised_exception\": false,\n",
      "    \"exception_traceback\": null,\n",
      "    \"exception_message\": null\n",
      "  },\n",
      "  \"result\": {}\n",
      "}\n",
      "{\n",
      "  \"success\": true,\n",
      "  \"meta\": {},\n",
      "  \"expectation_config\": {\n",
      "    \"kwargs\": {\n",
      "      \"column\": \"Rebate Approved by MassCEC\",\n",
      "      \"result_format\": \"BASIC\"\n",
      "    },\n",
      "    \"meta\": {},\n",
      "    \"expectation_type\": \"expect_column_to_exist\"\n",
      "  },\n",
      "  \"exception_info\": {\n",
      "    \"raised_exception\": false,\n",
      "    \"exception_traceback\": null,\n",
      "    \"exception_message\": null\n",
      "  },\n",
      "  \"result\": {}\n",
      "}\n"
     ]
    }
   ],
   "source": [
    "field_map = rp.FIELDS['Ground-source Heat Pumps']\n",
    "for key_col in field_map:\n",
    "    result = gshp.expect_column_to_exist(field_map[key_col])\n",
    "    assert result.success\n",
    "    print(result)"
   ]
  },
  {
   "cell_type": "code",
   "execution_count": 34,
   "id": "bearing-terrorist",
   "metadata": {},
   "outputs": [
    {
     "name": "stdout",
     "output_type": "stream",
     "text": [
      "{\n",
      "  \"success\": true,\n",
      "  \"meta\": {},\n",
      "  \"expectation_config\": {\n",
      "    \"kwargs\": {\n",
      "      \"column\": \"Rebate Amount\",\n",
      "      \"type_list\": [\n",
      "        \"int\",\n",
      "        \"float\"\n",
      "      ],\n",
      "      \"mostly\": 0.99,\n",
      "      \"result_format\": \"BASIC\"\n",
      "    },\n",
      "    \"meta\": {},\n",
      "    \"expectation_type\": \"_expect_column_values_to_be_in_type_list__map\"\n",
      "  },\n",
      "  \"exception_info\": {\n",
      "    \"raised_exception\": false,\n",
      "    \"exception_traceback\": null,\n",
      "    \"exception_message\": null\n",
      "  },\n",
      "  \"result\": {\n",
      "    \"element_count\": 538,\n",
      "    \"missing_count\": 0,\n",
      "    \"missing_percent\": 0.0,\n",
      "    \"unexpected_count\": 2,\n",
      "    \"unexpected_percent\": 0.37174721189591076,\n",
      "    \"unexpected_percent_total\": 0.37174721189591076,\n",
      "    \"unexpected_percent_nonmissing\": 0.37174721189591076,\n",
      "    \"partial_unexpected_list\": [\n",
      "      \"$10000.00\",\n",
      "      \"$10000.00\"\n",
      "    ]\n",
      "  }\n",
      "}\n"
     ]
    }
   ],
   "source": [
    "result = gshp.expect_column_values_to_be_in_type_list(field_map['rebate'], ['int', 'float'], mostly=0.99)\n",
    "assert result.success\n",
    "print(result)"
   ]
  },
  {
   "cell_type": "code",
   "execution_count": 35,
   "id": "another-egypt",
   "metadata": {},
   "outputs": [
    {
     "name": "stdout",
     "output_type": "stream",
     "text": [
      "{\n",
      "  \"success\": true,\n",
      "  \"meta\": {},\n",
      "  \"expectation_config\": {\n",
      "    \"kwargs\": {\n",
      "      \"column\": \"Total System Cost\",\n",
      "      \"type_list\": [\n",
      "        \"int\",\n",
      "        \"float\"\n",
      "      ],\n",
      "      \"mostly\": 0.99,\n",
      "      \"result_format\": \"BASIC\"\n",
      "    },\n",
      "    \"meta\": {},\n",
      "    \"expectation_type\": \"_expect_column_values_to_be_in_type_list__map\"\n",
      "  },\n",
      "  \"exception_info\": {\n",
      "    \"raised_exception\": false,\n",
      "    \"exception_traceback\": null,\n",
      "    \"exception_message\": null\n",
      "  },\n",
      "  \"result\": {\n",
      "    \"element_count\": 538,\n",
      "    \"missing_count\": 0,\n",
      "    \"missing_percent\": 0.0,\n",
      "    \"unexpected_count\": 3,\n",
      "    \"unexpected_percent\": 0.5576208178438662,\n",
      "    \"unexpected_percent_total\": 0.5576208178438662,\n",
      "    \"unexpected_percent_nonmissing\": 0.5576208178438662,\n",
      "    \"partial_unexpected_list\": [\n",
      "      \"$117910\",\n",
      "      \"$81355\",\n",
      "      \"$40445\"\n",
      "    ]\n",
      "  }\n",
      "}\n"
     ]
    }
   ],
   "source": [
    "result = gshp.expect_column_values_to_be_in_type_list(field_map['cost'], ['int', 'float'], mostly=0.99)\n",
    "assert result.success\n",
    "print(result)"
   ]
  },
  {
   "cell_type": "code",
   "execution_count": 36,
   "id": "stable-bibliography",
   "metadata": {},
   "outputs": [
    {
     "data": {
      "text/plain": [
       "{\n",
       "  \"success\": true,\n",
       "  \"meta\": {},\n",
       "  \"exception_info\": {\n",
       "    \"raised_exception\": false,\n",
       "    \"exception_traceback\": null,\n",
       "    \"exception_message\": null\n",
       "  },\n",
       "  \"result\": {\n",
       "    \"element_count\": 538,\n",
       "    \"missing_count\": 0,\n",
       "    \"missing_percent\": 0.0,\n",
       "    \"unexpected_count\": 0,\n",
       "    \"unexpected_percent\": 0.0,\n",
       "    \"unexpected_percent_total\": 0.0,\n",
       "    \"unexpected_percent_nonmissing\": 0.0,\n",
       "    \"partial_unexpected_list\": []\n",
       "  }\n",
       "}"
      ]
     },
     "execution_count": 36,
     "metadata": {},
     "output_type": "execute_result"
    }
   ],
   "source": [
    "gshp.expect_column_values_to_be_between(field_map[\"date\"], \n",
    "                                        gshp[field_map[\"date\"]].min(), \n",
    "                                        pd.Timestamp.now(),\n",
    "                                        parse_strings_as_datetimes=True)"
   ]
  },
  {
   "cell_type": "code",
   "execution_count": 37,
   "id": "smart-cookbook",
   "metadata": {},
   "outputs": [],
   "source": [
    "## TODO: Figure out how to get datetime expectations working\n",
    "# gshp.set_evaluation_parameter(\"start\", gshp[field_map[\"date\"]].min())\n",
    "# gshp.set_evaluation_parameter(\"end\", pd.Timestamp.now())\n",
    "\n",
    "# result = gshp.expect_column_values_to_be_between(field_map[\"date\"], \n",
    "#                                         min_value={\"$PARAMETER\": \"start\"},\n",
    "#                                         max_value={\"$PARAMETER\": \"end\"}\n",
    "#                                        )\n",
    "# assert result.success\n",
    "# print(result)"
   ]
  },
  {
   "cell_type": "code",
   "execution_count": 38,
   "id": "secret-religious",
   "metadata": {},
   "outputs": [],
   "source": [
    "gshp.save_expectation_suite(\"../data/expectations/gshp_raw_expectations.json\")"
   ]
  },
  {
   "cell_type": "markdown",
   "id": "bacterial-affair",
   "metadata": {},
   "source": [
    "### Clean data expectations"
   ]
  },
  {
   "cell_type": "code",
   "execution_count": 39,
   "id": "comparative-layout",
   "metadata": {},
   "outputs": [
    {
     "data": {
      "text/plain": [
       "0.9609665427509294"
      ]
     },
     "execution_count": 39,
     "metadata": {},
     "output_type": "execute_result"
    }
   ],
   "source": [
    "gshp_cleaned = ge.from_pandas(rp.clean_data_load(\"Ground-source Heat Pumps\"))\n",
    "\n",
    "gshp_cleaned.shape[0] / gshp.shape[0]"
   ]
  },
  {
   "cell_type": "code",
   "execution_count": 40,
   "id": "beneficial-worse",
   "metadata": {},
   "outputs": [
    {
     "name": "stdout",
     "output_type": "stream",
     "text": [
      "{\n",
      "  \"success\": true,\n",
      "  \"meta\": {},\n",
      "  \"expectation_config\": {\n",
      "    \"kwargs\": {\n",
      "      \"min_value\": 511,\n",
      "      \"max_value\": 538,\n",
      "      \"result_format\": \"BASIC\"\n",
      "    },\n",
      "    \"meta\": {},\n",
      "    \"expectation_type\": \"expect_table_row_count_to_be_between\"\n",
      "  },\n",
      "  \"exception_info\": {\n",
      "    \"raised_exception\": false,\n",
      "    \"exception_traceback\": null,\n",
      "    \"exception_message\": null\n",
      "  },\n",
      "  \"result\": {\n",
      "    \"observed_value\": 517\n",
      "  }\n",
      "}\n"
     ]
    }
   ],
   "source": [
    "# Check that we have dropped no more than 5% of data\n",
    "result = gshp_cleaned.expect_table_row_count_to_be_between(int(0.95*gshp.shape[0]), gshp.shape[0])  \n",
    "assert result.success\n",
    "print(result)"
   ]
  },
  {
   "cell_type": "code",
   "execution_count": 41,
   "id": "tested-radius",
   "metadata": {},
   "outputs": [
    {
     "name": "stdout",
     "output_type": "stream",
     "text": [
      "{\n",
      "  \"success\": true,\n",
      "  \"meta\": {},\n",
      "  \"expectation_config\": {\n",
      "    \"kwargs\": {\n",
      "      \"column\": \"town_valid\",\n",
      "      \"result_format\": \"BASIC\"\n",
      "    },\n",
      "    \"meta\": {},\n",
      "    \"expectation_type\": \"expect_column_to_exist\"\n",
      "  },\n",
      "  \"exception_info\": {\n",
      "    \"raised_exception\": false,\n",
      "    \"exception_traceback\": null,\n",
      "    \"exception_message\": null\n",
      "  },\n",
      "  \"result\": {}\n",
      "}\n"
     ]
    }
   ],
   "source": [
    "result = gshp_cleaned.expect_column_to_exist(\"town_valid\")\n",
    "assert result.success\n",
    "print(result)"
   ]
  },
  {
   "cell_type": "code",
   "execution_count": 43,
   "id": "severe-scanner",
   "metadata": {},
   "outputs": [
    {
     "name": "stdout",
     "output_type": "stream",
     "text": [
      "{\n",
      "  \"success\": false,\n",
      "  \"meta\": {},\n",
      "  \"expectation_config\": {\n",
      "    \"kwargs\": {\n",
      "      \"column\": \"rebate\",\n",
      "      \"result_format\": \"BASIC\"\n",
      "    },\n",
      "    \"meta\": {},\n",
      "    \"expectation_type\": \"expect_column_to_exist\"\n",
      "  },\n",
      "  \"exception_info\": {\n",
      "    \"raised_exception\": false,\n",
      "    \"exception_traceback\": null,\n",
      "    \"exception_message\": null\n",
      "  },\n",
      "  \"result\": {}\n",
      "}\n"
     ]
    },
    {
     "ename": "AssertionError",
     "evalue": "",
     "output_type": "error",
     "traceback": [
      "\u001b[0;31m---------------------------------------------------------------------------\u001b[0m",
      "\u001b[0;31mAssertionError\u001b[0m                            Traceback (most recent call last)",
      "\u001b[0;32m<ipython-input-43-a1eb32164b6e>\u001b[0m in \u001b[0;36m<module>\u001b[0;34m\u001b[0m\n\u001b[1;32m      1\u001b[0m \u001b[0mresult\u001b[0m \u001b[0;34m=\u001b[0m \u001b[0mgshp_cleaned\u001b[0m\u001b[0;34m.\u001b[0m\u001b[0mexpect_column_to_exist\u001b[0m\u001b[0;34m(\u001b[0m\u001b[0;34m\"rebate\"\u001b[0m\u001b[0;34m)\u001b[0m\u001b[0;34m\u001b[0m\u001b[0;34m\u001b[0m\u001b[0m\n\u001b[1;32m      2\u001b[0m \u001b[0mprint\u001b[0m\u001b[0;34m(\u001b[0m\u001b[0mresult\u001b[0m\u001b[0;34m)\u001b[0m\u001b[0;34m\u001b[0m\u001b[0;34m\u001b[0m\u001b[0m\n\u001b[0;32m----> 3\u001b[0;31m \u001b[0;32massert\u001b[0m \u001b[0mresult\u001b[0m\u001b[0;34m.\u001b[0m\u001b[0msuccess\u001b[0m\u001b[0;34m\u001b[0m\u001b[0;34m\u001b[0m\u001b[0m\n\u001b[0m",
      "\u001b[0;31mAssertionError\u001b[0m: "
     ]
    }
   ],
   "source": [
    "result = gshp_cleaned.expect_column_to_exist(\"rebate\")\n",
    "print(result)\n",
    "assert result.success\n"
   ]
  },
  {
   "cell_type": "code",
   "execution_count": null,
   "id": "surprising-bathroom",
   "metadata": {},
   "outputs": [],
   "source": [
    "result = gshp_cleaned.expect_column_to_exist(\"cost\")\n",
    "assert result.success\n",
    "print(result)"
   ]
  },
  {
   "cell_type": "code",
   "execution_count": null,
   "id": "julian-skirt",
   "metadata": {},
   "outputs": [],
   "source": [
    "result = gshp_cleaned.expect_column_values_to_be_in_set(\"town_valid\", [True])\n",
    "assert result.success\n",
    "print(result)"
   ]
  },
  {
   "cell_type": "code",
   "execution_count": null,
   "id": "healthy-kansas",
   "metadata": {},
   "outputs": [],
   "source": [
    "result = gshp_cleaned.expect_column_values_to_be_of_type(\"cost\", \"float\")\n",
    "assert result.success\n",
    "print(result)"
   ]
  },
  {
   "cell_type": "code",
   "execution_count": null,
   "id": "literary-aberdeen",
   "metadata": {},
   "outputs": [],
   "source": [
    "result = gshp_cleaned.expect_column_values_to_be_of_type(\"rebate\", \"float\")\n",
    "assert result.success\n",
    "print(result)"
   ]
  },
  {
   "cell_type": "code",
   "execution_count": null,
   "id": "quarterly-plenty",
   "metadata": {},
   "outputs": [],
   "source": [
    "gshp_cleaned.save_expectation_suite(\"../data/expectations/gshp_clean_expectations.json\")"
   ]
  },
  {
   "cell_type": "markdown",
   "id": "careful-progress",
   "metadata": {},
   "source": [
    "## Solar"
   ]
  },
  {
   "cell_type": "code",
   "execution_count": null,
   "id": "pressing-travel",
   "metadata": {},
   "outputs": [],
   "source": []
  },
  {
   "cell_type": "code",
   "execution_count": null,
   "id": "distinct-aluminum",
   "metadata": {},
   "outputs": [],
   "source": []
  },
  {
   "cell_type": "code",
   "execution_count": null,
   "id": "alleged-crisis",
   "metadata": {},
   "outputs": [],
   "source": []
  },
  {
   "cell_type": "code",
   "execution_count": null,
   "id": "hindu-slovakia",
   "metadata": {},
   "outputs": [],
   "source": []
  },
  {
   "cell_type": "markdown",
   "id": "future-split",
   "metadata": {},
   "source": [
    "## Electric Vehicles (EVs)"
   ]
  },
  {
   "cell_type": "code",
   "execution_count": null,
   "id": "automatic-behalf",
   "metadata": {},
   "outputs": [],
   "source": []
  },
  {
   "cell_type": "code",
   "execution_count": null,
   "id": "adopted-bangladesh",
   "metadata": {},
   "outputs": [],
   "source": []
  },
  {
   "cell_type": "code",
   "execution_count": null,
   "id": "personalized-world",
   "metadata": {},
   "outputs": [],
   "source": []
  },
  {
   "cell_type": "code",
   "execution_count": null,
   "id": "regulated-douglas",
   "metadata": {},
   "outputs": [],
   "source": []
  }
 ],
 "metadata": {
  "kernelspec": {
   "display_name": "Python 3",
   "language": "python",
   "name": "python3"
  },
  "language_info": {
   "codemirror_mode": {
    "name": "ipython",
    "version": 3
   },
   "file_extension": ".py",
   "mimetype": "text/x-python",
   "name": "python",
   "nbconvert_exporter": "python",
   "pygments_lexer": "ipython3",
   "version": "3.8.8"
  }
 },
 "nbformat": 4,
 "nbformat_minor": 5
}
