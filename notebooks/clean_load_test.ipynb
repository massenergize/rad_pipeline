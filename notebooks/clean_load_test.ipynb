{
 "cells": [
  {
   "cell_type": "code",
   "execution_count": 1,
   "id": "protective-ordering",
   "metadata": {},
   "outputs": [],
   "source": [
    "import rad_pipeline.zipcodes as zc\n",
    "import rad_pipeline.rad_pipeline as rp\n",
    "import great_expectations as ge\n",
    "import datacompy"
   ]
  },
  {
   "cell_type": "code",
   "execution_count": 2,
   "id": "awful-wrestling",
   "metadata": {},
   "outputs": [],
   "source": [
    "gshp = rp.load_gshp()\n",
    "gshp_cleaned = rp.data_clean(gshp, \"Ground-source Heat Pumps\")\n",
    "gshp_cleaned = rp.data_checkpoint(\n",
    "    gshp_cleaned,\n",
    "    \"Ground-source Heat Pumps\"\n",
    "    )"
   ]
  },
  {
   "cell_type": "code",
   "execution_count": 3,
   "id": "global-canon",
   "metadata": {},
   "outputs": [],
   "source": [
    "gshp_from_disk = rp.clean_data_load(\"Ground-source Heat Pumps\")"
   ]
  },
  {
   "cell_type": "code",
   "execution_count": 4,
   "id": "isolated-collar",
   "metadata": {},
   "outputs": [
    {
     "data": {
      "text/plain": [
       "True"
      ]
     },
     "execution_count": 4,
     "metadata": {},
     "output_type": "execute_result"
    }
   ],
   "source": [
    "compare = datacompy.Compare(\n",
    "    gshp_cleaned,\n",
    "    gshp_from_disk,\n",
    "    on_index=True,\n",
    "    abs_tol=1e-5, #Optional, defaults to 0\n",
    "    rel_tol=1e-5, #Optional, defaults to 0\n",
    "    df1_name='In Memory', #Optional, defaults to 'df1'\n",
    "    df2_name='From Disk' #Optional, defaults to 'df2'\n",
    "    )\n",
    "compare.matches(ignore_extra_columns=False)"
   ]
  },
  {
   "cell_type": "code",
   "execution_count": 5,
   "id": "widespread-transmission",
   "metadata": {},
   "outputs": [
    {
     "name": "stdout",
     "output_type": "stream",
     "text": [
      "DataComPy Comparison\n",
      "--------------------\n",
      "\n",
      "DataFrame Summary\n",
      "-----------------\n",
      "\n",
      "   DataFrame  Columns  Rows\n",
      "0  In Memory       43   517\n",
      "1  From Disk       43   517\n",
      "\n",
      "Column Summary\n",
      "--------------\n",
      "\n",
      "Number of columns in common: 43\n",
      "Number of columns in In Memory but not in From Disk: 0\n",
      "Number of columns in From Disk but not in In Memory: 0\n",
      "\n",
      "Row Summary\n",
      "-----------\n",
      "\n",
      "Matched on: index\n",
      "Any duplicates on match values: No\n",
      "Absolute Tolerance: 1e-05\n",
      "Relative Tolerance: 1e-05\n",
      "Number of rows in common: 517\n",
      "Number of rows in In Memory but not in From Disk: 0\n",
      "Number of rows in From Disk but not in In Memory: 0\n",
      "\n",
      "Number of rows with some compared columns unequal: 0\n",
      "Number of rows with all compared columns equal: 517\n",
      "\n",
      "Column Comparison\n",
      "-----------------\n",
      "\n",
      "Number of columns compared with some values unequal: 0\n",
      "Number of columns compared with all values equal: 43\n",
      "Total number of values which compare unequal: 0\n",
      "\n",
      "\n"
     ]
    }
   ],
   "source": [
    "# This method prints out a human-readable report summarizing and sampling differences\n",
    "print(compare.report())"
   ]
  },
  {
   "cell_type": "code",
   "execution_count": null,
   "id": "impossible-difficulty",
   "metadata": {},
   "outputs": [],
   "source": [
    "gshp_from_disk.dtypes"
   ]
  },
  {
   "cell_type": "code",
   "execution_count": null,
   "id": "narrow-soundtrack",
   "metadata": {},
   "outputs": [],
   "source": [
    "gshp_cleaned.zip_cleaned.dtype"
   ]
  },
  {
   "cell_type": "code",
   "execution_count": null,
   "id": "durable-nutrition",
   "metadata": {},
   "outputs": [],
   "source": [
    "gshp_cleaned.zip_cleaned.head()"
   ]
  },
  {
   "cell_type": "code",
   "execution_count": null,
   "id": "wooden-turner",
   "metadata": {},
   "outputs": [],
   "source": [
    "gshp_cleaned.zip_cleaned.unique()"
   ]
  },
  {
   "cell_type": "code",
   "execution_count": null,
   "id": "recreational-resolution",
   "metadata": {},
   "outputs": [],
   "source": [
    "gshp_from_disk.zip_cleaned"
   ]
  },
  {
   "cell_type": "code",
   "execution_count": null,
   "id": "significant-subcommittee",
   "metadata": {},
   "outputs": [],
   "source": [
    "from tempfile import TemporaryDirectory\n",
    "import os\n",
    "import pandas as pd"
   ]
  },
  {
   "cell_type": "code",
   "execution_count": null,
   "id": "designed-victory",
   "metadata": {},
   "outputs": [],
   "source": [
    "\n",
    "def test_io(df):\n",
    "    with TemporaryDirectory() as tempdir:\n",
    "        pkl_file = os.path.join(tempdir, \"test.pkl\")\n",
    "        df.to_pickle(pkl_file)\n",
    "        df_from_disk = pd.read_pickle(pkl_file)\n",
    "    compare = datacompy.Compare(\n",
    "        df,\n",
    "        df_from_disk,\n",
    "        on_index=True,\n",
    "        abs_tol=1e-5, #Optional, defaults to 0\n",
    "        rel_tol=1e-5, #Optional, defaults to 0\n",
    "        df1_name='In Memory', #Optional, defaults to 'df1'\n",
    "        df2_name='From Disk' #Optional, defaults to 'df2'\n",
    "    )\n",
    "    return compare"
   ]
  },
  {
   "cell_type": "code",
   "execution_count": null,
   "id": "british-package",
   "metadata": {},
   "outputs": [],
   "source": [
    "compare = test_io(gshp_cleaned)"
   ]
  },
  {
   "cell_type": "code",
   "execution_count": null,
   "id": "rural-samoa",
   "metadata": {},
   "outputs": [],
   "source": [
    "compare.matches(ignore_extra_columns=False)"
   ]
  },
  {
   "cell_type": "code",
   "execution_count": null,
   "id": "lasting-onion",
   "metadata": {},
   "outputs": [],
   "source": [
    "print(compare.report())"
   ]
  },
  {
   "cell_type": "code",
   "execution_count": null,
   "id": "amazing-lewis",
   "metadata": {},
   "outputs": [],
   "source": []
  }
 ],
 "metadata": {
  "kernelspec": {
   "display_name": "Python 3",
   "language": "python",
   "name": "python3"
  },
  "language_info": {
   "codemirror_mode": {
    "name": "ipython",
    "version": 3
   },
   "file_extension": ".py",
   "mimetype": "text/x-python",
   "name": "python",
   "nbconvert_exporter": "python",
   "pygments_lexer": "ipython3",
   "version": "3.8.8"
  }
 },
 "nbformat": 4,
 "nbformat_minor": 5
}
