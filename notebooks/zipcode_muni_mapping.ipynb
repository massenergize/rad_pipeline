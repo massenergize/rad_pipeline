{
 "metadata": {
  "language_info": {
   "codemirror_mode": {
    "name": "ipython",
    "version": 3
   },
   "file_extension": ".py",
   "mimetype": "text/x-python",
   "name": "python",
   "nbconvert_exporter": "python",
   "pygments_lexer": "ipython3",
   "version": "3.8.8"
  },
  "orig_nbformat": 2,
  "kernelspec": {
   "name": "python388jvsc74a57bd04e38ab13d710a4fe5b4b3e5b0b025d6bd4821adcac674dd1ffe1360b728ed5e0",
   "display_name": "Python 3.8.8 64-bit ('rad_pipeline_env': conda)"
  }
 },
 "nbformat": 4,
 "nbformat_minor": 2,
 "cells": [
  {
   "cell_type": "code",
   "execution_count": 1,
   "metadata": {},
   "outputs": [],
   "source": [
    "import datetime\n",
    "import os\n",
    "import re\n",
    "\n",
    "import great_expectations as ge\n",
    "import numpy as np\n",
    "import pandas as pd\n",
    "import rad_pipeline.rad_pipeline as rp\n",
    "import rad_pipeline.zipcodes as zc\n",
    "import rad_pipeline.summarize as rs"
   ]
  },
  {
   "cell_type": "code",
   "execution_count": 2,
   "metadata": {},
   "outputs": [
    {
     "output_type": "execute_result",
     "data": {
      "text/plain": [
       "<module 'rad_pipeline.summarize' from '/Users/alexhasha/repos/massenergize/rad_pipeline/rad_pipeline/summarize.py'>"
      ]
     },
     "metadata": {},
     "execution_count": 2
    }
   ],
   "source": [
    "import importlib\n",
    "importlib.reload(rp)\n",
    "importlib.reload(zc)\n",
    "importlib.reload(ge)\n",
    "importlib.reload(rs)"
   ]
  },
  {
   "cell_type": "code",
   "execution_count": 3,
   "metadata": {},
   "outputs": [],
   "source": [
    "zipcode_mapping = pd.read_excel(rp.RAW_DATA_FILES[\"zip_code_community\"], sheet_name=\"Villages to Muni with Zip\")"
   ]
  },
  {
   "cell_type": "code",
   "execution_count": 5,
   "metadata": {},
   "outputs": [
    {
     "output_type": "execute_result",
     "data": {
      "text/plain": [
       "Index(['Zip Code', 'City', 'Municipality', 'County', 'Unnamed: 4',\n",
       "       'Unnamed: 5'],\n",
       "      dtype='object')"
      ]
     },
     "metadata": {},
     "execution_count": 5
    }
   ],
   "source": [
    "zipcode_mapping.columns"
   ]
  },
  {
   "cell_type": "code",
   "execution_count": 6,
   "metadata": {},
   "outputs": [],
   "source": [
    "zipcode_mapping = zipcode_mapping[[\"Zip Code\", \"City\", \"Municipality\", \"County\"]]"
   ]
  },
  {
   "cell_type": "code",
   "execution_count": 4,
   "metadata": {},
   "outputs": [],
   "source": [
    "VALID_MUNIS = pd.read_excel(rp.RAW_DATA_FILES[\"zip_code_community\"], sheet_name=\"351 Mass Munis\")"
   ]
  },
  {
   "cell_type": "code",
   "execution_count": 24,
   "metadata": {},
   "outputs": [
    {
     "output_type": "stream",
     "name": "stdout",
     "text": [
      "The relation of Zip Code to City is many-to-many\nThe relation of Zip Code to Municipality is many-to-many\nThe relation of Zip Code to County is many-to-one\nThe relation of City to Zip Code is many-to-many\nThe relation of City to Municipality is many-to-one\nThe relation of City to County is many-to-one\nThe relation of Municipality to Zip Code is many-to-many\nThe relation of Municipality to City is one-to-many\nThe relation of Municipality to County is many-to-many\nThe relation of County to Zip Code is one-to-many\nThe relation of County to City is one-to-many\nThe relation of County to Municipality is many-to-many\n"
     ]
    }
   ],
   "source": [
    "def get_relation(df, col1, col2):        \n",
    "    first_max = df[[col1, col2]].groupby(col1).nunique().max()[0]\n",
    "    second_max = df[[col1, col2]].groupby(col2).nunique().max()[0]\n",
    "    if first_max==1:\n",
    "        if second_max==1:\n",
    "            return 'one-to-one'\n",
    "        elif second_max > 1:\n",
    "            return 'many-to-one'\n",
    "    elif first_max > 1:\n",
    "        if second_max==1:\n",
    "            return 'one-to-many'\n",
    "        elif second_max > 1:\n",
    "            return 'many-to-many'\n",
    "\n",
    "from itertools import product\n",
    "for col_i, col_j in product(zipcode_mapping.columns, zipcode_mapping.columns):\n",
    "    if col_i == col_j:\n",
    "        continue\n",
    "    print(f\"The relation of {col_i} to {col_j} is {get_relation(zipcode_mapping, col_i, col_j)}\")"
   ]
  },
  {
   "cell_type": "code",
   "execution_count": 28,
   "metadata": {},
   "outputs": [
    {
     "output_type": "execute_result",
     "data": {
      "text/plain": [
       "Municipality\n",
       "Abington       1\n",
       "Plainville     1\n",
       "Plainfield     1\n",
       "Pittsfield     1\n",
       "Phillipston    1\n",
       "              ..\n",
       "Granby         1\n",
       "Hamilton       1\n",
       "Yarmouth       1\n",
       "Nantucket      2\n",
       "Mansfield      2\n",
       "Name: County, Length: 350, dtype: int64"
      ]
     },
     "metadata": {},
     "execution_count": 28
    }
   ],
   "source": [
    "zipcode_mapping.groupby(\"Municipality\")[\"County\"].nunique().sort_values()"
   ]
  },
  {
   "cell_type": "code",
   "execution_count": null,
   "metadata": {},
   "outputs": [],
   "source": []
  }
 ]
}