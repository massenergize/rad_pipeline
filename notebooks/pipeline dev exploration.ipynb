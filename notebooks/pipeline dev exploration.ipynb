{
 "cells": [
  {
   "cell_type": "markdown",
   "id": "chronic-diana",
   "metadata": {},
   "source": [
    "# RENEWABLES ACTIONS RAW DATA SOURCES\n",
    "\n",
    "\n",
    "## Electric Vehicles\n",
    "* Source: Center for Sustainable Energy (2020). Massachusetts Department of  Energy Resources Massachusetts Offers Rebates for Electric Vehicles, Rebate Statistics.  \n",
    "* Retrieved 09/08/2020 from: https://mor-ev.org/program-statistics\n",
    "* Data last updated 08/21/2020. Data date range includes 06/19/2014 - 08/15/2020.\n",
    "* Sectors: Residential.\n",
    "\n",
    "\n",
    "## Residential Air-source Heat Pumps (ASHP)\n",
    "\n",
    "* Source: Massachusetts Clean Energy Center (2020). Air Source Heat Pump Program - Residential Projects.\n",
    "* Retrieved 09/08/2020 from: http://files-cdn.masscec.com/ResidentialASHPProjectDatabase%2011.4.2019.xlsx\n",
    "* Data last updated 11/04/2019. Data date range includes 12/26/2014 - 10/23/2019.\n",
    "* Sectors: Residential.\n",
    "\n",
    "\n",
    "## Ground-source Heat Pumps (GSHP)\n",
    "\n",
    "* Source: Massachusetts Clean Energy Center (2020). Ground Source Heat Pump Program - Residential & Small-Scale Projects Database.\n",
    "* Retrieved 09/08/2020 from: http://files-cdn.masscec.com/get-clean-energy/govt-np/clean-heating-cooling/ResidentialandSmallScaleGSHPProjectDatabase.xlsx \n",
    "* Data last updated June 2020. Data date range includes 01/02/2015 - 06/09/2020.\n",
    "* Sectors: Residential, Small Commercial.\n",
    "\n",
    "## Production Tracking System for Solar Photovoltaic Report (PV in PTS)\n",
    "\n",
    "* Source: Massachusetts Clean Energy Center\n",
    "* According to a [September 2017 Department of Public Utilities Report](https://fileservice.eea.comacloud.net/FileService.Api/file/FileRoom/9174030), \"On a monthly basis, DOER and MassCEC compile data from the production tracking system to produce the MA PV Report, which is a publicly available document.  The MA PV Report is available electronically at\n",
    "http://files.masscec.com/uploads/attachments/PVinPTSwebsite.xlsx.\"  However, the file at that URL does not seem to have been updated since November 2019.  We analyze it here, but need to search for a source of ongoing updated data.\n",
    "* Sectors: Residential, Commercial, Institutional"
   ]
  },
  {
   "cell_type": "code",
   "execution_count": 1,
   "id": "charged-audience",
   "metadata": {},
   "outputs": [],
   "source": [
    "import os\n",
    "import re\n",
    "\n",
    "import numpy as np\n",
    "import pandas as pd"
   ]
  },
  {
   "cell_type": "code",
   "execution_count": 2,
   "id": "printable-surface",
   "metadata": {},
   "outputs": [
    {
     "data": {
      "text/plain": [
       "{'zip_code_community': '../data/Zip Code Community.xlsx',\n",
       " 'residental_ashp_project_database': '../data/ResidentialASHPProjectDatabase 11.4.2019.xlsx',\n",
       " 'pv_in_pts_website': '../data/PVinPTSwebsite.xlsx'}"
      ]
     },
     "execution_count": 2,
     "metadata": {},
     "output_type": "execute_result"
    }
   ],
   "source": [
    "DATA_DIR = \"../data\"\n",
    "DATA_FILES = {\n",
    "    \"zip_code_community\": os.path.join(DATA_DIR, \"Zip Code Community.xlsx\"),\n",
    "    \"residental_ashp_project_database\": os.path.join(DATA_DIR, \"ResidentialASHPProjectDatabase 11.4.2019.xlsx\"),\n",
    "    \"pv_in_pts_website\": os.path.join(DATA_DIR, \"PVinPTSwebsite.xlsx\")\n",
    "}\n",
    "DATA_FILES"
   ]
  },
  {
   "cell_type": "markdown",
   "id": "armed-browser",
   "metadata": {},
   "source": [
    "## Workout robust logic for cleaning zipcodes"
   ]
  },
  {
   "cell_type": "code",
   "execution_count": 3,
   "id": "armed-electricity",
   "metadata": {},
   "outputs": [
    {
     "name": "stderr",
     "output_type": "stream",
     "text": [
      "<ipython-input-3-300a47564973>:3: FutureWarning: Your version of xlrd is 1.2.0. In xlrd >= 2.0, only the xls format is supported. As a result, the openpyxl engine will be used if it is installed and the engine argument is not specified. Install openpyxl instead.\n",
      "  zipcodes = pd.read_excel(DATA_FILES[\"zip_code_community\"], 'Villages to Muni with Zip')\n",
      "<ipython-input-3-300a47564973>:4: FutureWarning: Your version of xlrd is 1.2.0. In xlrd >= 2.0, only the xls format is supported. As a result, the openpyxl engine will be used if it is installed and the engine argument is not specified. Install openpyxl instead.\n",
      "  municipalities = pd.read_excel(DATA_FILES[\"zip_code_community\"], '351 Mass Munis')\n"
     ]
    }
   ],
   "source": [
    "# Load Zip Code Municipality -- \n",
    "# @params: file_name, column_name\n",
    "zipcodes = pd.read_excel(DATA_FILES[\"zip_code_community\"], 'Villages to Muni with Zip')\n",
    "municipalities = pd.read_excel(DATA_FILES[\"zip_code_community\"], '351 Mass Munis')"
   ]
  },
  {
   "cell_type": "code",
   "execution_count": null,
   "id": "demonstrated-mouth",
   "metadata": {},
   "outputs": [],
   "source": []
  }
 ],
 "metadata": {
  "kernelspec": {
   "display_name": "Python 3",
   "language": "python",
   "name": "python3"
  },
  "language_info": {
   "codemirror_mode": {
    "name": "ipython",
    "version": 3
   },
   "file_extension": ".py",
   "mimetype": "text/x-python",
   "name": "python",
   "nbconvert_exporter": "python",
   "pygments_lexer": "ipython3",
   "version": "3.8.8"
  }
 },
 "nbformat": 4,
 "nbformat_minor": 5
}
